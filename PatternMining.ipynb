{
 "cells": [
  {
   "cell_type": "code",
   "execution_count": 1,
   "metadata": {},
   "outputs": [],
   "source": [
    "%matplotlib inline\n",
    "\n",
    "import numpy as np\n",
    "import pandas as pd\n",
    "import matplotlib.pyplot as plt"
   ]
  },
  {
   "cell_type": "markdown",
   "metadata": {},
   "source": [
    "## Grazie Lowrenzo for Data Preparation"
   ]
  },
  {
   "cell_type": "markdown",
   "metadata": {},
   "source": [
    "## <3 <3 <3"
   ]
  },
  {
   "cell_type": "code",
   "execution_count": 2,
   "metadata": {},
   "outputs": [
    {
     "data": {
      "text/html": [
       "<div>\n",
       "<style scoped>\n",
       "    .dataframe tbody tr th:only-of-type {\n",
       "        vertical-align: middle;\n",
       "    }\n",
       "\n",
       "    .dataframe tbody tr th {\n",
       "        vertical-align: top;\n",
       "    }\n",
       "\n",
       "    .dataframe thead th {\n",
       "        text-align: right;\n",
       "    }\n",
       "</style>\n",
       "<table border=\"1\" class=\"dataframe\">\n",
       "  <thead>\n",
       "    <tr style=\"text-align: right;\">\n",
       "      <th></th>\n",
       "      <th>RefId</th>\n",
       "      <th>IsBadBuy</th>\n",
       "      <th>PurchDate</th>\n",
       "      <th>Auction</th>\n",
       "      <th>VehYear</th>\n",
       "      <th>VehicleAge</th>\n",
       "      <th>Make</th>\n",
       "      <th>Model</th>\n",
       "      <th>Trim</th>\n",
       "      <th>SubModel</th>\n",
       "      <th>...</th>\n",
       "      <th>PurchMonth</th>\n",
       "      <th>PurchDay</th>\n",
       "      <th>PurchWeekDay</th>\n",
       "      <th>EngineLiters</th>\n",
       "      <th>NumCylinders</th>\n",
       "      <th>4X4</th>\n",
       "      <th>WheelDrive</th>\n",
       "      <th>NumDoors</th>\n",
       "      <th>PCA1</th>\n",
       "      <th>PCA2</th>\n",
       "    </tr>\n",
       "  </thead>\n",
       "  <tbody>\n",
       "    <tr>\n",
       "      <th>0</th>\n",
       "      <td>326</td>\n",
       "      <td>1</td>\n",
       "      <td>10/25/2010</td>\n",
       "      <td>ADESA</td>\n",
       "      <td>2008.0</td>\n",
       "      <td>2.0</td>\n",
       "      <td>KIA</td>\n",
       "      <td>SPECTRA</td>\n",
       "      <td>EX</td>\n",
       "      <td>SEDAN</td>\n",
       "      <td>...</td>\n",
       "      <td>10.0</td>\n",
       "      <td>25.0</td>\n",
       "      <td>Monday</td>\n",
       "      <td>4.11398</td>\n",
       "      <td>5.0</td>\n",
       "      <td>0</td>\n",
       "      <td>0</td>\n",
       "      <td>4.0</td>\n",
       "      <td>1797.080405</td>\n",
       "      <td>-753.566708</td>\n",
       "    </tr>\n",
       "    <tr>\n",
       "      <th>1</th>\n",
       "      <td>42991</td>\n",
       "      <td>0</td>\n",
       "      <td>5/27/2009</td>\n",
       "      <td>MANHEIM</td>\n",
       "      <td>2006.0</td>\n",
       "      <td>3.0</td>\n",
       "      <td>CHRYSLER</td>\n",
       "      <td>STRATUS</td>\n",
       "      <td>SXT</td>\n",
       "      <td>SEDAN</td>\n",
       "      <td>...</td>\n",
       "      <td>5.0</td>\n",
       "      <td>27.0</td>\n",
       "      <td>Wednesday</td>\n",
       "      <td>2.70000</td>\n",
       "      <td>6.0</td>\n",
       "      <td>0</td>\n",
       "      <td>0</td>\n",
       "      <td>4.0</td>\n",
       "      <td>-4879.356480</td>\n",
       "      <td>1637.798453</td>\n",
       "    </tr>\n",
       "    <tr>\n",
       "      <th>2</th>\n",
       "      <td>55273</td>\n",
       "      <td>0</td>\n",
       "      <td>3/18/2010</td>\n",
       "      <td>OTHER</td>\n",
       "      <td>2008.0</td>\n",
       "      <td>2.0</td>\n",
       "      <td>CHRYSLER</td>\n",
       "      <td>CALIBER</td>\n",
       "      <td>SE</td>\n",
       "      <td>WAGON</td>\n",
       "      <td>...</td>\n",
       "      <td>3.0</td>\n",
       "      <td>18.0</td>\n",
       "      <td>Thursday</td>\n",
       "      <td>2.31289</td>\n",
       "      <td>6.0</td>\n",
       "      <td>0</td>\n",
       "      <td>0</td>\n",
       "      <td>4.0</td>\n",
       "      <td>4349.541129</td>\n",
       "      <td>-467.358818</td>\n",
       "    </tr>\n",
       "    <tr>\n",
       "      <th>3</th>\n",
       "      <td>29058</td>\n",
       "      <td>0</td>\n",
       "      <td>6/8/2009</td>\n",
       "      <td>OTHER</td>\n",
       "      <td>2005.0</td>\n",
       "      <td>4.0</td>\n",
       "      <td>FORD</td>\n",
       "      <td>FREESTAR</td>\n",
       "      <td>S</td>\n",
       "      <td>MINIVAN</td>\n",
       "      <td>...</td>\n",
       "      <td>6.0</td>\n",
       "      <td>8.0</td>\n",
       "      <td>Monday</td>\n",
       "      <td>3.90000</td>\n",
       "      <td>6.0</td>\n",
       "      <td>NO</td>\n",
       "      <td>Front</td>\n",
       "      <td>5.0</td>\n",
       "      <td>-5514.286888</td>\n",
       "      <td>1633.449461</td>\n",
       "    </tr>\n",
       "    <tr>\n",
       "      <th>4</th>\n",
       "      <td>34991</td>\n",
       "      <td>0</td>\n",
       "      <td>3/4/2009</td>\n",
       "      <td>MANHEIM</td>\n",
       "      <td>2005.0</td>\n",
       "      <td>4.0</td>\n",
       "      <td>CHRYSLER</td>\n",
       "      <td>TOWN &amp; COUNTRY V</td>\n",
       "      <td>Bas</td>\n",
       "      <td>MINIVAN</td>\n",
       "      <td>...</td>\n",
       "      <td>3.0</td>\n",
       "      <td>4.0</td>\n",
       "      <td>Wednesday</td>\n",
       "      <td>3.30000</td>\n",
       "      <td>4.0</td>\n",
       "      <td>NO</td>\n",
       "      <td>Front</td>\n",
       "      <td>5.0</td>\n",
       "      <td>-4594.389176</td>\n",
       "      <td>1693.004506</td>\n",
       "    </tr>\n",
       "  </tbody>\n",
       "</table>\n",
       "<p>5 rows × 38 columns</p>\n",
       "</div>"
      ],
      "text/plain": [
       "   RefId  IsBadBuy   PurchDate  Auction  VehYear  VehicleAge      Make  \\\n",
       "0    326         1  10/25/2010    ADESA   2008.0         2.0       KIA   \n",
       "1  42991         0   5/27/2009  MANHEIM   2006.0         3.0  CHRYSLER   \n",
       "2  55273         0   3/18/2010    OTHER   2008.0         2.0  CHRYSLER   \n",
       "3  29058         0    6/8/2009    OTHER   2005.0         4.0      FORD   \n",
       "4  34991         0    3/4/2009  MANHEIM   2005.0         4.0  CHRYSLER   \n",
       "\n",
       "              Model Trim SubModel  ... PurchMonth PurchDay PurchWeekDay  \\\n",
       "0           SPECTRA   EX    SEDAN  ...       10.0     25.0       Monday   \n",
       "1           STRATUS  SXT    SEDAN  ...        5.0     27.0    Wednesday   \n",
       "2           CALIBER   SE    WAGON  ...        3.0     18.0     Thursday   \n",
       "3          FREESTAR    S  MINIVAN  ...        6.0      8.0       Monday   \n",
       "4  TOWN & COUNTRY V  Bas  MINIVAN  ...        3.0      4.0    Wednesday   \n",
       "\n",
       "   EngineLiters NumCylinders  4X4  WheelDrive  NumDoors         PCA1  \\\n",
       "0       4.11398          5.0    0           0       4.0  1797.080405   \n",
       "1       2.70000          6.0    0           0       4.0 -4879.356480   \n",
       "2       2.31289          6.0    0           0       4.0  4349.541129   \n",
       "3       3.90000          6.0   NO       Front       5.0 -5514.286888   \n",
       "4       3.30000          4.0   NO       Front       5.0 -4594.389176   \n",
       "\n",
       "          PCA2  \n",
       "0  -753.566708  \n",
       "1  1637.798453  \n",
       "2  -467.358818  \n",
       "3  1633.449461  \n",
       "4  1693.004506  \n",
       "\n",
       "[5 rows x 38 columns]"
      ]
     },
     "execution_count": 2,
     "metadata": {},
     "output_type": "execute_result"
    }
   ],
   "source": [
    "df = pd.read_csv(\"kids_train_cleaned.csv\")\n",
    "df.drop(df.columns[0], axis=1, inplace=True)\n",
    "df.head()"
   ]
  },
  {
   "cell_type": "code",
   "execution_count": 3,
   "metadata": {},
   "outputs": [
    {
     "name": "stdout",
     "output_type": "stream",
     "text": [
      "RefId\n",
      "IsBadBuy\n",
      "PurchDate\n",
      "Auction\n",
      "VehYear\n",
      "VehicleAge\n",
      "Make\n",
      "Model\n",
      "Trim\n",
      "SubModel\n",
      "Color\n",
      "Transmission\n",
      "WheelType\n",
      "VehOdo\n",
      "Nationality\n",
      "AAAP\n",
      "AACP\n",
      "ARAP\n",
      "ARCP\n",
      "CAAP\n",
      "CACP\n",
      "CRAP\n",
      "CRCP\n",
      "BYRNO\n",
      "VNST\n",
      "VehBCost\n",
      "WarrantyCost\n",
      "PurchYear\n",
      "PurchMonth\n",
      "PurchDay\n",
      "PurchWeekDay\n",
      "EngineLiters\n",
      "NumCylinders\n",
      "4X4\n",
      "WheelDrive\n",
      "NumDoors\n",
      "PCA1\n",
      "PCA2\n"
     ]
    }
   ],
   "source": [
    "for e in df.columns:\n",
    "    print(e)"
   ]
  },
  {
   "cell_type": "code",
   "execution_count": 4,
   "metadata": {},
   "outputs": [],
   "source": [
    "categories = ['IsBadBuy', 'Auction', 'Make', 'Model', 'Trim', \n",
    "            'SubModel', 'Color', 'Transmission', 'Nationality', 'VNST', 'PurchWeekDay']\n",
    "not_cat = ['VehOdo', 'VehBCost', 'WarrantyCost', 'AAAP', 'VehicleAge']\n",
    "to_drop = ['AACP', 'ARAP', 'ARCP', 'CAAP', 'CACP', 'CRAP', 'CRCP', 'NumCylinders', '4X4', 'WheelDrive',\n",
    "           'NumDoors', 'PCA1', 'PCA2', 'RefId', 'PurchDate', 'WheelType', 'PurchYear', 'PurchMonth',\n",
    "            'PurchDay', 'BYRNO', 'VehYear', 'EngineLiters']"
   ]
  },
  {
   "cell_type": "code",
   "execution_count": 5,
   "metadata": {},
   "outputs": [],
   "source": [
    "df.drop(to_drop, axis=1, inplace=True)"
   ]
  },
  {
   "cell_type": "code",
   "execution_count": 6,
   "metadata": {},
   "outputs": [],
   "source": [
    "for col in categories:\n",
    "    df[col] = df[col].astype('category')\n",
    "    \n",
    "df['VehicleAge'] = df['VehicleAge'].astype('int')"
   ]
  },
  {
   "cell_type": "code",
   "execution_count": 7,
   "metadata": {},
   "outputs": [
    {
     "data": {
      "text/plain": [
       "Series([], dtype: int64)"
      ]
     },
     "execution_count": 7,
     "metadata": {},
     "output_type": "execute_result"
    }
   ],
   "source": [
    "sum_ = df.isnull().sum()\n",
    "sum_[sum_ != 0]"
   ]
  },
  {
   "cell_type": "markdown",
   "metadata": {},
   "source": [
    "## Binning"
   ]
  },
  {
   "cell_type": "code",
   "execution_count": 8,
   "metadata": {},
   "outputs": [
    {
     "data": {
      "text/plain": [
       "<matplotlib.axes._subplots.AxesSubplot at 0x7f4c69e254a8>"
      ]
     },
     "execution_count": 8,
     "metadata": {},
     "output_type": "execute_result"
    },
    {
     "data": {
      "image/png": "[encoded data removed]",
      "text/plain": [
       "<Figure size 432x288 with 1 Axes>"
      ]
     },
     "metadata": {
      "needs_background": "light"
     },
     "output_type": "display_data"
    }
   ],
   "source": [
    "x = plt.xlim((-2500, 20200))\n",
    "df[\"VehBCost\"].plot.kde(x = 'x', color = 'black') "
   ]
  },
  {
   "cell_type": "code",
   "execution_count": 9,
   "metadata": {},
   "outputs": [],
   "source": [
    "bins = [df.VehBCost.min() - 1,5000, 7000, 8000, 10000, df.VehBCost.max()]\n",
    "\n",
    "df['VehBCost'] = pd.cut(df['VehBCost'], bins)"
   ]
  },
  {
   "cell_type": "code",
   "execution_count": 10,
   "metadata": {},
   "outputs": [
    {
     "data": {
      "text/plain": [
       "<matplotlib.axes._subplots.AxesSubplot at 0x7f4c66db1f98>"
      ]
     },
     "execution_count": 10,
     "metadata": {},
     "output_type": "execute_result"
    },
    {
     "data": {
      "image/png": "[encoded data removed]",
      "text/plain": [
       "<Figure size 432x288 with 1 Axes>"
      ]
     },
     "metadata": {
      "needs_background": "light"
     },
     "output_type": "display_data"
    }
   ],
   "source": [
    "x = plt.xlim((-2500, 20200))\n",
    "df[\"AAAP\"].plot.kde(x = 'x', color = 'black') "
   ]
  },
  {
   "cell_type": "code",
   "execution_count": 11,
   "metadata": {},
   "outputs": [],
   "source": [
    "bins = [df.AAAP.min() - 1, 3000, 6000, 8000, 10000, df.AAAP.max()]\n",
    "\n",
    "df['AAAP'] = pd.cut(df['AAAP'], bins)"
   ]
  },
  {
   "cell_type": "code",
   "execution_count": 12,
   "metadata": {},
   "outputs": [
    {
     "data": {
      "text/plain": [
       "<matplotlib.axes._subplots.AxesSubplot at 0x7f4c65cd77f0>"
      ]
     },
     "execution_count": 12,
     "metadata": {},
     "output_type": "execute_result"
    },
    {
     "data": {
      "image/png": "[encoded data removed]",
      "text/plain": [
       "<Figure size 432x288 with 1 Axes>"
      ]
     },
     "metadata": {
      "needs_background": "light"
     },
     "output_type": "display_data"
    }
   ],
   "source": [
    "x = plt.xlim((-2500, 5000))\n",
    "df[\"WarrantyCost\"].plot.kde(x = 'x', color = 'black') "
   ]
  },
  {
   "cell_type": "code",
   "execution_count": 13,
   "metadata": {},
   "outputs": [],
   "source": [
    "bins = [df.WarrantyCost.min() - 1,700, 1200, 1800, 2600, df.WarrantyCost.max()]\n",
    "\n",
    "df['WarrantyCost'] = pd.cut(df['WarrantyCost'], bins)"
   ]
  },
  {
   "cell_type": "code",
   "execution_count": 14,
   "metadata": {},
   "outputs": [
    {
     "data": {
      "text/plain": [
       "<matplotlib.axes._subplots.AxesSubplot at 0x7f4c65ce1240>"
      ]
     },
     "execution_count": 14,
     "metadata": {},
     "output_type": "execute_result"
    },
    {
     "data": {
      "image/png": "[encoded data removed]",
      "text/plain": [
       "<Figure size 432x288 with 1 Axes>"
      ]
     },
     "metadata": {
      "needs_background": "light"
     },
     "output_type": "display_data"
    }
   ],
   "source": [
    "x = plt.xlim((-2500, 150000))\n",
    "df[\"VehOdo\"].plot.kde(x = 'x', color = 'black') "
   ]
  },
  {
   "cell_type": "code",
   "execution_count": 15,
   "metadata": {},
   "outputs": [],
   "source": [
    "bins = [df.VehOdo.min() - 1,40000, 60000, 80000, 100000, df.VehOdo.max()]\n",
    "\n",
    "df['VehOdo'] = pd.cut(df['VehOdo'], bins)"
   ]
  },
  {
   "cell_type": "code",
   "execution_count": 16,
   "metadata": {},
   "outputs": [],
   "source": [
    "df['VehicleAge'] = pd.cut(df['VehicleAge'], [0, 2, 4, 6, 8, 10], right=False)"
   ]
  },
  {
   "cell_type": "markdown",
   "metadata": {},
   "source": [
    "Remapping Values"
   ]
  },
  {
   "cell_type": "code",
   "execution_count": 17,
   "metadata": {},
   "outputs": [
    {
     "data": {
      "text/html": [
       "<div>\n",
       "<style scoped>\n",
       "    .dataframe tbody tr th:only-of-type {\n",
       "        vertical-align: middle;\n",
       "    }\n",
       "\n",
       "    .dataframe tbody tr th {\n",
       "        vertical-align: top;\n",
       "    }\n",
       "\n",
       "    .dataframe thead th {\n",
       "        text-align: right;\n",
       "    }\n",
       "</style>\n",
       "<table border=\"1\" class=\"dataframe\">\n",
       "  <thead>\n",
       "    <tr style=\"text-align: right;\">\n",
       "      <th></th>\n",
       "      <th>IsBadBuy</th>\n",
       "      <th>Auction</th>\n",
       "      <th>VehicleAge</th>\n",
       "      <th>Make</th>\n",
       "      <th>Model</th>\n",
       "      <th>Trim</th>\n",
       "      <th>SubModel</th>\n",
       "      <th>Color</th>\n",
       "      <th>Transmission</th>\n",
       "      <th>VehOdo</th>\n",
       "      <th>Nationality</th>\n",
       "      <th>AAAP</th>\n",
       "      <th>VNST</th>\n",
       "      <th>VehBCost</th>\n",
       "      <th>WarrantyCost</th>\n",
       "      <th>PurchWeekDay</th>\n",
       "    </tr>\n",
       "  </thead>\n",
       "  <tbody>\n",
       "    <tr>\n",
       "      <th>0</th>\n",
       "      <td>1</td>\n",
       "      <td>ADESA</td>\n",
       "      <td>[2, 4)</td>\n",
       "      <td>KIA</td>\n",
       "      <td>SPECTRA</td>\n",
       "      <td>EX</td>\n",
       "      <td>SEDAN</td>\n",
       "      <td>BLUE</td>\n",
       "      <td>AUTO</td>\n",
       "      <td>(60000, 80000]</td>\n",
       "      <td>KOREAN</td>\n",
       "      <td>(6000.0, 8000.0]</td>\n",
       "      <td>FL</td>\n",
       "      <td>(5000.0, 7000.0]</td>\n",
       "      <td>(461, 700]</td>\n",
       "      <td>Monday</td>\n",
       "    </tr>\n",
       "    <tr>\n",
       "      <th>1</th>\n",
       "      <td>0</td>\n",
       "      <td>MANHEIM</td>\n",
       "      <td>[2, 4)</td>\n",
       "      <td>CHRYSLER</td>\n",
       "      <td>STRATUS</td>\n",
       "      <td>SXT</td>\n",
       "      <td>SEDAN</td>\n",
       "      <td>SILVER</td>\n",
       "      <td>AUTO</td>\n",
       "      <td>(80000, 100000]</td>\n",
       "      <td>AMERICAN</td>\n",
       "      <td>(3000.0, 6000.0]</td>\n",
       "      <td>FL</td>\n",
       "      <td>(224.0, 5000.0]</td>\n",
       "      <td>(1200, 1800]</td>\n",
       "      <td>Wednesday</td>\n",
       "    </tr>\n",
       "    <tr>\n",
       "      <th>2</th>\n",
       "      <td>0</td>\n",
       "      <td>OTHER</td>\n",
       "      <td>[2, 4)</td>\n",
       "      <td>CHRYSLER</td>\n",
       "      <td>CALIBER</td>\n",
       "      <td>SE</td>\n",
       "      <td>WAGON</td>\n",
       "      <td>BLACK</td>\n",
       "      <td>AUTO</td>\n",
       "      <td>(40000, 60000]</td>\n",
       "      <td>AMERICAN</td>\n",
       "      <td>(8000.0, 10000.0]</td>\n",
       "      <td>OK</td>\n",
       "      <td>(7000.0, 8000.0]</td>\n",
       "      <td>(461, 700]</td>\n",
       "      <td>Thursday</td>\n",
       "    </tr>\n",
       "    <tr>\n",
       "      <th>3</th>\n",
       "      <td>0</td>\n",
       "      <td>OTHER</td>\n",
       "      <td>[4, 6)</td>\n",
       "      <td>FORD</td>\n",
       "      <td>FREESTAR</td>\n",
       "      <td>S</td>\n",
       "      <td>MINIVAN</td>\n",
       "      <td>BROWN</td>\n",
       "      <td>AUTO</td>\n",
       "      <td>(80000, 100000]</td>\n",
       "      <td>AMERICAN</td>\n",
       "      <td>(3000.0, 6000.0]</td>\n",
       "      <td>AZ</td>\n",
       "      <td>(224.0, 5000.0]</td>\n",
       "      <td>(1200, 1800]</td>\n",
       "      <td>Monday</td>\n",
       "    </tr>\n",
       "    <tr>\n",
       "      <th>4</th>\n",
       "      <td>0</td>\n",
       "      <td>MANHEIM</td>\n",
       "      <td>[4, 6)</td>\n",
       "      <td>CHRYSLER</td>\n",
       "      <td>TOWN &amp; COUNTRY V</td>\n",
       "      <td>Bas</td>\n",
       "      <td>MINIVAN</td>\n",
       "      <td>BLUE</td>\n",
       "      <td>AUTO</td>\n",
       "      <td>(60000, 80000]</td>\n",
       "      <td>AMERICAN</td>\n",
       "      <td>(3000.0, 6000.0]</td>\n",
       "      <td>TX</td>\n",
       "      <td>(5000.0, 7000.0]</td>\n",
       "      <td>(1200, 1800]</td>\n",
       "      <td>Wednesday</td>\n",
       "    </tr>\n",
       "  </tbody>\n",
       "</table>\n",
       "</div>"
      ],
      "text/plain": [
       "  IsBadBuy  Auction VehicleAge      Make             Model Trim SubModel  \\\n",
       "0        1    ADESA     [2, 4)       KIA           SPECTRA   EX    SEDAN   \n",
       "1        0  MANHEIM     [2, 4)  CHRYSLER           STRATUS  SXT    SEDAN   \n",
       "2        0    OTHER     [2, 4)  CHRYSLER           CALIBER   SE    WAGON   \n",
       "3        0    OTHER     [4, 6)      FORD          FREESTAR    S  MINIVAN   \n",
       "4        0  MANHEIM     [4, 6)  CHRYSLER  TOWN & COUNTRY V  Bas  MINIVAN   \n",
       "\n",
       "    Color Transmission           VehOdo Nationality               AAAP VNST  \\\n",
       "0    BLUE         AUTO   (60000, 80000]      KOREAN   (6000.0, 8000.0]   FL   \n",
       "1  SILVER         AUTO  (80000, 100000]    AMERICAN   (3000.0, 6000.0]   FL   \n",
       "2   BLACK         AUTO   (40000, 60000]    AMERICAN  (8000.0, 10000.0]   OK   \n",
       "3   BROWN         AUTO  (80000, 100000]    AMERICAN   (3000.0, 6000.0]   AZ   \n",
       "4    BLUE         AUTO   (60000, 80000]    AMERICAN   (3000.0, 6000.0]   TX   \n",
       "\n",
       "           VehBCost  WarrantyCost PurchWeekDay  \n",
       "0  (5000.0, 7000.0]    (461, 700]       Monday  \n",
       "1   (224.0, 5000.0]  (1200, 1800]    Wednesday  \n",
       "2  (7000.0, 8000.0]    (461, 700]     Thursday  \n",
       "3   (224.0, 5000.0]  (1200, 1800]       Monday  \n",
       "4  (5000.0, 7000.0]  (1200, 1800]    Wednesday  "
      ]
     },
     "execution_count": 17,
     "metadata": {},
     "output_type": "execute_result"
    }
   ],
   "source": [
    "df.head()"
   ]
  },
  {
   "cell_type": "code",
   "execution_count": 18,
   "metadata": {},
   "outputs": [],
   "source": [
    "df['VehicleAge'] = 'Age:' + df['VehicleAge'].astype(str)\n",
    "df['VehOdo'] = 'Odo:' + df['VehOdo'].astype(str)\n",
    "df['AAAP'] = 'AAAP:' + df['AAAP'].astype(str)\n",
    "df['WarrantyCost'] = 'WarrCost:' + df['WarrantyCost'].astype(str)\n",
    "df['VehBCost'] = 'VehBCost:' + df['VehBCost'].astype(str)\n",
    "\n",
    "df['BuyStatus'] = df['IsBadBuy'].map(\n",
    "    {0: 'GoodBuy', 1: 'BadBuy'}).astype(str)\n",
    "df.drop(columns=['IsBadBuy'], inplace=True)"
   ]
  },
  {
   "cell_type": "code",
   "execution_count": 19,
   "metadata": {},
   "outputs": [
    {
     "data": {
      "text/html": [
       "<div>\n",
       "<style scoped>\n",
       "    .dataframe tbody tr th:only-of-type {\n",
       "        vertical-align: middle;\n",
       "    }\n",
       "\n",
       "    .dataframe tbody tr th {\n",
       "        vertical-align: top;\n",
       "    }\n",
       "\n",
       "    .dataframe thead th {\n",
       "        text-align: right;\n",
       "    }\n",
       "</style>\n",
       "<table border=\"1\" class=\"dataframe\">\n",
       "  <thead>\n",
       "    <tr style=\"text-align: right;\">\n",
       "      <th></th>\n",
       "      <th>Auction</th>\n",
       "      <th>VehicleAge</th>\n",
       "      <th>Make</th>\n",
       "      <th>Model</th>\n",
       "      <th>Trim</th>\n",
       "      <th>SubModel</th>\n",
       "      <th>Color</th>\n",
       "      <th>Transmission</th>\n",
       "      <th>VehOdo</th>\n",
       "      <th>Nationality</th>\n",
       "      <th>AAAP</th>\n",
       "      <th>VNST</th>\n",
       "      <th>VehBCost</th>\n",
       "      <th>WarrantyCost</th>\n",
       "      <th>PurchWeekDay</th>\n",
       "      <th>BuyStatus</th>\n",
       "    </tr>\n",
       "  </thead>\n",
       "  <tbody>\n",
       "    <tr>\n",
       "      <th>0</th>\n",
       "      <td>ADESA</td>\n",
       "      <td>Age:[2, 4)</td>\n",
       "      <td>KIA</td>\n",
       "      <td>SPECTRA</td>\n",
       "      <td>EX</td>\n",
       "      <td>SEDAN</td>\n",
       "      <td>BLUE</td>\n",
       "      <td>AUTO</td>\n",
       "      <td>Odo:(60000, 80000]</td>\n",
       "      <td>KOREAN</td>\n",
       "      <td>AAAP:(6000.0, 8000.0]</td>\n",
       "      <td>FL</td>\n",
       "      <td>VehBCost:(5000.0, 7000.0]</td>\n",
       "      <td>WarrCost:(461, 700]</td>\n",
       "      <td>Monday</td>\n",
       "      <td>BadBuy</td>\n",
       "    </tr>\n",
       "    <tr>\n",
       "      <th>1</th>\n",
       "      <td>MANHEIM</td>\n",
       "      <td>Age:[2, 4)</td>\n",
       "      <td>CHRYSLER</td>\n",
       "      <td>STRATUS</td>\n",
       "      <td>SXT</td>\n",
       "      <td>SEDAN</td>\n",
       "      <td>SILVER</td>\n",
       "      <td>AUTO</td>\n",
       "      <td>Odo:(80000, 100000]</td>\n",
       "      <td>AMERICAN</td>\n",
       "      <td>AAAP:(3000.0, 6000.0]</td>\n",
       "      <td>FL</td>\n",
       "      <td>VehBCost:(224.0, 5000.0]</td>\n",
       "      <td>WarrCost:(1200, 1800]</td>\n",
       "      <td>Wednesday</td>\n",
       "      <td>GoodBuy</td>\n",
       "    </tr>\n",
       "    <tr>\n",
       "      <th>2</th>\n",
       "      <td>OTHER</td>\n",
       "      <td>Age:[2, 4)</td>\n",
       "      <td>CHRYSLER</td>\n",
       "      <td>CALIBER</td>\n",
       "      <td>SE</td>\n",
       "      <td>WAGON</td>\n",
       "      <td>BLACK</td>\n",
       "      <td>AUTO</td>\n",
       "      <td>Odo:(40000, 60000]</td>\n",
       "      <td>AMERICAN</td>\n",
       "      <td>AAAP:(8000.0, 10000.0]</td>\n",
       "      <td>OK</td>\n",
       "      <td>VehBCost:(7000.0, 8000.0]</td>\n",
       "      <td>WarrCost:(461, 700]</td>\n",
       "      <td>Thursday</td>\n",
       "      <td>GoodBuy</td>\n",
       "    </tr>\n",
       "    <tr>\n",
       "      <th>3</th>\n",
       "      <td>OTHER</td>\n",
       "      <td>Age:[4, 6)</td>\n",
       "      <td>FORD</td>\n",
       "      <td>FREESTAR</td>\n",
       "      <td>S</td>\n",
       "      <td>MINIVAN</td>\n",
       "      <td>BROWN</td>\n",
       "      <td>AUTO</td>\n",
       "      <td>Odo:(80000, 100000]</td>\n",
       "      <td>AMERICAN</td>\n",
       "      <td>AAAP:(3000.0, 6000.0]</td>\n",
       "      <td>AZ</td>\n",
       "      <td>VehBCost:(224.0, 5000.0]</td>\n",
       "      <td>WarrCost:(1200, 1800]</td>\n",
       "      <td>Monday</td>\n",
       "      <td>GoodBuy</td>\n",
       "    </tr>\n",
       "    <tr>\n",
       "      <th>4</th>\n",
       "      <td>MANHEIM</td>\n",
       "      <td>Age:[4, 6)</td>\n",
       "      <td>CHRYSLER</td>\n",
       "      <td>TOWN &amp; COUNTRY V</td>\n",
       "      <td>Bas</td>\n",
       "      <td>MINIVAN</td>\n",
       "      <td>BLUE</td>\n",
       "      <td>AUTO</td>\n",
       "      <td>Odo:(60000, 80000]</td>\n",
       "      <td>AMERICAN</td>\n",
       "      <td>AAAP:(3000.0, 6000.0]</td>\n",
       "      <td>TX</td>\n",
       "      <td>VehBCost:(5000.0, 7000.0]</td>\n",
       "      <td>WarrCost:(1200, 1800]</td>\n",
       "      <td>Wednesday</td>\n",
       "      <td>GoodBuy</td>\n",
       "    </tr>\n",
       "  </tbody>\n",
       "</table>\n",
       "</div>"
      ],
      "text/plain": [
       "   Auction  VehicleAge      Make             Model Trim SubModel   Color  \\\n",
       "0    ADESA  Age:[2, 4)       KIA           SPECTRA   EX    SEDAN    BLUE   \n",
       "1  MANHEIM  Age:[2, 4)  CHRYSLER           STRATUS  SXT    SEDAN  SILVER   \n",
       "2    OTHER  Age:[2, 4)  CHRYSLER           CALIBER   SE    WAGON   BLACK   \n",
       "3    OTHER  Age:[4, 6)      FORD          FREESTAR    S  MINIVAN   BROWN   \n",
       "4  MANHEIM  Age:[4, 6)  CHRYSLER  TOWN & COUNTRY V  Bas  MINIVAN    BLUE   \n",
       "\n",
       "  Transmission               VehOdo Nationality                    AAAP VNST  \\\n",
       "0         AUTO   Odo:(60000, 80000]      KOREAN   AAAP:(6000.0, 8000.0]   FL   \n",
       "1         AUTO  Odo:(80000, 100000]    AMERICAN   AAAP:(3000.0, 6000.0]   FL   \n",
       "2         AUTO   Odo:(40000, 60000]    AMERICAN  AAAP:(8000.0, 10000.0]   OK   \n",
       "3         AUTO  Odo:(80000, 100000]    AMERICAN   AAAP:(3000.0, 6000.0]   AZ   \n",
       "4         AUTO   Odo:(60000, 80000]    AMERICAN   AAAP:(3000.0, 6000.0]   TX   \n",
       "\n",
       "                    VehBCost           WarrantyCost PurchWeekDay BuyStatus  \n",
       "0  VehBCost:(5000.0, 7000.0]    WarrCost:(461, 700]       Monday    BadBuy  \n",
       "1   VehBCost:(224.0, 5000.0]  WarrCost:(1200, 1800]    Wednesday   GoodBuy  \n",
       "2  VehBCost:(7000.0, 8000.0]    WarrCost:(461, 700]     Thursday   GoodBuy  \n",
       "3   VehBCost:(224.0, 5000.0]  WarrCost:(1200, 1800]       Monday   GoodBuy  \n",
       "4  VehBCost:(5000.0, 7000.0]  WarrCost:(1200, 1800]    Wednesday   GoodBuy  "
      ]
     },
     "execution_count": 19,
     "metadata": {},
     "output_type": "execute_result"
    }
   ],
   "source": [
    "df.head()"
   ]
  },
  {
   "cell_type": "code",
   "execution_count": 20,
   "metadata": {},
   "outputs": [
    {
     "data": {
      "text/plain": [
       "Series([], dtype: int64)"
      ]
     },
     "execution_count": 20,
     "metadata": {},
     "output_type": "execute_result"
    }
   ],
   "source": [
    "sum_ = df.isnull().sum()\n",
    "sum_[sum_ != 0]"
   ]
  },
  {
   "cell_type": "markdown",
   "metadata": {},
   "source": [
    "## Guidelines for the task on Association Rules Mining"
   ]
  },
  {
   "cell_type": "markdown",
   "metadata": {},
   "source": [
    "-Frequent patterns extraction with different values of support and different types (i.e. frequent, close, maximal), (6 points)\n",
    "\n",
    "-Discussion of the most interesting frequent patterns and analyze how changes the number of patterns w.r.t. the min_sup parameter (7 points)\n",
    "    \n",
    "-Association rules extraction with different values of confidence (6 points)\n",
    "    \n",
    "-Discussion of the most interesting rules and analyze how changes the number of rules w.r.t. the min_conf parameter, histogram of rules' confidence and lift (7 points)\n",
    "    \n",
    "-Use the most meaningful rules to replace missing values and evaluate the accuracy (2 points)\n",
    "\n",
    "-Use the most meaningful rules to predict the target variable and evaluate the accuracy (2 points)"
   ]
  },
  {
   "cell_type": "markdown",
   "metadata": {},
   "source": [
    "## APRIORI"
   ]
  },
  {
   "cell_type": "code",
   "execution_count": 22,
   "metadata": {},
   "outputs": [],
   "source": [
    "from fim import apriori"
   ]
  },
  {
   "cell_type": "code",
   "execution_count": 23,
   "metadata": {},
   "outputs": [],
   "source": [
    "#in questo modo creiamo i baskets, cioé selezioniamo gli attributi per ogni riga corrispondente\n",
    "baskets = df.values.tolist()"
   ]
  },
  {
   "cell_type": "markdown",
   "metadata": {},
   "source": [
    "## Itemset Frequenti\n"
   ]
  },
  {
   "cell_type": "code",
   "execution_count": 114,
   "metadata": {},
   "outputs": [],
   "source": [
    "#supporto 2\n",
    "itemsets = apriori(baskets, supp=20, zmin=4, target='a')"
   ]
  },
  {
   "cell_type": "code",
   "execution_count": 115,
   "metadata": {},
   "outputs": [
    {
     "name": "stdout",
     "output_type": "stream",
     "text": [
      "Number of itemsets: 29\n"
     ]
    },
    {
     "data": {
      "text/plain": [
       "(('Tuesday', 'AMERICAN', 'GoodBuy', 'AUTO'), 11830)"
      ]
     },
     "execution_count": 115,
     "metadata": {},
     "output_type": "execute_result"
    }
   ],
   "source": [
    "print('Number of itemsets:', len(itemsets))\n",
    "\n",
    "itemsets[0]"
   ]
  },
  {
   "cell_type": "code",
   "execution_count": 101,
   "metadata": {},
   "outputs": [],
   "source": [
    "itemsets.sort(key=lambda x: x[1],reverse=True)"
   ]
  },
  {
   "cell_type": "code",
   "execution_count": 110,
   "metadata": {
    "scrolled": true
   },
   "outputs": [
    {
     "data": {
      "text/plain": [
       "[(('Tuesday', 'AMERICAN', 'GoodBuy', 'AUTO'), 11830),\n",
       " (('AAAP:(6000.0, 8000.0]', 'AMERICAN', 'GoodBuy', 'AUTO'), 13363),\n",
       " (('Odo:(80000, 100000]', 'AMERICAN', 'GoodBuy', 'AUTO'), 12946),\n",
       " (('CHRYSLER', 'GoodBuy', 'AUTO', 'AMERICAN'), 16205),\n",
       " (('Wednesday', 'AMERICAN', 'GoodBuy', 'AUTO'), 13486),\n",
       " (('WarrCost:(1200, 1800]', 'AMERICAN', 'GoodBuy', 'AUTO'), 15674),\n",
       " (('Age:[2, 4)', 'AMERICAN', 'GoodBuy', 'AUTO'), 14704),\n",
       " (('GM', 'SEDAN', 'AUTO', 'AMERICAN'), 12561),\n",
       " (('GM', 'GoodBuy', 'AUTO', 'AMERICAN'), 17071),\n",
       " (('WarrCost:(700, 1200]', 'SEDAN', 'GoodBuy', 'AUTO'), 11953),\n",
       " (('WarrCost:(700, 1200]', 'AMERICAN', 'GoodBuy', 'AUTO'), 15745),\n",
       " (('VehBCost:(5000.0, 7000.0]', 'SEDAN', 'GoodBuy', 'AUTO'), 12140),\n",
       " (('VehBCost:(5000.0, 7000.0]', 'AMERICAN', 'GoodBuy', 'AUTO'), 15619),\n",
       " (('AAAP:(3000.0, 6000.0]', 'SEDAN', 'GoodBuy', 'AUTO'), 12112),\n",
       " (('AAAP:(3000.0, 6000.0]', 'AMERICAN', 'GoodBuy', 'AUTO'), 15727),\n",
       " (('Age:[4, 6)', 'MANHEIM', 'GoodBuy', 'AUTO'), 11799),\n",
       " (('Age:[4, 6)', 'AMERICAN', 'GoodBuy', 'AUTO'), 16826),\n",
       " (('Odo:(60000, 80000]', 'MANHEIM', 'AMERICAN', 'GoodBuy'), 11946),\n",
       " (('Odo:(60000, 80000]', 'MANHEIM', 'AMERICAN', 'AUTO'), 13045),\n",
       " (('Odo:(60000, 80000]', 'MANHEIM', 'GoodBuy', 'AUTO'), 13930),\n",
       " (('Odo:(60000, 80000]', 'SEDAN', 'AMERICAN', 'AUTO'), 12244),\n",
       " (('Odo:(60000, 80000]', 'SEDAN', 'GoodBuy', 'AUTO'), 13577),\n",
       " (('Odo:(60000, 80000]', 'AMERICAN', 'GoodBuy', 'AUTO'), 19499),\n",
       " (('MANHEIM', 'SEDAN', 'AMERICAN', 'GoodBuy'), 13157),\n",
       " (('MANHEIM', 'SEDAN', 'AMERICAN', 'GoodBuy', 'AUTO'), 12810),\n",
       " (('MANHEIM', 'SEDAN', 'AMERICAN', 'AUTO'), 14321),\n",
       " (('MANHEIM', 'SEDAN', 'GoodBuy', 'AUTO'), 16057),\n",
       " (('MANHEIM', 'AMERICAN', 'GoodBuy', 'AUTO'), 23424),\n",
       " (('SEDAN', 'AMERICAN', 'GoodBuy', 'AUTO'), 23217)]"
      ]
     },
     "execution_count": 110,
     "metadata": {},
     "output_type": "execute_result"
    }
   ],
   "source": [
    "itemsets"
   ]
  },
  {
   "cell_type": "markdown",
   "metadata": {},
   "source": [
    "## how changes the number of patterns with target \"all\""
   ]
  },
  {
   "cell_type": "code",
   "execution_count": 164,
   "metadata": {},
   "outputs": [
    {
     "data": {
      "image/png": "[encoded data removed]",
      "text/plain": [
       "<Figure size 432x288 with 1 Axes>"
      ]
     },
     "metadata": {
      "needs_background": "light"
     },
     "output_type": "display_data"
    }
   ],
   "source": [
    "#rappresento graficamente come cambia il numero di pattern al cambiare del supporto\n",
    "\n",
    "height = [383, 29, 3, 1, 0]\n",
    "bars = ('supp10', 'supp20', 'supp30', 'supp40', 'supp50')\n",
    "y_pos = np.arange(len(bars))\n",
    " \n",
    "# Create bars\n",
    "plt.bar(y_pos, height)\n",
    " \n",
    "# Create names on the x-axis\n",
    "plt.xticks(y_pos, bars)\n",
    " \n",
    "# Show graphic\n",
    "plt.show()\n",
    "\n"
   ]
  },
  {
   "cell_type": "markdown",
   "metadata": {},
   "source": [
    "## Itemset Massimali"
   ]
  },
  {
   "cell_type": "code",
   "execution_count": 179,
   "metadata": {},
   "outputs": [],
   "source": [
    "itemsets = apriori(baskets, supp=30, zmin=4, target='m')"
   ]
  },
  {
   "cell_type": "code",
   "execution_count": 180,
   "metadata": {},
   "outputs": [
    {
     "name": "stdout",
     "output_type": "stream",
     "text": [
      "Number of itemsets: 3\n"
     ]
    },
    {
     "data": {
      "text/plain": [
       "(('MANHEIM', 'AMERICAN', 'GoodBuy', 'AUTO'), 23424)"
      ]
     },
     "execution_count": 180,
     "metadata": {},
     "output_type": "execute_result"
    }
   ],
   "source": [
    "print('Number of itemsets:', len(itemsets))\n",
    "\n",
    "itemsets[1]"
   ]
  },
  {
   "cell_type": "code",
   "execution_count": 181,
   "metadata": {},
   "outputs": [],
   "source": [
    "itemsets.sort(key=lambda x: x[1],reverse=True)"
   ]
  },
  {
   "cell_type": "code",
   "execution_count": 182,
   "metadata": {},
   "outputs": [
    {
     "data": {
      "text/plain": [
       "[(('MANHEIM', 'AMERICAN', 'GoodBuy', 'AUTO'), 23424),\n",
       " (('SEDAN', 'AMERICAN', 'GoodBuy', 'AUTO'), 23217),\n",
       " (('Odo:(60000, 80000]', 'AMERICAN', 'GoodBuy', 'AUTO'), 19499)]"
      ]
     },
     "execution_count": 182,
     "metadata": {},
     "output_type": "execute_result"
    }
   ],
   "source": [
    "itemsets[:10]"
   ]
  },
  {
   "cell_type": "code",
   "execution_count": 183,
   "metadata": {},
   "outputs": [
    {
     "data": {
      "image/png": "[encoded data removed]",
      "text/plain": [
       "<Figure size 432x288 with 1 Axes>"
      ]
     },
     "metadata": {
      "needs_background": "light"
     },
     "output_type": "display_data"
    }
   ],
   "source": [
    "height = [141, 24, 3, 1, 0]\n",
    "bars = ('supp10', 'supp20', 'supp30', 'supp40', 'supp50')\n",
    "y_pos = np.arange(len(bars))\n",
    " \n",
    "# Create bars\n",
    "plt.bar(y_pos, height)\n",
    " \n",
    "# Create names on the x-axis\n",
    "plt.xticks(y_pos, bars)\n",
    " \n",
    "# Show graphic\n",
    "plt.show()"
   ]
  },
  {
   "cell_type": "markdown",
   "metadata": {},
   "source": [
    "##  Itemset Closed"
   ]
  },
  {
   "cell_type": "code",
   "execution_count": 192,
   "metadata": {},
   "outputs": [],
   "source": [
    "itemsets = apriori(baskets, supp=20, zmin=4, target='c')"
   ]
  },
  {
   "cell_type": "code",
   "execution_count": 193,
   "metadata": {},
   "outputs": [
    {
     "name": "stdout",
     "output_type": "stream",
     "text": [
      "Number of itemsets: 29\n"
     ]
    },
    {
     "data": {
      "text/plain": [
       "(('AAAP:(6000.0, 8000.0]', 'AMERICAN', 'GoodBuy', 'AUTO'), 13363)"
      ]
     },
     "execution_count": 193,
     "metadata": {},
     "output_type": "execute_result"
    }
   ],
   "source": [
    "print('Number of itemsets:', len(itemsets))\n",
    "\n",
    "itemsets[1]"
   ]
  },
  {
   "cell_type": "code",
   "execution_count": 194,
   "metadata": {},
   "outputs": [],
   "source": [
    "itemsets.sort(key=lambda x: x[1],reverse=True)"
   ]
  },
  {
   "cell_type": "code",
   "execution_count": 195,
   "metadata": {},
   "outputs": [
    {
     "data": {
      "text/plain": [
       "[(('MANHEIM', 'AMERICAN', 'GoodBuy', 'AUTO'), 23424),\n",
       " (('SEDAN', 'AMERICAN', 'GoodBuy', 'AUTO'), 23217),\n",
       " (('Odo:(60000, 80000]', 'AMERICAN', 'GoodBuy', 'AUTO'), 19499),\n",
       " (('GM', 'AMERICAN', 'GoodBuy', 'AUTO'), 17071),\n",
       " (('Age:[4, 6)', 'AMERICAN', 'GoodBuy', 'AUTO'), 16826),\n",
       " (('CHRYSLER', 'AMERICAN', 'GoodBuy', 'AUTO'), 16205),\n",
       " (('MANHEIM', 'SEDAN', 'GoodBuy', 'AUTO'), 16057),\n",
       " (('WarrCost:(700, 1200]', 'AMERICAN', 'GoodBuy', 'AUTO'), 15745),\n",
       " (('AAAP:(3000.0, 6000.0]', 'AMERICAN', 'GoodBuy', 'AUTO'), 15727),\n",
       " (('WarrCost:(1200, 1800]', 'AMERICAN', 'GoodBuy', 'AUTO'), 15674),\n",
       " (('VehBCost:(5000.0, 7000.0]', 'AMERICAN', 'GoodBuy', 'AUTO'), 15619),\n",
       " (('Age:[2, 4)', 'AMERICAN', 'GoodBuy', 'AUTO'), 14704),\n",
       " (('MANHEIM', 'SEDAN', 'AMERICAN', 'AUTO'), 14321),\n",
       " (('Odo:(60000, 80000]', 'MANHEIM', 'GoodBuy', 'AUTO'), 13930),\n",
       " (('Odo:(60000, 80000]', 'SEDAN', 'GoodBuy', 'AUTO'), 13577),\n",
       " (('Wednesday', 'AMERICAN', 'GoodBuy', 'AUTO'), 13486),\n",
       " (('AAAP:(6000.0, 8000.0]', 'AMERICAN', 'GoodBuy', 'AUTO'), 13363),\n",
       " (('MANHEIM', 'SEDAN', 'AMERICAN', 'GoodBuy'), 13157),\n",
       " (('Odo:(60000, 80000]', 'MANHEIM', 'AMERICAN', 'AUTO'), 13045),\n",
       " (('Odo:(80000, 100000]', 'AMERICAN', 'GoodBuy', 'AUTO'), 12946),\n",
       " (('MANHEIM', 'SEDAN', 'AMERICAN', 'GoodBuy', 'AUTO'), 12810),\n",
       " (('GM', 'SEDAN', 'AMERICAN', 'AUTO'), 12561),\n",
       " (('Odo:(60000, 80000]', 'SEDAN', 'AMERICAN', 'AUTO'), 12244),\n",
       " (('VehBCost:(5000.0, 7000.0]', 'SEDAN', 'GoodBuy', 'AUTO'), 12140),\n",
       " (('AAAP:(3000.0, 6000.0]', 'SEDAN', 'GoodBuy', 'AUTO'), 12112),\n",
       " (('WarrCost:(700, 1200]', 'SEDAN', 'GoodBuy', 'AUTO'), 11953),\n",
       " (('Odo:(60000, 80000]', 'MANHEIM', 'AMERICAN', 'GoodBuy'), 11946),\n",
       " (('Tuesday', 'AMERICAN', 'GoodBuy', 'AUTO'), 11830),\n",
       " (('Age:[4, 6)', 'MANHEIM', 'GoodBuy', 'AUTO'), 11799)]"
      ]
     },
     "execution_count": 195,
     "metadata": {},
     "output_type": "execute_result"
    }
   ],
   "source": [
    "itemsets"
   ]
  },
  {
   "cell_type": "code",
   "execution_count": 196,
   "metadata": {},
   "outputs": [
    {
     "data": {
      "image/png": "[encoded data removed]",
      "text/plain": [
       "<Figure size 432x288 with 1 Axes>"
      ]
     },
     "metadata": {
      "needs_background": "light"
     },
     "output_type": "display_data"
    }
   ],
   "source": [
    "height = [360, 24, 3, 1, 0]\n",
    "bars = ('supp10', 'supp20', 'supp30', 'supp40', 'supp50')\n",
    "y_pos = np.arange(len(bars))\n",
    " \n",
    "# Create bars\n",
    "plt.bar(y_pos, height)\n",
    " \n",
    "# Create names on the x-axis\n",
    "plt.xticks(y_pos, bars)\n",
    " \n",
    "# Show graphic\n",
    "plt.show()"
   ]
  },
  {
   "cell_type": "markdown",
   "metadata": {},
   "source": [
    "## prova a caso\n"
   ]
  },
  {
   "cell_type": "code",
   "execution_count": 136,
   "metadata": {},
   "outputs": [],
   "source": [
    "dfcazzo = df.drop(columns=['Auction', 'Color','Transmission','PurchWeekDay','BuyStatus'])"
   ]
  },
  {
   "cell_type": "code",
   "execution_count": 137,
   "metadata": {},
   "outputs": [
    {
     "data": {
      "text/html": [
       "<div>\n",
       "<style scoped>\n",
       "    .dataframe tbody tr th:only-of-type {\n",
       "        vertical-align: middle;\n",
       "    }\n",
       "\n",
       "    .dataframe tbody tr th {\n",
       "        vertical-align: top;\n",
       "    }\n",
       "\n",
       "    .dataframe thead th {\n",
       "        text-align: right;\n",
       "    }\n",
       "</style>\n",
       "<table border=\"1\" class=\"dataframe\">\n",
       "  <thead>\n",
       "    <tr style=\"text-align: right;\">\n",
       "      <th></th>\n",
       "      <th>VehicleAge</th>\n",
       "      <th>Make</th>\n",
       "      <th>Model</th>\n",
       "      <th>Trim</th>\n",
       "      <th>SubModel</th>\n",
       "      <th>VehOdo</th>\n",
       "      <th>Nationality</th>\n",
       "      <th>AAAP</th>\n",
       "      <th>VNST</th>\n",
       "      <th>VehBCost</th>\n",
       "      <th>WarrantyCost</th>\n",
       "    </tr>\n",
       "  </thead>\n",
       "  <tbody>\n",
       "    <tr>\n",
       "      <th>0</th>\n",
       "      <td>Age:[2, 4)</td>\n",
       "      <td>KIA</td>\n",
       "      <td>SPECTRA</td>\n",
       "      <td>EX</td>\n",
       "      <td>SEDAN</td>\n",
       "      <td>Odo:(60000, 80000]</td>\n",
       "      <td>KOREAN</td>\n",
       "      <td>AAAP:(6000.0, 8000.0]</td>\n",
       "      <td>FL</td>\n",
       "      <td>VehBCost:(5000.0, 7000.0]</td>\n",
       "      <td>WarrCost:(461, 700]</td>\n",
       "    </tr>\n",
       "    <tr>\n",
       "      <th>1</th>\n",
       "      <td>Age:[2, 4)</td>\n",
       "      <td>CHRYSLER</td>\n",
       "      <td>STRATUS</td>\n",
       "      <td>SXT</td>\n",
       "      <td>SEDAN</td>\n",
       "      <td>Odo:(80000, 100000]</td>\n",
       "      <td>AMERICAN</td>\n",
       "      <td>AAAP:(3000.0, 6000.0]</td>\n",
       "      <td>FL</td>\n",
       "      <td>VehBCost:(224.0, 5000.0]</td>\n",
       "      <td>WarrCost:(1200, 1800]</td>\n",
       "    </tr>\n",
       "    <tr>\n",
       "      <th>2</th>\n",
       "      <td>Age:[2, 4)</td>\n",
       "      <td>CHRYSLER</td>\n",
       "      <td>CALIBER</td>\n",
       "      <td>SE</td>\n",
       "      <td>WAGON</td>\n",
       "      <td>Odo:(40000, 60000]</td>\n",
       "      <td>AMERICAN</td>\n",
       "      <td>AAAP:(8000.0, 10000.0]</td>\n",
       "      <td>OK</td>\n",
       "      <td>VehBCost:(7000.0, 8000.0]</td>\n",
       "      <td>WarrCost:(461, 700]</td>\n",
       "    </tr>\n",
       "    <tr>\n",
       "      <th>3</th>\n",
       "      <td>Age:[4, 6)</td>\n",
       "      <td>FORD</td>\n",
       "      <td>FREESTAR</td>\n",
       "      <td>S</td>\n",
       "      <td>MINIVAN</td>\n",
       "      <td>Odo:(80000, 100000]</td>\n",
       "      <td>AMERICAN</td>\n",
       "      <td>AAAP:(3000.0, 6000.0]</td>\n",
       "      <td>AZ</td>\n",
       "      <td>VehBCost:(224.0, 5000.0]</td>\n",
       "      <td>WarrCost:(1200, 1800]</td>\n",
       "    </tr>\n",
       "    <tr>\n",
       "      <th>4</th>\n",
       "      <td>Age:[4, 6)</td>\n",
       "      <td>CHRYSLER</td>\n",
       "      <td>TOWN &amp; COUNTRY V</td>\n",
       "      <td>Bas</td>\n",
       "      <td>MINIVAN</td>\n",
       "      <td>Odo:(60000, 80000]</td>\n",
       "      <td>AMERICAN</td>\n",
       "      <td>AAAP:(3000.0, 6000.0]</td>\n",
       "      <td>TX</td>\n",
       "      <td>VehBCost:(5000.0, 7000.0]</td>\n",
       "      <td>WarrCost:(1200, 1800]</td>\n",
       "    </tr>\n",
       "  </tbody>\n",
       "</table>\n",
       "</div>"
      ],
      "text/plain": [
       "   VehicleAge      Make             Model Trim SubModel               VehOdo  \\\n",
       "0  Age:[2, 4)       KIA           SPECTRA   EX    SEDAN   Odo:(60000, 80000]   \n",
       "1  Age:[2, 4)  CHRYSLER           STRATUS  SXT    SEDAN  Odo:(80000, 100000]   \n",
       "2  Age:[2, 4)  CHRYSLER           CALIBER   SE    WAGON   Odo:(40000, 60000]   \n",
       "3  Age:[4, 6)      FORD          FREESTAR    S  MINIVAN  Odo:(80000, 100000]   \n",
       "4  Age:[4, 6)  CHRYSLER  TOWN & COUNTRY V  Bas  MINIVAN   Odo:(60000, 80000]   \n",
       "\n",
       "  Nationality                    AAAP VNST                   VehBCost  \\\n",
       "0      KOREAN   AAAP:(6000.0, 8000.0]   FL  VehBCost:(5000.0, 7000.0]   \n",
       "1    AMERICAN   AAAP:(3000.0, 6000.0]   FL   VehBCost:(224.0, 5000.0]   \n",
       "2    AMERICAN  AAAP:(8000.0, 10000.0]   OK  VehBCost:(7000.0, 8000.0]   \n",
       "3    AMERICAN   AAAP:(3000.0, 6000.0]   AZ   VehBCost:(224.0, 5000.0]   \n",
       "4    AMERICAN   AAAP:(3000.0, 6000.0]   TX  VehBCost:(5000.0, 7000.0]   \n",
       "\n",
       "            WarrantyCost  \n",
       "0    WarrCost:(461, 700]  \n",
       "1  WarrCost:(1200, 1800]  \n",
       "2    WarrCost:(461, 700]  \n",
       "3  WarrCost:(1200, 1800]  \n",
       "4  WarrCost:(1200, 1800]  "
      ]
     },
     "execution_count": 137,
     "metadata": {},
     "output_type": "execute_result"
    }
   ],
   "source": [
    "dfcazzo.head()"
   ]
  },
  {
   "cell_type": "code",
   "execution_count": 138,
   "metadata": {},
   "outputs": [],
   "source": [
    "baskets2 = dfcazzo.values.tolist()"
   ]
  },
  {
   "cell_type": "code",
   "execution_count": 152,
   "metadata": {},
   "outputs": [],
   "source": [
    "#supporto 2\n",
    "itemsets2 = apriori(baskets2, supp=10, zmin=3, target='a')"
   ]
  },
  {
   "cell_type": "code",
   "execution_count": 153,
   "metadata": {},
   "outputs": [
    {
     "name": "stdout",
     "output_type": "stream",
     "text": [
      "Number of itemsets: 71\n"
     ]
    },
    {
     "data": {
      "text/plain": [
       "(('LS', 'GM', 'AMERICAN'), 6303)"
      ]
     },
     "execution_count": 153,
     "metadata": {},
     "output_type": "execute_result"
    }
   ],
   "source": [
    "print('Number of itemsets:', len(itemsets2))\n",
    "\n",
    "itemsets2[0]"
   ]
  },
  {
   "cell_type": "code",
   "execution_count": 154,
   "metadata": {},
   "outputs": [],
   "source": [
    "itemsets2.sort(key=lambda x: x[1],reverse=True)"
   ]
  },
  {
   "cell_type": "code",
   "execution_count": 155,
   "metadata": {},
   "outputs": [
    {
     "data": {
      "text/plain": [
       "[(('GM', 'SEDAN', 'AMERICAN'), 12867),\n",
       " (('Odo:(60000, 80000]', 'SEDAN', 'AMERICAN'), 12534),\n",
       " (('WarrCost:(700, 1200]', 'SEDAN', 'AMERICAN'), 11711),\n",
       " (('AAAP:(3000.0, 6000.0]', 'SEDAN', 'AMERICAN'), 11472),\n",
       " (('VehBCost:(5000.0, 7000.0]', 'SEDAN', 'AMERICAN'), 11174),\n",
       " (('AAAP:(3000.0, 6000.0]', 'Age:[4, 6)', 'AMERICAN'), 10755),\n",
       " (('Age:[4, 6)', 'SEDAN', 'AMERICAN'), 10434),\n",
       " (('VehBCost:(5000.0, 7000.0]', 'AAAP:(3000.0, 6000.0]', 'AMERICAN'), 10201),\n",
       " (('Age:[2, 4)', 'SEDAN', 'AMERICAN'), 10198),\n",
       " (('GM', 'Odo:(60000, 80000]', 'AMERICAN'), 9958),\n",
       " (('Age:[4, 6)', 'Odo:(60000, 80000]', 'AMERICAN'), 9612),\n",
       " (('WarrCost:(1200, 1800]', 'Odo:(60000, 80000]', 'AMERICAN'), 9591),\n",
       " (('CHRYSLER', 'SEDAN', 'AMERICAN'), 9194),\n",
       " (('WarrCost:(1200, 1800]', 'SEDAN', 'AMERICAN'), 9004),\n",
       " (('AAAP:(3000.0, 6000.0]', 'Odo:(60000, 80000]', 'AMERICAN'), 8973),\n",
       " (('AAAP:(3000.0, 6000.0]', 'Age:[4, 6)', 'SEDAN'), 8668),\n",
       " (('VehBCost:(5000.0, 7000.0]', 'Odo:(60000, 80000]', 'AMERICAN'), 8570),\n",
       " (('CHRYSLER', 'WarrCost:(1200, 1800]', 'AMERICAN'), 8334),\n",
       " (('VehBCost:(5000.0, 7000.0]', 'AAAP:(3000.0, 6000.0]', 'SEDAN'), 8290),\n",
       " (('WarrCost:(700, 1200]', 'Odo:(60000, 80000]', 'AMERICAN'), 8287),\n",
       " (('GM', 'Age:[4, 6)', 'AMERICAN'), 8179),\n",
       " (('Age:[2, 4)', 'Odo:(60000, 80000]', 'AMERICAN'), 8130),\n",
       " (('VehBCost:(5000.0, 7000.0]', 'Age:[4, 6)', 'AMERICAN'), 8007),\n",
       " (('CHRYSLER', 'Odo:(60000, 80000]', 'AMERICAN'), 7980),\n",
       " (('WarrCost:(1200, 1800]', 'Age:[4, 6)', 'AMERICAN'), 7843),\n",
       " (('GM', 'VehBCost:(5000.0, 7000.0]', 'AMERICAN'), 7827),\n",
       " (('AAAP:(6000.0, 8000.0]', 'SEDAN', 'AMERICAN'), 7678),\n",
       " (('WarrCost:(700, 1200]', 'VehBCost:(5000.0, 7000.0]', 'AMERICAN'), 7662),\n",
       " (('CHRYSLER', 'WarrCost:(700, 1200]', 'AMERICAN'), 7646),\n",
       " (('WarrCost:(700, 1200]', 'AAAP:(3000.0, 6000.0]', 'AMERICAN'), 7619),\n",
       " (('WarrCost:(700, 1200]', 'Age:[4, 6)', 'AMERICAN'), 7600),\n",
       " (('Odo:(80000, 100000]', 'SEDAN', 'AMERICAN'), 7596),\n",
       " (('GM', 'AAAP:(3000.0, 6000.0]', 'AMERICAN'), 7556),\n",
       " (('CHRYSLER', 'Age:[4, 6)', 'AMERICAN'), 7349),\n",
       " (('CHRYSLER', 'VehBCost:(5000.0, 7000.0]', 'AMERICAN'), 7270),\n",
       " (('CHRYSLER', 'AAAP:(3000.0, 6000.0]', 'AMERICAN'), 7258),\n",
       " (('AAAP:(6000.0, 8000.0]', 'Age:[2, 4)', 'AMERICAN'), 7232),\n",
       " (('Odo:(80000, 100000]', 'WarrCost:(1200, 1800]', 'AMERICAN'), 7147),\n",
       " (('Age:[2, 4)', 'GM', 'AMERICAN'), 7031),\n",
       " (('AAAP:(6000.0, 8000.0]', 'GM', 'AMERICAN'), 7017),\n",
       " (('AAAP:(6000.0, 8000.0]', 'Odo:(60000, 80000]', 'AMERICAN'), 6975),\n",
       " (('AAAP:(3000.0, 6000.0]', 'Age:[4, 6)', 'SEDAN', 'AMERICAN'), 6965),\n",
       " (('WarrCost:(1200, 1800]', 'AAAP:(3000.0, 6000.0]', 'AMERICAN'), 6938),\n",
       " (('VehBCost:(5000.0, 7000.0]', 'AAAP:(3000.0, 6000.0]', 'Age:[4, 6)'), 6798),\n",
       " (('AAAP:(3000.0, 6000.0]', 'Odo:(60000, 80000]', 'SEDAN'), 6735),\n",
       " (('CHRYSLER', 'Age:[2, 4)', 'AMERICAN'), 6715),\n",
       " (('VehBCost:(224.0, 5000.0]', 'SEDAN', 'AMERICAN'), 6668),\n",
       " (('Odo:(80000, 100000]', 'Age:[4, 6)', 'AMERICAN'), 6657),\n",
       " (('GM', 'Odo:(60000, 80000]', 'SEDAN', 'AMERICAN'), 6644),\n",
       " (('GM', 'Odo:(60000, 80000]', 'SEDAN'), 6644),\n",
       " (('Age:[2, 4)', 'WarrCost:(700, 1200]', 'AMERICAN'), 6539),\n",
       " (('Age:[4, 6)', 'Odo:(60000, 80000]', 'SEDAN'), 6531),\n",
       " (('VehBCost:(5000.0, 7000.0]', 'Odo:(60000, 80000]', 'SEDAN'), 6448),\n",
       " (('Odo:(80000, 100000]', 'GM', 'AMERICAN'), 6441),\n",
       " (('VehBCost:(5000.0, 7000.0]', 'AAAP:(3000.0, 6000.0]', 'SEDAN', 'AMERICAN'),\n",
       "  6437),\n",
       " (('VehBCost:(5000.0, 7000.0]', 'Age:[4, 6)', 'SEDAN'), 6341),\n",
       " (('LS', 'GM', 'AMERICAN'), 6303),\n",
       " (('WarrCost:(700, 1200]', 'AAAP:(3000.0, 6000.0]', 'SEDAN'), 6288),\n",
       " (('Bas', 'SEDAN', 'AMERICAN'), 6246),\n",
       " (('WarrCost:(700, 1200]', 'VehBCost:(5000.0, 7000.0]', 'SEDAN'), 6244),\n",
       " (('WarrCost:(1800, 2600]', 'GM', 'AMERICAN'), 6239),\n",
       " (('Age:[2, 4)', 'Odo:(60000, 80000]', 'SEDAN'), 6227),\n",
       " (('AAAP:(3000.0, 6000.0]', 'Age:[4, 6)', 'Odo:(60000, 80000]'), 6222),\n",
       " (('WarrCost:(700, 1200]', 'Odo:(60000, 80000]', 'SEDAN'), 6161),\n",
       " (('Age:[2, 4)', 'VehBCost:(5000.0, 7000.0]', 'AMERICAN'), 6160),\n",
       " (('Odo:(80000, 100000]', 'AAAP:(3000.0, 6000.0]', 'AMERICAN'), 6117),\n",
       " (('WarrCost:(1200, 1800]', 'VehBCost:(5000.0, 7000.0]', 'AMERICAN'), 6063),\n",
       " (('Odo:(40000, 60000]', 'SEDAN', 'AMERICAN'), 6052),\n",
       " (('Odo:(40000, 60000]', 'WarrCost:(700, 1200]', 'AMERICAN'), 6001),\n",
       " (('VehBCost:(5000.0, 7000.0]', 'AAAP:(3000.0, 6000.0]', 'Odo:(60000, 80000]'),\n",
       "  5936),\n",
       " (('WarrCost:(1200, 1800]', 'Age:[2, 4)', 'AMERICAN'), 5868)]"
      ]
     },
     "execution_count": 155,
     "metadata": {},
     "output_type": "execute_result"
    }
   ],
   "source": [
    "itemsets2"
   ]
  },
  {
   "cell_type": "markdown",
   "metadata": {},
   "source": [
    "## ASSOCIATION RULES"
   ]
  },
  {
   "cell_type": "code",
   "execution_count": null,
   "metadata": {},
   "outputs": [],
   "source": []
  }
 ],
 "metadata": {
  "kernelspec": {
   "display_name": "Python 3",
   "language": "python",
   "name": "python3"
  },
  "language_info": {
   "codemirror_mode": {
    "name": "ipython",
    "version": 3
   },
   "file_extension": ".py",
   "mimetype": "text/x-python",
   "name": "python",
   "nbconvert_exporter": "python",
   "pygments_lexer": "ipython3",
   "version": "3.7.3"
  }
 },
 "nbformat": 4,
 "nbformat_minor": 2
}
