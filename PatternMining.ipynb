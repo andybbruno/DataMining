{
 "cells": [
  {
   "cell_type": "code",
   "execution_count": 1,
   "metadata": {},
   "outputs": [],
   "source": [
    "%matplotlib inline\n",
    "\n",
    "import numpy as np\n",
    "import pandas as pd\n",
    "import matplotlib.pyplot as plt"
   ]
  },
  {
   "cell_type": "markdown",
   "metadata": {},
   "source": [
    "## Grazie Lowrenzo for Data Preparation"
   ]
  },
  {
   "cell_type": "markdown",
   "metadata": {},
   "source": [
    "## <3 <3 <3"
   ]
  },
  {
   "cell_type": "code",
   "execution_count": 2,
   "metadata": {},
   "outputs": [
    {
     "data": {
      "text/html": [
       "<div>\n",
       "<style scoped>\n",
       "    .dataframe tbody tr th:only-of-type {\n",
       "        vertical-align: middle;\n",
       "    }\n",
       "\n",
       "    .dataframe tbody tr th {\n",
       "        vertical-align: top;\n",
       "    }\n",
       "\n",
       "    .dataframe thead th {\n",
       "        text-align: right;\n",
       "    }\n",
       "</style>\n",
       "<table border=\"1\" class=\"dataframe\">\n",
       "  <thead>\n",
       "    <tr style=\"text-align: right;\">\n",
       "      <th></th>\n",
       "      <th>RefId</th>\n",
       "      <th>IsBadBuy</th>\n",
       "      <th>PurchDate</th>\n",
       "      <th>Auction</th>\n",
       "      <th>VehYear</th>\n",
       "      <th>VehicleAge</th>\n",
       "      <th>Make</th>\n",
       "      <th>Model</th>\n",
       "      <th>Trim</th>\n",
       "      <th>SubModel</th>\n",
       "      <th>...</th>\n",
       "      <th>PurchMonth</th>\n",
       "      <th>PurchDay</th>\n",
       "      <th>PurchWeekDay</th>\n",
       "      <th>EngineLiters</th>\n",
       "      <th>NumCylinders</th>\n",
       "      <th>4X4</th>\n",
       "      <th>WheelDrive</th>\n",
       "      <th>NumDoors</th>\n",
       "      <th>PCA1</th>\n",
       "      <th>PCA2</th>\n",
       "    </tr>\n",
       "  </thead>\n",
       "  <tbody>\n",
       "    <tr>\n",
       "      <th>0</th>\n",
       "      <td>326</td>\n",
       "      <td>1</td>\n",
       "      <td>10/25/2010</td>\n",
       "      <td>ADESA</td>\n",
       "      <td>2008.0</td>\n",
       "      <td>2.0</td>\n",
       "      <td>KIA</td>\n",
       "      <td>SPECTRA</td>\n",
       "      <td>EX</td>\n",
       "      <td>SEDAN</td>\n",
       "      <td>...</td>\n",
       "      <td>10.0</td>\n",
       "      <td>25.0</td>\n",
       "      <td>Monday</td>\n",
       "      <td>4.11398</td>\n",
       "      <td>5.0</td>\n",
       "      <td>0</td>\n",
       "      <td>0</td>\n",
       "      <td>4.0</td>\n",
       "      <td>1797.080405</td>\n",
       "      <td>-753.566708</td>\n",
       "    </tr>\n",
       "    <tr>\n",
       "      <th>1</th>\n",
       "      <td>42991</td>\n",
       "      <td>0</td>\n",
       "      <td>5/27/2009</td>\n",
       "      <td>MANHEIM</td>\n",
       "      <td>2006.0</td>\n",
       "      <td>3.0</td>\n",
       "      <td>CHRYSLER</td>\n",
       "      <td>STRATUS</td>\n",
       "      <td>SXT</td>\n",
       "      <td>SEDAN</td>\n",
       "      <td>...</td>\n",
       "      <td>5.0</td>\n",
       "      <td>27.0</td>\n",
       "      <td>Wednesday</td>\n",
       "      <td>2.70000</td>\n",
       "      <td>6.0</td>\n",
       "      <td>0</td>\n",
       "      <td>0</td>\n",
       "      <td>4.0</td>\n",
       "      <td>-4879.356480</td>\n",
       "      <td>1637.798453</td>\n",
       "    </tr>\n",
       "    <tr>\n",
       "      <th>2</th>\n",
       "      <td>55273</td>\n",
       "      <td>0</td>\n",
       "      <td>3/18/2010</td>\n",
       "      <td>OTHER</td>\n",
       "      <td>2008.0</td>\n",
       "      <td>2.0</td>\n",
       "      <td>CHRYSLER</td>\n",
       "      <td>CALIBER</td>\n",
       "      <td>SE</td>\n",
       "      <td>WAGON</td>\n",
       "      <td>...</td>\n",
       "      <td>3.0</td>\n",
       "      <td>18.0</td>\n",
       "      <td>Thursday</td>\n",
       "      <td>2.31289</td>\n",
       "      <td>6.0</td>\n",
       "      <td>0</td>\n",
       "      <td>0</td>\n",
       "      <td>4.0</td>\n",
       "      <td>4349.541129</td>\n",
       "      <td>-467.358818</td>\n",
       "    </tr>\n",
       "    <tr>\n",
       "      <th>3</th>\n",
       "      <td>29058</td>\n",
       "      <td>0</td>\n",
       "      <td>6/8/2009</td>\n",
       "      <td>OTHER</td>\n",
       "      <td>2005.0</td>\n",
       "      <td>4.0</td>\n",
       "      <td>FORD</td>\n",
       "      <td>FREESTAR</td>\n",
       "      <td>S</td>\n",
       "      <td>MINIVAN</td>\n",
       "      <td>...</td>\n",
       "      <td>6.0</td>\n",
       "      <td>8.0</td>\n",
       "      <td>Monday</td>\n",
       "      <td>3.90000</td>\n",
       "      <td>6.0</td>\n",
       "      <td>NO</td>\n",
       "      <td>Front</td>\n",
       "      <td>5.0</td>\n",
       "      <td>-5514.286888</td>\n",
       "      <td>1633.449461</td>\n",
       "    </tr>\n",
       "    <tr>\n",
       "      <th>4</th>\n",
       "      <td>34991</td>\n",
       "      <td>0</td>\n",
       "      <td>3/4/2009</td>\n",
       "      <td>MANHEIM</td>\n",
       "      <td>2005.0</td>\n",
       "      <td>4.0</td>\n",
       "      <td>CHRYSLER</td>\n",
       "      <td>TOWN &amp; COUNTRY V</td>\n",
       "      <td>Bas</td>\n",
       "      <td>MINIVAN</td>\n",
       "      <td>...</td>\n",
       "      <td>3.0</td>\n",
       "      <td>4.0</td>\n",
       "      <td>Wednesday</td>\n",
       "      <td>3.30000</td>\n",
       "      <td>4.0</td>\n",
       "      <td>NO</td>\n",
       "      <td>Front</td>\n",
       "      <td>5.0</td>\n",
       "      <td>-4594.389176</td>\n",
       "      <td>1693.004506</td>\n",
       "    </tr>\n",
       "  </tbody>\n",
       "</table>\n",
       "<p>5 rows × 38 columns</p>\n",
       "</div>"
      ],
      "text/plain": [
       "   RefId  IsBadBuy   PurchDate  Auction  VehYear  VehicleAge      Make  \\\n",
       "0    326         1  10/25/2010    ADESA   2008.0         2.0       KIA   \n",
       "1  42991         0   5/27/2009  MANHEIM   2006.0         3.0  CHRYSLER   \n",
       "2  55273         0   3/18/2010    OTHER   2008.0         2.0  CHRYSLER   \n",
       "3  29058         0    6/8/2009    OTHER   2005.0         4.0      FORD   \n",
       "4  34991         0    3/4/2009  MANHEIM   2005.0         4.0  CHRYSLER   \n",
       "\n",
       "              Model Trim SubModel  ... PurchMonth PurchDay PurchWeekDay  \\\n",
       "0           SPECTRA   EX    SEDAN  ...       10.0     25.0       Monday   \n",
       "1           STRATUS  SXT    SEDAN  ...        5.0     27.0    Wednesday   \n",
       "2           CALIBER   SE    WAGON  ...        3.0     18.0     Thursday   \n",
       "3          FREESTAR    S  MINIVAN  ...        6.0      8.0       Monday   \n",
       "4  TOWN & COUNTRY V  Bas  MINIVAN  ...        3.0      4.0    Wednesday   \n",
       "\n",
       "   EngineLiters NumCylinders  4X4  WheelDrive  NumDoors         PCA1  \\\n",
       "0       4.11398          5.0    0           0       4.0  1797.080405   \n",
       "1       2.70000          6.0    0           0       4.0 -4879.356480   \n",
       "2       2.31289          6.0    0           0       4.0  4349.541129   \n",
       "3       3.90000          6.0   NO       Front       5.0 -5514.286888   \n",
       "4       3.30000          4.0   NO       Front       5.0 -4594.389176   \n",
       "\n",
       "          PCA2  \n",
       "0  -753.566708  \n",
       "1  1637.798453  \n",
       "2  -467.358818  \n",
       "3  1633.449461  \n",
       "4  1693.004506  \n",
       "\n",
       "[5 rows x 38 columns]"
      ]
     },
     "execution_count": 2,
     "metadata": {},
     "output_type": "execute_result"
    }
   ],
   "source": [
    "df = pd.read_csv(\"kids_train_cleaned.csv\")\n",
    "df.drop(df.columns[0], axis=1, inplace=True)\n",
    "df.head()"
   ]
  },
  {
   "cell_type": "code",
   "execution_count": 3,
   "metadata": {},
   "outputs": [
    {
     "name": "stdout",
     "output_type": "stream",
     "text": [
      "RefId\n",
      "IsBadBuy\n",
      "PurchDate\n",
      "Auction\n",
      "VehYear\n",
      "VehicleAge\n",
      "Make\n",
      "Model\n",
      "Trim\n",
      "SubModel\n",
      "Color\n",
      "Transmission\n",
      "WheelType\n",
      "VehOdo\n",
      "Nationality\n",
      "AAAP\n",
      "AACP\n",
      "ARAP\n",
      "ARCP\n",
      "CAAP\n",
      "CACP\n",
      "CRAP\n",
      "CRCP\n",
      "BYRNO\n",
      "VNST\n",
      "VehBCost\n",
      "WarrantyCost\n",
      "PurchYear\n",
      "PurchMonth\n",
      "PurchDay\n",
      "PurchWeekDay\n",
      "EngineLiters\n",
      "NumCylinders\n",
      "4X4\n",
      "WheelDrive\n",
      "NumDoors\n",
      "PCA1\n",
      "PCA2\n"
     ]
    }
   ],
   "source": [
    "for e in df.columns:\n",
    "    print(e)"
   ]
  },
  {
   "cell_type": "code",
   "execution_count": 4,
   "metadata": {},
   "outputs": [],
   "source": [
    "categories = ['Model', 'Make', 'Trim', 'BYRNO', 'WheelType', 'Color', 'VNST']\n",
    "\n",
    "not_cat = ['VehOdo', 'VehBCost', 'WarrantyCost', 'AAAP', 'VehicleAge']\n",
    "\n",
    "to_drop = ['AACP', 'ARAP', 'ARCP', 'CAAP', 'CACP', 'CRAP', 'CRCP', 'NumCylinders', '4X4', 'WheelDrive',\n",
    "           'NumDoors', 'PCA1', 'PCA2', 'RefId', 'PurchDate', 'PurchYear', 'PurchMonth',\n",
    "            'PurchDay', 'VehYear', 'EngineLiters', 'Auction', 'PurchWeekDay','IsBadBuy',\n",
    "'Transmission', 'Nationality','SubModel']"
   ]
  },
  {
   "cell_type": "code",
   "execution_count": 5,
   "metadata": {},
   "outputs": [],
   "source": [
    "df.drop(columns= to_drop, axis=1, inplace=True) "
   ]
  },
  {
   "cell_type": "code",
   "execution_count": 6,
   "metadata": {},
   "outputs": [
    {
     "data": {
      "text/html": [
       "<div>\n",
       "<style scoped>\n",
       "    .dataframe tbody tr th:only-of-type {\n",
       "        vertical-align: middle;\n",
       "    }\n",
       "\n",
       "    .dataframe tbody tr th {\n",
       "        vertical-align: top;\n",
       "    }\n",
       "\n",
       "    .dataframe thead th {\n",
       "        text-align: right;\n",
       "    }\n",
       "</style>\n",
       "<table border=\"1\" class=\"dataframe\">\n",
       "  <thead>\n",
       "    <tr style=\"text-align: right;\">\n",
       "      <th></th>\n",
       "      <th>VehicleAge</th>\n",
       "      <th>Make</th>\n",
       "      <th>Model</th>\n",
       "      <th>Trim</th>\n",
       "      <th>Color</th>\n",
       "      <th>WheelType</th>\n",
       "      <th>VehOdo</th>\n",
       "      <th>AAAP</th>\n",
       "      <th>BYRNO</th>\n",
       "      <th>VNST</th>\n",
       "      <th>VehBCost</th>\n",
       "      <th>WarrantyCost</th>\n",
       "    </tr>\n",
       "  </thead>\n",
       "  <tbody>\n",
       "    <tr>\n",
       "      <th>0</th>\n",
       "      <td>2.0</td>\n",
       "      <td>KIA</td>\n",
       "      <td>SPECTRA</td>\n",
       "      <td>EX</td>\n",
       "      <td>BLUE</td>\n",
       "      <td>Covers</td>\n",
       "      <td>61184</td>\n",
       "      <td>6796.0</td>\n",
       "      <td>5546</td>\n",
       "      <td>FL</td>\n",
       "      <td>6100.0</td>\n",
       "      <td>533</td>\n",
       "    </tr>\n",
       "    <tr>\n",
       "      <th>1</th>\n",
       "      <td>3.0</td>\n",
       "      <td>CHRYSLER</td>\n",
       "      <td>STRATUS</td>\n",
       "      <td>SXT</td>\n",
       "      <td>SILVER</td>\n",
       "      <td>Covers</td>\n",
       "      <td>92383</td>\n",
       "      <td>5480.0</td>\n",
       "      <td>99750</td>\n",
       "      <td>FL</td>\n",
       "      <td>4000.0</td>\n",
       "      <td>1630</td>\n",
       "    </tr>\n",
       "    <tr>\n",
       "      <th>2</th>\n",
       "      <td>2.0</td>\n",
       "      <td>CHRYSLER</td>\n",
       "      <td>CALIBER</td>\n",
       "      <td>SE</td>\n",
       "      <td>BLACK</td>\n",
       "      <td>Covers</td>\n",
       "      <td>45965</td>\n",
       "      <td>8067.0</td>\n",
       "      <td>99761</td>\n",
       "      <td>OK</td>\n",
       "      <td>7500.0</td>\n",
       "      <td>693</td>\n",
       "    </tr>\n",
       "    <tr>\n",
       "      <th>3</th>\n",
       "      <td>4.0</td>\n",
       "      <td>FORD</td>\n",
       "      <td>FREESTAR</td>\n",
       "      <td>S</td>\n",
       "      <td>BROWN</td>\n",
       "      <td>Covers</td>\n",
       "      <td>80169</td>\n",
       "      <td>4817.0</td>\n",
       "      <td>99761</td>\n",
       "      <td>AZ</td>\n",
       "      <td>4725.0</td>\n",
       "      <td>1633</td>\n",
       "    </tr>\n",
       "    <tr>\n",
       "      <th>4</th>\n",
       "      <td>4.0</td>\n",
       "      <td>CHRYSLER</td>\n",
       "      <td>TOWN &amp; COUNTRY V</td>\n",
       "      <td>Bas</td>\n",
       "      <td>BLUE</td>\n",
       "      <td>Alloy</td>\n",
       "      <td>77372</td>\n",
       "      <td>5430.0</td>\n",
       "      <td>20833</td>\n",
       "      <td>TX</td>\n",
       "      <td>5670.0</td>\n",
       "      <td>1623</td>\n",
       "    </tr>\n",
       "  </tbody>\n",
       "</table>\n",
       "</div>"
      ],
      "text/plain": [
       "   VehicleAge      Make             Model Trim   Color WheelType  VehOdo  \\\n",
       "0         2.0       KIA           SPECTRA   EX    BLUE    Covers   61184   \n",
       "1         3.0  CHRYSLER           STRATUS  SXT  SILVER    Covers   92383   \n",
       "2         2.0  CHRYSLER           CALIBER   SE   BLACK    Covers   45965   \n",
       "3         4.0      FORD          FREESTAR    S   BROWN    Covers   80169   \n",
       "4         4.0  CHRYSLER  TOWN & COUNTRY V  Bas    BLUE     Alloy   77372   \n",
       "\n",
       "     AAAP  BYRNO VNST  VehBCost  WarrantyCost  \n",
       "0  6796.0   5546   FL    6100.0           533  \n",
       "1  5480.0  99750   FL    4000.0          1630  \n",
       "2  8067.0  99761   OK    7500.0           693  \n",
       "3  4817.0  99761   AZ    4725.0          1633  \n",
       "4  5430.0  20833   TX    5670.0          1623  "
      ]
     },
     "execution_count": 6,
     "metadata": {},
     "output_type": "execute_result"
    }
   ],
   "source": [
    "df.head()"
   ]
  },
  {
   "cell_type": "code",
   "execution_count": 7,
   "metadata": {},
   "outputs": [],
   "source": [
    "df['WheelType'].fillna('Unknown', inplace=True)"
   ]
  },
  {
   "cell_type": "code",
   "execution_count": 8,
   "metadata": {},
   "outputs": [],
   "source": [
    "for col in categories:\n",
    "    df[col] = df[col].astype('category')\n",
    "    \n",
    "df['VehicleAge'] = df['VehicleAge'].astype('int')"
   ]
  },
  {
   "cell_type": "code",
   "execution_count": 9,
   "metadata": {},
   "outputs": [
    {
     "data": {
      "text/plain": [
       "Series([], dtype: int64)"
      ]
     },
     "execution_count": 9,
     "metadata": {},
     "output_type": "execute_result"
    }
   ],
   "source": [
    "sum_ = df.isnull().sum()\n",
    "sum_[sum_ != 0]"
   ]
  },
  {
   "cell_type": "markdown",
   "metadata": {},
   "source": [
    "## Binning"
   ]
  },
  {
   "cell_type": "code",
   "execution_count": 10,
   "metadata": {},
   "outputs": [
    {
     "data": {
      "text/plain": [
       "<matplotlib.axes._subplots.AxesSubplot at 0x7fa66c379f60>"
      ]
     },
     "execution_count": 10,
     "metadata": {},
     "output_type": "execute_result"
    },
    {
     "data": {
      "image/png": "[encoded data removed]",
      "text/plain": [
       "<Figure size 432x288 with 1 Axes>"
      ]
     },
     "metadata": {
      "needs_background": "light"
     },
     "output_type": "display_data"
    }
   ],
   "source": [
    "x = plt.xlim((-2500, 20200))\n",
    "df[\"VehBCost\"].plot.kde(x = 'x', color = 'black') "
   ]
  },
  {
   "cell_type": "code",
   "execution_count": 11,
   "metadata": {},
   "outputs": [],
   "source": [
    "bins = [df.VehBCost.min() - 1,5000, 7000, 8000, 10000, df.VehBCost.max()]\n",
    "\n",
    "df['VehBCost'] = pd.cut(df['VehBCost'], bins)"
   ]
  },
  {
   "cell_type": "code",
   "execution_count": 12,
   "metadata": {},
   "outputs": [
    {
     "data": {
      "text/plain": [
       "<matplotlib.axes._subplots.AxesSubplot at 0x7fa63d735668>"
      ]
     },
     "execution_count": 12,
     "metadata": {},
     "output_type": "execute_result"
    },
    {
     "data": {
      "image/png": "[encoded data removed]",
      "text/plain": [
       "<Figure size 432x288 with 1 Axes>"
      ]
     },
     "metadata": {
      "needs_background": "light"
     },
     "output_type": "display_data"
    }
   ],
   "source": [
    "x = plt.xlim((-2500, 20200))\n",
    "df[\"AAAP\"].plot.kde(x = 'x', color = 'black') "
   ]
  },
  {
   "cell_type": "code",
   "execution_count": 13,
   "metadata": {},
   "outputs": [],
   "source": [
    "bins = [df.AAAP.min() - 1, 3000, 6000, 8000, 10000, df.AAAP.max()]\n",
    "\n",
    "df['AAAP'] = pd.cut(df['AAAP'], bins)"
   ]
  },
  {
   "cell_type": "code",
   "execution_count": 14,
   "metadata": {},
   "outputs": [
    {
     "data": {
      "text/plain": [
       "<matplotlib.axes._subplots.AxesSubplot at 0x7fa63d6b7e10>"
      ]
     },
     "execution_count": 14,
     "metadata": {},
     "output_type": "execute_result"
    },
    {
     "data": {
      "image/png": "[encoded data removed]",
      "text/plain": [
       "<Figure size 432x288 with 1 Axes>"
      ]
     },
     "metadata": {
      "needs_background": "light"
     },
     "output_type": "display_data"
    }
   ],
   "source": [
    "x = plt.xlim((-2500, 5000))\n",
    "df[\"WarrantyCost\"].plot.kde(x = 'x', color = 'black') "
   ]
  },
  {
   "cell_type": "code",
   "execution_count": 15,
   "metadata": {},
   "outputs": [],
   "source": [
    "bins = [df.WarrantyCost.min() - 1,700, 1200, 1800, 2600, df.WarrantyCost.max()]\n",
    "\n",
    "df['WarrantyCost'] = pd.cut(df['WarrantyCost'], bins)"
   ]
  },
  {
   "cell_type": "code",
   "execution_count": 16,
   "metadata": {},
   "outputs": [
    {
     "data": {
      "text/plain": [
       "<matplotlib.axes._subplots.AxesSubplot at 0x7fa63d67b080>"
      ]
     },
     "execution_count": 16,
     "metadata": {},
     "output_type": "execute_result"
    },
    {
     "data": {
      "image/png": "[encoded data removed]",
      "text/plain": [
       "<Figure size 432x288 with 1 Axes>"
      ]
     },
     "metadata": {
      "needs_background": "light"
     },
     "output_type": "display_data"
    }
   ],
   "source": [
    "x = plt.xlim((-2500, 150000))\n",
    "df[\"VehOdo\"].plot.kde(x = 'x', color = 'black') "
   ]
  },
  {
   "cell_type": "code",
   "execution_count": 17,
   "metadata": {},
   "outputs": [],
   "source": [
    "bins = [df.VehOdo.min() - 1,40000, 60000, 80000, 100000, df.VehOdo.max()]\n",
    "\n",
    "df['VehOdo'] = pd.cut(df['VehOdo'], bins)"
   ]
  },
  {
   "cell_type": "code",
   "execution_count": 18,
   "metadata": {},
   "outputs": [],
   "source": [
    "df['VehicleAge'] = pd.cut(df['VehicleAge'], [0, 2, 4, 6, 8, 10], right=False)"
   ]
  },
  {
   "cell_type": "markdown",
   "metadata": {},
   "source": [
    "Remapping Values"
   ]
  },
  {
   "cell_type": "code",
   "execution_count": 19,
   "metadata": {},
   "outputs": [
    {
     "data": {
      "text/html": [
       "<div>\n",
       "<style scoped>\n",
       "    .dataframe tbody tr th:only-of-type {\n",
       "        vertical-align: middle;\n",
       "    }\n",
       "\n",
       "    .dataframe tbody tr th {\n",
       "        vertical-align: top;\n",
       "    }\n",
       "\n",
       "    .dataframe thead th {\n",
       "        text-align: right;\n",
       "    }\n",
       "</style>\n",
       "<table border=\"1\" class=\"dataframe\">\n",
       "  <thead>\n",
       "    <tr style=\"text-align: right;\">\n",
       "      <th></th>\n",
       "      <th>VehicleAge</th>\n",
       "      <th>Make</th>\n",
       "      <th>Model</th>\n",
       "      <th>Trim</th>\n",
       "      <th>Color</th>\n",
       "      <th>WheelType</th>\n",
       "      <th>VehOdo</th>\n",
       "      <th>AAAP</th>\n",
       "      <th>BYRNO</th>\n",
       "      <th>VNST</th>\n",
       "      <th>VehBCost</th>\n",
       "      <th>WarrantyCost</th>\n",
       "    </tr>\n",
       "  </thead>\n",
       "  <tbody>\n",
       "    <tr>\n",
       "      <th>0</th>\n",
       "      <td>[2, 4)</td>\n",
       "      <td>KIA</td>\n",
       "      <td>SPECTRA</td>\n",
       "      <td>EX</td>\n",
       "      <td>BLUE</td>\n",
       "      <td>Covers</td>\n",
       "      <td>(60000, 80000]</td>\n",
       "      <td>(6000.0, 8000.0]</td>\n",
       "      <td>5546</td>\n",
       "      <td>FL</td>\n",
       "      <td>(5000.0, 7000.0]</td>\n",
       "      <td>(461, 700]</td>\n",
       "    </tr>\n",
       "    <tr>\n",
       "      <th>1</th>\n",
       "      <td>[2, 4)</td>\n",
       "      <td>CHRYSLER</td>\n",
       "      <td>STRATUS</td>\n",
       "      <td>SXT</td>\n",
       "      <td>SILVER</td>\n",
       "      <td>Covers</td>\n",
       "      <td>(80000, 100000]</td>\n",
       "      <td>(3000.0, 6000.0]</td>\n",
       "      <td>99750</td>\n",
       "      <td>FL</td>\n",
       "      <td>(224.0, 5000.0]</td>\n",
       "      <td>(1200, 1800]</td>\n",
       "    </tr>\n",
       "    <tr>\n",
       "      <th>2</th>\n",
       "      <td>[2, 4)</td>\n",
       "      <td>CHRYSLER</td>\n",
       "      <td>CALIBER</td>\n",
       "      <td>SE</td>\n",
       "      <td>BLACK</td>\n",
       "      <td>Covers</td>\n",
       "      <td>(40000, 60000]</td>\n",
       "      <td>(8000.0, 10000.0]</td>\n",
       "      <td>99761</td>\n",
       "      <td>OK</td>\n",
       "      <td>(7000.0, 8000.0]</td>\n",
       "      <td>(461, 700]</td>\n",
       "    </tr>\n",
       "    <tr>\n",
       "      <th>3</th>\n",
       "      <td>[4, 6)</td>\n",
       "      <td>FORD</td>\n",
       "      <td>FREESTAR</td>\n",
       "      <td>S</td>\n",
       "      <td>BROWN</td>\n",
       "      <td>Covers</td>\n",
       "      <td>(80000, 100000]</td>\n",
       "      <td>(3000.0, 6000.0]</td>\n",
       "      <td>99761</td>\n",
       "      <td>AZ</td>\n",
       "      <td>(224.0, 5000.0]</td>\n",
       "      <td>(1200, 1800]</td>\n",
       "    </tr>\n",
       "    <tr>\n",
       "      <th>4</th>\n",
       "      <td>[4, 6)</td>\n",
       "      <td>CHRYSLER</td>\n",
       "      <td>TOWN &amp; COUNTRY V</td>\n",
       "      <td>Bas</td>\n",
       "      <td>BLUE</td>\n",
       "      <td>Alloy</td>\n",
       "      <td>(60000, 80000]</td>\n",
       "      <td>(3000.0, 6000.0]</td>\n",
       "      <td>20833</td>\n",
       "      <td>TX</td>\n",
       "      <td>(5000.0, 7000.0]</td>\n",
       "      <td>(1200, 1800]</td>\n",
       "    </tr>\n",
       "  </tbody>\n",
       "</table>\n",
       "</div>"
      ],
      "text/plain": [
       "  VehicleAge      Make             Model Trim   Color WheelType  \\\n",
       "0     [2, 4)       KIA           SPECTRA   EX    BLUE    Covers   \n",
       "1     [2, 4)  CHRYSLER           STRATUS  SXT  SILVER    Covers   \n",
       "2     [2, 4)  CHRYSLER           CALIBER   SE   BLACK    Covers   \n",
       "3     [4, 6)      FORD          FREESTAR    S   BROWN    Covers   \n",
       "4     [4, 6)  CHRYSLER  TOWN & COUNTRY V  Bas    BLUE     Alloy   \n",
       "\n",
       "            VehOdo               AAAP  BYRNO VNST          VehBCost  \\\n",
       "0   (60000, 80000]   (6000.0, 8000.0]   5546   FL  (5000.0, 7000.0]   \n",
       "1  (80000, 100000]   (3000.0, 6000.0]  99750   FL   (224.0, 5000.0]   \n",
       "2   (40000, 60000]  (8000.0, 10000.0]  99761   OK  (7000.0, 8000.0]   \n",
       "3  (80000, 100000]   (3000.0, 6000.0]  99761   AZ   (224.0, 5000.0]   \n",
       "4   (60000, 80000]   (3000.0, 6000.0]  20833   TX  (5000.0, 7000.0]   \n",
       "\n",
       "   WarrantyCost  \n",
       "0    (461, 700]  \n",
       "1  (1200, 1800]  \n",
       "2    (461, 700]  \n",
       "3  (1200, 1800]  \n",
       "4  (1200, 1800]  "
      ]
     },
     "execution_count": 19,
     "metadata": {},
     "output_type": "execute_result"
    }
   ],
   "source": [
    "df.head()"
   ]
  },
  {
   "cell_type": "code",
   "execution_count": 20,
   "metadata": {},
   "outputs": [],
   "source": [
    "df['VehicleAge'] = 'Age:' + df['VehicleAge'].astype(str)\n",
    "df['VehOdo'] = 'Odo:' + df['VehOdo'].astype(str)\n",
    "df['AAAP'] = 'AAAP:' + df['AAAP'].astype(str)\n",
    "df['WarrantyCost'] = 'WarrCost:' + df['WarrantyCost'].astype(str)\n",
    "df['VehBCost'] = 'VehBCost:' + df['VehBCost'].astype(str)\n",
    "\n",
    "#df['BuyStatus'] = df['IsBadBuy'].map(\n",
    "    #{0: 'GoodBuy', 1: 'BadBuy'}).astype(str)\n",
    "#df.drop(columns=['IsBadBuy'], inplace=True)\n"
   ]
  },
  {
   "cell_type": "code",
   "execution_count": 21,
   "metadata": {},
   "outputs": [
    {
     "data": {
      "text/html": [
       "<div>\n",
       "<style scoped>\n",
       "    .dataframe tbody tr th:only-of-type {\n",
       "        vertical-align: middle;\n",
       "    }\n",
       "\n",
       "    .dataframe tbody tr th {\n",
       "        vertical-align: top;\n",
       "    }\n",
       "\n",
       "    .dataframe thead th {\n",
       "        text-align: right;\n",
       "    }\n",
       "</style>\n",
       "<table border=\"1\" class=\"dataframe\">\n",
       "  <thead>\n",
       "    <tr style=\"text-align: right;\">\n",
       "      <th></th>\n",
       "      <th>VehicleAge</th>\n",
       "      <th>Make</th>\n",
       "      <th>Model</th>\n",
       "      <th>Trim</th>\n",
       "      <th>Color</th>\n",
       "      <th>WheelType</th>\n",
       "      <th>VehOdo</th>\n",
       "      <th>AAAP</th>\n",
       "      <th>BYRNO</th>\n",
       "      <th>VNST</th>\n",
       "      <th>VehBCost</th>\n",
       "      <th>WarrantyCost</th>\n",
       "    </tr>\n",
       "  </thead>\n",
       "  <tbody>\n",
       "    <tr>\n",
       "      <th>0</th>\n",
       "      <td>Age:[2, 4)</td>\n",
       "      <td>KIA</td>\n",
       "      <td>SPECTRA</td>\n",
       "      <td>EX</td>\n",
       "      <td>BLUE</td>\n",
       "      <td>Covers</td>\n",
       "      <td>Odo:(60000, 80000]</td>\n",
       "      <td>AAAP:(6000.0, 8000.0]</td>\n",
       "      <td>5546</td>\n",
       "      <td>FL</td>\n",
       "      <td>VehBCost:(5000.0, 7000.0]</td>\n",
       "      <td>WarrCost:(461, 700]</td>\n",
       "    </tr>\n",
       "    <tr>\n",
       "      <th>1</th>\n",
       "      <td>Age:[2, 4)</td>\n",
       "      <td>CHRYSLER</td>\n",
       "      <td>STRATUS</td>\n",
       "      <td>SXT</td>\n",
       "      <td>SILVER</td>\n",
       "      <td>Covers</td>\n",
       "      <td>Odo:(80000, 100000]</td>\n",
       "      <td>AAAP:(3000.0, 6000.0]</td>\n",
       "      <td>99750</td>\n",
       "      <td>FL</td>\n",
       "      <td>VehBCost:(224.0, 5000.0]</td>\n",
       "      <td>WarrCost:(1200, 1800]</td>\n",
       "    </tr>\n",
       "    <tr>\n",
       "      <th>2</th>\n",
       "      <td>Age:[2, 4)</td>\n",
       "      <td>CHRYSLER</td>\n",
       "      <td>CALIBER</td>\n",
       "      <td>SE</td>\n",
       "      <td>BLACK</td>\n",
       "      <td>Covers</td>\n",
       "      <td>Odo:(40000, 60000]</td>\n",
       "      <td>AAAP:(8000.0, 10000.0]</td>\n",
       "      <td>99761</td>\n",
       "      <td>OK</td>\n",
       "      <td>VehBCost:(7000.0, 8000.0]</td>\n",
       "      <td>WarrCost:(461, 700]</td>\n",
       "    </tr>\n",
       "    <tr>\n",
       "      <th>3</th>\n",
       "      <td>Age:[4, 6)</td>\n",
       "      <td>FORD</td>\n",
       "      <td>FREESTAR</td>\n",
       "      <td>S</td>\n",
       "      <td>BROWN</td>\n",
       "      <td>Covers</td>\n",
       "      <td>Odo:(80000, 100000]</td>\n",
       "      <td>AAAP:(3000.0, 6000.0]</td>\n",
       "      <td>99761</td>\n",
       "      <td>AZ</td>\n",
       "      <td>VehBCost:(224.0, 5000.0]</td>\n",
       "      <td>WarrCost:(1200, 1800]</td>\n",
       "    </tr>\n",
       "    <tr>\n",
       "      <th>4</th>\n",
       "      <td>Age:[4, 6)</td>\n",
       "      <td>CHRYSLER</td>\n",
       "      <td>TOWN &amp; COUNTRY V</td>\n",
       "      <td>Bas</td>\n",
       "      <td>BLUE</td>\n",
       "      <td>Alloy</td>\n",
       "      <td>Odo:(60000, 80000]</td>\n",
       "      <td>AAAP:(3000.0, 6000.0]</td>\n",
       "      <td>20833</td>\n",
       "      <td>TX</td>\n",
       "      <td>VehBCost:(5000.0, 7000.0]</td>\n",
       "      <td>WarrCost:(1200, 1800]</td>\n",
       "    </tr>\n",
       "  </tbody>\n",
       "</table>\n",
       "</div>"
      ],
      "text/plain": [
       "   VehicleAge      Make             Model Trim   Color WheelType  \\\n",
       "0  Age:[2, 4)       KIA           SPECTRA   EX    BLUE    Covers   \n",
       "1  Age:[2, 4)  CHRYSLER           STRATUS  SXT  SILVER    Covers   \n",
       "2  Age:[2, 4)  CHRYSLER           CALIBER   SE   BLACK    Covers   \n",
       "3  Age:[4, 6)      FORD          FREESTAR    S   BROWN    Covers   \n",
       "4  Age:[4, 6)  CHRYSLER  TOWN & COUNTRY V  Bas    BLUE     Alloy   \n",
       "\n",
       "                VehOdo                    AAAP  BYRNO VNST  \\\n",
       "0   Odo:(60000, 80000]   AAAP:(6000.0, 8000.0]   5546   FL   \n",
       "1  Odo:(80000, 100000]   AAAP:(3000.0, 6000.0]  99750   FL   \n",
       "2   Odo:(40000, 60000]  AAAP:(8000.0, 10000.0]  99761   OK   \n",
       "3  Odo:(80000, 100000]   AAAP:(3000.0, 6000.0]  99761   AZ   \n",
       "4   Odo:(60000, 80000]   AAAP:(3000.0, 6000.0]  20833   TX   \n",
       "\n",
       "                    VehBCost           WarrantyCost  \n",
       "0  VehBCost:(5000.0, 7000.0]    WarrCost:(461, 700]  \n",
       "1   VehBCost:(224.0, 5000.0]  WarrCost:(1200, 1800]  \n",
       "2  VehBCost:(7000.0, 8000.0]    WarrCost:(461, 700]  \n",
       "3   VehBCost:(224.0, 5000.0]  WarrCost:(1200, 1800]  \n",
       "4  VehBCost:(5000.0, 7000.0]  WarrCost:(1200, 1800]  "
      ]
     },
     "execution_count": 21,
     "metadata": {},
     "output_type": "execute_result"
    }
   ],
   "source": [
    "df.head()"
   ]
  },
  {
   "cell_type": "code",
   "execution_count": 22,
   "metadata": {},
   "outputs": [
    {
     "data": {
      "text/plain": [
       "Series([], dtype: int64)"
      ]
     },
     "execution_count": 22,
     "metadata": {},
     "output_type": "execute_result"
    }
   ],
   "source": [
    "sum_ = df.isnull().sum()\n",
    "sum_[sum_ != 0]"
   ]
  },
  {
   "cell_type": "markdown",
   "metadata": {},
   "source": [
    "## Guidelines for the task on Association Rules Mining"
   ]
  },
  {
   "cell_type": "markdown",
   "metadata": {},
   "source": [
    "-Frequent patterns extraction with different values of support and different types (i.e. frequent, close, maximal), (6 points)\n",
    "\n",
    "-Discussion of the most interesting frequent patterns and analyze how changes the number of patterns w.r.t. the min_sup parameter (7 points)\n",
    "    \n",
    "-Association rules extraction with different values of confidence (6 points)\n",
    "    \n",
    "-Discussion of the most interesting rules and analyze how changes the number of rules w.r.t. the min_conf parameter, histogram of rules' confidence and lift (7 points)\n",
    "    \n",
    "-Use the most meaningful rules to replace missing values and evaluate the accuracy (2 points)\n",
    "\n",
    "-Use the most meaningful rules to predict the target variable and evaluate the accuracy (2 points)"
   ]
  },
  {
   "cell_type": "markdown",
   "metadata": {},
   "source": [
    "## APRIORI"
   ]
  },
  {
   "cell_type": "code",
   "execution_count": 23,
   "metadata": {},
   "outputs": [],
   "source": [
    "from fim import apriori"
   ]
  },
  {
   "cell_type": "code",
   "execution_count": 24,
   "metadata": {},
   "outputs": [],
   "source": [
    "#in questo modo creiamo i baskets, cioé selezioniamo gli attributi per ogni riga corrispondente\n",
    "baskets = df.values.tolist()"
   ]
  },
  {
   "cell_type": "markdown",
   "metadata": {},
   "source": [
    "## Itemset Frequenti\n"
   ]
  },
  {
   "cell_type": "code",
   "execution_count": 25,
   "metadata": {},
   "outputs": [],
   "source": [
    "#supporto 2\n",
    "itemsets = apriori(baskets, supp=10, zmin=3, target='a')"
   ]
  },
  {
   "cell_type": "code",
   "execution_count": 26,
   "metadata": {},
   "outputs": [
    {
     "name": "stdout",
     "output_type": "stream",
     "text": [
      "Number of itemsets: 6\n"
     ]
    },
    {
     "data": {
      "text/plain": [
       "(('VehBCost:(5000.0, 7000.0]', 'AAAP:(3000.0, 6000.0]', 'Age:[4, 6)'), 6798)"
      ]
     },
     "execution_count": 26,
     "metadata": {},
     "output_type": "execute_result"
    }
   ],
   "source": [
    "print('Number of itemsets:', len(itemsets))\n",
    "\n",
    "itemsets[0]"
   ]
  },
  {
   "cell_type": "code",
   "execution_count": 27,
   "metadata": {},
   "outputs": [],
   "source": [
    "itemsets.sort(key=lambda x: x[1],reverse=True)"
   ]
  },
  {
   "cell_type": "code",
   "execution_count": 28,
   "metadata": {
    "scrolled": true
   },
   "outputs": [
    {
     "data": {
      "text/plain": [
       "[(('VehBCost:(5000.0, 7000.0]', 'AAAP:(3000.0, 6000.0]', 'Age:[4, 6)'), 6798),\n",
       " (('VehBCost:(5000.0, 7000.0]', 'AAAP:(3000.0, 6000.0]', 'Covers'), 6548),\n",
       " (('AAAP:(3000.0, 6000.0]', 'Age:[4, 6)', 'Covers'), 6458),\n",
       " (('Age:[4, 6)', 'Odo:(60000, 80000]', 'Alloy'), 6317),\n",
       " (('AAAP:(3000.0, 6000.0]', 'Age:[4, 6)', 'Odo:(60000, 80000]'), 6222),\n",
       " (('VehBCost:(5000.0, 7000.0]', 'AAAP:(3000.0, 6000.0]', 'Odo:(60000, 80000]'),\n",
       "  5936)]"
      ]
     },
     "execution_count": 28,
     "metadata": {},
     "output_type": "execute_result"
    }
   ],
   "source": [
    "itemsets"
   ]
  },
  {
   "cell_type": "markdown",
   "metadata": {},
   "source": [
    "## how changes the number of patterns with target \"all\""
   ]
  },
  {
   "cell_type": "code",
   "execution_count": 29,
   "metadata": {},
   "outputs": [
    {
     "data": {
      "image/png": "[encoded data removed]",
      "text/plain": [
       "<Figure size 432x288 with 1 Axes>"
      ]
     },
     "metadata": {
      "needs_background": "light"
     },
     "output_type": "display_data"
    }
   ],
   "source": [
    "#rappresento graficamente come cambia il numero di pattern al cambiare del supporto\n",
    "\n",
    "height = [80, 7, 0]\n",
    "bars = ('supp10', 'supp20', 'supp30')\n",
    "y_pos = np.arange(len(bars))\n",
    " \n",
    "# Create bars\n",
    "plt.bar(y_pos, height)\n",
    " \n",
    "# Create names on the x-axis\n",
    "plt.xticks(y_pos, bars)\n",
    " \n",
    "# Show graphic\n",
    "plt.show()\n",
    "\n"
   ]
  },
  {
   "cell_type": "markdown",
   "metadata": {},
   "source": [
    "## Itemset Massimali"
   ]
  },
  {
   "cell_type": "code",
   "execution_count": 30,
   "metadata": {},
   "outputs": [],
   "source": [
    "itemsets = apriori(baskets, supp=20, zmin=2, target='m')"
   ]
  },
  {
   "cell_type": "code",
   "execution_count": 31,
   "metadata": {},
   "outputs": [
    {
     "name": "stdout",
     "output_type": "stream",
     "text": [
      "Number of itemsets: 7\n"
     ]
    },
    {
     "data": {
      "text/plain": [
       "(('VehBCost:(5000.0, 7000.0]', 'Covers'), 11856)"
      ]
     },
     "execution_count": 31,
     "metadata": {},
     "output_type": "execute_result"
    }
   ],
   "source": [
    "print('Number of itemsets:', len(itemsets))\n",
    "\n",
    "itemsets[1]"
   ]
  },
  {
   "cell_type": "code",
   "execution_count": 32,
   "metadata": {},
   "outputs": [],
   "source": [
    "itemsets.sort(key=lambda x: x[1],reverse=True)"
   ]
  },
  {
   "cell_type": "code",
   "execution_count": 33,
   "metadata": {},
   "outputs": [
    {
     "data": {
      "text/plain": [
       "[(('Odo:(60000, 80000]', 'Alloy'), 13976),\n",
       " (('AAAP:(3000.0, 6000.0]', 'Age:[4, 6)'), 12846),\n",
       " (('Age:[4, 6)', 'Alloy'), 12596),\n",
       " (('VehBCost:(5000.0, 7000.0]', 'AAAP:(3000.0, 6000.0]'), 12540),\n",
       " (('Covers', 'Odo:(60000, 80000]'), 11862),\n",
       " (('VehBCost:(5000.0, 7000.0]', 'Covers'), 11856),\n",
       " (('Age:[4, 6)', 'Odo:(60000, 80000]'), 11748)]"
      ]
     },
     "execution_count": 33,
     "metadata": {},
     "output_type": "execute_result"
    }
   ],
   "source": [
    "itemsets[:10]"
   ]
  },
  {
   "cell_type": "code",
   "execution_count": 34,
   "metadata": {},
   "outputs": [
    {
     "data": {
      "image/png": "[encoded data removed]",
      "text/plain": [
       "<Figure size 432x288 with 1 Axes>"
      ]
     },
     "metadata": {
      "needs_background": "light"
     },
     "output_type": "display_data"
    }
   ],
   "source": [
    "height = [69, 7, 0]\n",
    "bars = ('supp10', 'supp20', 'supp30')\n",
    "y_pos = np.arange(len(bars))\n",
    " \n",
    "# Create bars\n",
    "plt.bar(y_pos, height)\n",
    " \n",
    "# Create names on the x-axis\n",
    "plt.xticks(y_pos, bars)\n",
    " \n",
    "# Show graphic\n",
    "plt.show()"
   ]
  },
  {
   "cell_type": "markdown",
   "metadata": {},
   "source": [
    "##  Itemset Closed"
   ]
  },
  {
   "cell_type": "code",
   "execution_count": 35,
   "metadata": {},
   "outputs": [],
   "source": [
    "itemsets = apriori(baskets, supp=20, zmin=3, target='c')"
   ]
  },
  {
   "cell_type": "code",
   "execution_count": 36,
   "metadata": {},
   "outputs": [
    {
     "name": "stdout",
     "output_type": "stream",
     "text": [
      "Number of itemsets: 0\n"
     ]
    }
   ],
   "source": [
    "print('Number of itemsets:', len(itemsets))"
   ]
  },
  {
   "cell_type": "code",
   "execution_count": 37,
   "metadata": {},
   "outputs": [],
   "source": [
    "itemsets.sort(key=lambda x: x[1],reverse=True)"
   ]
  },
  {
   "cell_type": "code",
   "execution_count": 38,
   "metadata": {},
   "outputs": [
    {
     "data": {
      "text/plain": [
       "[]"
      ]
     },
     "execution_count": 38,
     "metadata": {},
     "output_type": "execute_result"
    }
   ],
   "source": [
    "itemsets"
   ]
  },
  {
   "cell_type": "code",
   "execution_count": 39,
   "metadata": {},
   "outputs": [
    {
     "data": {
      "image/png": "[encoded data removed]",
      "text/plain": [
       "<Figure size 432x288 with 1 Axes>"
      ]
     },
     "metadata": {
      "needs_background": "light"
     },
     "output_type": "display_data"
    }
   ],
   "source": [
    "height = [80, 7, 0]\n",
    "bars = ('supp10', 'supp20', 'supp30')\n",
    "y_pos = np.arange(len(bars))\n",
    " \n",
    "# Create bars\n",
    "plt.bar(y_pos, height)\n",
    " \n",
    "# Create names on the x-axis\n",
    "plt.xticks(y_pos, bars)\n",
    " \n",
    "# Show graphic\n",
    "plt.show()"
   ]
  },
  {
   "cell_type": "markdown",
   "metadata": {},
   "source": [
    "## ASSOCIATION RULES "
   ]
  },
  {
   "cell_type": "code",
   "execution_count": 68,
   "metadata": {},
   "outputs": [],
   "source": [
    "rules = apriori(baskets, supp=10, zmin=2, target='r', conf=67, \n",
    "                report='ascl')"
   ]
  },
  {
   "cell_type": "code",
   "execution_count": 69,
   "metadata": {},
   "outputs": [
    {
     "name": "stdout",
     "output_type": "stream",
     "text": [
      "Number of rule: 5\n"
     ]
    },
    {
     "data": {
      "text/plain": [
       "('GM',\n",
       " ('LS',),\n",
       " 6303,\n",
       " 0.1079576596327761,\n",
       " 0.7689398560448945,\n",
       " 2.273563484013224)"
      ]
     },
     "execution_count": 69,
     "metadata": {},
     "output_type": "execute_result"
    }
   ],
   "source": [
    "print('Number of rule:', len(rules))\n",
    "rules[0]"
   ]
  },
  {
   "cell_type": "code",
   "execution_count": 70,
   "metadata": {},
   "outputs": [],
   "source": [
    "rules.sort(key=lambda x: x[4],reverse=True)"
   ]
  },
  {
   "cell_type": "markdown",
   "metadata": {},
   "source": [
    "CODICE DA RIVEDERE\n",
    "\n",
    "count = 1\n",
    "Cyan = True\n",
    "for r in rules:\n",
    "    if(r[4]>0.8 and r[4]):\n",
    "        if(Cyan):\n",
    "            Cyan = False\n",
    "            print (\" \\rowcolor{cyan!20} \",count, \" & \",r[1],\" & \", r[0], \" & \", r[4], \" & \", r[5],\"\\%\\\\\")\n",
    "        else:\n",
    "            Cyan = True\n",
    "            print (count, \" & \",r[1],\" & \", r[0], \" & \", r[4], \" & \", r[5],\"\\%\\\\\")\n",
    "        count += 1"
   ]
  },
  {
   "cell_type": "code",
   "execution_count": 71,
   "metadata": {},
   "outputs": [
    {
     "name": "stdout",
     "output_type": "stream",
     "text": [
      "('GM', ('LS',), 6303, 0.1079576596327761, 0.7689398560448945, 2.273563484013224)\n",
      "('GM', ('WarrCost:(1800, 2600]',), 6239, 0.10686146889558783, 0.7363389590463826, 2.17717075787319)\n",
      "('Alloy', ('FORD',), 7075, 0.12118046040010962, 0.7205418067012934, 1.4640025349729708)\n",
      "('AAAP:(3000.0, 6000.0]', ('VehBCost:(5000.0, 7000.0]', 'Age:[4, 6)'), 6798, 0.11643600986571663, 0.710864791383457, 1.7729561271362193)\n",
      "('CHRYSLER', ('Odo:(40000, 60000]', 'WarrCost:(700, 1200]'), 4411, 0.07555152096464784, 0.6896497811131957, 2.1491600117700997)\n"
     ]
    }
   ],
   "source": [
    "count = 0\n",
    "for r in rules:\n",
    "    if r[5] > 0.67 and r[5]:\n",
    "        print(r)\n",
    "        count += 1\n",
    "        if count == 10:\n",
    "            break\n",
    "            \n",
    "# i primi formano l'association rule, quindi vuol dire che quando ho AUTO ho spesso anche (AMERICAN, goodbuy)\n",
    "# il terzo elemento è il support dell'itemset\n",
    "# il quarto elemento è il support relativo espresso come frazione\n",
    "# il quinto è la confidence della rule\n",
    "# il sesto è il lift value."
   ]
  },
  {
   "cell_type": "markdown",
   "metadata": {},
   "source": [
    "## CAMBIO LA CONFIDENZA\n"
   ]
  },
  {
   "cell_type": "code",
   "execution_count": 64,
   "metadata": {},
   "outputs": [],
   "source": [
    "rules = apriori(baskets, supp=10, zmin=3, target='r', conf=65, \n",
    "                report='ascl')"
   ]
  },
  {
   "cell_type": "code",
   "execution_count": 65,
   "metadata": {},
   "outputs": [
    {
     "name": "stdout",
     "output_type": "stream",
     "text": [
      "Number of rule: 3\n"
     ]
    }
   ],
   "source": [
    "print('Number of rule:', len(rules))"
   ]
  },
  {
   "cell_type": "code",
   "execution_count": 66,
   "metadata": {},
   "outputs": [],
   "source": [
    "rules.sort(key=lambda x: x[4],reverse=True)"
   ]
  },
  {
   "cell_type": "code",
   "execution_count": 67,
   "metadata": {},
   "outputs": [
    {
     "name": "stdout",
     "output_type": "stream",
     "text": [
      "('AAAP:(3000.0, 6000.0]', ('VehBCost:(5000.0, 7000.0]', 'Age:[4, 6)'), 6798, 0.11643600986571663, 0.710864791383457, 1.7729561271362193)\n",
      "('CHRYSLER', ('Odo:(40000, 60000]', 'WarrCost:(700, 1200]'), 4411, 0.07555152096464784, 0.6896497811131957, 2.1491600117700997)\n",
      "('Covers', ('Age:[2, 4)', 'VehBCost:(5000.0, 7000.0]'), 4882, 0.08361879967114277, 0.6523249599144842, 1.4379966192051066)\n"
     ]
    }
   ],
   "source": [
    "count = 0\n",
    "for r in rules:\n",
    "    if r[5] > 0.65 and r[5]:\n",
    "        print(r)\n",
    "        count += 1\n",
    "        if count == 10:\n",
    "            break"
   ]
  },
  {
   "cell_type": "code",
   "execution_count": 52,
   "metadata": {},
   "outputs": [
    {
     "data": {
      "image/png": "[encoded data removed]",
      "text/plain": [
       "<Figure size 432x288 with 1 Axes>"
      ]
     },
     "metadata": {
      "needs_background": "light"
     },
     "output_type": "display_data"
    }
   ],
   "source": [
    "#Numero di regole prodotte all'aumentare del livello di confidenza\n",
    "\n",
    "height = [154, 82, 59, 22, 11, 3, 3, 3, 1]\n",
    "bars = ('10', '20', '30', '40', '50', '60', '70', '80', '90')\n",
    "y_pos = np.arange(len(bars))\n",
    " \n",
    "# Create bars\n",
    "plt.bar(y_pos, height)\n",
    " \n",
    "# Create names on the x-axis\n",
    "plt.xticks(y_pos, bars)\n",
    " \n",
    "# Show graphic\n",
    "plt.show()"
   ]
  },
  {
   "cell_type": "markdown",
   "metadata": {},
   "source": [
    "DA RIVEDERE\n",
    "\n",
    "#ScatterPlot con confidenza 40%\n",
    "\n",
    "plt.scatter(support, lift, alpha=0.5)\n",
    "plt.xlabel('support')\n",
    "plt.ylabel('lift')\n",
    "plt.show()\n"
   ]
  },
  {
   "cell_type": "code",
   "execution_count": 53,
   "metadata": {},
   "outputs": [
    {
     "data": {
      "text/html": [
       "<div>\n",
       "<style scoped>\n",
       "    .dataframe tbody tr th:only-of-type {\n",
       "        vertical-align: middle;\n",
       "    }\n",
       "\n",
       "    .dataframe tbody tr th {\n",
       "        vertical-align: top;\n",
       "    }\n",
       "\n",
       "    .dataframe thead th {\n",
       "        text-align: right;\n",
       "    }\n",
       "</style>\n",
       "<table border=\"1\" class=\"dataframe\">\n",
       "  <thead>\n",
       "    <tr style=\"text-align: right;\">\n",
       "      <th></th>\n",
       "      <th>VehicleAge</th>\n",
       "      <th>Make</th>\n",
       "      <th>Model</th>\n",
       "      <th>Trim</th>\n",
       "      <th>Color</th>\n",
       "      <th>WheelType</th>\n",
       "      <th>VehOdo</th>\n",
       "      <th>AAAP</th>\n",
       "      <th>BYRNO</th>\n",
       "      <th>VNST</th>\n",
       "      <th>VehBCost</th>\n",
       "      <th>WarrantyCost</th>\n",
       "    </tr>\n",
       "  </thead>\n",
       "  <tbody>\n",
       "    <tr>\n",
       "      <th>0</th>\n",
       "      <td>Age:[2, 4)</td>\n",
       "      <td>KIA</td>\n",
       "      <td>SPECTRA</td>\n",
       "      <td>EX</td>\n",
       "      <td>BLUE</td>\n",
       "      <td>Covers</td>\n",
       "      <td>Odo:(60000, 80000]</td>\n",
       "      <td>AAAP:(6000.0, 8000.0]</td>\n",
       "      <td>5546</td>\n",
       "      <td>FL</td>\n",
       "      <td>VehBCost:(5000.0, 7000.0]</td>\n",
       "      <td>WarrCost:(461, 700]</td>\n",
       "    </tr>\n",
       "    <tr>\n",
       "      <th>1</th>\n",
       "      <td>Age:[2, 4)</td>\n",
       "      <td>CHRYSLER</td>\n",
       "      <td>STRATUS</td>\n",
       "      <td>SXT</td>\n",
       "      <td>SILVER</td>\n",
       "      <td>Covers</td>\n",
       "      <td>Odo:(80000, 100000]</td>\n",
       "      <td>AAAP:(3000.0, 6000.0]</td>\n",
       "      <td>99750</td>\n",
       "      <td>FL</td>\n",
       "      <td>VehBCost:(224.0, 5000.0]</td>\n",
       "      <td>WarrCost:(1200, 1800]</td>\n",
       "    </tr>\n",
       "    <tr>\n",
       "      <th>2</th>\n",
       "      <td>Age:[2, 4)</td>\n",
       "      <td>CHRYSLER</td>\n",
       "      <td>CALIBER</td>\n",
       "      <td>SE</td>\n",
       "      <td>BLACK</td>\n",
       "      <td>Covers</td>\n",
       "      <td>Odo:(40000, 60000]</td>\n",
       "      <td>AAAP:(8000.0, 10000.0]</td>\n",
       "      <td>99761</td>\n",
       "      <td>OK</td>\n",
       "      <td>VehBCost:(7000.0, 8000.0]</td>\n",
       "      <td>WarrCost:(461, 700]</td>\n",
       "    </tr>\n",
       "    <tr>\n",
       "      <th>3</th>\n",
       "      <td>Age:[4, 6)</td>\n",
       "      <td>FORD</td>\n",
       "      <td>FREESTAR</td>\n",
       "      <td>S</td>\n",
       "      <td>BROWN</td>\n",
       "      <td>Covers</td>\n",
       "      <td>Odo:(80000, 100000]</td>\n",
       "      <td>AAAP:(3000.0, 6000.0]</td>\n",
       "      <td>99761</td>\n",
       "      <td>AZ</td>\n",
       "      <td>VehBCost:(224.0, 5000.0]</td>\n",
       "      <td>WarrCost:(1200, 1800]</td>\n",
       "    </tr>\n",
       "    <tr>\n",
       "      <th>4</th>\n",
       "      <td>Age:[4, 6)</td>\n",
       "      <td>CHRYSLER</td>\n",
       "      <td>TOWN &amp; COUNTRY V</td>\n",
       "      <td>Bas</td>\n",
       "      <td>BLUE</td>\n",
       "      <td>Alloy</td>\n",
       "      <td>Odo:(60000, 80000]</td>\n",
       "      <td>AAAP:(3000.0, 6000.0]</td>\n",
       "      <td>20833</td>\n",
       "      <td>TX</td>\n",
       "      <td>VehBCost:(5000.0, 7000.0]</td>\n",
       "      <td>WarrCost:(1200, 1800]</td>\n",
       "    </tr>\n",
       "  </tbody>\n",
       "</table>\n",
       "</div>"
      ],
      "text/plain": [
       "   VehicleAge      Make             Model Trim   Color WheelType  \\\n",
       "0  Age:[2, 4)       KIA           SPECTRA   EX    BLUE    Covers   \n",
       "1  Age:[2, 4)  CHRYSLER           STRATUS  SXT  SILVER    Covers   \n",
       "2  Age:[2, 4)  CHRYSLER           CALIBER   SE   BLACK    Covers   \n",
       "3  Age:[4, 6)      FORD          FREESTAR    S   BROWN    Covers   \n",
       "4  Age:[4, 6)  CHRYSLER  TOWN & COUNTRY V  Bas    BLUE     Alloy   \n",
       "\n",
       "                VehOdo                    AAAP  BYRNO VNST  \\\n",
       "0   Odo:(60000, 80000]   AAAP:(6000.0, 8000.0]   5546   FL   \n",
       "1  Odo:(80000, 100000]   AAAP:(3000.0, 6000.0]  99750   FL   \n",
       "2   Odo:(40000, 60000]  AAAP:(8000.0, 10000.0]  99761   OK   \n",
       "3  Odo:(80000, 100000]   AAAP:(3000.0, 6000.0]  99761   AZ   \n",
       "4   Odo:(60000, 80000]   AAAP:(3000.0, 6000.0]  20833   TX   \n",
       "\n",
       "                    VehBCost           WarrantyCost  \n",
       "0  VehBCost:(5000.0, 7000.0]    WarrCost:(461, 700]  \n",
       "1   VehBCost:(224.0, 5000.0]  WarrCost:(1200, 1800]  \n",
       "2  VehBCost:(7000.0, 8000.0]    WarrCost:(461, 700]  \n",
       "3   VehBCost:(224.0, 5000.0]  WarrCost:(1200, 1800]  \n",
       "4  VehBCost:(5000.0, 7000.0]  WarrCost:(1200, 1800]  "
      ]
     },
     "execution_count": 53,
     "metadata": {},
     "output_type": "execute_result"
    }
   ],
   "source": [
    "test = df\n",
    "test.head()"
   ]
  },
  {
   "cell_type": "code",
   "execution_count": null,
   "metadata": {},
   "outputs": [],
   "source": [
    "\n",
    "            "
   ]
  },
  {
   "cell_type": "markdown",
   "metadata": {},
   "source": [
    "## dfcazzo bocciato ma per ora lo tengo"
   ]
  },
  {
   "cell_type": "code",
   "execution_count": 56,
   "metadata": {},
   "outputs": [],
   "source": [
    "#dfcazzo = df[df['BuyStatus'] == 'BadBuy']\n",
    "#dfcazzo.head()"
   ]
  },
  {
   "cell_type": "code",
   "execution_count": 57,
   "metadata": {},
   "outputs": [],
   "source": [
    "#baskets2 = dfcazzo.values.tolist()"
   ]
  },
  {
   "cell_type": "code",
   "execution_count": 58,
   "metadata": {},
   "outputs": [],
   "source": [
    "#itemsets2 = apriori(baskets2, supp=20, zmin=3, target='a')\n",
    "#print('Number of itemsets:', len(itemsets2))\n"
   ]
  },
  {
   "cell_type": "code",
   "execution_count": 59,
   "metadata": {},
   "outputs": [],
   "source": [
    "#itemsets2.sort(key=lambda x: x[1],reverse=True)\n",
    "#itemsets2"
   ]
  },
  {
   "cell_type": "markdown",
   "metadata": {},
   "source": [
    "('GoodBuy', ('Odo:(60000, 80000]', 'Alloy')\n",
    "\n",
    "('GoodBuy', ('VehBCost:(5000.0, 7000.0]', 'AAAP:(3000.0, 6000.0]')"
   ]
  }
 ],
 "metadata": {
  "kernelspec": {
   "display_name": "Python 3",
   "language": "python",
   "name": "python3"
  },
  "language_info": {
   "codemirror_mode": {
    "name": "ipython",
    "version": 3
   },
   "file_extension": ".py",
   "mimetype": "text/x-python",
   "name": "python",
   "nbconvert_exporter": "python",
   "pygments_lexer": "ipython3",
   "version": "3.7.3"
  }
 },
 "nbformat": 4,
 "nbformat_minor": 2
}
