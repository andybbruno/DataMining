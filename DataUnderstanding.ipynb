{
 "cells": [
  {
   "cell_type": "markdown",
   "metadata": {},
   "source": [
    "Data Mining 2019/20"
   ]
  },
  {
   "cell_type": "code",
   "execution_count": 1,
   "metadata": {},
   "outputs": [],
   "source": [
    "%matplotlib inline\n",
    "import math\n",
    "import numpy as np\n",
    "import pandas as pd\n",
    "import scipy.stats as stats\n",
    "import matplotlib.pyplot as plt\n",
    "import seaborn as sns\n",
    "\n",
    "from collections import defaultdict\n",
    "from scipy.stats.stats import pearsonr"
   ]
  },
  {
   "cell_type": "code",
   "execution_count": 2,
   "metadata": {},
   "outputs": [],
   "source": [
    "df = pd.read_csv('training.csv')"
   ]
  },
  {
   "cell_type": "code",
   "execution_count": 3,
   "metadata": {},
   "outputs": [
    {
     "data": {
      "text/html": [
       "<div>\n",
       "<style scoped>\n",
       "    .dataframe tbody tr th:only-of-type {\n",
       "        vertical-align: middle;\n",
       "    }\n",
       "\n",
       "    .dataframe tbody tr th {\n",
       "        vertical-align: top;\n",
       "    }\n",
       "\n",
       "    .dataframe thead th {\n",
       "        text-align: right;\n",
       "    }\n",
       "</style>\n",
       "<table border=\"1\" class=\"dataframe\">\n",
       "  <thead>\n",
       "    <tr style=\"text-align: right;\">\n",
       "      <th></th>\n",
       "      <th>RefId</th>\n",
       "      <th>IsBadBuy</th>\n",
       "      <th>PurchDate</th>\n",
       "      <th>Auction</th>\n",
       "      <th>VehYear</th>\n",
       "      <th>VehicleAge</th>\n",
       "      <th>Make</th>\n",
       "      <th>Model</th>\n",
       "      <th>Trim</th>\n",
       "      <th>SubModel</th>\n",
       "      <th>...</th>\n",
       "      <th>MMRCurrentRetailAveragePrice</th>\n",
       "      <th>MMRCurrentRetailCleanPrice</th>\n",
       "      <th>PRIMEUNIT</th>\n",
       "      <th>AUCGUART</th>\n",
       "      <th>BYRNO</th>\n",
       "      <th>VNZIP1</th>\n",
       "      <th>VNST</th>\n",
       "      <th>VehBCost</th>\n",
       "      <th>IsOnlineSale</th>\n",
       "      <th>WarrantyCost</th>\n",
       "    </tr>\n",
       "  </thead>\n",
       "  <tbody>\n",
       "    <tr>\n",
       "      <th>0</th>\n",
       "      <td>326</td>\n",
       "      <td>1</td>\n",
       "      <td>10/25/2010</td>\n",
       "      <td>ADESA</td>\n",
       "      <td>2008</td>\n",
       "      <td>2</td>\n",
       "      <td>KIA</td>\n",
       "      <td>SPECTRA</td>\n",
       "      <td>EX</td>\n",
       "      <td>4D SEDAN EX</td>\n",
       "      <td>...</td>\n",
       "      <td>9605.0</td>\n",
       "      <td>10650.0</td>\n",
       "      <td>NaN</td>\n",
       "      <td>NaN</td>\n",
       "      <td>5546</td>\n",
       "      <td>33619</td>\n",
       "      <td>FL</td>\n",
       "      <td>6100.0</td>\n",
       "      <td>0</td>\n",
       "      <td>533</td>\n",
       "    </tr>\n",
       "    <tr>\n",
       "      <th>1</th>\n",
       "      <td>42991</td>\n",
       "      <td>0</td>\n",
       "      <td>5/27/2009</td>\n",
       "      <td>MANHEIM</td>\n",
       "      <td>2006</td>\n",
       "      <td>3</td>\n",
       "      <td>DODGE</td>\n",
       "      <td>STRATUS V6 2.7L V6 M</td>\n",
       "      <td>SXT</td>\n",
       "      <td>4D SEDAN SXT FFV</td>\n",
       "      <td>...</td>\n",
       "      <td>6418.0</td>\n",
       "      <td>7478.0</td>\n",
       "      <td>NaN</td>\n",
       "      <td>NaN</td>\n",
       "      <td>99750</td>\n",
       "      <td>32124</td>\n",
       "      <td>FL</td>\n",
       "      <td>4000.0</td>\n",
       "      <td>0</td>\n",
       "      <td>1630</td>\n",
       "    </tr>\n",
       "    <tr>\n",
       "      <th>2</th>\n",
       "      <td>55273</td>\n",
       "      <td>0</td>\n",
       "      <td>3/18/2010</td>\n",
       "      <td>OTHER</td>\n",
       "      <td>2008</td>\n",
       "      <td>2</td>\n",
       "      <td>DODGE</td>\n",
       "      <td>CALIBER</td>\n",
       "      <td>SE</td>\n",
       "      <td>4D WAGON</td>\n",
       "      <td>...</td>\n",
       "      <td>10721.0</td>\n",
       "      <td>11350.0</td>\n",
       "      <td>NaN</td>\n",
       "      <td>NaN</td>\n",
       "      <td>99761</td>\n",
       "      <td>74135</td>\n",
       "      <td>OK</td>\n",
       "      <td>7500.0</td>\n",
       "      <td>0</td>\n",
       "      <td>693</td>\n",
       "    </tr>\n",
       "    <tr>\n",
       "      <th>3</th>\n",
       "      <td>29058</td>\n",
       "      <td>0</td>\n",
       "      <td>6/8/2009</td>\n",
       "      <td>OTHER</td>\n",
       "      <td>2005</td>\n",
       "      <td>4</td>\n",
       "      <td>FORD</td>\n",
       "      <td>FREESTAR FWD V6 3.9L</td>\n",
       "      <td>S</td>\n",
       "      <td>PASSENGER 3.9L</td>\n",
       "      <td>...</td>\n",
       "      <td>5702.0</td>\n",
       "      <td>7691.0</td>\n",
       "      <td>NaN</td>\n",
       "      <td>NaN</td>\n",
       "      <td>99761</td>\n",
       "      <td>85018</td>\n",
       "      <td>AZ</td>\n",
       "      <td>4725.0</td>\n",
       "      <td>0</td>\n",
       "      <td>1633</td>\n",
       "    </tr>\n",
       "    <tr>\n",
       "      <th>4</th>\n",
       "      <td>34991</td>\n",
       "      <td>0</td>\n",
       "      <td>3/4/2009</td>\n",
       "      <td>MANHEIM</td>\n",
       "      <td>2005</td>\n",
       "      <td>4</td>\n",
       "      <td>CHRYSLER</td>\n",
       "      <td>TOWN &amp; COUNTRY FWD V</td>\n",
       "      <td>Bas</td>\n",
       "      <td>MINIVAN 3.3L</td>\n",
       "      <td>...</td>\n",
       "      <td>6300.0</td>\n",
       "      <td>7856.0</td>\n",
       "      <td>NaN</td>\n",
       "      <td>NaN</td>\n",
       "      <td>20833</td>\n",
       "      <td>75236</td>\n",
       "      <td>TX</td>\n",
       "      <td>5670.0</td>\n",
       "      <td>0</td>\n",
       "      <td>1623</td>\n",
       "    </tr>\n",
       "  </tbody>\n",
       "</table>\n",
       "<p>5 rows × 34 columns</p>\n",
       "</div>"
      ],
      "text/plain": [
       "   RefId  IsBadBuy   PurchDate  Auction  VehYear  VehicleAge      Make  \\\n",
       "0    326         1  10/25/2010    ADESA     2008           2       KIA   \n",
       "1  42991         0   5/27/2009  MANHEIM     2006           3     DODGE   \n",
       "2  55273         0   3/18/2010    OTHER     2008           2     DODGE   \n",
       "3  29058         0    6/8/2009    OTHER     2005           4      FORD   \n",
       "4  34991         0    3/4/2009  MANHEIM     2005           4  CHRYSLER   \n",
       "\n",
       "                  Model Trim          SubModel  ...  \\\n",
       "0               SPECTRA   EX       4D SEDAN EX  ...   \n",
       "1  STRATUS V6 2.7L V6 M  SXT  4D SEDAN SXT FFV  ...   \n",
       "2               CALIBER   SE          4D WAGON  ...   \n",
       "3  FREESTAR FWD V6 3.9L    S    PASSENGER 3.9L  ...   \n",
       "4  TOWN & COUNTRY FWD V  Bas      MINIVAN 3.3L  ...   \n",
       "\n",
       "  MMRCurrentRetailAveragePrice MMRCurrentRetailCleanPrice  PRIMEUNIT AUCGUART  \\\n",
       "0                       9605.0                    10650.0        NaN      NaN   \n",
       "1                       6418.0                     7478.0        NaN      NaN   \n",
       "2                      10721.0                    11350.0        NaN      NaN   \n",
       "3                       5702.0                     7691.0        NaN      NaN   \n",
       "4                       6300.0                     7856.0        NaN      NaN   \n",
       "\n",
       "   BYRNO VNZIP1 VNST VehBCost  IsOnlineSale  WarrantyCost  \n",
       "0   5546  33619   FL   6100.0             0           533  \n",
       "1  99750  32124   FL   4000.0             0          1630  \n",
       "2  99761  74135   OK   7500.0             0           693  \n",
       "3  99761  85018   AZ   4725.0             0          1633  \n",
       "4  20833  75236   TX   5670.0             0          1623  \n",
       "\n",
       "[5 rows x 34 columns]"
      ]
     },
     "execution_count": 3,
     "metadata": {},
     "output_type": "execute_result"
    }
   ],
   "source": [
    "df.head()"
   ]
  },
  {
   "cell_type": "markdown",
   "metadata": {},
   "source": [
    "I tipi mi sembrano tutti giusti, considerando che degli attributi che sono int64 o float64, gli unici di cui ha senso calcolare la media sono tutti gli MMR, VehBCost, WarrantyCost, e volendo anche vehOdo, vehYear e vehAge. Gli altri son tutti o contatori (refId e BYRNO) o categorie (tutti gli altri)"
   ]
  },
  {
   "cell_type": "code",
   "execution_count": 4,
   "metadata": {},
   "outputs": [
    {
     "data": {
      "text/html": [
       "<div>\n",
       "<style scoped>\n",
       "    .dataframe tbody tr th:only-of-type {\n",
       "        vertical-align: middle;\n",
       "    }\n",
       "\n",
       "    .dataframe tbody tr th {\n",
       "        vertical-align: top;\n",
       "    }\n",
       "\n",
       "    .dataframe thead th {\n",
       "        text-align: right;\n",
       "    }\n",
       "</style>\n",
       "<table border=\"1\" class=\"dataframe\">\n",
       "  <thead>\n",
       "    <tr style=\"text-align: right;\">\n",
       "      <th></th>\n",
       "      <th>RefId</th>\n",
       "      <th>IsBadBuy</th>\n",
       "      <th>VehYear</th>\n",
       "      <th>VehicleAge</th>\n",
       "      <th>WheelTypeID</th>\n",
       "      <th>VehOdo</th>\n",
       "      <th>MMRAcquisitionAuctionAveragePrice</th>\n",
       "      <th>MMRAcquisitionAuctionCleanPrice</th>\n",
       "      <th>MMRAcquisitionRetailAveragePrice</th>\n",
       "      <th>MMRAcquisitonRetailCleanPrice</th>\n",
       "      <th>MMRCurrentAuctionAveragePrice</th>\n",
       "      <th>MMRCurrentAuctionCleanPrice</th>\n",
       "      <th>MMRCurrentRetailAveragePrice</th>\n",
       "      <th>MMRCurrentRetailCleanPrice</th>\n",
       "      <th>BYRNO</th>\n",
       "      <th>VNZIP1</th>\n",
       "      <th>VehBCost</th>\n",
       "      <th>IsOnlineSale</th>\n",
       "      <th>WarrantyCost</th>\n",
       "    </tr>\n",
       "  </thead>\n",
       "  <tbody>\n",
       "    <tr>\n",
       "      <th>count</th>\n",
       "      <td>58386.000000</td>\n",
       "      <td>58386.000000</td>\n",
       "      <td>58386.000000</td>\n",
       "      <td>58386.000000</td>\n",
       "      <td>55813.000000</td>\n",
       "      <td>58386.000000</td>\n",
       "      <td>58373.000000</td>\n",
       "      <td>58373.000000</td>\n",
       "      <td>58373.000000</td>\n",
       "      <td>58373.000000</td>\n",
       "      <td>58141.000000</td>\n",
       "      <td>58141.000000</td>\n",
       "      <td>58141.000000</td>\n",
       "      <td>58141.000000</td>\n",
       "      <td>58386.000000</td>\n",
       "      <td>58386.000000</td>\n",
       "      <td>58386.000000</td>\n",
       "      <td>58386.000000</td>\n",
       "      <td>58386.000000</td>\n",
       "    </tr>\n",
       "    <tr>\n",
       "      <th>mean</th>\n",
       "      <td>36567.888449</td>\n",
       "      <td>0.123454</td>\n",
       "      <td>2005.344637</td>\n",
       "      <td>4.174956</td>\n",
       "      <td>1.495566</td>\n",
       "      <td>71478.090518</td>\n",
       "      <td>6128.127953</td>\n",
       "      <td>7372.912699</td>\n",
       "      <td>8497.288558</td>\n",
       "      <td>9851.768061</td>\n",
       "      <td>6131.666655</td>\n",
       "      <td>7389.958652</td>\n",
       "      <td>8776.065118</td>\n",
       "      <td>10145.227034</td>\n",
       "      <td>26359.191519</td>\n",
       "      <td>58125.258195</td>\n",
       "      <td>6730.008335</td>\n",
       "      <td>0.025674</td>\n",
       "      <td>1276.105042</td>\n",
       "    </tr>\n",
       "    <tr>\n",
       "      <th>std</th>\n",
       "      <td>21092.254801</td>\n",
       "      <td>0.328961</td>\n",
       "      <td>1.733307</td>\n",
       "      <td>1.713833</td>\n",
       "      <td>0.520802</td>\n",
       "      <td>14591.224550</td>\n",
       "      <td>2456.632611</td>\n",
       "      <td>2715.506462</td>\n",
       "      <td>3151.106237</td>\n",
       "      <td>3378.839613</td>\n",
       "      <td>2432.171539</td>\n",
       "      <td>2682.310828</td>\n",
       "      <td>3086.373733</td>\n",
       "      <td>3304.637060</td>\n",
       "      <td>25804.795573</td>\n",
       "      <td>26146.806098</td>\n",
       "      <td>1762.075265</td>\n",
       "      <td>0.158162</td>\n",
       "      <td>598.885423</td>\n",
       "    </tr>\n",
       "    <tr>\n",
       "      <th>min</th>\n",
       "      <td>1.000000</td>\n",
       "      <td>0.000000</td>\n",
       "      <td>2001.000000</td>\n",
       "      <td>0.000000</td>\n",
       "      <td>0.000000</td>\n",
       "      <td>4825.000000</td>\n",
       "      <td>0.000000</td>\n",
       "      <td>0.000000</td>\n",
       "      <td>0.000000</td>\n",
       "      <td>0.000000</td>\n",
       "      <td>0.000000</td>\n",
       "      <td>0.000000</td>\n",
       "      <td>0.000000</td>\n",
       "      <td>0.000000</td>\n",
       "      <td>835.000000</td>\n",
       "      <td>2764.000000</td>\n",
       "      <td>1.000000</td>\n",
       "      <td>0.000000</td>\n",
       "      <td>462.000000</td>\n",
       "    </tr>\n",
       "    <tr>\n",
       "      <th>25%</th>\n",
       "      <td>18270.250000</td>\n",
       "      <td>0.000000</td>\n",
       "      <td>2004.000000</td>\n",
       "      <td>3.000000</td>\n",
       "      <td>1.000000</td>\n",
       "      <td>61785.000000</td>\n",
       "      <td>4273.000000</td>\n",
       "      <td>5409.000000</td>\n",
       "      <td>6279.000000</td>\n",
       "      <td>7501.000000</td>\n",
       "      <td>4275.000000</td>\n",
       "      <td>5415.000000</td>\n",
       "      <td>6538.000000</td>\n",
       "      <td>7788.000000</td>\n",
       "      <td>17212.000000</td>\n",
       "      <td>32124.000000</td>\n",
       "      <td>5430.000000</td>\n",
       "      <td>0.000000</td>\n",
       "      <td>837.000000</td>\n",
       "    </tr>\n",
       "    <tr>\n",
       "      <th>50%</th>\n",
       "      <td>36608.500000</td>\n",
       "      <td>0.000000</td>\n",
       "      <td>2005.000000</td>\n",
       "      <td>4.000000</td>\n",
       "      <td>1.000000</td>\n",
       "      <td>73359.000000</td>\n",
       "      <td>6097.000000</td>\n",
       "      <td>7308.000000</td>\n",
       "      <td>8448.000000</td>\n",
       "      <td>9798.000000</td>\n",
       "      <td>6063.000000</td>\n",
       "      <td>7311.000000</td>\n",
       "      <td>8733.000000</td>\n",
       "      <td>10103.000000</td>\n",
       "      <td>19662.000000</td>\n",
       "      <td>74135.000000</td>\n",
       "      <td>6700.000000</td>\n",
       "      <td>0.000000</td>\n",
       "      <td>1155.000000</td>\n",
       "    </tr>\n",
       "    <tr>\n",
       "      <th>75%</th>\n",
       "      <td>54811.500000</td>\n",
       "      <td>0.000000</td>\n",
       "      <td>2007.000000</td>\n",
       "      <td>5.000000</td>\n",
       "      <td>2.000000</td>\n",
       "      <td>82427.000000</td>\n",
       "      <td>7765.000000</td>\n",
       "      <td>9017.000000</td>\n",
       "      <td>10652.000000</td>\n",
       "      <td>12084.000000</td>\n",
       "      <td>7737.000000</td>\n",
       "      <td>9014.000000</td>\n",
       "      <td>10910.000000</td>\n",
       "      <td>12309.000000</td>\n",
       "      <td>22808.000000</td>\n",
       "      <td>80022.000000</td>\n",
       "      <td>7900.000000</td>\n",
       "      <td>0.000000</td>\n",
       "      <td>1623.000000</td>\n",
       "    </tr>\n",
       "    <tr>\n",
       "      <th>max</th>\n",
       "      <td>73014.000000</td>\n",
       "      <td>1.000000</td>\n",
       "      <td>2010.000000</td>\n",
       "      <td>9.000000</td>\n",
       "      <td>3.000000</td>\n",
       "      <td>115717.000000</td>\n",
       "      <td>35722.000000</td>\n",
       "      <td>36859.000000</td>\n",
       "      <td>39080.000000</td>\n",
       "      <td>41482.000000</td>\n",
       "      <td>35722.000000</td>\n",
       "      <td>36859.000000</td>\n",
       "      <td>39080.000000</td>\n",
       "      <td>41062.000000</td>\n",
       "      <td>99761.000000</td>\n",
       "      <td>99224.000000</td>\n",
       "      <td>36485.000000</td>\n",
       "      <td>1.000000</td>\n",
       "      <td>7498.000000</td>\n",
       "    </tr>\n",
       "  </tbody>\n",
       "</table>\n",
       "</div>"
      ],
      "text/plain": [
       "              RefId      IsBadBuy       VehYear    VehicleAge   WheelTypeID  \\\n",
       "count  58386.000000  58386.000000  58386.000000  58386.000000  55813.000000   \n",
       "mean   36567.888449      0.123454   2005.344637      4.174956      1.495566   \n",
       "std    21092.254801      0.328961      1.733307      1.713833      0.520802   \n",
       "min        1.000000      0.000000   2001.000000      0.000000      0.000000   \n",
       "25%    18270.250000      0.000000   2004.000000      3.000000      1.000000   \n",
       "50%    36608.500000      0.000000   2005.000000      4.000000      1.000000   \n",
       "75%    54811.500000      0.000000   2007.000000      5.000000      2.000000   \n",
       "max    73014.000000      1.000000   2010.000000      9.000000      3.000000   \n",
       "\n",
       "              VehOdo  MMRAcquisitionAuctionAveragePrice  \\\n",
       "count   58386.000000                       58373.000000   \n",
       "mean    71478.090518                        6128.127953   \n",
       "std     14591.224550                        2456.632611   \n",
       "min      4825.000000                           0.000000   \n",
       "25%     61785.000000                        4273.000000   \n",
       "50%     73359.000000                        6097.000000   \n",
       "75%     82427.000000                        7765.000000   \n",
       "max    115717.000000                       35722.000000   \n",
       "\n",
       "       MMRAcquisitionAuctionCleanPrice  MMRAcquisitionRetailAveragePrice  \\\n",
       "count                     58373.000000                      58373.000000   \n",
       "mean                       7372.912699                       8497.288558   \n",
       "std                        2715.506462                       3151.106237   \n",
       "min                           0.000000                          0.000000   \n",
       "25%                        5409.000000                       6279.000000   \n",
       "50%                        7308.000000                       8448.000000   \n",
       "75%                        9017.000000                      10652.000000   \n",
       "max                       36859.000000                      39080.000000   \n",
       "\n",
       "       MMRAcquisitonRetailCleanPrice  MMRCurrentAuctionAveragePrice  \\\n",
       "count                   58373.000000                   58141.000000   \n",
       "mean                     9851.768061                    6131.666655   \n",
       "std                      3378.839613                    2432.171539   \n",
       "min                         0.000000                       0.000000   \n",
       "25%                      7501.000000                    4275.000000   \n",
       "50%                      9798.000000                    6063.000000   \n",
       "75%                     12084.000000                    7737.000000   \n",
       "max                     41482.000000                   35722.000000   \n",
       "\n",
       "       MMRCurrentAuctionCleanPrice  MMRCurrentRetailAveragePrice  \\\n",
       "count                 58141.000000                  58141.000000   \n",
       "mean                   7389.958652                   8776.065118   \n",
       "std                    2682.310828                   3086.373733   \n",
       "min                       0.000000                      0.000000   \n",
       "25%                    5415.000000                   6538.000000   \n",
       "50%                    7311.000000                   8733.000000   \n",
       "75%                    9014.000000                  10910.000000   \n",
       "max                   36859.000000                  39080.000000   \n",
       "\n",
       "       MMRCurrentRetailCleanPrice         BYRNO        VNZIP1      VehBCost  \\\n",
       "count                58141.000000  58386.000000  58386.000000  58386.000000   \n",
       "mean                 10145.227034  26359.191519  58125.258195   6730.008335   \n",
       "std                   3304.637060  25804.795573  26146.806098   1762.075265   \n",
       "min                      0.000000    835.000000   2764.000000      1.000000   \n",
       "25%                   7788.000000  17212.000000  32124.000000   5430.000000   \n",
       "50%                  10103.000000  19662.000000  74135.000000   6700.000000   \n",
       "75%                  12309.000000  22808.000000  80022.000000   7900.000000   \n",
       "max                  41062.000000  99761.000000  99224.000000  36485.000000   \n",
       "\n",
       "       IsOnlineSale  WarrantyCost  \n",
       "count  58386.000000  58386.000000  \n",
       "mean       0.025674   1276.105042  \n",
       "std        0.158162    598.885423  \n",
       "min        0.000000    462.000000  \n",
       "25%        0.000000    837.000000  \n",
       "50%        0.000000   1155.000000  \n",
       "75%        0.000000   1623.000000  \n",
       "max        1.000000   7498.000000  "
      ]
     },
     "execution_count": 4,
     "metadata": {},
     "output_type": "execute_result"
    }
   ],
   "source": [
    "df.describe()"
   ]
  },
  {
   "cell_type": "markdown",
   "metadata": {},
   "source": [
    "SCARTEREI:\n",
    "PRIMEUNIT,AUCGUART\n",
    "Dobbiamo ricordarci, in caso in cui consegnassimo alcune di queste tabelle nel report, di NON usare tutti gli attributi come in questo caso ma filtrare solo quelli per cui i valori mostrati hanno senso\n"
   ]
  },
  {
   "cell_type": "code",
   "execution_count": 5,
   "metadata": {},
   "outputs": [
    {
     "data": {
      "text/plain": [
       "Trim                                  1911\n",
       "SubModel                                 7\n",
       "Color                                    7\n",
       "Transmission                             8\n",
       "WheelTypeID                           2573\n",
       "WheelType                             2577\n",
       "Nationality                              4\n",
       "Size                                     4\n",
       "TopThreeAmericanName                     4\n",
       "MMRAcquisitionAuctionAveragePrice       13\n",
       "MMRAcquisitionAuctionCleanPrice         13\n",
       "MMRAcquisitionRetailAveragePrice        13\n",
       "MMRAcquisitonRetailCleanPrice           13\n",
       "MMRCurrentAuctionAveragePrice          245\n",
       "MMRCurrentAuctionCleanPrice            245\n",
       "MMRCurrentRetailAveragePrice           245\n",
       "MMRCurrentRetailCleanPrice             245\n",
       "PRIMEUNIT                            55703\n",
       "AUCGUART                             55703\n",
       "dtype: int64"
      ]
     },
     "execution_count": 5,
     "metadata": {},
     "output_type": "execute_result"
    }
   ],
   "source": [
    "sum_ = df.isnull().sum()\n",
    "sum_[sum_ != 0]"
   ]
  },
  {
   "cell_type": "code",
   "execution_count": 6,
   "metadata": {},
   "outputs": [
    {
     "data": {
      "text/html": [
       "<div>\n",
       "<style scoped>\n",
       "    .dataframe tbody tr th:only-of-type {\n",
       "        vertical-align: middle;\n",
       "    }\n",
       "\n",
       "    .dataframe tbody tr th {\n",
       "        vertical-align: top;\n",
       "    }\n",
       "\n",
       "    .dataframe thead th {\n",
       "        text-align: right;\n",
       "    }\n",
       "</style>\n",
       "<table border=\"1\" class=\"dataframe\">\n",
       "  <thead>\n",
       "    <tr style=\"text-align: right;\">\n",
       "      <th></th>\n",
       "      <th>IsBadBuy</th>\n",
       "      <th>VehYear</th>\n",
       "      <th>VehicleAge</th>\n",
       "      <th>WheelTypeID</th>\n",
       "      <th>VehOdo</th>\n",
       "      <th>MMRAcquisitionAuctionAveragePrice</th>\n",
       "      <th>MMRAcquisitionAuctionCleanPrice</th>\n",
       "      <th>MMRAcquisitionRetailAveragePrice</th>\n",
       "      <th>MMRAcquisitonRetailCleanPrice</th>\n",
       "      <th>MMRCurrentAuctionAveragePrice</th>\n",
       "      <th>MMRCurrentAuctionCleanPrice</th>\n",
       "      <th>MMRCurrentRetailAveragePrice</th>\n",
       "      <th>MMRCurrentRetailCleanPrice</th>\n",
       "      <th>BYRNO</th>\n",
       "      <th>VNZIP1</th>\n",
       "      <th>VehBCost</th>\n",
       "      <th>IsOnlineSale</th>\n",
       "      <th>WarrantyCost</th>\n",
       "    </tr>\n",
       "  </thead>\n",
       "  <tbody>\n",
       "    <tr>\n",
       "      <th>IsBadBuy</th>\n",
       "      <td>1.000000</td>\n",
       "      <td>-0.156926</td>\n",
       "      <td>0.165325</td>\n",
       "      <td>-0.047693</td>\n",
       "      <td>0.082858</td>\n",
       "      <td>-0.105793</td>\n",
       "      <td>-0.099315</td>\n",
       "      <td>-0.084514</td>\n",
       "      <td>-0.080712</td>\n",
       "      <td>-0.106130</td>\n",
       "      <td>-0.101036</td>\n",
       "      <td>-0.100786</td>\n",
       "      <td>-0.097195</td>\n",
       "      <td>-0.059412</td>\n",
       "      <td>0.006393</td>\n",
       "      <td>-0.098132</td>\n",
       "      <td>-0.003969</td>\n",
       "      <td>0.050259</td>\n",
       "    </tr>\n",
       "    <tr>\n",
       "      <th>VehYear</th>\n",
       "      <td>-0.156926</td>\n",
       "      <td>1.000000</td>\n",
       "      <td>-0.958049</td>\n",
       "      <td>0.261366</td>\n",
       "      <td>-0.283569</td>\n",
       "      <td>0.582416</td>\n",
       "      <td>0.533807</td>\n",
       "      <td>0.582414</td>\n",
       "      <td>0.540206</td>\n",
       "      <td>0.591968</td>\n",
       "      <td>0.549345</td>\n",
       "      <td>0.599415</td>\n",
       "      <td>0.559579</td>\n",
       "      <td>0.281799</td>\n",
       "      <td>0.069976</td>\n",
       "      <td>0.349672</td>\n",
       "      <td>0.057316</td>\n",
       "      <td>-0.267739</td>\n",
       "    </tr>\n",
       "    <tr>\n",
       "      <th>VehicleAge</th>\n",
       "      <td>0.165325</td>\n",
       "      <td>-0.958049</td>\n",
       "      <td>1.000000</td>\n",
       "      <td>-0.252018</td>\n",
       "      <td>0.318778</td>\n",
       "      <td>-0.567106</td>\n",
       "      <td>-0.519897</td>\n",
       "      <td>-0.462299</td>\n",
       "      <td>-0.427526</td>\n",
       "      <td>-0.576914</td>\n",
       "      <td>-0.533646</td>\n",
       "      <td>-0.505322</td>\n",
       "      <td>-0.470640</td>\n",
       "      <td>-0.269907</td>\n",
       "      <td>-0.076617</td>\n",
       "      <td>-0.311903</td>\n",
       "      <td>-0.024659</td>\n",
       "      <td>0.257996</td>\n",
       "    </tr>\n",
       "    <tr>\n",
       "      <th>WheelTypeID</th>\n",
       "      <td>-0.047693</td>\n",
       "      <td>0.261366</td>\n",
       "      <td>-0.252018</td>\n",
       "      <td>1.000000</td>\n",
       "      <td>-0.212432</td>\n",
       "      <td>-0.094658</td>\n",
       "      <td>-0.129608</td>\n",
       "      <td>-0.071736</td>\n",
       "      <td>-0.101796</td>\n",
       "      <td>-0.086798</td>\n",
       "      <td>-0.120046</td>\n",
       "      <td>-0.072684</td>\n",
       "      <td>-0.101250</td>\n",
       "      <td>0.189817</td>\n",
       "      <td>0.007846</td>\n",
       "      <td>-0.160986</td>\n",
       "      <td>-0.011364</td>\n",
       "      <td>-0.133688</td>\n",
       "    </tr>\n",
       "    <tr>\n",
       "      <th>VehOdo</th>\n",
       "      <td>0.082858</td>\n",
       "      <td>-0.283569</td>\n",
       "      <td>0.318778</td>\n",
       "      <td>-0.212432</td>\n",
       "      <td>1.000000</td>\n",
       "      <td>-0.018381</td>\n",
       "      <td>0.023717</td>\n",
       "      <td>0.029107</td>\n",
       "      <td>0.061407</td>\n",
       "      <td>-0.030141</td>\n",
       "      <td>0.010755</td>\n",
       "      <td>0.013719</td>\n",
       "      <td>0.046070</td>\n",
       "      <td>-0.292230</td>\n",
       "      <td>-0.053547</td>\n",
       "      <td>-0.064436</td>\n",
       "      <td>0.030994</td>\n",
       "      <td>0.411273</td>\n",
       "    </tr>\n",
       "    <tr>\n",
       "      <th>MMRAcquisitionAuctionAveragePrice</th>\n",
       "      <td>-0.105793</td>\n",
       "      <td>0.582416</td>\n",
       "      <td>-0.567106</td>\n",
       "      <td>-0.094658</td>\n",
       "      <td>-0.018381</td>\n",
       "      <td>1.000000</td>\n",
       "      <td>0.990218</td>\n",
       "      <td>0.910185</td>\n",
       "      <td>0.909832</td>\n",
       "      <td>0.937482</td>\n",
       "      <td>0.931919</td>\n",
       "      <td>0.871220</td>\n",
       "      <td>0.870424</td>\n",
       "      <td>0.108806</td>\n",
       "      <td>0.047112</td>\n",
       "      <td>0.789354</td>\n",
       "      <td>0.038029</td>\n",
       "      <td>-0.049682</td>\n",
       "    </tr>\n",
       "    <tr>\n",
       "      <th>MMRAcquisitionAuctionCleanPrice</th>\n",
       "      <td>-0.099315</td>\n",
       "      <td>0.533807</td>\n",
       "      <td>-0.519897</td>\n",
       "      <td>-0.129608</td>\n",
       "      <td>0.023717</td>\n",
       "      <td>0.990218</td>\n",
       "      <td>1.000000</td>\n",
       "      <td>0.902339</td>\n",
       "      <td>0.917934</td>\n",
       "      <td>0.923144</td>\n",
       "      <td>0.931599</td>\n",
       "      <td>0.860055</td>\n",
       "      <td>0.870604</td>\n",
       "      <td>0.062818</td>\n",
       "      <td>0.041810</td>\n",
       "      <td>0.781123</td>\n",
       "      <td>0.037896</td>\n",
       "      <td>-0.019607</td>\n",
       "    </tr>\n",
       "    <tr>\n",
       "      <th>MMRAcquisitionRetailAveragePrice</th>\n",
       "      <td>-0.084514</td>\n",
       "      <td>0.582414</td>\n",
       "      <td>-0.462299</td>\n",
       "      <td>-0.071736</td>\n",
       "      <td>0.029107</td>\n",
       "      <td>0.910185</td>\n",
       "      <td>0.902339</td>\n",
       "      <td>1.000000</td>\n",
       "      <td>0.990085</td>\n",
       "      <td>0.851330</td>\n",
       "      <td>0.848776</td>\n",
       "      <td>0.912747</td>\n",
       "      <td>0.905523</td>\n",
       "      <td>0.107988</td>\n",
       "      <td>0.036402</td>\n",
       "      <td>0.745718</td>\n",
       "      <td>0.079767</td>\n",
       "      <td>-0.053507</td>\n",
       "    </tr>\n",
       "    <tr>\n",
       "      <th>MMRAcquisitonRetailCleanPrice</th>\n",
       "      <td>-0.080712</td>\n",
       "      <td>0.540206</td>\n",
       "      <td>-0.427526</td>\n",
       "      <td>-0.101796</td>\n",
       "      <td>0.061407</td>\n",
       "      <td>0.909832</td>\n",
       "      <td>0.917934</td>\n",
       "      <td>0.990085</td>\n",
       "      <td>1.000000</td>\n",
       "      <td>0.846393</td>\n",
       "      <td>0.854986</td>\n",
       "      <td>0.902680</td>\n",
       "      <td>0.906231</td>\n",
       "      <td>0.069857</td>\n",
       "      <td>0.032120</td>\n",
       "      <td>0.744622</td>\n",
       "      <td>0.076735</td>\n",
       "      <td>-0.026708</td>\n",
       "    </tr>\n",
       "    <tr>\n",
       "      <th>MMRCurrentAuctionAveragePrice</th>\n",
       "      <td>-0.106130</td>\n",
       "      <td>0.591968</td>\n",
       "      <td>-0.576914</td>\n",
       "      <td>-0.086798</td>\n",
       "      <td>-0.030141</td>\n",
       "      <td>0.937482</td>\n",
       "      <td>0.923144</td>\n",
       "      <td>0.851330</td>\n",
       "      <td>0.846393</td>\n",
       "      <td>1.000000</td>\n",
       "      <td>0.990244</td>\n",
       "      <td>0.915147</td>\n",
       "      <td>0.912305</td>\n",
       "      <td>0.112075</td>\n",
       "      <td>0.051706</td>\n",
       "      <td>0.778253</td>\n",
       "      <td>0.039513</td>\n",
       "      <td>-0.056893</td>\n",
       "    </tr>\n",
       "    <tr>\n",
       "      <th>MMRCurrentAuctionCleanPrice</th>\n",
       "      <td>-0.101036</td>\n",
       "      <td>0.549345</td>\n",
       "      <td>-0.533646</td>\n",
       "      <td>-0.120046</td>\n",
       "      <td>0.010755</td>\n",
       "      <td>0.931919</td>\n",
       "      <td>0.931599</td>\n",
       "      <td>0.848776</td>\n",
       "      <td>0.854986</td>\n",
       "      <td>0.990244</td>\n",
       "      <td>1.000000</td>\n",
       "      <td>0.908620</td>\n",
       "      <td>0.921638</td>\n",
       "      <td>0.068937</td>\n",
       "      <td>0.046236</td>\n",
       "      <td>0.774637</td>\n",
       "      <td>0.040003</td>\n",
       "      <td>-0.028245</td>\n",
       "    </tr>\n",
       "    <tr>\n",
       "      <th>MMRCurrentRetailAveragePrice</th>\n",
       "      <td>-0.100786</td>\n",
       "      <td>0.599415</td>\n",
       "      <td>-0.505322</td>\n",
       "      <td>-0.072684</td>\n",
       "      <td>0.013719</td>\n",
       "      <td>0.871220</td>\n",
       "      <td>0.860055</td>\n",
       "      <td>0.912747</td>\n",
       "      <td>0.902680</td>\n",
       "      <td>0.915147</td>\n",
       "      <td>0.908620</td>\n",
       "      <td>1.000000</td>\n",
       "      <td>0.989693</td>\n",
       "      <td>0.111283</td>\n",
       "      <td>0.041793</td>\n",
       "      <td>0.756790</td>\n",
       "      <td>0.079203</td>\n",
       "      <td>-0.058965</td>\n",
       "    </tr>\n",
       "    <tr>\n",
       "      <th>MMRCurrentRetailCleanPrice</th>\n",
       "      <td>-0.097195</td>\n",
       "      <td>0.559579</td>\n",
       "      <td>-0.470640</td>\n",
       "      <td>-0.101250</td>\n",
       "      <td>0.046070</td>\n",
       "      <td>0.870424</td>\n",
       "      <td>0.870604</td>\n",
       "      <td>0.905523</td>\n",
       "      <td>0.906231</td>\n",
       "      <td>0.912305</td>\n",
       "      <td>0.921638</td>\n",
       "      <td>0.989693</td>\n",
       "      <td>1.000000</td>\n",
       "      <td>0.074541</td>\n",
       "      <td>0.037454</td>\n",
       "      <td>0.756551</td>\n",
       "      <td>0.076463</td>\n",
       "      <td>-0.032932</td>\n",
       "    </tr>\n",
       "    <tr>\n",
       "      <th>BYRNO</th>\n",
       "      <td>-0.059412</td>\n",
       "      <td>0.281799</td>\n",
       "      <td>-0.269907</td>\n",
       "      <td>0.189817</td>\n",
       "      <td>-0.292230</td>\n",
       "      <td>0.108806</td>\n",
       "      <td>0.062818</td>\n",
       "      <td>0.107988</td>\n",
       "      <td>0.069857</td>\n",
       "      <td>0.112075</td>\n",
       "      <td>0.068937</td>\n",
       "      <td>0.111283</td>\n",
       "      <td>0.074541</td>\n",
       "      <td>1.000000</td>\n",
       "      <td>0.039352</td>\n",
       "      <td>0.046551</td>\n",
       "      <td>-0.143585</td>\n",
       "      <td>-0.089497</td>\n",
       "    </tr>\n",
       "    <tr>\n",
       "      <th>VNZIP1</th>\n",
       "      <td>0.006393</td>\n",
       "      <td>0.069976</td>\n",
       "      <td>-0.076617</td>\n",
       "      <td>0.007846</td>\n",
       "      <td>-0.053547</td>\n",
       "      <td>0.047112</td>\n",
       "      <td>0.041810</td>\n",
       "      <td>0.036402</td>\n",
       "      <td>0.032120</td>\n",
       "      <td>0.051706</td>\n",
       "      <td>0.046236</td>\n",
       "      <td>0.041793</td>\n",
       "      <td>0.037454</td>\n",
       "      <td>0.039352</td>\n",
       "      <td>1.000000</td>\n",
       "      <td>0.017150</td>\n",
       "      <td>0.026640</td>\n",
       "      <td>-0.039594</td>\n",
       "    </tr>\n",
       "    <tr>\n",
       "      <th>VehBCost</th>\n",
       "      <td>-0.098132</td>\n",
       "      <td>0.349672</td>\n",
       "      <td>-0.311903</td>\n",
       "      <td>-0.160986</td>\n",
       "      <td>-0.064436</td>\n",
       "      <td>0.789354</td>\n",
       "      <td>0.781123</td>\n",
       "      <td>0.745718</td>\n",
       "      <td>0.744622</td>\n",
       "      <td>0.778253</td>\n",
       "      <td>0.774637</td>\n",
       "      <td>0.756790</td>\n",
       "      <td>0.756551</td>\n",
       "      <td>0.046551</td>\n",
       "      <td>0.017150</td>\n",
       "      <td>1.000000</td>\n",
       "      <td>0.032489</td>\n",
       "      <td>-0.033901</td>\n",
       "    </tr>\n",
       "    <tr>\n",
       "      <th>IsOnlineSale</th>\n",
       "      <td>-0.003969</td>\n",
       "      <td>0.057316</td>\n",
       "      <td>-0.024659</td>\n",
       "      <td>-0.011364</td>\n",
       "      <td>0.030994</td>\n",
       "      <td>0.038029</td>\n",
       "      <td>0.037896</td>\n",
       "      <td>0.079767</td>\n",
       "      <td>0.076735</td>\n",
       "      <td>0.039513</td>\n",
       "      <td>0.040003</td>\n",
       "      <td>0.079203</td>\n",
       "      <td>0.076463</td>\n",
       "      <td>-0.143585</td>\n",
       "      <td>0.026640</td>\n",
       "      <td>0.032489</td>\n",
       "      <td>1.000000</td>\n",
       "      <td>0.006099</td>\n",
       "    </tr>\n",
       "    <tr>\n",
       "      <th>WarrantyCost</th>\n",
       "      <td>0.050259</td>\n",
       "      <td>-0.267739</td>\n",
       "      <td>0.257996</td>\n",
       "      <td>-0.133688</td>\n",
       "      <td>0.411273</td>\n",
       "      <td>-0.049682</td>\n",
       "      <td>-0.019607</td>\n",
       "      <td>-0.053507</td>\n",
       "      <td>-0.026708</td>\n",
       "      <td>-0.056893</td>\n",
       "      <td>-0.028245</td>\n",
       "      <td>-0.058965</td>\n",
       "      <td>-0.032932</td>\n",
       "      <td>-0.089497</td>\n",
       "      <td>-0.039594</td>\n",
       "      <td>-0.033901</td>\n",
       "      <td>0.006099</td>\n",
       "      <td>1.000000</td>\n",
       "    </tr>\n",
       "  </tbody>\n",
       "</table>\n",
       "</div>"
      ],
      "text/plain": [
       "                                   IsBadBuy   VehYear  VehicleAge  \\\n",
       "IsBadBuy                           1.000000 -0.156926    0.165325   \n",
       "VehYear                           -0.156926  1.000000   -0.958049   \n",
       "VehicleAge                         0.165325 -0.958049    1.000000   \n",
       "WheelTypeID                       -0.047693  0.261366   -0.252018   \n",
       "VehOdo                             0.082858 -0.283569    0.318778   \n",
       "MMRAcquisitionAuctionAveragePrice -0.105793  0.582416   -0.567106   \n",
       "MMRAcquisitionAuctionCleanPrice   -0.099315  0.533807   -0.519897   \n",
       "MMRAcquisitionRetailAveragePrice  -0.084514  0.582414   -0.462299   \n",
       "MMRAcquisitonRetailCleanPrice     -0.080712  0.540206   -0.427526   \n",
       "MMRCurrentAuctionAveragePrice     -0.106130  0.591968   -0.576914   \n",
       "MMRCurrentAuctionCleanPrice       -0.101036  0.549345   -0.533646   \n",
       "MMRCurrentRetailAveragePrice      -0.100786  0.599415   -0.505322   \n",
       "MMRCurrentRetailCleanPrice        -0.097195  0.559579   -0.470640   \n",
       "BYRNO                             -0.059412  0.281799   -0.269907   \n",
       "VNZIP1                             0.006393  0.069976   -0.076617   \n",
       "VehBCost                          -0.098132  0.349672   -0.311903   \n",
       "IsOnlineSale                      -0.003969  0.057316   -0.024659   \n",
       "WarrantyCost                       0.050259 -0.267739    0.257996   \n",
       "\n",
       "                                   WheelTypeID    VehOdo  \\\n",
       "IsBadBuy                             -0.047693  0.082858   \n",
       "VehYear                               0.261366 -0.283569   \n",
       "VehicleAge                           -0.252018  0.318778   \n",
       "WheelTypeID                           1.000000 -0.212432   \n",
       "VehOdo                               -0.212432  1.000000   \n",
       "MMRAcquisitionAuctionAveragePrice    -0.094658 -0.018381   \n",
       "MMRAcquisitionAuctionCleanPrice      -0.129608  0.023717   \n",
       "MMRAcquisitionRetailAveragePrice     -0.071736  0.029107   \n",
       "MMRAcquisitonRetailCleanPrice        -0.101796  0.061407   \n",
       "MMRCurrentAuctionAveragePrice        -0.086798 -0.030141   \n",
       "MMRCurrentAuctionCleanPrice          -0.120046  0.010755   \n",
       "MMRCurrentRetailAveragePrice         -0.072684  0.013719   \n",
       "MMRCurrentRetailCleanPrice           -0.101250  0.046070   \n",
       "BYRNO                                 0.189817 -0.292230   \n",
       "VNZIP1                                0.007846 -0.053547   \n",
       "VehBCost                             -0.160986 -0.064436   \n",
       "IsOnlineSale                         -0.011364  0.030994   \n",
       "WarrantyCost                         -0.133688  0.411273   \n",
       "\n",
       "                                   MMRAcquisitionAuctionAveragePrice  \\\n",
       "IsBadBuy                                                   -0.105793   \n",
       "VehYear                                                     0.582416   \n",
       "VehicleAge                                                 -0.567106   \n",
       "WheelTypeID                                                -0.094658   \n",
       "VehOdo                                                     -0.018381   \n",
       "MMRAcquisitionAuctionAveragePrice                           1.000000   \n",
       "MMRAcquisitionAuctionCleanPrice                             0.990218   \n",
       "MMRAcquisitionRetailAveragePrice                            0.910185   \n",
       "MMRAcquisitonRetailCleanPrice                               0.909832   \n",
       "MMRCurrentAuctionAveragePrice                               0.937482   \n",
       "MMRCurrentAuctionCleanPrice                                 0.931919   \n",
       "MMRCurrentRetailAveragePrice                                0.871220   \n",
       "MMRCurrentRetailCleanPrice                                  0.870424   \n",
       "BYRNO                                                       0.108806   \n",
       "VNZIP1                                                      0.047112   \n",
       "VehBCost                                                    0.789354   \n",
       "IsOnlineSale                                                0.038029   \n",
       "WarrantyCost                                               -0.049682   \n",
       "\n",
       "                                   MMRAcquisitionAuctionCleanPrice  \\\n",
       "IsBadBuy                                                 -0.099315   \n",
       "VehYear                                                   0.533807   \n",
       "VehicleAge                                               -0.519897   \n",
       "WheelTypeID                                              -0.129608   \n",
       "VehOdo                                                    0.023717   \n",
       "MMRAcquisitionAuctionAveragePrice                         0.990218   \n",
       "MMRAcquisitionAuctionCleanPrice                           1.000000   \n",
       "MMRAcquisitionRetailAveragePrice                          0.902339   \n",
       "MMRAcquisitonRetailCleanPrice                             0.917934   \n",
       "MMRCurrentAuctionAveragePrice                             0.923144   \n",
       "MMRCurrentAuctionCleanPrice                               0.931599   \n",
       "MMRCurrentRetailAveragePrice                              0.860055   \n",
       "MMRCurrentRetailCleanPrice                                0.870604   \n",
       "BYRNO                                                     0.062818   \n",
       "VNZIP1                                                    0.041810   \n",
       "VehBCost                                                  0.781123   \n",
       "IsOnlineSale                                              0.037896   \n",
       "WarrantyCost                                             -0.019607   \n",
       "\n",
       "                                   MMRAcquisitionRetailAveragePrice  \\\n",
       "IsBadBuy                                                  -0.084514   \n",
       "VehYear                                                    0.582414   \n",
       "VehicleAge                                                -0.462299   \n",
       "WheelTypeID                                               -0.071736   \n",
       "VehOdo                                                     0.029107   \n",
       "MMRAcquisitionAuctionAveragePrice                          0.910185   \n",
       "MMRAcquisitionAuctionCleanPrice                            0.902339   \n",
       "MMRAcquisitionRetailAveragePrice                           1.000000   \n",
       "MMRAcquisitonRetailCleanPrice                              0.990085   \n",
       "MMRCurrentAuctionAveragePrice                              0.851330   \n",
       "MMRCurrentAuctionCleanPrice                                0.848776   \n",
       "MMRCurrentRetailAveragePrice                               0.912747   \n",
       "MMRCurrentRetailCleanPrice                                 0.905523   \n",
       "BYRNO                                                      0.107988   \n",
       "VNZIP1                                                     0.036402   \n",
       "VehBCost                                                   0.745718   \n",
       "IsOnlineSale                                               0.079767   \n",
       "WarrantyCost                                              -0.053507   \n",
       "\n",
       "                                   MMRAcquisitonRetailCleanPrice  \\\n",
       "IsBadBuy                                               -0.080712   \n",
       "VehYear                                                 0.540206   \n",
       "VehicleAge                                             -0.427526   \n",
       "WheelTypeID                                            -0.101796   \n",
       "VehOdo                                                  0.061407   \n",
       "MMRAcquisitionAuctionAveragePrice                       0.909832   \n",
       "MMRAcquisitionAuctionCleanPrice                         0.917934   \n",
       "MMRAcquisitionRetailAveragePrice                        0.990085   \n",
       "MMRAcquisitonRetailCleanPrice                           1.000000   \n",
       "MMRCurrentAuctionAveragePrice                           0.846393   \n",
       "MMRCurrentAuctionCleanPrice                             0.854986   \n",
       "MMRCurrentRetailAveragePrice                            0.902680   \n",
       "MMRCurrentRetailCleanPrice                              0.906231   \n",
       "BYRNO                                                   0.069857   \n",
       "VNZIP1                                                  0.032120   \n",
       "VehBCost                                                0.744622   \n",
       "IsOnlineSale                                            0.076735   \n",
       "WarrantyCost                                           -0.026708   \n",
       "\n",
       "                                   MMRCurrentAuctionAveragePrice  \\\n",
       "IsBadBuy                                               -0.106130   \n",
       "VehYear                                                 0.591968   \n",
       "VehicleAge                                             -0.576914   \n",
       "WheelTypeID                                            -0.086798   \n",
       "VehOdo                                                 -0.030141   \n",
       "MMRAcquisitionAuctionAveragePrice                       0.937482   \n",
       "MMRAcquisitionAuctionCleanPrice                         0.923144   \n",
       "MMRAcquisitionRetailAveragePrice                        0.851330   \n",
       "MMRAcquisitonRetailCleanPrice                           0.846393   \n",
       "MMRCurrentAuctionAveragePrice                           1.000000   \n",
       "MMRCurrentAuctionCleanPrice                             0.990244   \n",
       "MMRCurrentRetailAveragePrice                            0.915147   \n",
       "MMRCurrentRetailCleanPrice                              0.912305   \n",
       "BYRNO                                                   0.112075   \n",
       "VNZIP1                                                  0.051706   \n",
       "VehBCost                                                0.778253   \n",
       "IsOnlineSale                                            0.039513   \n",
       "WarrantyCost                                           -0.056893   \n",
       "\n",
       "                                   MMRCurrentAuctionCleanPrice  \\\n",
       "IsBadBuy                                             -0.101036   \n",
       "VehYear                                               0.549345   \n",
       "VehicleAge                                           -0.533646   \n",
       "WheelTypeID                                          -0.120046   \n",
       "VehOdo                                                0.010755   \n",
       "MMRAcquisitionAuctionAveragePrice                     0.931919   \n",
       "MMRAcquisitionAuctionCleanPrice                       0.931599   \n",
       "MMRAcquisitionRetailAveragePrice                      0.848776   \n",
       "MMRAcquisitonRetailCleanPrice                         0.854986   \n",
       "MMRCurrentAuctionAveragePrice                         0.990244   \n",
       "MMRCurrentAuctionCleanPrice                           1.000000   \n",
       "MMRCurrentRetailAveragePrice                          0.908620   \n",
       "MMRCurrentRetailCleanPrice                            0.921638   \n",
       "BYRNO                                                 0.068937   \n",
       "VNZIP1                                                0.046236   \n",
       "VehBCost                                              0.774637   \n",
       "IsOnlineSale                                          0.040003   \n",
       "WarrantyCost                                         -0.028245   \n",
       "\n",
       "                                   MMRCurrentRetailAveragePrice  \\\n",
       "IsBadBuy                                              -0.100786   \n",
       "VehYear                                                0.599415   \n",
       "VehicleAge                                            -0.505322   \n",
       "WheelTypeID                                           -0.072684   \n",
       "VehOdo                                                 0.013719   \n",
       "MMRAcquisitionAuctionAveragePrice                      0.871220   \n",
       "MMRAcquisitionAuctionCleanPrice                        0.860055   \n",
       "MMRAcquisitionRetailAveragePrice                       0.912747   \n",
       "MMRAcquisitonRetailCleanPrice                          0.902680   \n",
       "MMRCurrentAuctionAveragePrice                          0.915147   \n",
       "MMRCurrentAuctionCleanPrice                            0.908620   \n",
       "MMRCurrentRetailAveragePrice                           1.000000   \n",
       "MMRCurrentRetailCleanPrice                             0.989693   \n",
       "BYRNO                                                  0.111283   \n",
       "VNZIP1                                                 0.041793   \n",
       "VehBCost                                               0.756790   \n",
       "IsOnlineSale                                           0.079203   \n",
       "WarrantyCost                                          -0.058965   \n",
       "\n",
       "                                   MMRCurrentRetailCleanPrice     BYRNO  \\\n",
       "IsBadBuy                                            -0.097195 -0.059412   \n",
       "VehYear                                              0.559579  0.281799   \n",
       "VehicleAge                                          -0.470640 -0.269907   \n",
       "WheelTypeID                                         -0.101250  0.189817   \n",
       "VehOdo                                               0.046070 -0.292230   \n",
       "MMRAcquisitionAuctionAveragePrice                    0.870424  0.108806   \n",
       "MMRAcquisitionAuctionCleanPrice                      0.870604  0.062818   \n",
       "MMRAcquisitionRetailAveragePrice                     0.905523  0.107988   \n",
       "MMRAcquisitonRetailCleanPrice                        0.906231  0.069857   \n",
       "MMRCurrentAuctionAveragePrice                        0.912305  0.112075   \n",
       "MMRCurrentAuctionCleanPrice                          0.921638  0.068937   \n",
       "MMRCurrentRetailAveragePrice                         0.989693  0.111283   \n",
       "MMRCurrentRetailCleanPrice                           1.000000  0.074541   \n",
       "BYRNO                                                0.074541  1.000000   \n",
       "VNZIP1                                               0.037454  0.039352   \n",
       "VehBCost                                             0.756551  0.046551   \n",
       "IsOnlineSale                                         0.076463 -0.143585   \n",
       "WarrantyCost                                        -0.032932 -0.089497   \n",
       "\n",
       "                                     VNZIP1  VehBCost  IsOnlineSale  \\\n",
       "IsBadBuy                           0.006393 -0.098132     -0.003969   \n",
       "VehYear                            0.069976  0.349672      0.057316   \n",
       "VehicleAge                        -0.076617 -0.311903     -0.024659   \n",
       "WheelTypeID                        0.007846 -0.160986     -0.011364   \n",
       "VehOdo                            -0.053547 -0.064436      0.030994   \n",
       "MMRAcquisitionAuctionAveragePrice  0.047112  0.789354      0.038029   \n",
       "MMRAcquisitionAuctionCleanPrice    0.041810  0.781123      0.037896   \n",
       "MMRAcquisitionRetailAveragePrice   0.036402  0.745718      0.079767   \n",
       "MMRAcquisitonRetailCleanPrice      0.032120  0.744622      0.076735   \n",
       "MMRCurrentAuctionAveragePrice      0.051706  0.778253      0.039513   \n",
       "MMRCurrentAuctionCleanPrice        0.046236  0.774637      0.040003   \n",
       "MMRCurrentRetailAveragePrice       0.041793  0.756790      0.079203   \n",
       "MMRCurrentRetailCleanPrice         0.037454  0.756551      0.076463   \n",
       "BYRNO                              0.039352  0.046551     -0.143585   \n",
       "VNZIP1                             1.000000  0.017150      0.026640   \n",
       "VehBCost                           0.017150  1.000000      0.032489   \n",
       "IsOnlineSale                       0.026640  0.032489      1.000000   \n",
       "WarrantyCost                      -0.039594 -0.033901      0.006099   \n",
       "\n",
       "                                   WarrantyCost  \n",
       "IsBadBuy                               0.050259  \n",
       "VehYear                               -0.267739  \n",
       "VehicleAge                             0.257996  \n",
       "WheelTypeID                           -0.133688  \n",
       "VehOdo                                 0.411273  \n",
       "MMRAcquisitionAuctionAveragePrice     -0.049682  \n",
       "MMRAcquisitionAuctionCleanPrice       -0.019607  \n",
       "MMRAcquisitionRetailAveragePrice      -0.053507  \n",
       "MMRAcquisitonRetailCleanPrice         -0.026708  \n",
       "MMRCurrentAuctionAveragePrice         -0.056893  \n",
       "MMRCurrentAuctionCleanPrice           -0.028245  \n",
       "MMRCurrentRetailAveragePrice          -0.058965  \n",
       "MMRCurrentRetailCleanPrice            -0.032932  \n",
       "BYRNO                                 -0.089497  \n",
       "VNZIP1                                -0.039594  \n",
       "VehBCost                              -0.033901  \n",
       "IsOnlineSale                           0.006099  \n",
       "WarrantyCost                           1.000000  "
      ]
     },
     "execution_count": 6,
     "metadata": {},
     "output_type": "execute_result"
    }
   ],
   "source": [
    "df.drop(columns=['RefId']).corr()"
   ]
  },
  {
   "cell_type": "markdown",
   "metadata": {},
   "source": [
    "Pandas è un bravo ragazzo, e ha eliminato di sua spontanea iniziativa PRIMEUNIT e AUCGUART. Ha anche tolto purchDate, auction, Make, Model, Trim, SubModel, Color, Transmission, WheelType (ha mantenuto l'id), Nationality, Size, TopThreeAmericanNames, VNST. \n",
    "- WarrantyCost e vehOdo: macchine con tanti km -> assicurazione costa tanto -> (forse) prob. bad buy?\n",
    "C'è buona correlazione con tutti gli atttributi relativi al prezzo. Forse dobbiamo, più avanti, spendere un po' di tempo a cercare di cavare qualche variabile sensata da questi valori (che ne so, VehBCost/MMRAcquisitionAuctionAveragePrice e così via)"
   ]
  },
  {
   "cell_type": "code",
   "execution_count": 7,
   "metadata": {},
   "outputs": [
    {
     "data": {
      "text/plain": [
       "<matplotlib.axes._subplots.AxesSubplot at 0x1a21643978>"
      ]
     },
     "execution_count": 7,
     "metadata": {},
     "output_type": "execute_result"
    },
    {
     "data": {
      "image/png": "[encoded data removed]",
      "text/plain": [
       "<Figure size 792x648 with 2 Axes>"
      ]
     },
     "metadata": {
      "needs_background": "light"
     },
     "output_type": "display_data"
    }
   ],
   "source": [
    "df.rename(columns={ 'MMRAcquisitionAuctionAveragePrice':'AAAP',\n",
    "                    'MMRAcquisitionRetailAveragePrice':'ARAP',\n",
    "                    'MMRCurrentAuctionAveragePrice':'CAAP',\n",
    "                    'MMRCurrentRetailAveragePrice':'CRAP',\n",
    "                    'MMRAcquisitionAuctionCleanPrice': 'AACP',\n",
    "                    'MMRAcquisitonRetailCleanPrice': 'ARCP',\n",
    "                    'MMRCurrentAuctionCleanPrice': 'CACP',\n",
    "                    'MMRCurrentRetailCleanPrice': 'CRCP'\n",
    "                  },inplace=True)\n",
    "\n",
    "corr = df.drop(columns=['RefId',\n",
    "        'VehYear',\n",
    "        'IsBadBuy',\n",
    "        'WheelTypeID',\n",
    "        'BYRNO',\n",
    "        'VNZIP1',\n",
    "        'IsOnlineSale'],\n",
    "        axis=1).corr()\n",
    "\n",
    "# taken from https://seaborn.pydata.org/examples/many_pairwise_correlations.html\n",
    "\n",
    "# Generate a mask for the upper triangle\n",
    "mask = np.zeros_like(corr, dtype=np.bool)\n",
    "mask[np.triu_indices_from(mask)] = True\n",
    "\n",
    "# Set up the matplotlib figure\n",
    "f, ax = plt.subplots(figsize=(11, 9))\n",
    "\n",
    "# Generate a custom diverging colormap\n",
    "cmap = sns.diverging_palette(220, 10, as_cmap=True)\n",
    "\n",
    "# Draw the heatmap with the mask and correct aspect ratio\n",
    "sns.heatmap(corr, mask=mask, cmap=cmap, vmax=.3, center=0,\n",
    "            square=True, linewidths=.5, cbar_kws={\"shrink\": .5})"
   ]
  },
  {
   "cell_type": "markdown",
   "metadata": {},
   "source": [
    "## Colonne rinominate con gli acronimi per cercare di capire qualcosa \n",
    "## +\n",
    "## Rimosse tutte le colonne \"CleanPrice\""
   ]
  },
  {
   "cell_type": "markdown",
   "metadata": {},
   "source": [
    "Si può già notare come la colonna \"VehicleAge\" sia inversamente correlata (-0.6 circa) con il prezzo. \n",
    "\n",
    "Ciò ha molto senso dato che le auto 🚗 perdono valore con il passare degli anni. 😎"
   ]
  },
  {
   "cell_type": "raw",
   "metadata": {},
   "source": [
    "pd.plotting.scatter_matrix(df[['VehYear', \n",
    "                               'VehOdo',\n",
    "                               'VehBCost',\n",
    "                               'WarrantyCost',\n",
    "                               'AAAP',\n",
    "                               'VNZIP1']])\n",
    "plt.show()"
   ]
  },
  {
   "cell_type": "code",
   "execution_count": 8,
   "metadata": {},
   "outputs": [
    {
     "data": {
      "text/plain": [
       "<matplotlib.axes._subplots.AxesSubplot at 0x1a22e7ce10>"
      ]
     },
     "execution_count": 8,
     "metadata": {},
     "output_type": "execute_result"
    },
    {
     "data": {
      "image/png": "[encoded data removed]",
      "text/plain": [
       "<Figure size 1080x360 with 3 Axes>"
      ]
     },
     "metadata": {
      "needs_background": "light"
     },
     "output_type": "display_data"
    }
   ],
   "source": [
    "fig = plt.figure(figsize=(15, 5)) \n",
    "fig_dims = (1, 3)\n",
    "\n",
    "plt.subplot2grid(fig_dims, (0, 0))\n",
    "df.boxplot(column=['VehYear'])\n",
    "\n",
    "plt.subplot2grid(fig_dims, (0, 1))\n",
    "df.boxplot(column=['VehOdo'])\n",
    "\n",
    "\n",
    "plt.subplot2grid(fig_dims, (0, 2))\n",
    "df.boxplot(column=['WarrantyCost'])"
   ]
  },
  {
   "cell_type": "code",
   "execution_count": 9,
   "metadata": {},
   "outputs": [
    {
     "data": {
      "text/plain": [
       "<matplotlib.axes._subplots.AxesSubplot at 0x1a21e68b38>"
      ]
     },
     "execution_count": 9,
     "metadata": {},
     "output_type": "execute_result"
    },
    {
     "data": {
      "image/png": "[encoded data removed]",
      "text/plain": [
       "<Figure size 432x288 with 1 Axes>"
      ]
     },
     "metadata": {
      "needs_background": "light"
     },
     "output_type": "display_data"
    }
   ],
   "source": [
    "df.boxplot(column=['VehBCost','AAAP','CAAP'])"
   ]
  },
  {
   "cell_type": "markdown",
   "metadata": {},
   "source": [
    "# Da provare prezzi/marca"
   ]
  },
  {
   "cell_type": "code",
   "execution_count": 10,
   "metadata": {},
   "outputs": [
    {
     "data": {
      "text/html": [
       "<div>\n",
       "<style scoped>\n",
       "    .dataframe tbody tr th:only-of-type {\n",
       "        vertical-align: middle;\n",
       "    }\n",
       "\n",
       "    .dataframe tbody tr th {\n",
       "        vertical-align: top;\n",
       "    }\n",
       "\n",
       "    .dataframe thead th {\n",
       "        text-align: right;\n",
       "    }\n",
       "</style>\n",
       "<table border=\"1\" class=\"dataframe\">\n",
       "  <thead>\n",
       "    <tr style=\"text-align: right;\">\n",
       "      <th>WheelType</th>\n",
       "      <th>Alloy</th>\n",
       "      <th>Covers</th>\n",
       "      <th>Special</th>\n",
       "    </tr>\n",
       "    <tr>\n",
       "      <th>Transmission</th>\n",
       "      <th></th>\n",
       "      <th></th>\n",
       "      <th></th>\n",
       "    </tr>\n",
       "  </thead>\n",
       "  <tbody>\n",
       "    <tr>\n",
       "      <th>AUTO</th>\n",
       "      <td>27797</td>\n",
       "      <td>25432</td>\n",
       "      <td>539</td>\n",
       "    </tr>\n",
       "    <tr>\n",
       "      <th>MANUAL</th>\n",
       "      <td>937</td>\n",
       "      <td>1053</td>\n",
       "      <td>50</td>\n",
       "    </tr>\n",
       "  </tbody>\n",
       "</table>\n",
       "</div>"
      ],
      "text/plain": [
       "WheelType     Alloy  Covers  Special\n",
       "Transmission                        \n",
       "AUTO          27797   25432      539\n",
       "MANUAL          937    1053       50"
      ]
     },
     "execution_count": 10,
     "metadata": {},
     "output_type": "execute_result"
    }
   ],
   "source": [
    "pclass_xt = pd.crosstab(df['Transmission'], df['WheelType'])\n",
    "pclass_xt"
   ]
  },
  {
   "cell_type": "code",
   "execution_count": 11,
   "metadata": {},
   "outputs": [
    {
     "data": {
      "text/plain": [
       "<matplotlib.axes._subplots.AxesSubplot at 0x10e442fd0>"
      ]
     },
     "execution_count": 11,
     "metadata": {},
     "output_type": "execute_result"
    },
    {
     "data": {
      "image/png": "[encoded data removed]",
      "text/plain": [
       "<Figure size 432x288 with 1 Axes>"
      ]
     },
     "metadata": {
      "needs_background": "light"
     },
     "output_type": "display_data"
    }
   ],
   "source": [
    "pclass_xt.plot(kind='bar', stacked=True)"
   ]
  },
  {
   "cell_type": "code",
   "execution_count": 12,
   "metadata": {},
   "outputs": [
    {
     "data": {
      "text/plain": [
       "<matplotlib.axes._subplots.AxesSubplot at 0x1a24750f28>"
      ]
     },
     "execution_count": 12,
     "metadata": {},
     "output_type": "execute_result"
    },
    {
     "data": {
      "image/png": "[encoded data removed]",
      "text/plain": [
       "<Figure size 1080x1080 with 6 Axes>"
      ]
     },
     "metadata": {
      "needs_background": "light"
     },
     "output_type": "display_data"
    }
   ],
   "source": [
    "fig = plt.figure(figsize=(15, 15)) \n",
    "fig_dims = (3, 2)\n",
    "\n",
    "plt.subplot2grid(fig_dims, (0, 0))\n",
    "df['Auction'].value_counts().plot.pie(legend=True)\n",
    "\n",
    "plt.subplot2grid(fig_dims, (0, 1))\n",
    "df['Nationality'].value_counts().plot.pie(legend=True)\n",
    "\n",
    "plt.subplot2grid(fig_dims, (1, 0))\n",
    "df['Color'].value_counts().plot(kind='bar')\n",
    "\n",
    "plt.subplot2grid(fig_dims, (1, 1))\n",
    "df['VNST'].value_counts().plot(kind='bar')\n",
    "\n",
    "plt.subplot2grid(fig_dims, (2, 0))\n",
    "df['Size'].value_counts().plot(kind='bar')\n",
    "\n",
    "plt.subplot2grid(fig_dims, (2, 1))\n",
    "df['Make'].value_counts().plot(kind='bar')"
   ]
  },
  {
   "cell_type": "code",
   "execution_count": 13,
   "metadata": {},
   "outputs": [
    {
     "data": {
      "text/plain": [
       "99761    3191\n",
       "18880    2852\n",
       "835      2398\n",
       "3453     2362\n",
       "22916    2285\n",
       "21053    2267\n",
       "19619    2173\n",
       "99750    2136\n",
       "20928    2099\n",
       "17675    2066\n",
       "21973    2010\n",
       "17212    2006\n",
       "20740    1895\n",
       "5546     1775\n",
       "18111    1707\n",
       "18822    1689\n",
       "8655     1688\n",
       "23359    1673\n",
       "20234    1641\n",
       "20833    1604\n",
       "19638    1490\n",
       "22808    1466\n",
       "18881    1380\n",
       "16044    1309\n",
       "25100    1308\n",
       "19662    1211\n",
       "20207    1068\n",
       "16926    1066\n",
       "52117     972\n",
       "8172      886\n",
       "         ... \n",
       "21047     117\n",
       "1191       83\n",
       "53245      67\n",
       "1051       55\n",
       "1151       54\n",
       "1045       52\n",
       "1085       43\n",
       "10310      39\n",
       "1081       30\n",
       "11410      28\n",
       "1031       26\n",
       "1121       17\n",
       "1141       14\n",
       "1156        9\n",
       "1035        9\n",
       "18091       9\n",
       "10410       8\n",
       "1125        7\n",
       "1055        7\n",
       "1082        5\n",
       "1152        5\n",
       "1041        5\n",
       "16369       5\n",
       "11210       4\n",
       "10510       3\n",
       "10420       3\n",
       "1157        1\n",
       "10425       1\n",
       "99741       1\n",
       "1086        1\n",
       "Name: BYRNO, Length: 72, dtype: int64"
      ]
     },
     "execution_count": 13,
     "metadata": {},
     "output_type": "execute_result"
    }
   ],
   "source": [
    "df['BYRNO'].value_counts()"
   ]
  },
  {
   "cell_type": "code",
   "execution_count": 14,
   "metadata": {},
   "outputs": [
    {
     "data": {
      "text/plain": [
       "RefId                   False\n",
       "IsBadBuy                False\n",
       "PurchDate               False\n",
       "Auction                 False\n",
       "VehYear                 False\n",
       "VehicleAge              False\n",
       "Make                    False\n",
       "Model                   False\n",
       "Trim                    False\n",
       "SubModel                False\n",
       "Color                   False\n",
       "Transmission            False\n",
       "WheelTypeID             False\n",
       "WheelType               False\n",
       "VehOdo                  False\n",
       "Nationality             False\n",
       "Size                    False\n",
       "TopThreeAmericanName    False\n",
       "AAAP                    False\n",
       "AACP                    False\n",
       "ARAP                    False\n",
       "ARCP                    False\n",
       "CAAP                    False\n",
       "CACP                    False\n",
       "CRAP                    False\n",
       "CRCP                    False\n",
       "PRIMEUNIT               False\n",
       "AUCGUART                False\n",
       "BYRNO                   False\n",
       "VNZIP1                  False\n",
       "VNST                    False\n",
       "VehBCost                False\n",
       "IsOnlineSale            False\n",
       "WarrantyCost            False\n",
       "dtype: bool"
      ]
     },
     "execution_count": 14,
     "metadata": {},
     "output_type": "execute_result"
    }
   ],
   "source": [
    "df.apply(lambda x : 'refID'==326)"
   ]
  },
  {
   "cell_type": "markdown",
   "metadata": {},
   "source": [
    "Adesso cerco di trovare alcuni valori sbagliati (prezzi < 0, prezzi anomali, cose così)"
   ]
  },
  {
   "cell_type": "code",
   "execution_count": 15,
   "metadata": {},
   "outputs": [
    {
     "data": {
      "text/plain": [
       "0"
      ]
     },
     "execution_count": 15,
     "metadata": {},
     "output_type": "execute_result"
    }
   ],
   "source": [
    "len(df[df['VehBCost'] <= 0]) # numero di elementi in cui il costo è <= 0"
   ]
  },
  {
   "cell_type": "code",
   "execution_count": 16,
   "metadata": {},
   "outputs": [
    {
     "data": {
      "text/plain": [
       "2919"
      ]
     },
     "execution_count": 16,
     "metadata": {},
     "output_type": "execute_result"
    }
   ],
   "source": [
    "len([(x, y) for x, y in zip(df['VehBCost'], df['ARCP']) if x > y and y != 0])\n",
    "#([(x, y, z, odo, year) for x, y, z, odo, year in zip(df['VehBCost'], df['ARCP'], df['Trim'], df['VehOdo'], df['VehYear']) if x > y and y != 0])"
   ]
  },
  {
   "cell_type": "markdown",
   "metadata": {},
   "source": [
    "Per vedere la lista basta che togliete il commento alla seconda linea.\n",
    "Non so a me questo sembra assurdo, però pare che sia normale. 2919 macchine sono state acquistate a prezzo maggiore rispetto a quello del concessionario. Questo vale anche per macchine comprate in opzione base ('Bas' nella terza colonna), e con alto chilometraggio. Ci ho messo anche l'anno del veicolo per far capire che non si tratta di auto d'epoca, quindi davvero non ho idea.\n",
    "Secondo me è una cosa che vale la pena scrivere nel report: macchine vengono anche acquistate a un prezzo maggiore del concessionario anche se usate. Unica cosa dobbiamo capire se in retail ci stanno anche auto usate, e allora quindi tutto questo discorso non vale nulla. Inizialmente speravo di usare questo come controllo che i dati fossero corretti, però..."
   ]
  },
  {
   "cell_type": "code",
   "execution_count": 17,
   "metadata": {},
   "outputs": [
    {
     "data": {
      "text/plain": [
       "0"
      ]
     },
     "execution_count": 17,
     "metadata": {},
     "output_type": "execute_result"
    }
   ],
   "source": [
    "len([(y, a) for y, a in zip(df['VehYear'], df['VehicleAge']) if a+y < 2009 or a+y > 2010]) # gli anni son tutti corretti"
   ]
  },
  {
   "cell_type": "code",
   "execution_count": 18,
   "metadata": {},
   "outputs": [
    {
     "data": {
      "text/plain": [
       "0"
      ]
     },
     "execution_count": 18,
     "metadata": {},
     "output_type": "execute_result"
    }
   ],
   "source": [
    "len(df[df['VehOdo'] <= 0]) # numero di elementi in cui il contakm è <= 0"
   ]
  },
  {
   "cell_type": "code",
   "execution_count": 19,
   "metadata": {},
   "outputs": [
    {
     "data": {
      "text/plain": [
       "0"
      ]
     },
     "execution_count": 19,
     "metadata": {},
     "output_type": "execute_result"
    }
   ],
   "source": [
    "len(df[df['WarrantyCost'] <= 0]) # numero di elementi in cui il costo della garanzia è <= 0"
   ]
  },
  {
   "cell_type": "markdown",
   "metadata": {},
   "source": [
    "Adesso verifico che in ogni caso, l'acquisto di un veicolo clean (above average condition) costi di più di quello medio (e infatti torna sempre perfetto in ogni caso"
   ]
  },
  {
   "cell_type": "code",
   "execution_count": 20,
   "metadata": {},
   "outputs": [
    {
     "data": {
      "text/plain": [
       "0"
      ]
     },
     "execution_count": 20,
     "metadata": {},
     "output_type": "execute_result"
    }
   ],
   "source": [
    "len([(x,y) for x,y in zip(df['AAAP'], df['AACP']) if x>y])"
   ]
  },
  {
   "cell_type": "code",
   "execution_count": 21,
   "metadata": {},
   "outputs": [
    {
     "data": {
      "text/plain": [
       "0"
      ]
     },
     "execution_count": 21,
     "metadata": {},
     "output_type": "execute_result"
    }
   ],
   "source": [
    "len([(x,y) for x,y in zip(df['ARAP'], df['ARCP']) if x>y])"
   ]
  },
  {
   "cell_type": "code",
   "execution_count": 22,
   "metadata": {},
   "outputs": [
    {
     "data": {
      "text/plain": [
       "0"
      ]
     },
     "execution_count": 22,
     "metadata": {},
     "output_type": "execute_result"
    }
   ],
   "source": [
    "len([(x,y) for x,y in zip(df['CAAP'], df['CACP']) if x>y])"
   ]
  },
  {
   "cell_type": "code",
   "execution_count": 23,
   "metadata": {},
   "outputs": [
    {
     "data": {
      "text/plain": [
       "0"
      ]
     },
     "execution_count": 23,
     "metadata": {},
     "output_type": "execute_result"
    }
   ],
   "source": [
    "len([(x,y) for x,y in zip(df['CRAP'], df['CRCP']) if x>y])"
   ]
  },
  {
   "cell_type": "markdown",
   "metadata": {},
   "source": [
    "A questo punto cerco di risolvere qualche missing value:\n",
    "Tutti i currentAuction hanno 250 missing values circa. Pensavo di sostituire, quando quelli medi sono disponibili, current con quelli medi"
   ]
  },
  {
   "cell_type": "code",
   "execution_count": 24,
   "metadata": {},
   "outputs": [
    {
     "name": "stdout",
     "output_type": "stream",
     "text": [
      "nan\n"
     ]
    },
    {
     "data": {
      "text/plain": [
       "245"
      ]
     },
     "execution_count": 24,
     "metadata": {},
     "output_type": "execute_result"
    }
   ],
   "source": [
    "print(df.at[292, 'CAAP']) # abbiamo 245 missing values, e quello alla riga 292 è un missing value\n",
    "df['CAAP'].isnull().sum()"
   ]
  },
  {
   "cell_type": "code",
   "execution_count": 25,
   "metadata": {},
   "outputs": [
    {
     "name": "stdout",
     "output_type": "stream",
     "text": [
      "13\n",
      "True\n"
     ]
    }
   ],
   "source": [
    "df['CAAP'].fillna(df['AAAP'],inplace=True)\n",
    "print(df['CAAP'].isnull().sum()) # ho 13 missing values, che sono quelli di cui mi manca anche il valore medio\n",
    "print(df.at[292, 'CAAP'] == df.at[292, 'AAAP']) # Ha correttamente riempito CAAP con il valore in AAAP all'id 292"
   ]
  },
  {
   "cell_type": "markdown",
   "metadata": {},
   "source": [
    "Adesso devo fare la stessa cosa per gli altri current values"
   ]
  },
  {
   "cell_type": "code",
   "execution_count": 26,
   "metadata": {},
   "outputs": [],
   "source": [
    "df['CRAP'].fillna(df['ARAP'],inplace=True)\n",
    "df['CACP'].fillna(df['AACP'],inplace=True)\n",
    "df['CRCP'].fillna(df['ARCP'],inplace=True)"
   ]
  },
  {
   "cell_type": "markdown",
   "metadata": {},
   "source": [
    "Qua secondo me è simpatico per far  notare che in generale i bad buy si trovano in 3 zone\n",
    "- Su macchine praticamente nuove (contakm basso e costo garanzia basso)\n",
    "- Su macchine usate e rischiose (garanzia alta, contakm intorno a 40000-80000\n",
    "- Su macchine stra usate"
   ]
  },
  {
   "cell_type": "code",
   "execution_count": 27,
   "metadata": {},
   "outputs": [
    {
     "data": {
      "image/png": "[encoded data removed]",
      "text/plain": [
       "<Figure size 432x288 with 1 Axes>"
      ]
     },
     "metadata": {
      "needs_background": "light"
     },
     "output_type": "display_data"
    }
   ],
   "source": [
    "plt.scatter(df[df['IsBadBuy'] == 0]['VehOdo'], \n",
    "            df[df['IsBadBuy'] == 0]['WarrantyCost'], color='g', marker='*', label='Bad Buy')\n",
    "plt.scatter(df[df['IsBadBuy'] == 1]['VehOdo'], \n",
    "            df[df['IsBadBuy'] == 1]['WarrantyCost'], color='r',label='Good Buy')\n",
    "plt.xlabel('VehOdo')\n",
    "plt.ylabel('WarrantyCost')\n",
    "plt.legend()\n",
    "plt.show()"
   ]
  },
  {
   "cell_type": "code",
   "execution_count": 28,
   "metadata": {},
   "outputs": [
    {
     "data": {
      "image/png": "[encoded data removed]",
      "text/plain": [
       "<Figure size 432x288 with 1 Axes>"
      ]
     },
     "metadata": {
      "needs_background": "light"
     },
     "output_type": "display_data"
    }
   ],
   "source": [
    "df['VehBCost'].hist(bins=50)\n",
    "plt.show()"
   ]
  },
  {
   "cell_type": "code",
   "execution_count": 29,
   "metadata": {},
   "outputs": [
    {
     "data": {
      "image/png": "[encoded data removed]",
      "text/plain": [
       "<Figure size 432x288 with 1 Axes>"
      ]
     },
     "metadata": {
      "needs_background": "light"
     },
     "output_type": "display_data"
    }
   ],
   "source": [
    "df['VehOdo'].hist(bins=16)\n",
    "plt.show()"
   ]
  },
  {
   "cell_type": "code",
   "execution_count": 30,
   "metadata": {},
   "outputs": [
    {
     "data": {
      "image/png": "[encoded data removed]",
      "text/plain": [
       "<Figure size 432x288 with 1 Axes>"
      ]
     },
     "metadata": {
      "needs_background": "light"
     },
     "output_type": "display_data"
    }
   ],
   "source": [
    "df['WarrantyCost'].hist(bins=16)\n",
    "plt.show()"
   ]
  },
  {
   "cell_type": "markdown",
   "metadata": {},
   "source": [
    "## Variable Sostitution & Redundancy Elimination"
   ]
  },
  {
   "cell_type": "code",
   "execution_count": 31,
   "metadata": {},
   "outputs": [],
   "source": [
    "PAC = ['WA' ,'OR','AK','HI','CA']\n",
    "MNT = ['MT' ,'WY','ID','NV','UT','CO','AZ','NM']\n",
    "WNC = ['ND' ,'MN','SD','IA','NE','KS','MO']\n",
    "WSC = ['OK' ,'AR','TX','LA']\n",
    "ENC = ['WI' ,'MI','OH','IN','IL']\n",
    "ESC = ['KY' ,'TN','MS','AL']\n",
    "MAT = ['NY' ,'PA','NJ']\n",
    "SAT = ['WV' ,'MD','DE','DC','VA','NC','SC','GA','FL']\n",
    "NEN = ['ME' ,'NH','VT','MA','CT','RI']"
   ]
  },
  {
   "cell_type": "code",
   "execution_count": 32,
   "metadata": {},
   "outputs": [],
   "source": [
    "sost = []\n",
    "for i in df['VNST']:\n",
    "    if i in PAC:\n",
    "        sost.append('PAC')\n",
    "    elif i in MNT:\n",
    "        sost.append('MNT')\n",
    "    elif i in WNC:\n",
    "        sost.append('WNC')\n",
    "    elif i in WSC:\n",
    "        sost.append('WSC')\n",
    "    elif i in ENC:\n",
    "        sost.append('ENC')\n",
    "    elif i in ESC:\n",
    "        sost.append('ESC')\n",
    "    elif i in MAT:\n",
    "        sost.append('MAT')\n",
    "    elif i in SAT:\n",
    "        sost.append('SAT')\n",
    "    elif i in NEN:\n",
    "        sost.append('NEN')\n",
    "    else:\n",
    "        sost.append('XXX')\n",
    "\n",
    "df['Region'] = sost"
   ]
  },
  {
   "cell_type": "code",
   "execution_count": 33,
   "metadata": {},
   "outputs": [
    {
     "data": {
      "image/png": "[encoded data removed]",
      "text/plain": [
       "<Figure size 432x288 with 1 Axes>"
      ]
     },
     "metadata": {},
     "output_type": "display_data"
    }
   ],
   "source": [
    "plot = df['Region'].value_counts().plot.pie(legend=True,autopct='%1.1f%%',textprops=dict(color=\"w\",size=\"12\"))\n",
    "plot.legend(bbox_to_anchor=(1.2,1), loc=\"upper left\")\n",
    "plot.axes.get_yaxis().set_visible(False)"
   ]
  },
  {
   "cell_type": "code",
   "execution_count": 34,
   "metadata": {},
   "outputs": [
    {
     "data": {
      "image/png": "[encoded data removed]",
      "text/plain": [
       "<Figure size 432x288 with 1 Axes>"
      ]
     },
     "metadata": {
      "needs_background": "light"
     },
     "output_type": "display_data"
    }
   ],
   "source": [
    "plot = df['Region'].value_counts().plot(kind='bar')"
   ]
  },
  {
   "cell_type": "code",
   "execution_count": 35,
   "metadata": {},
   "outputs": [
    {
     "data": {
      "image/png": "[encoded data removed]",
      "text/plain": [
       "<Figure size 432x288 with 1 Axes>"
      ]
     },
     "metadata": {},
     "output_type": "display_data"
    }
   ],
   "source": [
    "sost = []\n",
    "\n",
    "df['Trim'].fillna('NaN', inplace=True)\n",
    "\n",
    "for i in df['Trim']:\n",
    "    if i == 'Bas':\n",
    "        sost.append('YES')\n",
    "    elif i == 'NaN':\n",
    "        sost.append('UNKNOWN')\n",
    "    else:\n",
    "        sost.append(\"NO\")\n",
    "\n",
    "df['IsBase'] = sost\n",
    "plot = df['IsBase'].value_counts().plot.pie(legend=True,autopct='%1.1f%%',textprops=dict(color=\"w\",size=\"12\"))\n",
    "plot.legend(bbox_to_anchor=(1.2,1), loc=\"upper left\")\n",
    "plot.axes.get_yaxis().set_visible(False)"
   ]
  },
  {
   "cell_type": "markdown",
   "metadata": {},
   "source": [
    "# CLUSTERING"
   ]
  },
  {
   "cell_type": "code",
   "execution_count": 36,
   "metadata": {},
   "outputs": [],
   "source": [
    "from sklearn.preprocessing import StandardScaler, MinMaxScaler"
   ]
  },
  {
   "cell_type": "code",
   "execution_count": 37,
   "metadata": {},
   "outputs": [
    {
     "data": {
      "text/html": [
       "<div>\n",
       "<style scoped>\n",
       "    .dataframe tbody tr th:only-of-type {\n",
       "        vertical-align: middle;\n",
       "    }\n",
       "\n",
       "    .dataframe tbody tr th {\n",
       "        vertical-align: top;\n",
       "    }\n",
       "\n",
       "    .dataframe thead th {\n",
       "        text-align: right;\n",
       "    }\n",
       "</style>\n",
       "<table border=\"1\" class=\"dataframe\">\n",
       "  <thead>\n",
       "    <tr style=\"text-align: right;\">\n",
       "      <th></th>\n",
       "      <th>VehOdo</th>\n",
       "      <th>AAAP</th>\n",
       "      <th>AACP</th>\n",
       "      <th>ARAP</th>\n",
       "      <th>ARCP</th>\n",
       "      <th>CAAP</th>\n",
       "      <th>CACP</th>\n",
       "      <th>CRAP</th>\n",
       "      <th>CRCP</th>\n",
       "      <th>VehBCost</th>\n",
       "      <th>WarrantyCost</th>\n",
       "    </tr>\n",
       "  </thead>\n",
       "  <tbody>\n",
       "    <tr>\n",
       "      <th>0</th>\n",
       "      <td>61184</td>\n",
       "      <td>6796.0</td>\n",
       "      <td>7555.0</td>\n",
       "      <td>10140.0</td>\n",
       "      <td>10805.0</td>\n",
       "      <td>6628.0</td>\n",
       "      <td>7535.0</td>\n",
       "      <td>9605.0</td>\n",
       "      <td>10650.0</td>\n",
       "      <td>6100.0</td>\n",
       "      <td>533</td>\n",
       "    </tr>\n",
       "    <tr>\n",
       "      <th>1</th>\n",
       "      <td>92383</td>\n",
       "      <td>5480.0</td>\n",
       "      <td>6461.0</td>\n",
       "      <td>6418.0</td>\n",
       "      <td>7478.0</td>\n",
       "      <td>5480.0</td>\n",
       "      <td>6461.0</td>\n",
       "      <td>6418.0</td>\n",
       "      <td>7478.0</td>\n",
       "      <td>4000.0</td>\n",
       "      <td>1630</td>\n",
       "    </tr>\n",
       "    <tr>\n",
       "      <th>2</th>\n",
       "      <td>45965</td>\n",
       "      <td>8067.0</td>\n",
       "      <td>8580.0</td>\n",
       "      <td>11073.0</td>\n",
       "      <td>11652.0</td>\n",
       "      <td>7497.0</td>\n",
       "      <td>8102.0</td>\n",
       "      <td>10721.0</td>\n",
       "      <td>11350.0</td>\n",
       "      <td>7500.0</td>\n",
       "      <td>693</td>\n",
       "    </tr>\n",
       "    <tr>\n",
       "      <th>3</th>\n",
       "      <td>80169</td>\n",
       "      <td>4817.0</td>\n",
       "      <td>6658.0</td>\n",
       "      <td>5702.0</td>\n",
       "      <td>7691.0</td>\n",
       "      <td>4817.0</td>\n",
       "      <td>6658.0</td>\n",
       "      <td>5702.0</td>\n",
       "      <td>7691.0</td>\n",
       "      <td>4725.0</td>\n",
       "      <td>1633</td>\n",
       "    </tr>\n",
       "    <tr>\n",
       "      <th>4</th>\n",
       "      <td>77372</td>\n",
       "      <td>5430.0</td>\n",
       "      <td>6633.0</td>\n",
       "      <td>6364.0</td>\n",
       "      <td>7664.0</td>\n",
       "      <td>5370.0</td>\n",
       "      <td>6811.0</td>\n",
       "      <td>6300.0</td>\n",
       "      <td>7856.0</td>\n",
       "      <td>5670.0</td>\n",
       "      <td>1623</td>\n",
       "    </tr>\n",
       "  </tbody>\n",
       "</table>\n",
       "</div>"
      ],
      "text/plain": [
       "   VehOdo    AAAP    AACP     ARAP     ARCP    CAAP    CACP     CRAP     CRCP  \\\n",
       "0   61184  6796.0  7555.0  10140.0  10805.0  6628.0  7535.0   9605.0  10650.0   \n",
       "1   92383  5480.0  6461.0   6418.0   7478.0  5480.0  6461.0   6418.0   7478.0   \n",
       "2   45965  8067.0  8580.0  11073.0  11652.0  7497.0  8102.0  10721.0  11350.0   \n",
       "3   80169  4817.0  6658.0   5702.0   7691.0  4817.0  6658.0   5702.0   7691.0   \n",
       "4   77372  5430.0  6633.0   6364.0   7664.0  5370.0  6811.0   6300.0   7856.0   \n",
       "\n",
       "   VehBCost  WarrantyCost  \n",
       "0    6100.0           533  \n",
       "1    4000.0          1630  \n",
       "2    7500.0           693  \n",
       "3    4725.0          1633  \n",
       "4    5670.0          1623  "
      ]
     },
     "execution_count": 37,
     "metadata": {},
     "output_type": "execute_result"
    }
   ],
   "source": [
    "df_clus = df.drop(columns=['RefId',\n",
    "        'PurchDate',\n",
    "        'IsBadBuy',\n",
    "        'Auction',\n",
    "        'Make',\n",
    "        'Model',\n",
    "        'Trim',\n",
    "        'WheelTypeID',\n",
    "        'WheelType',\n",
    "        'Nationality',\n",
    "        'Size',\n",
    "        'Color',\n",
    "        'Transmission',\n",
    "        'PRIMEUNIT',\n",
    "        'AUCGUART',\n",
    "        'BYRNO',\n",
    "        'VNST',\n",
    "        'TopThreeAmericanName',\n",
    "        'SubModel',\n",
    "        'VehYear',\n",
    "        'VNZIP1',\n",
    "        'VehicleAge',\n",
    "        'IsOnlineSale',\n",
    "        'Region',\n",
    "        'IsBase'])\n",
    "df_clus.dropna(inplace=True)\n",
    "len(df_clus)\n",
    "df_clus.head()"
   ]
  },
  {
   "cell_type": "markdown",
   "metadata": {},
   "source": [
    "## K-Means with Z-Score"
   ]
  },
  {
   "cell_type": "code",
   "execution_count": 38,
   "metadata": {},
   "outputs": [],
   "source": [
    "scaler = StandardScaler()\n",
    "z_df_clus = scaler.fit_transform(df_clus.values)"
   ]
  },
  {
   "cell_type": "code",
   "execution_count": 39,
   "metadata": {},
   "outputs": [],
   "source": [
    "from sklearn.cluster import KMeans\n",
    "from sklearn.metrics import silhouette_score"
   ]
  },
  {
   "cell_type": "code",
   "execution_count": 40,
   "metadata": {},
   "outputs": [
    {
     "data": {
      "text/plain": [
       "KMeans(algorithm='auto', copy_x=True, init='k-means++', max_iter=500,\n",
       "       n_clusters=5, n_init=50, n_jobs=None, precompute_distances='auto',\n",
       "       random_state=None, tol=0.0001, verbose=0)"
      ]
     },
     "execution_count": 40,
     "metadata": {},
     "output_type": "execute_result"
    }
   ],
   "source": [
    "kmeans = KMeans(n_clusters=5, n_init=50, max_iter=500)\n",
    "kmeans.fit(z_df_clus)"
   ]
  },
  {
   "cell_type": "code",
   "execution_count": 41,
   "metadata": {},
   "outputs": [
    {
     "data": {
      "text/plain": [
       "<matplotlib.collections.PathCollection at 0x1a247dd6d8>"
      ]
     },
     "execution_count": 41,
     "metadata": {},
     "output_type": "execute_result"
    },
    {
     "data": {
      "image/png": "[encoded data removed]",
      "text/plain": [
       "<Figure size 432x288 with 1 Axes>"
      ]
     },
     "metadata": {
      "needs_background": "light"
     },
     "output_type": "display_data"
    }
   ],
   "source": [
    "plt.scatter(df_clus['WarrantyCost'], df_clus['VehBCost'], \n",
    "            c=kmeans.labels_, s=60)"
   ]
  },
  {
   "cell_type": "markdown",
   "metadata": {},
   "source": [
    "## K-Means with MinMax"
   ]
  },
  {
   "cell_type": "code",
   "execution_count": 42,
   "metadata": {},
   "outputs": [],
   "source": [
    "scaler = MinMaxScaler()\n",
    "minmax_df_clus = scaler.fit_transform(df_clus.values)"
   ]
  },
  {
   "cell_type": "code",
   "execution_count": 43,
   "metadata": {},
   "outputs": [
    {
     "data": {
      "text/plain": [
       "KMeans(algorithm='auto', copy_x=True, init='k-means++', max_iter=500,\n",
       "       n_clusters=5, n_init=50, n_jobs=None, precompute_distances='auto',\n",
       "       random_state=None, tol=0.0001, verbose=0)"
      ]
     },
     "execution_count": 43,
     "metadata": {},
     "output_type": "execute_result"
    }
   ],
   "source": [
    "kmeans_2 = KMeans(n_clusters=5, n_init=50, max_iter=500)\n",
    "kmeans_2.fit(minmax_df_clus)"
   ]
  },
  {
   "cell_type": "code",
   "execution_count": 44,
   "metadata": {},
   "outputs": [
    {
     "data": {
      "text/plain": [
       "<matplotlib.collections.PathCollection at 0x1a24b50d30>"
      ]
     },
     "execution_count": 44,
     "metadata": {},
     "output_type": "execute_result"
    },
    {
     "data": {
      "image/png": "[encoded data removed]",
      "text/plain": [
       "<Figure size 432x288 with 1 Axes>"
      ]
     },
     "metadata": {
      "needs_background": "light"
     },
     "output_type": "display_data"
    }
   ],
   "source": [
    "plt.scatter(df_clus['WarrantyCost'], df_clus['VehBCost'], \n",
    "            c=kmeans_2.labels_, s=60)"
   ]
  },
  {
   "cell_type": "markdown",
   "metadata": {},
   "source": [
    "## DBSCAN"
   ]
  },
  {
   "cell_type": "markdown",
   "metadata": {},
   "source": [
    "from sklearn.cluster import DBSCAN"
   ]
  },
  {
   "cell_type": "markdown",
   "metadata": {},
   "source": [
    "dbscan = DBSCAN(eps=0.3, min_samples=5)\n",
    "dbscan.fit(x_)"
   ]
  },
  {
   "cell_type": "markdown",
   "metadata": {},
   "source": [
    "plt.scatter(df_['WarrantyCost'], df_['VehBCost'], \n",
    "            c=dbscan.labels_, s=20)\n",
    "plt.tick_params(axis='both', which='major')\n",
    "plt.show()"
   ]
  }
 ],
 "metadata": {
  "file_extension": ".py",
  "kernelspec": {
   "display_name": "Python 3",
   "language": "python",
   "name": "python3"
  },
  "language_info": {
   "codemirror_mode": {
    "name": "ipython",
    "version": 3
   },
   "file_extension": ".py",
   "mimetype": "text/x-python",
   "name": "python",
   "nbconvert_exporter": "python",
   "pygments_lexer": "ipython3",
   "version": "3.7.3"
  },
  "mimetype": "text/x-python",
  "name": "python",
  "npconvert_exporter": "python",
  "pygments_lexer": "ipython3",
  "version": 3
 },
 "nbformat": 4,
 "nbformat_minor": 2
}
