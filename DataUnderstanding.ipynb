{
 "cells": [
  {
   "cell_type": "markdown",
   "metadata": {},
   "source": [
    "Data Mining 2019/20"
   ]
  },
  {
   "cell_type": "code",
   "execution_count": 17,
   "metadata": {},
   "outputs": [],
   "source": [
    "%matplotlib inline\n",
    "import math\n",
    "import numpy as np\n",
    "import pandas as pd\n",
    "import scipy.stats as stats\n",
    "import matplotlib.pyplot as plt\n",
    "import seaborn as sns\n",
    "\n",
    "from collections import defaultdict\n",
    "from scipy.stats.stats import pearsonr"
   ]
  },
  {
   "cell_type": "code",
   "execution_count": 18,
   "metadata": {},
   "outputs": [],
   "source": [
    "df = pd.read_csv('test.csv')"
   ]
  },
  {
   "cell_type": "code",
   "execution_count": 19,
   "metadata": {},
   "outputs": [
    {
     "data": {
      "text/html": [
       "<div>\n",
       "<style scoped>\n",
       "    .dataframe tbody tr th:only-of-type {\n",
       "        vertical-align: middle;\n",
       "    }\n",
       "\n",
       "    .dataframe tbody tr th {\n",
       "        vertical-align: top;\n",
       "    }\n",
       "\n",
       "    .dataframe thead th {\n",
       "        text-align: right;\n",
       "    }\n",
       "</style>\n",
       "<table border=\"1\" class=\"dataframe\">\n",
       "  <thead>\n",
       "    <tr style=\"text-align: right;\">\n",
       "      <th></th>\n",
       "      <th>RefId</th>\n",
       "      <th>IsBadBuy</th>\n",
       "      <th>PurchDate</th>\n",
       "      <th>Auction</th>\n",
       "      <th>VehYear</th>\n",
       "      <th>VehicleAge</th>\n",
       "      <th>Make</th>\n",
       "      <th>Model</th>\n",
       "      <th>Trim</th>\n",
       "      <th>SubModel</th>\n",
       "      <th>...</th>\n",
       "      <th>MMRCurrentRetailAveragePrice</th>\n",
       "      <th>MMRCurrentRetailCleanPrice</th>\n",
       "      <th>PRIMEUNIT</th>\n",
       "      <th>AUCGUART</th>\n",
       "      <th>BYRNO</th>\n",
       "      <th>VNZIP1</th>\n",
       "      <th>VNST</th>\n",
       "      <th>VehBCost</th>\n",
       "      <th>IsOnlineSale</th>\n",
       "      <th>WarrantyCost</th>\n",
       "    </tr>\n",
       "  </thead>\n",
       "  <tbody>\n",
       "    <tr>\n",
       "      <th>0</th>\n",
       "      <td>5951</td>\n",
       "      <td>0</td>\n",
       "      <td>10/26/2010</td>\n",
       "      <td>MANHEIM</td>\n",
       "      <td>2003</td>\n",
       "      <td>7</td>\n",
       "      <td>CHEVROLET</td>\n",
       "      <td>AVALANCHE 1500 2WD V</td>\n",
       "      <td>150</td>\n",
       "      <td>4D SUV-PICKUP 5.3L</td>\n",
       "      <td>...</td>\n",
       "      <td>11726.0</td>\n",
       "      <td>13312.0</td>\n",
       "      <td>YES</td>\n",
       "      <td>GREEN</td>\n",
       "      <td>835</td>\n",
       "      <td>85040</td>\n",
       "      <td>AZ</td>\n",
       "      <td>11390.0</td>\n",
       "      <td>0</td>\n",
       "      <td>1572</td>\n",
       "    </tr>\n",
       "    <tr>\n",
       "      <th>1</th>\n",
       "      <td>42116</td>\n",
       "      <td>0</td>\n",
       "      <td>1/27/2010</td>\n",
       "      <td>OTHER</td>\n",
       "      <td>2006</td>\n",
       "      <td>4</td>\n",
       "      <td>FORD</td>\n",
       "      <td>MUSTANG V6</td>\n",
       "      <td>Bas</td>\n",
       "      <td>2D COUPE</td>\n",
       "      <td>...</td>\n",
       "      <td>12940.0</td>\n",
       "      <td>14160.0</td>\n",
       "      <td>NaN</td>\n",
       "      <td>NaN</td>\n",
       "      <td>17675</td>\n",
       "      <td>27407</td>\n",
       "      <td>NC</td>\n",
       "      <td>7700.0</td>\n",
       "      <td>0</td>\n",
       "      <td>803</td>\n",
       "    </tr>\n",
       "    <tr>\n",
       "      <th>2</th>\n",
       "      <td>5554</td>\n",
       "      <td>0</td>\n",
       "      <td>9/3/2009</td>\n",
       "      <td>MANHEIM</td>\n",
       "      <td>2004</td>\n",
       "      <td>5</td>\n",
       "      <td>DODGE</td>\n",
       "      <td>STRATUS V6</td>\n",
       "      <td>ES</td>\n",
       "      <td>4D SEDAN</td>\n",
       "      <td>...</td>\n",
       "      <td>3528.0</td>\n",
       "      <td>4842.0</td>\n",
       "      <td>NaN</td>\n",
       "      <td>NaN</td>\n",
       "      <td>99740</td>\n",
       "      <td>85040</td>\n",
       "      <td>AZ</td>\n",
       "      <td>5700.0</td>\n",
       "      <td>0</td>\n",
       "      <td>1389</td>\n",
       "    </tr>\n",
       "    <tr>\n",
       "      <th>3</th>\n",
       "      <td>25195</td>\n",
       "      <td>0</td>\n",
       "      <td>1/21/2010</td>\n",
       "      <td>OTHER</td>\n",
       "      <td>2004</td>\n",
       "      <td>6</td>\n",
       "      <td>HYUNDAI</td>\n",
       "      <td>TIBURON</td>\n",
       "      <td>Bas</td>\n",
       "      <td>2D COUPE</td>\n",
       "      <td>...</td>\n",
       "      <td>7654.0</td>\n",
       "      <td>9286.0</td>\n",
       "      <td>NaN</td>\n",
       "      <td>NaN</td>\n",
       "      <td>3453</td>\n",
       "      <td>80229</td>\n",
       "      <td>CO</td>\n",
       "      <td>5155.0</td>\n",
       "      <td>0</td>\n",
       "      <td>920</td>\n",
       "    </tr>\n",
       "    <tr>\n",
       "      <th>4</th>\n",
       "      <td>51232</td>\n",
       "      <td>0</td>\n",
       "      <td>3/18/2009</td>\n",
       "      <td>MANHEIM</td>\n",
       "      <td>2004</td>\n",
       "      <td>5</td>\n",
       "      <td>CHEVROLET</td>\n",
       "      <td>TRAILBLAZER 2WD 6C 4</td>\n",
       "      <td>Nor</td>\n",
       "      <td>4D SUV 4.2L LT</td>\n",
       "      <td>...</td>\n",
       "      <td>7158.0</td>\n",
       "      <td>8379.0</td>\n",
       "      <td>NaN</td>\n",
       "      <td>NaN</td>\n",
       "      <td>22916</td>\n",
       "      <td>80011</td>\n",
       "      <td>CO</td>\n",
       "      <td>6785.0</td>\n",
       "      <td>0</td>\n",
       "      <td>1155</td>\n",
       "    </tr>\n",
       "  </tbody>\n",
       "</table>\n",
       "<p>5 rows × 34 columns</p>\n",
       "</div>"
      ],
      "text/plain": [
       "   RefId  IsBadBuy   PurchDate  Auction  VehYear  VehicleAge       Make  \\\n",
       "0   5951         0  10/26/2010  MANHEIM     2003           7  CHEVROLET   \n",
       "1  42116         0   1/27/2010    OTHER     2006           4       FORD   \n",
       "2   5554         0    9/3/2009  MANHEIM     2004           5      DODGE   \n",
       "3  25195         0   1/21/2010    OTHER     2004           6    HYUNDAI   \n",
       "4  51232         0   3/18/2009  MANHEIM     2004           5  CHEVROLET   \n",
       "\n",
       "                  Model Trim            SubModel  ...  \\\n",
       "0  AVALANCHE 1500 2WD V  150  4D SUV-PICKUP 5.3L  ...   \n",
       "1            MUSTANG V6  Bas            2D COUPE  ...   \n",
       "2            STRATUS V6   ES            4D SEDAN  ...   \n",
       "3               TIBURON  Bas            2D COUPE  ...   \n",
       "4  TRAILBLAZER 2WD 6C 4  Nor      4D SUV 4.2L LT  ...   \n",
       "\n",
       "  MMRCurrentRetailAveragePrice MMRCurrentRetailCleanPrice  PRIMEUNIT AUCGUART  \\\n",
       "0                      11726.0                    13312.0        YES    GREEN   \n",
       "1                      12940.0                    14160.0        NaN      NaN   \n",
       "2                       3528.0                     4842.0        NaN      NaN   \n",
       "3                       7654.0                     9286.0        NaN      NaN   \n",
       "4                       7158.0                     8379.0        NaN      NaN   \n",
       "\n",
       "   BYRNO VNZIP1 VNST VehBCost  IsOnlineSale  WarrantyCost  \n",
       "0    835  85040   AZ  11390.0             0          1572  \n",
       "1  17675  27407   NC   7700.0             0           803  \n",
       "2  99740  85040   AZ   5700.0             0          1389  \n",
       "3   3453  80229   CO   5155.0             0           920  \n",
       "4  22916  80011   CO   6785.0             0          1155  \n",
       "\n",
       "[5 rows x 34 columns]"
      ]
     },
     "execution_count": 19,
     "metadata": {},
     "output_type": "execute_result"
    }
   ],
   "source": [
    "df.head()"
   ]
  },
  {
   "cell_type": "markdown",
   "metadata": {},
   "source": [
    "I tipi mi sembrano tutti giusti, considerando che degli attributi che sono int64 o float64, gli unici di cui ha senso calcolare la media sono tutti gli MMR, VehBCost, WarrantyCost, e volendo anche vehOdo, vehYear e vehAge. Gli altri son tutti o contatori (refId e BYRNO) o categorie (tutti gli altri)"
   ]
  },
  {
   "cell_type": "code",
   "execution_count": 20,
   "metadata": {},
   "outputs": [
    {
     "data": {
      "text/html": [
       "<div>\n",
       "<style scoped>\n",
       "    .dataframe tbody tr th:only-of-type {\n",
       "        vertical-align: middle;\n",
       "    }\n",
       "\n",
       "    .dataframe tbody tr th {\n",
       "        vertical-align: top;\n",
       "    }\n",
       "\n",
       "    .dataframe thead th {\n",
       "        text-align: right;\n",
       "    }\n",
       "</style>\n",
       "<table border=\"1\" class=\"dataframe\">\n",
       "  <thead>\n",
       "    <tr style=\"text-align: right;\">\n",
       "      <th></th>\n",
       "      <th>RefId</th>\n",
       "      <th>IsBadBuy</th>\n",
       "      <th>VehYear</th>\n",
       "      <th>VehicleAge</th>\n",
       "      <th>WheelTypeID</th>\n",
       "      <th>VehOdo</th>\n",
       "      <th>MMRAcquisitionAuctionAveragePrice</th>\n",
       "      <th>MMRAcquisitionAuctionCleanPrice</th>\n",
       "      <th>MMRAcquisitionRetailAveragePrice</th>\n",
       "      <th>MMRAcquisitonRetailCleanPrice</th>\n",
       "      <th>MMRCurrentAuctionAveragePrice</th>\n",
       "      <th>MMRCurrentAuctionCleanPrice</th>\n",
       "      <th>MMRCurrentRetailAveragePrice</th>\n",
       "      <th>MMRCurrentRetailCleanPrice</th>\n",
       "      <th>BYRNO</th>\n",
       "      <th>VNZIP1</th>\n",
       "      <th>VehBCost</th>\n",
       "      <th>IsOnlineSale</th>\n",
       "      <th>WarrantyCost</th>\n",
       "    </tr>\n",
       "  </thead>\n",
       "  <tbody>\n",
       "    <tr>\n",
       "      <th>count</th>\n",
       "      <td>14597.000000</td>\n",
       "      <td>14597.000000</td>\n",
       "      <td>14597.000000</td>\n",
       "      <td>14597.000000</td>\n",
       "      <td>14001.000000</td>\n",
       "      <td>14597.000000</td>\n",
       "      <td>14592.000000</td>\n",
       "      <td>14592.000000</td>\n",
       "      <td>14592.000000</td>\n",
       "      <td>14592.000000</td>\n",
       "      <td>14527.000000</td>\n",
       "      <td>14527.000000</td>\n",
       "      <td>14527.000000</td>\n",
       "      <td>14527.000000</td>\n",
       "      <td>14597.000000</td>\n",
       "      <td>14597.000000</td>\n",
       "      <td>14597.000000</td>\n",
       "      <td>14597.000000</td>\n",
       "      <td>14597.000000</td>\n",
       "    </tr>\n",
       "    <tr>\n",
       "      <th>mean</th>\n",
       "      <td>36285.596424</td>\n",
       "      <td>0.121121</td>\n",
       "      <td>2005.336713</td>\n",
       "      <td>4.183394</td>\n",
       "      <td>1.489251</td>\n",
       "      <td>71587.614510</td>\n",
       "      <td>6132.034539</td>\n",
       "      <td>7376.529605</td>\n",
       "      <td>8496.017338</td>\n",
       "      <td>9847.568668</td>\n",
       "      <td>6133.740759</td>\n",
       "      <td>7393.576169</td>\n",
       "      <td>8774.355407</td>\n",
       "      <td>10146.018793</td>\n",
       "      <td>26292.446530</td>\n",
       "      <td>57714.278208</td>\n",
       "      <td>6734.638166</td>\n",
       "      <td>0.023704</td>\n",
       "      <td>1278.484689</td>\n",
       "    </tr>\n",
       "    <tr>\n",
       "      <th>std</th>\n",
       "      <td>21016.286354</td>\n",
       "      <td>0.326279</td>\n",
       "      <td>1.723049</td>\n",
       "      <td>1.705746</td>\n",
       "      <td>0.523220</td>\n",
       "      <td>14529.733127</td>\n",
       "      <td>2483.401798</td>\n",
       "      <td>2750.350890</td>\n",
       "      <td>3177.027113</td>\n",
       "      <td>3413.564542</td>\n",
       "      <td>2444.217648</td>\n",
       "      <td>2702.043233</td>\n",
       "      <td>3108.075547</td>\n",
       "      <td>3332.755750</td>\n",
       "      <td>25365.376206</td>\n",
       "      <td>26169.282500</td>\n",
       "      <td>1790.800520</td>\n",
       "      <td>0.152129</td>\n",
       "      <td>598.708956</td>\n",
       "    </tr>\n",
       "    <tr>\n",
       "      <th>min</th>\n",
       "      <td>16.000000</td>\n",
       "      <td>0.000000</td>\n",
       "      <td>2001.000000</td>\n",
       "      <td>0.000000</td>\n",
       "      <td>0.000000</td>\n",
       "      <td>8706.000000</td>\n",
       "      <td>0.000000</td>\n",
       "      <td>0.000000</td>\n",
       "      <td>0.000000</td>\n",
       "      <td>0.000000</td>\n",
       "      <td>0.000000</td>\n",
       "      <td>0.000000</td>\n",
       "      <td>0.000000</td>\n",
       "      <td>0.000000</td>\n",
       "      <td>835.000000</td>\n",
       "      <td>2764.000000</td>\n",
       "      <td>1920.000000</td>\n",
       "      <td>0.000000</td>\n",
       "      <td>462.000000</td>\n",
       "    </tr>\n",
       "    <tr>\n",
       "      <th>25%</th>\n",
       "      <td>18220.000000</td>\n",
       "      <td>0.000000</td>\n",
       "      <td>2004.000000</td>\n",
       "      <td>3.000000</td>\n",
       "      <td>1.000000</td>\n",
       "      <td>62006.000000</td>\n",
       "      <td>4267.750000</td>\n",
       "      <td>5396.750000</td>\n",
       "      <td>6282.750000</td>\n",
       "      <td>7478.000000</td>\n",
       "      <td>4273.000000</td>\n",
       "      <td>5410.000000</td>\n",
       "      <td>6525.000000</td>\n",
       "      <td>7767.500000</td>\n",
       "      <td>17675.000000</td>\n",
       "      <td>30331.000000</td>\n",
       "      <td>5440.000000</td>\n",
       "      <td>0.000000</td>\n",
       "      <td>853.000000</td>\n",
       "    </tr>\n",
       "    <tr>\n",
       "      <th>50%</th>\n",
       "      <td>36174.000000</td>\n",
       "      <td>0.000000</td>\n",
       "      <td>2005.000000</td>\n",
       "      <td>4.000000</td>\n",
       "      <td>1.000000</td>\n",
       "      <td>73364.000000</td>\n",
       "      <td>6097.500000</td>\n",
       "      <td>7294.000000</td>\n",
       "      <td>8434.000000</td>\n",
       "      <td>9742.000000</td>\n",
       "      <td>6059.000000</td>\n",
       "      <td>7322.000000</td>\n",
       "      <td>8718.000000</td>\n",
       "      <td>10089.000000</td>\n",
       "      <td>19662.000000</td>\n",
       "      <td>73108.000000</td>\n",
       "      <td>6705.000000</td>\n",
       "      <td>0.000000</td>\n",
       "      <td>1169.000000</td>\n",
       "    </tr>\n",
       "    <tr>\n",
       "      <th>75%</th>\n",
       "      <td>54548.000000</td>\n",
       "      <td>0.000000</td>\n",
       "      <td>2007.000000</td>\n",
       "      <td>5.000000</td>\n",
       "      <td>2.000000</td>\n",
       "      <td>82460.000000</td>\n",
       "      <td>7766.000000</td>\n",
       "      <td>9035.250000</td>\n",
       "      <td>10649.250000</td>\n",
       "      <td>12113.000000</td>\n",
       "      <td>7724.000000</td>\n",
       "      <td>9011.000000</td>\n",
       "      <td>10914.000000</td>\n",
       "      <td>12313.000000</td>\n",
       "      <td>22808.000000</td>\n",
       "      <td>80022.000000</td>\n",
       "      <td>7900.000000</td>\n",
       "      <td>0.000000</td>\n",
       "      <td>1623.000000</td>\n",
       "    </tr>\n",
       "    <tr>\n",
       "      <th>max</th>\n",
       "      <td>73004.000000</td>\n",
       "      <td>1.000000</td>\n",
       "      <td>2009.000000</td>\n",
       "      <td>9.000000</td>\n",
       "      <td>3.000000</td>\n",
       "      <td>113617.000000</td>\n",
       "      <td>33543.000000</td>\n",
       "      <td>36701.000000</td>\n",
       "      <td>36726.000000</td>\n",
       "      <td>40137.000000</td>\n",
       "      <td>33369.000000</td>\n",
       "      <td>36478.000000</td>\n",
       "      <td>36539.000000</td>\n",
       "      <td>39896.000000</td>\n",
       "      <td>99761.000000</td>\n",
       "      <td>98064.000000</td>\n",
       "      <td>45469.000000</td>\n",
       "      <td>1.000000</td>\n",
       "      <td>6819.000000</td>\n",
       "    </tr>\n",
       "  </tbody>\n",
       "</table>\n",
       "</div>"
      ],
      "text/plain": [
       "              RefId      IsBadBuy       VehYear    VehicleAge   WheelTypeID  \\\n",
       "count  14597.000000  14597.000000  14597.000000  14597.000000  14001.000000   \n",
       "mean   36285.596424      0.121121   2005.336713      4.183394      1.489251   \n",
       "std    21016.286354      0.326279      1.723049      1.705746      0.523220   \n",
       "min       16.000000      0.000000   2001.000000      0.000000      0.000000   \n",
       "25%    18220.000000      0.000000   2004.000000      3.000000      1.000000   \n",
       "50%    36174.000000      0.000000   2005.000000      4.000000      1.000000   \n",
       "75%    54548.000000      0.000000   2007.000000      5.000000      2.000000   \n",
       "max    73004.000000      1.000000   2009.000000      9.000000      3.000000   \n",
       "\n",
       "              VehOdo  MMRAcquisitionAuctionAveragePrice  \\\n",
       "count   14597.000000                       14592.000000   \n",
       "mean    71587.614510                        6132.034539   \n",
       "std     14529.733127                        2483.401798   \n",
       "min      8706.000000                           0.000000   \n",
       "25%     62006.000000                        4267.750000   \n",
       "50%     73364.000000                        6097.500000   \n",
       "75%     82460.000000                        7766.000000   \n",
       "max    113617.000000                       33543.000000   \n",
       "\n",
       "       MMRAcquisitionAuctionCleanPrice  MMRAcquisitionRetailAveragePrice  \\\n",
       "count                     14592.000000                      14592.000000   \n",
       "mean                       7376.529605                       8496.017338   \n",
       "std                        2750.350890                       3177.027113   \n",
       "min                           0.000000                          0.000000   \n",
       "25%                        5396.750000                       6282.750000   \n",
       "50%                        7294.000000                       8434.000000   \n",
       "75%                        9035.250000                      10649.250000   \n",
       "max                       36701.000000                      36726.000000   \n",
       "\n",
       "       MMRAcquisitonRetailCleanPrice  MMRCurrentAuctionAveragePrice  \\\n",
       "count                   14592.000000                   14527.000000   \n",
       "mean                     9847.568668                    6133.740759   \n",
       "std                      3413.564542                    2444.217648   \n",
       "min                         0.000000                       0.000000   \n",
       "25%                      7478.000000                    4273.000000   \n",
       "50%                      9742.000000                    6059.000000   \n",
       "75%                     12113.000000                    7724.000000   \n",
       "max                     40137.000000                   33369.000000   \n",
       "\n",
       "       MMRCurrentAuctionCleanPrice  MMRCurrentRetailAveragePrice  \\\n",
       "count                 14527.000000                  14527.000000   \n",
       "mean                   7393.576169                   8774.355407   \n",
       "std                    2702.043233                   3108.075547   \n",
       "min                       0.000000                      0.000000   \n",
       "25%                    5410.000000                   6525.000000   \n",
       "50%                    7322.000000                   8718.000000   \n",
       "75%                    9011.000000                  10914.000000   \n",
       "max                   36478.000000                  36539.000000   \n",
       "\n",
       "       MMRCurrentRetailCleanPrice         BYRNO        VNZIP1      VehBCost  \\\n",
       "count                14527.000000  14597.000000  14597.000000  14597.000000   \n",
       "mean                 10146.018793  26292.446530  57714.278208   6734.638166   \n",
       "std                   3332.755750  25365.376206  26169.282500   1790.800520   \n",
       "min                      0.000000    835.000000   2764.000000   1920.000000   \n",
       "25%                   7767.500000  17675.000000  30331.000000   5440.000000   \n",
       "50%                  10089.000000  19662.000000  73108.000000   6705.000000   \n",
       "75%                  12313.000000  22808.000000  80022.000000   7900.000000   \n",
       "max                  39896.000000  99761.000000  98064.000000  45469.000000   \n",
       "\n",
       "       IsOnlineSale  WarrantyCost  \n",
       "count  14597.000000  14597.000000  \n",
       "mean       0.023704   1278.484689  \n",
       "std        0.152129    598.708956  \n",
       "min        0.000000    462.000000  \n",
       "25%        0.000000    853.000000  \n",
       "50%        0.000000   1169.000000  \n",
       "75%        0.000000   1623.000000  \n",
       "max        1.000000   6819.000000  "
      ]
     },
     "execution_count": 20,
     "metadata": {},
     "output_type": "execute_result"
    }
   ],
   "source": [
    "df.describe()"
   ]
  },
  {
   "cell_type": "markdown",
   "metadata": {},
   "source": [
    "SCARTEREI:\n",
    "PRIMEUNIT,AUCGUART\n",
    "Dobbiamo ricordarci, in caso in cui consegnassimo alcune di queste tabelle nel report, di NON usare tutti gli attributi come in questo caso ma filtrare solo quelli per cui i valori mostrati hanno senso\n"
   ]
  },
  {
   "cell_type": "code",
   "execution_count": 21,
   "metadata": {},
   "outputs": [
    {
     "data": {
      "text/plain": [
       "Trim                                   449\n",
       "SubModel                                 1\n",
       "Color                                    1\n",
       "Transmission                             1\n",
       "WheelTypeID                            596\n",
       "WheelType                              597\n",
       "Nationality                              1\n",
       "Size                                     1\n",
       "TopThreeAmericanName                     1\n",
       "MMRAcquisitionAuctionAveragePrice        5\n",
       "MMRAcquisitionAuctionCleanPrice          5\n",
       "MMRAcquisitionRetailAveragePrice         5\n",
       "MMRAcquisitonRetailCleanPrice            5\n",
       "MMRCurrentAuctionAveragePrice           70\n",
       "MMRCurrentAuctionCleanPrice             70\n",
       "MMRCurrentRetailAveragePrice            70\n",
       "MMRCurrentRetailCleanPrice              70\n",
       "PRIMEUNIT                            13861\n",
       "AUCGUART                             13861\n",
       "dtype: int64"
      ]
     },
     "execution_count": 21,
     "metadata": {},
     "output_type": "execute_result"
    }
   ],
   "source": [
    "sum_ = df.isnull().sum()\n",
    "sum_[sum_ != 0]"
   ]
  },
  {
   "cell_type": "code",
   "execution_count": 22,
   "metadata": {},
   "outputs": [
    {
     "data": {
      "text/html": [
       "<div>\n",
       "<style scoped>\n",
       "    .dataframe tbody tr th:only-of-type {\n",
       "        vertical-align: middle;\n",
       "    }\n",
       "\n",
       "    .dataframe tbody tr th {\n",
       "        vertical-align: top;\n",
       "    }\n",
       "\n",
       "    .dataframe thead th {\n",
       "        text-align: right;\n",
       "    }\n",
       "</style>\n",
       "<table border=\"1\" class=\"dataframe\">\n",
       "  <thead>\n",
       "    <tr style=\"text-align: right;\">\n",
       "      <th></th>\n",
       "      <th>IsBadBuy</th>\n",
       "      <th>VehYear</th>\n",
       "      <th>VehicleAge</th>\n",
       "      <th>WheelTypeID</th>\n",
       "      <th>VehOdo</th>\n",
       "      <th>MMRAcquisitionAuctionAveragePrice</th>\n",
       "      <th>MMRAcquisitionAuctionCleanPrice</th>\n",
       "      <th>MMRAcquisitionRetailAveragePrice</th>\n",
       "      <th>MMRAcquisitonRetailCleanPrice</th>\n",
       "      <th>MMRCurrentAuctionAveragePrice</th>\n",
       "      <th>MMRCurrentAuctionCleanPrice</th>\n",
       "      <th>MMRCurrentRetailAveragePrice</th>\n",
       "      <th>MMRCurrentRetailCleanPrice</th>\n",
       "      <th>BYRNO</th>\n",
       "      <th>VNZIP1</th>\n",
       "      <th>VehBCost</th>\n",
       "      <th>IsOnlineSale</th>\n",
       "      <th>WarrantyCost</th>\n",
       "    </tr>\n",
       "  </thead>\n",
       "  <tbody>\n",
       "    <tr>\n",
       "      <th>IsBadBuy</th>\n",
       "      <td>1.000000</td>\n",
       "      <td>-0.166871</td>\n",
       "      <td>0.174651</td>\n",
       "      <td>-0.032443</td>\n",
       "      <td>0.081402</td>\n",
       "      <td>-0.123064</td>\n",
       "      <td>-0.117461</td>\n",
       "      <td>-0.099056</td>\n",
       "      <td>-0.095479</td>\n",
       "      <td>-0.121086</td>\n",
       "      <td>-0.115975</td>\n",
       "      <td>-0.116459</td>\n",
       "      <td>-0.112457</td>\n",
       "      <td>-0.070028</td>\n",
       "      <td>0.003304</td>\n",
       "      <td>-0.106983</td>\n",
       "      <td>-0.002633</td>\n",
       "      <td>0.060656</td>\n",
       "    </tr>\n",
       "    <tr>\n",
       "      <th>VehYear</th>\n",
       "      <td>-0.166871</td>\n",
       "      <td>1.000000</td>\n",
       "      <td>-0.957587</td>\n",
       "      <td>0.252836</td>\n",
       "      <td>-0.284307</td>\n",
       "      <td>0.576166</td>\n",
       "      <td>0.529513</td>\n",
       "      <td>0.576360</td>\n",
       "      <td>0.535398</td>\n",
       "      <td>0.586258</td>\n",
       "      <td>0.544809</td>\n",
       "      <td>0.594838</td>\n",
       "      <td>0.555092</td>\n",
       "      <td>0.276675</td>\n",
       "      <td>0.061390</td>\n",
       "      <td>0.351206</td>\n",
       "      <td>0.057631</td>\n",
       "      <td>-0.272538</td>\n",
       "    </tr>\n",
       "    <tr>\n",
       "      <th>VehicleAge</th>\n",
       "      <td>0.174651</td>\n",
       "      <td>-0.957587</td>\n",
       "      <td>1.000000</td>\n",
       "      <td>-0.245926</td>\n",
       "      <td>0.323875</td>\n",
       "      <td>-0.560126</td>\n",
       "      <td>-0.514570</td>\n",
       "      <td>-0.455130</td>\n",
       "      <td>-0.421869</td>\n",
       "      <td>-0.570410</td>\n",
       "      <td>-0.527999</td>\n",
       "      <td>-0.499061</td>\n",
       "      <td>-0.464292</td>\n",
       "      <td>-0.261581</td>\n",
       "      <td>-0.067738</td>\n",
       "      <td>-0.314081</td>\n",
       "      <td>-0.025202</td>\n",
       "      <td>0.264582</td>\n",
       "    </tr>\n",
       "    <tr>\n",
       "      <th>WheelTypeID</th>\n",
       "      <td>-0.032443</td>\n",
       "      <td>0.252836</td>\n",
       "      <td>-0.245926</td>\n",
       "      <td>1.000000</td>\n",
       "      <td>-0.217967</td>\n",
       "      <td>-0.098633</td>\n",
       "      <td>-0.129534</td>\n",
       "      <td>-0.076478</td>\n",
       "      <td>-0.102889</td>\n",
       "      <td>-0.095681</td>\n",
       "      <td>-0.125775</td>\n",
       "      <td>-0.081246</td>\n",
       "      <td>-0.107341</td>\n",
       "      <td>0.176690</td>\n",
       "      <td>0.007983</td>\n",
       "      <td>-0.170081</td>\n",
       "      <td>0.012259</td>\n",
       "      <td>-0.129243</td>\n",
       "    </tr>\n",
       "    <tr>\n",
       "      <th>VehOdo</th>\n",
       "      <td>0.081402</td>\n",
       "      <td>-0.284307</td>\n",
       "      <td>0.323875</td>\n",
       "      <td>-0.217967</td>\n",
       "      <td>1.000000</td>\n",
       "      <td>-0.011630</td>\n",
       "      <td>0.028182</td>\n",
       "      <td>0.040074</td>\n",
       "      <td>0.070169</td>\n",
       "      <td>-0.022280</td>\n",
       "      <td>0.017495</td>\n",
       "      <td>0.024170</td>\n",
       "      <td>0.055722</td>\n",
       "      <td>-0.273044</td>\n",
       "      <td>-0.050925</td>\n",
       "      <td>-0.052443</td>\n",
       "      <td>0.023643</td>\n",
       "      <td>0.413495</td>\n",
       "    </tr>\n",
       "    <tr>\n",
       "      <th>MMRAcquisitionAuctionAveragePrice</th>\n",
       "      <td>-0.123064</td>\n",
       "      <td>0.576166</td>\n",
       "      <td>-0.560126</td>\n",
       "      <td>-0.098633</td>\n",
       "      <td>-0.011630</td>\n",
       "      <td>1.000000</td>\n",
       "      <td>0.990850</td>\n",
       "      <td>0.911203</td>\n",
       "      <td>0.911584</td>\n",
       "      <td>0.939151</td>\n",
       "      <td>0.934749</td>\n",
       "      <td>0.873868</td>\n",
       "      <td>0.873469</td>\n",
       "      <td>0.103458</td>\n",
       "      <td>0.040115</td>\n",
       "      <td>0.791741</td>\n",
       "      <td>0.042121</td>\n",
       "      <td>-0.053332</td>\n",
       "    </tr>\n",
       "    <tr>\n",
       "      <th>MMRAcquisitionAuctionCleanPrice</th>\n",
       "      <td>-0.117461</td>\n",
       "      <td>0.529513</td>\n",
       "      <td>-0.514570</td>\n",
       "      <td>-0.129534</td>\n",
       "      <td>0.028182</td>\n",
       "      <td>0.990850</td>\n",
       "      <td>1.000000</td>\n",
       "      <td>0.904209</td>\n",
       "      <td>0.919449</td>\n",
       "      <td>0.925466</td>\n",
       "      <td>0.934145</td>\n",
       "      <td>0.863323</td>\n",
       "      <td>0.873559</td>\n",
       "      <td>0.061259</td>\n",
       "      <td>0.036218</td>\n",
       "      <td>0.783045</td>\n",
       "      <td>0.041891</td>\n",
       "      <td>-0.024747</td>\n",
       "    </tr>\n",
       "    <tr>\n",
       "      <th>MMRAcquisitionRetailAveragePrice</th>\n",
       "      <td>-0.099056</td>\n",
       "      <td>0.576360</td>\n",
       "      <td>-0.455130</td>\n",
       "      <td>-0.076478</td>\n",
       "      <td>0.040074</td>\n",
       "      <td>0.911203</td>\n",
       "      <td>0.904209</td>\n",
       "      <td>1.000000</td>\n",
       "      <td>0.990659</td>\n",
       "      <td>0.852901</td>\n",
       "      <td>0.851894</td>\n",
       "      <td>0.914534</td>\n",
       "      <td>0.908145</td>\n",
       "      <td>0.105640</td>\n",
       "      <td>0.031867</td>\n",
       "      <td>0.747738</td>\n",
       "      <td>0.084251</td>\n",
       "      <td>-0.053193</td>\n",
       "    </tr>\n",
       "    <tr>\n",
       "      <th>MMRAcquisitonRetailCleanPrice</th>\n",
       "      <td>-0.095479</td>\n",
       "      <td>0.535398</td>\n",
       "      <td>-0.421869</td>\n",
       "      <td>-0.102889</td>\n",
       "      <td>0.070169</td>\n",
       "      <td>0.911584</td>\n",
       "      <td>0.919449</td>\n",
       "      <td>0.990659</td>\n",
       "      <td>1.000000</td>\n",
       "      <td>0.848978</td>\n",
       "      <td>0.858458</td>\n",
       "      <td>0.905192</td>\n",
       "      <td>0.909089</td>\n",
       "      <td>0.068964</td>\n",
       "      <td>0.027965</td>\n",
       "      <td>0.746319</td>\n",
       "      <td>0.081585</td>\n",
       "      <td>-0.027821</td>\n",
       "    </tr>\n",
       "    <tr>\n",
       "      <th>MMRCurrentAuctionAveragePrice</th>\n",
       "      <td>-0.121086</td>\n",
       "      <td>0.586258</td>\n",
       "      <td>-0.570410</td>\n",
       "      <td>-0.095681</td>\n",
       "      <td>-0.022280</td>\n",
       "      <td>0.939151</td>\n",
       "      <td>0.925466</td>\n",
       "      <td>0.852901</td>\n",
       "      <td>0.848978</td>\n",
       "      <td>1.000000</td>\n",
       "      <td>0.990668</td>\n",
       "      <td>0.914782</td>\n",
       "      <td>0.911944</td>\n",
       "      <td>0.108504</td>\n",
       "      <td>0.038077</td>\n",
       "      <td>0.780677</td>\n",
       "      <td>0.041418</td>\n",
       "      <td>-0.056424</td>\n",
       "    </tr>\n",
       "    <tr>\n",
       "      <th>MMRCurrentAuctionCleanPrice</th>\n",
       "      <td>-0.115975</td>\n",
       "      <td>0.544809</td>\n",
       "      <td>-0.527999</td>\n",
       "      <td>-0.125775</td>\n",
       "      <td>0.017495</td>\n",
       "      <td>0.934749</td>\n",
       "      <td>0.934145</td>\n",
       "      <td>0.851894</td>\n",
       "      <td>0.858458</td>\n",
       "      <td>0.990668</td>\n",
       "      <td>1.000000</td>\n",
       "      <td>0.908862</td>\n",
       "      <td>0.921138</td>\n",
       "      <td>0.068276</td>\n",
       "      <td>0.033576</td>\n",
       "      <td>0.776935</td>\n",
       "      <td>0.041270</td>\n",
       "      <td>-0.027684</td>\n",
       "    </tr>\n",
       "    <tr>\n",
       "      <th>MMRCurrentRetailAveragePrice</th>\n",
       "      <td>-0.116459</td>\n",
       "      <td>0.594838</td>\n",
       "      <td>-0.499061</td>\n",
       "      <td>-0.081246</td>\n",
       "      <td>0.024170</td>\n",
       "      <td>0.873868</td>\n",
       "      <td>0.863323</td>\n",
       "      <td>0.914534</td>\n",
       "      <td>0.905192</td>\n",
       "      <td>0.914782</td>\n",
       "      <td>0.908862</td>\n",
       "      <td>1.000000</td>\n",
       "      <td>0.990025</td>\n",
       "      <td>0.110839</td>\n",
       "      <td>0.028849</td>\n",
       "      <td>0.756944</td>\n",
       "      <td>0.080975</td>\n",
       "      <td>-0.054288</td>\n",
       "    </tr>\n",
       "    <tr>\n",
       "      <th>MMRCurrentRetailCleanPrice</th>\n",
       "      <td>-0.112457</td>\n",
       "      <td>0.555092</td>\n",
       "      <td>-0.464292</td>\n",
       "      <td>-0.107341</td>\n",
       "      <td>0.055722</td>\n",
       "      <td>0.873469</td>\n",
       "      <td>0.873559</td>\n",
       "      <td>0.908145</td>\n",
       "      <td>0.909089</td>\n",
       "      <td>0.911944</td>\n",
       "      <td>0.921138</td>\n",
       "      <td>0.990025</td>\n",
       "      <td>1.000000</td>\n",
       "      <td>0.076391</td>\n",
       "      <td>0.023731</td>\n",
       "      <td>0.757117</td>\n",
       "      <td>0.077172</td>\n",
       "      <td>-0.026730</td>\n",
       "    </tr>\n",
       "    <tr>\n",
       "      <th>BYRNO</th>\n",
       "      <td>-0.070028</td>\n",
       "      <td>0.276675</td>\n",
       "      <td>-0.261581</td>\n",
       "      <td>0.176690</td>\n",
       "      <td>-0.273044</td>\n",
       "      <td>0.103458</td>\n",
       "      <td>0.061259</td>\n",
       "      <td>0.105640</td>\n",
       "      <td>0.068964</td>\n",
       "      <td>0.108504</td>\n",
       "      <td>0.068276</td>\n",
       "      <td>0.110839</td>\n",
       "      <td>0.076391</td>\n",
       "      <td>1.000000</td>\n",
       "      <td>0.043932</td>\n",
       "      <td>0.044898</td>\n",
       "      <td>-0.137680</td>\n",
       "      <td>-0.072788</td>\n",
       "    </tr>\n",
       "    <tr>\n",
       "      <th>VNZIP1</th>\n",
       "      <td>0.003304</td>\n",
       "      <td>0.061390</td>\n",
       "      <td>-0.067738</td>\n",
       "      <td>0.007983</td>\n",
       "      <td>-0.050925</td>\n",
       "      <td>0.040115</td>\n",
       "      <td>0.036218</td>\n",
       "      <td>0.031867</td>\n",
       "      <td>0.027965</td>\n",
       "      <td>0.038077</td>\n",
       "      <td>0.033576</td>\n",
       "      <td>0.028849</td>\n",
       "      <td>0.023731</td>\n",
       "      <td>0.043932</td>\n",
       "      <td>1.000000</td>\n",
       "      <td>0.016768</td>\n",
       "      <td>0.017472</td>\n",
       "      <td>-0.022448</td>\n",
       "    </tr>\n",
       "    <tr>\n",
       "      <th>VehBCost</th>\n",
       "      <td>-0.106983</td>\n",
       "      <td>0.351206</td>\n",
       "      <td>-0.314081</td>\n",
       "      <td>-0.170081</td>\n",
       "      <td>-0.052443</td>\n",
       "      <td>0.791741</td>\n",
       "      <td>0.783045</td>\n",
       "      <td>0.747738</td>\n",
       "      <td>0.746319</td>\n",
       "      <td>0.780677</td>\n",
       "      <td>0.776935</td>\n",
       "      <td>0.756944</td>\n",
       "      <td>0.757117</td>\n",
       "      <td>0.044898</td>\n",
       "      <td>0.016768</td>\n",
       "      <td>1.000000</td>\n",
       "      <td>0.040867</td>\n",
       "      <td>-0.030501</td>\n",
       "    </tr>\n",
       "    <tr>\n",
       "      <th>IsOnlineSale</th>\n",
       "      <td>-0.002633</td>\n",
       "      <td>0.057631</td>\n",
       "      <td>-0.025202</td>\n",
       "      <td>0.012259</td>\n",
       "      <td>0.023643</td>\n",
       "      <td>0.042121</td>\n",
       "      <td>0.041891</td>\n",
       "      <td>0.084251</td>\n",
       "      <td>0.081585</td>\n",
       "      <td>0.041418</td>\n",
       "      <td>0.041270</td>\n",
       "      <td>0.080975</td>\n",
       "      <td>0.077172</td>\n",
       "      <td>-0.137680</td>\n",
       "      <td>0.017472</td>\n",
       "      <td>0.040867</td>\n",
       "      <td>1.000000</td>\n",
       "      <td>-0.005529</td>\n",
       "    </tr>\n",
       "    <tr>\n",
       "      <th>WarrantyCost</th>\n",
       "      <td>0.060656</td>\n",
       "      <td>-0.272538</td>\n",
       "      <td>0.264582</td>\n",
       "      <td>-0.129243</td>\n",
       "      <td>0.413495</td>\n",
       "      <td>-0.053332</td>\n",
       "      <td>-0.024747</td>\n",
       "      <td>-0.053193</td>\n",
       "      <td>-0.027821</td>\n",
       "      <td>-0.056424</td>\n",
       "      <td>-0.027684</td>\n",
       "      <td>-0.054288</td>\n",
       "      <td>-0.026730</td>\n",
       "      <td>-0.072788</td>\n",
       "      <td>-0.022448</td>\n",
       "      <td>-0.030501</td>\n",
       "      <td>-0.005529</td>\n",
       "      <td>1.000000</td>\n",
       "    </tr>\n",
       "  </tbody>\n",
       "</table>\n",
       "</div>"
      ],
      "text/plain": [
       "                                   IsBadBuy   VehYear  VehicleAge  \\\n",
       "IsBadBuy                           1.000000 -0.166871    0.174651   \n",
       "VehYear                           -0.166871  1.000000   -0.957587   \n",
       "VehicleAge                         0.174651 -0.957587    1.000000   \n",
       "WheelTypeID                       -0.032443  0.252836   -0.245926   \n",
       "VehOdo                             0.081402 -0.284307    0.323875   \n",
       "MMRAcquisitionAuctionAveragePrice -0.123064  0.576166   -0.560126   \n",
       "MMRAcquisitionAuctionCleanPrice   -0.117461  0.529513   -0.514570   \n",
       "MMRAcquisitionRetailAveragePrice  -0.099056  0.576360   -0.455130   \n",
       "MMRAcquisitonRetailCleanPrice     -0.095479  0.535398   -0.421869   \n",
       "MMRCurrentAuctionAveragePrice     -0.121086  0.586258   -0.570410   \n",
       "MMRCurrentAuctionCleanPrice       -0.115975  0.544809   -0.527999   \n",
       "MMRCurrentRetailAveragePrice      -0.116459  0.594838   -0.499061   \n",
       "MMRCurrentRetailCleanPrice        -0.112457  0.555092   -0.464292   \n",
       "BYRNO                             -0.070028  0.276675   -0.261581   \n",
       "VNZIP1                             0.003304  0.061390   -0.067738   \n",
       "VehBCost                          -0.106983  0.351206   -0.314081   \n",
       "IsOnlineSale                      -0.002633  0.057631   -0.025202   \n",
       "WarrantyCost                       0.060656 -0.272538    0.264582   \n",
       "\n",
       "                                   WheelTypeID    VehOdo  \\\n",
       "IsBadBuy                             -0.032443  0.081402   \n",
       "VehYear                               0.252836 -0.284307   \n",
       "VehicleAge                           -0.245926  0.323875   \n",
       "WheelTypeID                           1.000000 -0.217967   \n",
       "VehOdo                               -0.217967  1.000000   \n",
       "MMRAcquisitionAuctionAveragePrice    -0.098633 -0.011630   \n",
       "MMRAcquisitionAuctionCleanPrice      -0.129534  0.028182   \n",
       "MMRAcquisitionRetailAveragePrice     -0.076478  0.040074   \n",
       "MMRAcquisitonRetailCleanPrice        -0.102889  0.070169   \n",
       "MMRCurrentAuctionAveragePrice        -0.095681 -0.022280   \n",
       "MMRCurrentAuctionCleanPrice          -0.125775  0.017495   \n",
       "MMRCurrentRetailAveragePrice         -0.081246  0.024170   \n",
       "MMRCurrentRetailCleanPrice           -0.107341  0.055722   \n",
       "BYRNO                                 0.176690 -0.273044   \n",
       "VNZIP1                                0.007983 -0.050925   \n",
       "VehBCost                             -0.170081 -0.052443   \n",
       "IsOnlineSale                          0.012259  0.023643   \n",
       "WarrantyCost                         -0.129243  0.413495   \n",
       "\n",
       "                                   MMRAcquisitionAuctionAveragePrice  \\\n",
       "IsBadBuy                                                   -0.123064   \n",
       "VehYear                                                     0.576166   \n",
       "VehicleAge                                                 -0.560126   \n",
       "WheelTypeID                                                -0.098633   \n",
       "VehOdo                                                     -0.011630   \n",
       "MMRAcquisitionAuctionAveragePrice                           1.000000   \n",
       "MMRAcquisitionAuctionCleanPrice                             0.990850   \n",
       "MMRAcquisitionRetailAveragePrice                            0.911203   \n",
       "MMRAcquisitonRetailCleanPrice                               0.911584   \n",
       "MMRCurrentAuctionAveragePrice                               0.939151   \n",
       "MMRCurrentAuctionCleanPrice                                 0.934749   \n",
       "MMRCurrentRetailAveragePrice                                0.873868   \n",
       "MMRCurrentRetailCleanPrice                                  0.873469   \n",
       "BYRNO                                                       0.103458   \n",
       "VNZIP1                                                      0.040115   \n",
       "VehBCost                                                    0.791741   \n",
       "IsOnlineSale                                                0.042121   \n",
       "WarrantyCost                                               -0.053332   \n",
       "\n",
       "                                   MMRAcquisitionAuctionCleanPrice  \\\n",
       "IsBadBuy                                                 -0.117461   \n",
       "VehYear                                                   0.529513   \n",
       "VehicleAge                                               -0.514570   \n",
       "WheelTypeID                                              -0.129534   \n",
       "VehOdo                                                    0.028182   \n",
       "MMRAcquisitionAuctionAveragePrice                         0.990850   \n",
       "MMRAcquisitionAuctionCleanPrice                           1.000000   \n",
       "MMRAcquisitionRetailAveragePrice                          0.904209   \n",
       "MMRAcquisitonRetailCleanPrice                             0.919449   \n",
       "MMRCurrentAuctionAveragePrice                             0.925466   \n",
       "MMRCurrentAuctionCleanPrice                               0.934145   \n",
       "MMRCurrentRetailAveragePrice                              0.863323   \n",
       "MMRCurrentRetailCleanPrice                                0.873559   \n",
       "BYRNO                                                     0.061259   \n",
       "VNZIP1                                                    0.036218   \n",
       "VehBCost                                                  0.783045   \n",
       "IsOnlineSale                                              0.041891   \n",
       "WarrantyCost                                             -0.024747   \n",
       "\n",
       "                                   MMRAcquisitionRetailAveragePrice  \\\n",
       "IsBadBuy                                                  -0.099056   \n",
       "VehYear                                                    0.576360   \n",
       "VehicleAge                                                -0.455130   \n",
       "WheelTypeID                                               -0.076478   \n",
       "VehOdo                                                     0.040074   \n",
       "MMRAcquisitionAuctionAveragePrice                          0.911203   \n",
       "MMRAcquisitionAuctionCleanPrice                            0.904209   \n",
       "MMRAcquisitionRetailAveragePrice                           1.000000   \n",
       "MMRAcquisitonRetailCleanPrice                              0.990659   \n",
       "MMRCurrentAuctionAveragePrice                              0.852901   \n",
       "MMRCurrentAuctionCleanPrice                                0.851894   \n",
       "MMRCurrentRetailAveragePrice                               0.914534   \n",
       "MMRCurrentRetailCleanPrice                                 0.908145   \n",
       "BYRNO                                                      0.105640   \n",
       "VNZIP1                                                     0.031867   \n",
       "VehBCost                                                   0.747738   \n",
       "IsOnlineSale                                               0.084251   \n",
       "WarrantyCost                                              -0.053193   \n",
       "\n",
       "                                   MMRAcquisitonRetailCleanPrice  \\\n",
       "IsBadBuy                                               -0.095479   \n",
       "VehYear                                                 0.535398   \n",
       "VehicleAge                                             -0.421869   \n",
       "WheelTypeID                                            -0.102889   \n",
       "VehOdo                                                  0.070169   \n",
       "MMRAcquisitionAuctionAveragePrice                       0.911584   \n",
       "MMRAcquisitionAuctionCleanPrice                         0.919449   \n",
       "MMRAcquisitionRetailAveragePrice                        0.990659   \n",
       "MMRAcquisitonRetailCleanPrice                           1.000000   \n",
       "MMRCurrentAuctionAveragePrice                           0.848978   \n",
       "MMRCurrentAuctionCleanPrice                             0.858458   \n",
       "MMRCurrentRetailAveragePrice                            0.905192   \n",
       "MMRCurrentRetailCleanPrice                              0.909089   \n",
       "BYRNO                                                   0.068964   \n",
       "VNZIP1                                                  0.027965   \n",
       "VehBCost                                                0.746319   \n",
       "IsOnlineSale                                            0.081585   \n",
       "WarrantyCost                                           -0.027821   \n",
       "\n",
       "                                   MMRCurrentAuctionAveragePrice  \\\n",
       "IsBadBuy                                               -0.121086   \n",
       "VehYear                                                 0.586258   \n",
       "VehicleAge                                             -0.570410   \n",
       "WheelTypeID                                            -0.095681   \n",
       "VehOdo                                                 -0.022280   \n",
       "MMRAcquisitionAuctionAveragePrice                       0.939151   \n",
       "MMRAcquisitionAuctionCleanPrice                         0.925466   \n",
       "MMRAcquisitionRetailAveragePrice                        0.852901   \n",
       "MMRAcquisitonRetailCleanPrice                           0.848978   \n",
       "MMRCurrentAuctionAveragePrice                           1.000000   \n",
       "MMRCurrentAuctionCleanPrice                             0.990668   \n",
       "MMRCurrentRetailAveragePrice                            0.914782   \n",
       "MMRCurrentRetailCleanPrice                              0.911944   \n",
       "BYRNO                                                   0.108504   \n",
       "VNZIP1                                                  0.038077   \n",
       "VehBCost                                                0.780677   \n",
       "IsOnlineSale                                            0.041418   \n",
       "WarrantyCost                                           -0.056424   \n",
       "\n",
       "                                   MMRCurrentAuctionCleanPrice  \\\n",
       "IsBadBuy                                             -0.115975   \n",
       "VehYear                                               0.544809   \n",
       "VehicleAge                                           -0.527999   \n",
       "WheelTypeID                                          -0.125775   \n",
       "VehOdo                                                0.017495   \n",
       "MMRAcquisitionAuctionAveragePrice                     0.934749   \n",
       "MMRAcquisitionAuctionCleanPrice                       0.934145   \n",
       "MMRAcquisitionRetailAveragePrice                      0.851894   \n",
       "MMRAcquisitonRetailCleanPrice                         0.858458   \n",
       "MMRCurrentAuctionAveragePrice                         0.990668   \n",
       "MMRCurrentAuctionCleanPrice                           1.000000   \n",
       "MMRCurrentRetailAveragePrice                          0.908862   \n",
       "MMRCurrentRetailCleanPrice                            0.921138   \n",
       "BYRNO                                                 0.068276   \n",
       "VNZIP1                                                0.033576   \n",
       "VehBCost                                              0.776935   \n",
       "IsOnlineSale                                          0.041270   \n",
       "WarrantyCost                                         -0.027684   \n",
       "\n",
       "                                   MMRCurrentRetailAveragePrice  \\\n",
       "IsBadBuy                                              -0.116459   \n",
       "VehYear                                                0.594838   \n",
       "VehicleAge                                            -0.499061   \n",
       "WheelTypeID                                           -0.081246   \n",
       "VehOdo                                                 0.024170   \n",
       "MMRAcquisitionAuctionAveragePrice                      0.873868   \n",
       "MMRAcquisitionAuctionCleanPrice                        0.863323   \n",
       "MMRAcquisitionRetailAveragePrice                       0.914534   \n",
       "MMRAcquisitonRetailCleanPrice                          0.905192   \n",
       "MMRCurrentAuctionAveragePrice                          0.914782   \n",
       "MMRCurrentAuctionCleanPrice                            0.908862   \n",
       "MMRCurrentRetailAveragePrice                           1.000000   \n",
       "MMRCurrentRetailCleanPrice                             0.990025   \n",
       "BYRNO                                                  0.110839   \n",
       "VNZIP1                                                 0.028849   \n",
       "VehBCost                                               0.756944   \n",
       "IsOnlineSale                                           0.080975   \n",
       "WarrantyCost                                          -0.054288   \n",
       "\n",
       "                                   MMRCurrentRetailCleanPrice     BYRNO  \\\n",
       "IsBadBuy                                            -0.112457 -0.070028   \n",
       "VehYear                                              0.555092  0.276675   \n",
       "VehicleAge                                          -0.464292 -0.261581   \n",
       "WheelTypeID                                         -0.107341  0.176690   \n",
       "VehOdo                                               0.055722 -0.273044   \n",
       "MMRAcquisitionAuctionAveragePrice                    0.873469  0.103458   \n",
       "MMRAcquisitionAuctionCleanPrice                      0.873559  0.061259   \n",
       "MMRAcquisitionRetailAveragePrice                     0.908145  0.105640   \n",
       "MMRAcquisitonRetailCleanPrice                        0.909089  0.068964   \n",
       "MMRCurrentAuctionAveragePrice                        0.911944  0.108504   \n",
       "MMRCurrentAuctionCleanPrice                          0.921138  0.068276   \n",
       "MMRCurrentRetailAveragePrice                         0.990025  0.110839   \n",
       "MMRCurrentRetailCleanPrice                           1.000000  0.076391   \n",
       "BYRNO                                                0.076391  1.000000   \n",
       "VNZIP1                                               0.023731  0.043932   \n",
       "VehBCost                                             0.757117  0.044898   \n",
       "IsOnlineSale                                         0.077172 -0.137680   \n",
       "WarrantyCost                                        -0.026730 -0.072788   \n",
       "\n",
       "                                     VNZIP1  VehBCost  IsOnlineSale  \\\n",
       "IsBadBuy                           0.003304 -0.106983     -0.002633   \n",
       "VehYear                            0.061390  0.351206      0.057631   \n",
       "VehicleAge                        -0.067738 -0.314081     -0.025202   \n",
       "WheelTypeID                        0.007983 -0.170081      0.012259   \n",
       "VehOdo                            -0.050925 -0.052443      0.023643   \n",
       "MMRAcquisitionAuctionAveragePrice  0.040115  0.791741      0.042121   \n",
       "MMRAcquisitionAuctionCleanPrice    0.036218  0.783045      0.041891   \n",
       "MMRAcquisitionRetailAveragePrice   0.031867  0.747738      0.084251   \n",
       "MMRAcquisitonRetailCleanPrice      0.027965  0.746319      0.081585   \n",
       "MMRCurrentAuctionAveragePrice      0.038077  0.780677      0.041418   \n",
       "MMRCurrentAuctionCleanPrice        0.033576  0.776935      0.041270   \n",
       "MMRCurrentRetailAveragePrice       0.028849  0.756944      0.080975   \n",
       "MMRCurrentRetailCleanPrice         0.023731  0.757117      0.077172   \n",
       "BYRNO                              0.043932  0.044898     -0.137680   \n",
       "VNZIP1                             1.000000  0.016768      0.017472   \n",
       "VehBCost                           0.016768  1.000000      0.040867   \n",
       "IsOnlineSale                       0.017472  0.040867      1.000000   \n",
       "WarrantyCost                      -0.022448 -0.030501     -0.005529   \n",
       "\n",
       "                                   WarrantyCost  \n",
       "IsBadBuy                               0.060656  \n",
       "VehYear                               -0.272538  \n",
       "VehicleAge                             0.264582  \n",
       "WheelTypeID                           -0.129243  \n",
       "VehOdo                                 0.413495  \n",
       "MMRAcquisitionAuctionAveragePrice     -0.053332  \n",
       "MMRAcquisitionAuctionCleanPrice       -0.024747  \n",
       "MMRAcquisitionRetailAveragePrice      -0.053193  \n",
       "MMRAcquisitonRetailCleanPrice         -0.027821  \n",
       "MMRCurrentAuctionAveragePrice         -0.056424  \n",
       "MMRCurrentAuctionCleanPrice           -0.027684  \n",
       "MMRCurrentRetailAveragePrice          -0.054288  \n",
       "MMRCurrentRetailCleanPrice            -0.026730  \n",
       "BYRNO                                 -0.072788  \n",
       "VNZIP1                                -0.022448  \n",
       "VehBCost                              -0.030501  \n",
       "IsOnlineSale                          -0.005529  \n",
       "WarrantyCost                           1.000000  "
      ]
     },
     "execution_count": 22,
     "metadata": {},
     "output_type": "execute_result"
    }
   ],
   "source": [
    "df.drop(columns=['RefId']).corr()"
   ]
  },
  {
   "cell_type": "markdown",
   "metadata": {},
   "source": [
    "Pandas è un bravo ragazzo, e ha eliminato di sua spontanea iniziativa PRIMEUNIT e AUCGUART. Ha anche tolto purchDate, auction, Make, Model, Trim, SubModel, Color, Transmission, WheelType (ha mantenuto l'id), Nationality, Size, TopThreeAmericanNames, VNST. \n",
    "- WarrantyCost e vehOdo: macchine con tanti km -> assicurazione costa tanto -> (forse) prob. bad buy?\n",
    "C'è buona correlazione con tutti gli atttributi relativi al prezzo. Forse dobbiamo, più avanti, spendere un po' di tempo a cercare di cavare qualche variabile sensata da questi valori (che ne so, VehBCost/MMRAcquisitionAuctionAveragePrice e così via)"
   ]
  },
  {
   "cell_type": "code",
   "execution_count": 23,
   "metadata": {},
   "outputs": [
    {
     "data": {
      "image/png": "[encoded data removed]",
      "text/plain": [
       "<Figure size 432x288 with 2 Axes>"
      ]
     },
     "metadata": {
      "needs_background": "light"
     },
     "output_type": "display_data"
    }
   ],
   "source": [
    "df.rename(columns={ 'MMRAcquisitionAuctionAveragePrice':'AAAP',\n",
    "                    'MMRAcquisitionRetailAveragePrice':'ARAP',\n",
    "                    'MMRCurrentAuctionAveragePrice':'CAAP',\n",
    "                    'MMRCurrentRetailAveragePrice':'CRAP',\n",
    "                    'MMRAcquisitionAuctionCleanPrice': 'AACP',\n",
    "                    'MMRAcquisitonRetailCleanPrice': 'ARCP',\n",
    "                    'MMRCurrentAuctionCleanPrice': 'CACP',\n",
    "                    'MMRCurrentRetailCleanPrice': 'CRCP'\n",
    "                  },inplace=True)\n",
    "\n",
    "corr = df.drop(columns=['RefId',\n",
    "        'VehYear',\n",
    "        'IsBadBuy',\n",
    "        'WheelTypeID',\n",
    "        'BYRNO',\n",
    "        'VNZIP1',\n",
    "        'IsOnlineSale'],\n",
    "        axis=1).corr()\n",
    "\n",
    "ax = sns.heatmap(\n",
    "    corr, \n",
    "    vmin=-1, vmax=1, center=0,\n",
    "    cmap=sns.diverging_palette(20, 220, n=200),\n",
    "    square=True\n",
    ")\n",
    "ax.set_xticklabels(\n",
    "    ax.get_xticklabels(),\n",
    "    rotation=45,\n",
    "    horizontalalignment='right'\n",
    ");"
   ]
  },
  {
   "cell_type": "code",
   "execution_count": null,
   "metadata": {},
   "outputs": [],
   "source": []
  },
  {
   "cell_type": "markdown",
   "metadata": {},
   "source": [
    "## Colonne rinominate con gli acronimi per cercare di capire qualcosa \n",
    "## +\n",
    "## Rimosse tutte le colonne \"CleanPrice\""
   ]
  },
  {
   "cell_type": "markdown",
   "metadata": {},
   "source": [
    "Si può già notare come la colonna \"VehicleAge\" sia inversamente correlata (-0.6 circa) con il prezzo. \n",
    "\n",
    "Ciò ha molto senso dato che le auto 🚗 perdono valore con il passare degli anni. 😎"
   ]
  },
  {
   "cell_type": "raw",
   "metadata": {},
   "source": [
    "pd.plotting.scatter_matrix(df[['VehYear', \n",
    "                               'VehOdo',\n",
    "                               'VehBCost',\n",
    "                               'WarrantyCost',\n",
    "                               'AAAP',\n",
    "                               'VNZIP1']])\n",
    "plt.show()"
   ]
  },
  {
   "cell_type": "code",
   "execution_count": 24,
   "metadata": {},
   "outputs": [
    {
     "data": {
      "text/plain": [
       "<matplotlib.axes._subplots.AxesSubplot at 0x1e3ba281b38>"
      ]
     },
     "execution_count": 24,
     "metadata": {},
     "output_type": "execute_result"
    },
    {
     "data": {
      "image/png": "[encoded data removed]",
      "text/plain": [
       "<Figure size 1080x360 with 3 Axes>"
      ]
     },
     "metadata": {
      "needs_background": "light"
     },
     "output_type": "display_data"
    }
   ],
   "source": [
    "fig = plt.figure(figsize=(15, 5)) \n",
    "fig_dims = (1, 3)\n",
    "\n",
    "plt.subplot2grid(fig_dims, (0, 0))\n",
    "df.boxplot(column=['VehYear'])\n",
    "\n",
    "plt.subplot2grid(fig_dims, (0, 1))\n",
    "df.boxplot(column=['VehOdo'])\n",
    "\n",
    "\n",
    "plt.subplot2grid(fig_dims, (0, 2))\n",
    "df.boxplot(column=['WarrantyCost'])"
   ]
  },
  {
   "cell_type": "code",
   "execution_count": 25,
   "metadata": {},
   "outputs": [
    {
     "data": {
      "text/plain": [
       "<matplotlib.axes._subplots.AxesSubplot at 0x1e3ba4d3c88>"
      ]
     },
     "execution_count": 25,
     "metadata": {},
     "output_type": "execute_result"
    },
    {
     "data": {
      "image/png": "[encoded data removed]",
      "text/plain": [
       "<Figure size 432x288 with 1 Axes>"
      ]
     },
     "metadata": {
      "needs_background": "light"
     },
     "output_type": "display_data"
    }
   ],
   "source": [
    "df.boxplot(column=['VehBCost','AAAP','CAAP'])"
   ]
  },
  {
   "cell_type": "markdown",
   "metadata": {},
   "source": [
    "# Da provare prezzi/marca"
   ]
  },
  {
   "cell_type": "code",
   "execution_count": 26,
   "metadata": {},
   "outputs": [
    {
     "data": {
      "text/html": [
       "<div>\n",
       "<style scoped>\n",
       "    .dataframe tbody tr th:only-of-type {\n",
       "        vertical-align: middle;\n",
       "    }\n",
       "\n",
       "    .dataframe tbody tr th {\n",
       "        vertical-align: top;\n",
       "    }\n",
       "\n",
       "    .dataframe thead th {\n",
       "        text-align: right;\n",
       "    }\n",
       "</style>\n",
       "<table border=\"1\" class=\"dataframe\">\n",
       "  <thead>\n",
       "    <tr style=\"text-align: right;\">\n",
       "      <th>WheelType</th>\n",
       "      <th>Alloy</th>\n",
       "      <th>Covers</th>\n",
       "      <th>Special</th>\n",
       "    </tr>\n",
       "    <tr>\n",
       "      <th>Transmission</th>\n",
       "      <th></th>\n",
       "      <th></th>\n",
       "      <th></th>\n",
       "    </tr>\n",
       "  </thead>\n",
       "  <tbody>\n",
       "    <tr>\n",
       "      <th>AUTO</th>\n",
       "      <td>7070</td>\n",
       "      <td>6253</td>\n",
       "      <td>151</td>\n",
       "    </tr>\n",
       "    <tr>\n",
       "      <th>MANUAL</th>\n",
       "      <td>245</td>\n",
       "      <td>266</td>\n",
       "      <td>15</td>\n",
       "    </tr>\n",
       "  </tbody>\n",
       "</table>\n",
       "</div>"
      ],
      "text/plain": [
       "WheelType     Alloy  Covers  Special\n",
       "Transmission                        \n",
       "AUTO           7070    6253      151\n",
       "MANUAL          245     266       15"
      ]
     },
     "execution_count": 26,
     "metadata": {},
     "output_type": "execute_result"
    }
   ],
   "source": [
    "pclass_xt = pd.crosstab(df['Transmission'], df['WheelType'])\n",
    "pclass_xt"
   ]
  },
  {
   "cell_type": "code",
   "execution_count": 27,
   "metadata": {},
   "outputs": [
    {
     "data": {
      "text/plain": [
       "<matplotlib.axes._subplots.AxesSubplot at 0x1e3ba38dba8>"
      ]
     },
     "execution_count": 27,
     "metadata": {},
     "output_type": "execute_result"
    },
    {
     "data": {
      "image/png": "[encoded data removed]",
      "text/plain": [
       "<Figure size 432x288 with 1 Axes>"
      ]
     },
     "metadata": {
      "needs_background": "light"
     },
     "output_type": "display_data"
    }
   ],
   "source": [
    "pclass_xt.plot(kind='bar', stacked=True)"
   ]
  },
  {
   "cell_type": "code",
   "execution_count": 28,
   "metadata": {},
   "outputs": [
    {
     "data": {
      "text/plain": [
       "<matplotlib.axes._subplots.AxesSubplot at 0x1e3ba6b4ef0>"
      ]
     },
     "execution_count": 28,
     "metadata": {},
     "output_type": "execute_result"
    },
    {
     "data": {
      "image/png": "[encoded data removed]",
      "text/plain": [
       "<Figure size 1080x1080 with 6 Axes>"
      ]
     },
     "metadata": {
      "needs_background": "light"
     },
     "output_type": "display_data"
    }
   ],
   "source": [
    "fig = plt.figure(figsize=(15, 15)) \n",
    "fig_dims = (3, 2)\n",
    "\n",
    "plt.subplot2grid(fig_dims, (0, 0))\n",
    "df['Auction'].value_counts().plot.pie(legend=True)\n",
    "\n",
    "plt.subplot2grid(fig_dims, (0, 1))\n",
    "df['Nationality'].value_counts().plot.pie(legend=True)\n",
    "\n",
    "plt.subplot2grid(fig_dims, (1, 0))\n",
    "df['Color'].value_counts().plot(kind='bar')\n",
    "\n",
    "plt.subplot2grid(fig_dims, (1, 1))\n",
    "df['VNST'].value_counts().plot(kind='bar')\n",
    "\n",
    "plt.subplot2grid(fig_dims, (2, 0))\n",
    "df['Size'].value_counts().plot(kind='bar')\n",
    "\n",
    "plt.subplot2grid(fig_dims, (2, 1))\n",
    "df['Make'].value_counts().plot(kind='bar')"
   ]
  },
  {
   "cell_type": "code",
   "execution_count": 29,
   "metadata": {},
   "outputs": [
    {
     "data": {
      "text/plain": [
       "99761    752\n",
       "18880    736\n",
       "835      589\n",
       "22916    567\n",
       "19619    565\n",
       "3453     565\n",
       "17675    551\n",
       "21053    549\n",
       "21973    538\n",
       "20740    519\n",
       "99750    517\n",
       "17212    511\n",
       "20928    487\n",
       "5546     436\n",
       "20234    422\n",
       "18822    413\n",
       "18111    408\n",
       "23359    403\n",
       "20833    394\n",
       "22808    385\n",
       "8655     384\n",
       "18881    371\n",
       "19638    363\n",
       "16044    322\n",
       "25100    314\n",
       "19662    306\n",
       "20207    283\n",
       "52117    276\n",
       "16926    262\n",
       "8172     219\n",
       "        ... \n",
       "10315     38\n",
       "10430     35\n",
       "21047     33\n",
       "1191      21\n",
       "1051      18\n",
       "53245     14\n",
       "11410     12\n",
       "1151      10\n",
       "1045      10\n",
       "1081       7\n",
       "1141       7\n",
       "1085       7\n",
       "10310      7\n",
       "1055       5\n",
       "1031       5\n",
       "11210      4\n",
       "1121       4\n",
       "1041       3\n",
       "1125       3\n",
       "1082       2\n",
       "10410      2\n",
       "18091      2\n",
       "16369      2\n",
       "99760      2\n",
       "3582       1\n",
       "1152       1\n",
       "10510      1\n",
       "10420      1\n",
       "1035       1\n",
       "1156       1\n",
       "Name: BYRNO, Length: 70, dtype: int64"
      ]
     },
     "execution_count": 29,
     "metadata": {},
     "output_type": "execute_result"
    }
   ],
   "source": [
    "df['BYRNO'].value_counts()"
   ]
  },
  {
   "cell_type": "code",
   "execution_count": 30,
   "metadata": {},
   "outputs": [
    {
     "data": {
      "text/plain": [
       "RefId                   False\n",
       "IsBadBuy                False\n",
       "PurchDate               False\n",
       "Auction                 False\n",
       "VehYear                 False\n",
       "VehicleAge              False\n",
       "Make                    False\n",
       "Model                   False\n",
       "Trim                    False\n",
       "SubModel                False\n",
       "Color                   False\n",
       "Transmission            False\n",
       "WheelTypeID             False\n",
       "WheelType               False\n",
       "VehOdo                  False\n",
       "Nationality             False\n",
       "Size                    False\n",
       "TopThreeAmericanName    False\n",
       "AAAP                    False\n",
       "AACP                    False\n",
       "ARAP                    False\n",
       "ARCP                    False\n",
       "CAAP                    False\n",
       "CACP                    False\n",
       "CRAP                    False\n",
       "CRCP                    False\n",
       "PRIMEUNIT               False\n",
       "AUCGUART                False\n",
       "BYRNO                   False\n",
       "VNZIP1                  False\n",
       "VNST                    False\n",
       "VehBCost                False\n",
       "IsOnlineSale            False\n",
       "WarrantyCost            False\n",
       "dtype: bool"
      ]
     },
     "execution_count": 30,
     "metadata": {},
     "output_type": "execute_result"
    }
   ],
   "source": [
    "df.apply(lambda x : 'refID'==326)"
   ]
  },
  {
   "cell_type": "code",
   "execution_count": 31,
   "metadata": {},
   "outputs": [],
   "source": [
    "df['WheelTypeID'].fillna(4, inplace = True)"
   ]
  },
  {
   "cell_type": "code",
   "execution_count": 32,
   "metadata": {},
   "outputs": [
    {
     "data": {
      "text/plain": [
       "<matplotlib.axes._subplots.AxesSubplot at 0x1e3b89dfcc0>"
      ]
     },
     "execution_count": 32,
     "metadata": {},
     "output_type": "execute_result"
    },
    {
     "data": {
      "image/png": "[encoded data removed]",
      "text/plain": [
       "<Figure size 432x288 with 1 Axes>"
      ]
     },
     "metadata": {
      "needs_background": "light"
     },
     "output_type": "display_data"
    }
   ],
   "source": [
    "pclass_xt = pd.crosstab(df['WheelTypeID'], df['IsBadBuy'])\n",
    "pclass_xt.plot(kind='bar', stacked=True)"
   ]
  },
  {
   "cell_type": "markdown",
   "metadata": {},
   "source": [
    "Adesso cerco di trovare alcuni valori sbagliati (prezzi < 0, prezzi anomali, cose così)"
   ]
  },
  {
   "cell_type": "code",
   "execution_count": 182,
   "metadata": {},
   "outputs": [
    {
     "data": {
      "text/plain": [
       "0"
      ]
     },
     "execution_count": 182,
     "metadata": {},
     "output_type": "execute_result"
    }
   ],
   "source": [
    "len(df[df['VehBCost'] <= 0]) # numero di elementi in cui il costo è <= 0"
   ]
  },
  {
   "cell_type": "code",
   "execution_count": 183,
   "metadata": {},
   "outputs": [
    {
     "data": {
      "text/plain": [
       "2919"
      ]
     },
     "execution_count": 183,
     "metadata": {},
     "output_type": "execute_result"
    }
   ],
   "source": [
    "len([(x, y) for x, y in zip(df['VehBCost'], df['ARCP']) if x > y and y != 0])\n",
    "#([(x, y, z, odo, year) for x, y, z, odo, year in zip(df['VehBCost'], df['ARCP'], df['Trim'], df['VehOdo'], df['VehYear']) if x > y and y != 0])"
   ]
  },
  {
   "cell_type": "markdown",
   "metadata": {},
   "source": [
    "Per vedere la lista basta che togliete il commento alla seconda linea.\n",
    "Non so a me questo sembra assurdo, però pare che sia normale. 2919 macchine sono state acquistate a prezzo maggiore rispetto a quello del concessionario. Questo vale anche per macchine comprate in opzione base ('Bas' nella terza colonna), e con alto chilometraggio. Ci ho messo anche l'anno del veicolo per far capire che non si tratta di auto d'epoca, quindi davvero non ho idea.\n",
    "Secondo me è una cosa che vale la pena scrivere nel report: macchine vengono anche acquistate a un prezzo maggiore del concessionario anche se usate. Unica cosa dobbiamo capire se in retail ci stanno anche auto usate, e allora quindi tutto questo discorso non vale nulla. Inizialmente speravo di usare questo come controllo che i dati fossero corretti, però..."
   ]
  },
  {
   "cell_type": "code",
   "execution_count": 184,
   "metadata": {},
   "outputs": [
    {
     "data": {
      "text/plain": [
       "0"
      ]
     },
     "execution_count": 184,
     "metadata": {},
     "output_type": "execute_result"
    }
   ],
   "source": [
    "len([(y, a) for y, a in zip(df['VehYear'], df['VehicleAge']) if a+y < 2009 or a+y > 2010]) # gli anni son tutti corretti"
   ]
  },
  {
   "cell_type": "code",
   "execution_count": 185,
   "metadata": {},
   "outputs": [
    {
     "data": {
      "text/plain": [
       "0"
      ]
     },
     "execution_count": 185,
     "metadata": {},
     "output_type": "execute_result"
    }
   ],
   "source": [
    "len(df[df['VehOdo'] <= 0]) # numero di elementi in cui il contakm è <= 0"
   ]
  },
  {
   "cell_type": "code",
   "execution_count": 186,
   "metadata": {},
   "outputs": [
    {
     "data": {
      "text/plain": [
       "0"
      ]
     },
     "execution_count": 186,
     "metadata": {},
     "output_type": "execute_result"
    }
   ],
   "source": [
    "len(df[df['WarrantyCost'] <= 0]) # numero di elementi in cui il costo della garanzia è <= 0"
   ]
  },
  {
   "cell_type": "markdown",
   "metadata": {},
   "source": [
    "Adesso verifico che in ogni caso, l'acquisto di un veicolo clean (above average condition) costi di più di quello medio (e infatti torna sempre perfetto in ogni caso"
   ]
  },
  {
   "cell_type": "code",
   "execution_count": 187,
   "metadata": {},
   "outputs": [
    {
     "data": {
      "text/plain": [
       "0"
      ]
     },
     "execution_count": 187,
     "metadata": {},
     "output_type": "execute_result"
    }
   ],
   "source": [
    "len([(x,y) for x,y in zip(df['AAAP'], df['AACP']) if x>y])"
   ]
  },
  {
   "cell_type": "code",
   "execution_count": 188,
   "metadata": {},
   "outputs": [
    {
     "data": {
      "text/plain": [
       "0"
      ]
     },
     "execution_count": 188,
     "metadata": {},
     "output_type": "execute_result"
    }
   ],
   "source": [
    "len([(x,y) for x,y in zip(df['ARAP'], df['ARCP']) if x>y])"
   ]
  },
  {
   "cell_type": "code",
   "execution_count": 189,
   "metadata": {},
   "outputs": [
    {
     "data": {
      "text/plain": [
       "0"
      ]
     },
     "execution_count": 189,
     "metadata": {},
     "output_type": "execute_result"
    }
   ],
   "source": [
    "len([(x,y) for x,y in zip(df['CAAP'], df['CACP']) if x>y])"
   ]
  },
  {
   "cell_type": "code",
   "execution_count": 190,
   "metadata": {},
   "outputs": [
    {
     "data": {
      "text/plain": [
       "0"
      ]
     },
     "execution_count": 190,
     "metadata": {},
     "output_type": "execute_result"
    }
   ],
   "source": [
    "len([(x,y) for x,y in zip(df['CRAP'], df['CRCP']) if x>y])"
   ]
  },
  {
   "cell_type": "markdown",
   "metadata": {},
   "source": [
    "A questo punto cerco di risolvere qualche missing value:\n",
    "Tutti i currentAuction hanno 250 missing values circa. Pensavo di sostituire, quando quelli medi sono disponibili, current con quelli medi"
   ]
  },
  {
   "cell_type": "code",
   "execution_count": 191,
   "metadata": {},
   "outputs": [
    {
     "name": "stdout",
     "output_type": "stream",
     "text": [
      "nan\n"
     ]
    },
    {
     "data": {
      "text/plain": [
       "245"
      ]
     },
     "execution_count": 191,
     "metadata": {},
     "output_type": "execute_result"
    }
   ],
   "source": [
    "print(df.at[292, 'CAAP']) # abbiamo 245 missing values, e quello alla riga 292 è un missing value\n",
    "df['CAAP'].isnull().sum()"
   ]
  },
  {
   "cell_type": "code",
   "execution_count": 192,
   "metadata": {},
   "outputs": [
    {
     "name": "stdout",
     "output_type": "stream",
     "text": [
      "13\n",
      "True\n"
     ]
    }
   ],
   "source": [
    "df['CAAP'].fillna(df['AAAP'],inplace=True)\n",
    "print(df['CAAP'].isnull().sum()) # ho 13 missing values, che sono quelli di cui mi manca anche il valore medio\n",
    "print(df.at[292, 'CAAP'] == df.at[292, 'AAAP']) # Ha correttamente riempito CAAP con il valore in AAAP all'id 292"
   ]
  },
  {
   "cell_type": "markdown",
   "metadata": {},
   "source": [
    "Adesso devo fare la stessa cosa per gli altri current values"
   ]
  },
  {
   "cell_type": "code",
   "execution_count": 193,
   "metadata": {},
   "outputs": [],
   "source": [
    "df['CRAP'].fillna(df['ARAP'],inplace=True)\n",
    "df['CACP'].fillna(df['AACP'],inplace=True)\n",
    "df['CRCP'].fillna(df['ARCP'],inplace=True)"
   ]
  },
  {
   "cell_type": "markdown",
   "metadata": {},
   "source": [
    "Qua secondo me è simpatico per far  notare che in generale i bad buy si trovano in 3 zone\n",
    "- Su macchine praticamente nuove (contakm basso e costo garanzia basso)\n",
    "- Su macchine usate e rischiose (garanzia alta, contakm intorno a 40000-80000\n",
    "- Su macchine stra usate"
   ]
  },
  {
   "cell_type": "code",
   "execution_count": 194,
   "metadata": {},
   "outputs": [
    {
     "data": {
      "image/png": "[encoded data removed]",
      "text/plain": [
       "<Figure size 432x288 with 1 Axes>"
      ]
     },
     "metadata": {
      "needs_background": "light"
     },
     "output_type": "display_data"
    }
   ],
   "source": [
    "plt.scatter(df[df['IsBadBuy'] == 0]['VehOdo'], \n",
    "            df[df['IsBadBuy'] == 0]['WarrantyCost'], color='g', marker='*', label='Bad Buy')\n",
    "plt.scatter(df[df['IsBadBuy'] == 1]['VehOdo'], \n",
    "            df[df['IsBadBuy'] == 1]['WarrantyCost'], color='r',label='Good Buy')\n",
    "plt.xlabel('VehOdo')\n",
    "plt.ylabel('WarrantyCost')\n",
    "plt.legend()\n",
    "plt.show()"
   ]
  },
  {
   "cell_type": "code",
   "execution_count": 195,
   "metadata": {},
   "outputs": [
    {
     "data": {
      "image/png": "[encoded data removed]",
      "text/plain": [
       "<Figure size 432x288 with 1 Axes>"
      ]
     },
     "metadata": {
      "needs_background": "light"
     },
     "output_type": "display_data"
    }
   ],
   "source": [
    "df['VehBCost'].hist(bins=50)\n",
    "plt.show()"
   ]
  },
  {
   "cell_type": "code",
   "execution_count": 196,
   "metadata": {},
   "outputs": [
    {
     "data": {
      "image/png": "[encoded data removed]",
      "text/plain": [
       "<Figure size 432x288 with 1 Axes>"
      ]
     },
     "metadata": {
      "needs_background": "light"
     },
     "output_type": "display_data"
    }
   ],
   "source": [
    "df['VehOdo'].hist(bins=16)\n",
    "plt.show()"
   ]
  },
  {
   "cell_type": "code",
   "execution_count": 197,
   "metadata": {},
   "outputs": [
    {
     "data": {
      "image/png": "[encoded data removed]",
      "text/plain": [
       "<Figure size 432x288 with 1 Axes>"
      ]
     },
     "metadata": {
      "needs_background": "light"
     },
     "output_type": "display_data"
    }
   ],
   "source": [
    "df['WarrantyCost'].hist(bins=16)\n",
    "plt.show()"
   ]
  },
  {
   "cell_type": "markdown",
   "metadata": {},
   "source": [
    "## Variable Sostitution & Redundancy Elimination"
   ]
  },
  {
   "cell_type": "code",
   "execution_count": 198,
   "metadata": {},
   "outputs": [],
   "source": [
    "PAC = ['WA' ,'OR','AK','HI','CA']\n",
    "MNT = ['MT' ,'WY','ID','NV','UT','CO','AZ','NM']\n",
    "WNC = ['ND' ,'MN','SD','IA','NE','KS','MO']\n",
    "WSC = ['OK' ,'AR','TX','LA']\n",
    "ENC = ['WI' ,'MI','OH','IN','IL']\n",
    "ESC = ['KY' ,'TN','MS','AL']\n",
    "MAT = ['NY' ,'PA','NJ']\n",
    "SAT = ['WV' ,'MD','DE','DC','VA','NC','SC','GA','FL']\n",
    "NEN = ['ME' ,'NH','VT','MA','CT','RI']"
   ]
  },
  {
   "cell_type": "code",
   "execution_count": 199,
   "metadata": {},
   "outputs": [],
   "source": [
    "sost = []\n",
    "for i in df['VNST']:\n",
    "    if i in PAC:\n",
    "        sost.append('PAC')\n",
    "    elif i in MNT:\n",
    "        sost.append('MNT')\n",
    "    elif i in WNC:\n",
    "        sost.append('WNC')\n",
    "    elif i in WSC:\n",
    "        sost.append('WSC')\n",
    "    elif i in ENC:\n",
    "        sost.append('ENC')\n",
    "    elif i in ESC:\n",
    "        sost.append('ESC')\n",
    "    elif i in MAT:\n",
    "        sost.append('MAT')\n",
    "    elif i in SAT:\n",
    "        sost.append('SAT')\n",
    "    elif i in NEN:\n",
    "        sost.append('NEN')\n",
    "    else:\n",
    "        sost.append('XXX')\n",
    "\n",
    "df['Region'] = sost"
   ]
  },
  {
   "cell_type": "code",
   "execution_count": 200,
   "metadata": {},
   "outputs": [
    {
     "data": {
      "image/png": "[encoded data removed]",
      "text/plain": [
       "<Figure size 432x288 with 1 Axes>"
      ]
     },
     "metadata": {},
     "output_type": "display_data"
    }
   ],
   "source": [
    "plot = df['Region'].value_counts().plot.pie(legend=True,autopct='%1.1f%%',textprops=dict(color=\"w\",size=\"12\"))\n",
    "plot.legend(bbox_to_anchor=(1.2,1), loc=\"upper left\")\n",
    "plot.axes.get_yaxis().set_visible(False)"
   ]
  },
  {
   "cell_type": "code",
   "execution_count": 201,
   "metadata": {},
   "outputs": [
    {
     "data": {
      "image/png": "[encoded data removed]",
      "text/plain": [
       "<Figure size 432x288 with 1 Axes>"
      ]
     },
     "metadata": {
      "needs_background": "light"
     },
     "output_type": "display_data"
    }
   ],
   "source": [
    "plot = df['Region'].value_counts().plot(kind='bar')"
   ]
  },
  {
   "cell_type": "code",
   "execution_count": 202,
   "metadata": {},
   "outputs": [
    {
     "data": {
      "image/png": "[encoded data removed]",
      "text/plain": [
       "<Figure size 432x288 with 1 Axes>"
      ]
     },
     "metadata": {},
     "output_type": "display_data"
    }
   ],
   "source": [
    "sost = []\n",
    "\n",
    "for i in df['Trim']:\n",
    "    if i == 'Bas':\n",
    "        sost.append('YES')\n",
    "    else:\n",
    "        sost.append(\"NO\")\n",
    "\n",
    "df['IsBase'] = sost\n",
    "plot = df['IsBase'].value_counts().plot.pie(legend=True,autopct='%1.1f%%',textprops=dict(color=\"w\",size=\"12\"))\n",
    "plot.legend(bbox_to_anchor=(1.2,1), loc=\"upper left\")\n",
    "plot.axes.get_yaxis().set_visible(False)"
   ]
  },
  {
   "cell_type": "code",
   "execution_count": 203,
   "metadata": {},
   "outputs": [
    {
     "data": {
      "text/plain": [
       "0"
      ]
     },
     "execution_count": 203,
     "metadata": {},
     "output_type": "execute_result"
    }
   ],
   "source": [
    "df['IsBase'].isnull().sum()"
   ]
  },
  {
   "cell_type": "markdown",
   "metadata": {},
   "source": [
    "### Eliminazione variabili (idee)\n",
    "\n",
    "- VehicleYear\n",
    "- AUCGUART\n",
    "- PRIMEUNIT\n",
    "- "
   ]
  },
  {
   "cell_type": "code",
   "execution_count": 204,
   "metadata": {},
   "outputs": [
    {
     "data": {
      "text/plain": [
       "Trim                     1911\n",
       "SubModel                    7\n",
       "Color                       7\n",
       "Transmission                8\n",
       "WheelType                2577\n",
       "Nationality                 4\n",
       "Size                        4\n",
       "TopThreeAmericanName        4\n",
       "AAAP                       13\n",
       "AACP                       13\n",
       "ARAP                       13\n",
       "ARCP                       13\n",
       "CAAP                       13\n",
       "CACP                       13\n",
       "CRAP                       13\n",
       "CRCP                       13\n",
       "PRIMEUNIT               55703\n",
       "AUCGUART                55703\n",
       "dtype: int64"
      ]
     },
     "execution_count": 204,
     "metadata": {},
     "output_type": "execute_result"
    }
   ],
   "source": [
    "sum_ = df.isnull().sum()\n",
    "sum_[sum_ != 0]"
   ]
  },
  {
   "cell_type": "markdown",
   "metadata": {},
   "source": [
    "Per sostituire WheelType ci accorgiamo che raggruppando su IsBase abbiamo mode diverse per i due gruppi"
   ]
  },
  {
   "cell_type": "code",
   "execution_count": 205,
   "metadata": {
    "scrolled": false
   },
   "outputs": [
    {
     "data": {
      "text/plain": [
       "<matplotlib.axes._subplots.AxesSubplot at 0x24116464828>"
      ]
     },
     "execution_count": 205,
     "metadata": {},
     "output_type": "execute_result"
    },
    {
     "data": {
      "image/png": "[encoded data removed]",
      "text/plain": [
       "<Figure size 432x288 with 1 Axes>"
      ]
     },
     "metadata": {
      "needs_background": "light"
     },
     "output_type": "display_data"
    }
   ],
   "source": [
    "pclass_xt = pd.crosstab(df['IsBase'], df['WheelType'])\n",
    "pclass_xt.plot(kind='bar', stacked=True)"
   ]
  },
  {
   "cell_type": "markdown",
   "metadata": {},
   "source": [
    "Sostituisco tutti i missing values di WheelType ID con la moda del gruppo relativo a trim base o no: se il veicolo non è base allora alloy è la moda (vedi grafico sopra)..."
   ]
  },
  {
   "cell_type": "code",
   "execution_count": 206,
   "metadata": {},
   "outputs": [
    {
     "data": {
      "text/plain": [
       "0"
      ]
     },
     "execution_count": 206,
     "metadata": {},
     "output_type": "execute_result"
    }
   ],
   "source": [
    "df['WheelTypeID'] = df.groupby(['IsBase']).WheelTypeID.apply(lambda x: x.fillna(x.mode()[0]))\n",
    "df['WheelTypeID'].isnull().sum()"
   ]
  },
  {
   "cell_type": "markdown",
   "metadata": {},
   "source": [
    "Non faccio niente con wheelType perchè secondo me quell'attributo va frullato, tanto è ridondante con wheelTypeID"
   ]
  },
  {
   "cell_type": "markdown",
   "metadata": {},
   "source": [
    "Per quanto riguarda nationality, ci accorgiamo che i missing values sono tutti di marche americane. Quindi TopThreeAmericanName sarà OTHER in ogni caso, e nationality sarà american"
   ]
  },
  {
   "cell_type": "code",
   "execution_count": 119,
   "metadata": {},
   "outputs": [
    {
     "data": {
      "text/html": [
       "<div>\n",
       "<style scoped>\n",
       "    .dataframe tbody tr th:only-of-type {\n",
       "        vertical-align: middle;\n",
       "    }\n",
       "\n",
       "    .dataframe tbody tr th {\n",
       "        vertical-align: top;\n",
       "    }\n",
       "\n",
       "    .dataframe thead th {\n",
       "        text-align: right;\n",
       "    }\n",
       "</style>\n",
       "<table border=\"1\" class=\"dataframe\">\n",
       "  <thead>\n",
       "    <tr style=\"text-align: right;\">\n",
       "      <th></th>\n",
       "      <th>TopThreeAmericanName</th>\n",
       "      <th>Transmission</th>\n",
       "      <th>Model</th>\n",
       "      <th>Make</th>\n",
       "      <th>Nationality</th>\n",
       "    </tr>\n",
       "  </thead>\n",
       "  <tbody>\n",
       "    <tr>\n",
       "      <th>15769</th>\n",
       "      <td>NaN</td>\n",
       "      <td>AUTO</td>\n",
       "      <td>SIERRA 1500</td>\n",
       "      <td>GMC</td>\n",
       "      <td>NaN</td>\n",
       "    </tr>\n",
       "    <tr>\n",
       "      <th>18532</th>\n",
       "      <td>NaN</td>\n",
       "      <td>AUTO</td>\n",
       "      <td>NITRO 4WD V6</td>\n",
       "      <td>DODGE</td>\n",
       "      <td>NaN</td>\n",
       "    </tr>\n",
       "    <tr>\n",
       "      <th>20016</th>\n",
       "      <td>NaN</td>\n",
       "      <td>AUTO</td>\n",
       "      <td>PATRIOT 2WD 4C</td>\n",
       "      <td>JEEP</td>\n",
       "      <td>NaN</td>\n",
       "    </tr>\n",
       "    <tr>\n",
       "      <th>35157</th>\n",
       "      <td>NaN</td>\n",
       "      <td>AUTO</td>\n",
       "      <td>PATRIOT 2WD 4C</td>\n",
       "      <td>JEEP</td>\n",
       "      <td>NaN</td>\n",
       "    </tr>\n",
       "  </tbody>\n",
       "</table>\n",
       "</div>"
      ],
      "text/plain": [
       "      TopThreeAmericanName Transmission           Model   Make Nationality\n",
       "15769                  NaN         AUTO     SIERRA 1500    GMC         NaN\n",
       "18532                  NaN         AUTO    NITRO 4WD V6  DODGE         NaN\n",
       "20016                  NaN         AUTO  PATRIOT 2WD 4C   JEEP         NaN\n",
       "35157                  NaN         AUTO  PATRIOT 2WD 4C   JEEP         NaN"
      ]
     },
     "execution_count": 119,
     "metadata": {},
     "output_type": "execute_result"
    }
   ],
   "source": [
    "df[df['Nationality'].isnull()][['TopThreeAmericanName', 'Transmission', 'Model', 'Make', 'Nationality']]"
   ]
  },
  {
   "cell_type": "code",
   "execution_count": 120,
   "metadata": {},
   "outputs": [
    {
     "data": {
      "text/plain": [
       "0"
      ]
     },
     "execution_count": 120,
     "metadata": {},
     "output_type": "execute_result"
    }
   ],
   "source": [
    "df['TopThreeAmericanName'].fillna('OTHER', inplace=True)\n",
    "df['TopThreeAmericanName'].isnull().sum()"
   ]
  },
  {
   "cell_type": "code",
   "execution_count": 121,
   "metadata": {},
   "outputs": [
    {
     "data": {
      "text/plain": [
       "0"
      ]
     },
     "execution_count": 121,
     "metadata": {},
     "output_type": "execute_result"
    }
   ],
   "source": [
    "df['Nationality'].fillna('OTHER', inplace=True)\n",
    "df['Nationality'].isnull().sum()"
   ]
  },
  {
   "cell_type": "markdown",
   "metadata": {},
   "source": [
    "Addesso controlliamo i missing values di transmission, e notiamo che la distribuzione è molto più vicina al cambio automatico rispetto a quello manuale, quindi usiamo la moda. Inoltre guardando i missing values notiamo che son tutte macchine americane."
   ]
  },
  {
   "cell_type": "code",
   "execution_count": 122,
   "metadata": {},
   "outputs": [
    {
     "data": {
      "text/html": [
       "<div>\n",
       "<style scoped>\n",
       "    .dataframe tbody tr th:only-of-type {\n",
       "        vertical-align: middle;\n",
       "    }\n",
       "\n",
       "    .dataframe tbody tr th {\n",
       "        vertical-align: top;\n",
       "    }\n",
       "\n",
       "    .dataframe thead th {\n",
       "        text-align: right;\n",
       "    }\n",
       "</style>\n",
       "<table border=\"1\" class=\"dataframe\">\n",
       "  <thead>\n",
       "    <tr style=\"text-align: right;\">\n",
       "      <th></th>\n",
       "      <th>TopThreeAmericanName</th>\n",
       "      <th>Transmission</th>\n",
       "      <th>Model</th>\n",
       "      <th>Make</th>\n",
       "    </tr>\n",
       "  </thead>\n",
       "  <tbody>\n",
       "    <tr>\n",
       "      <th>23019</th>\n",
       "      <td>GM</td>\n",
       "      <td>NaN</td>\n",
       "      <td>IMPALA 3.4L V6 SFI</td>\n",
       "      <td>CHEVROLET</td>\n",
       "    </tr>\n",
       "    <tr>\n",
       "      <th>28280</th>\n",
       "      <td>FORD</td>\n",
       "      <td>NaN</td>\n",
       "      <td>FREESTAR FWD V6 3.9L</td>\n",
       "      <td>FORD</td>\n",
       "    </tr>\n",
       "    <tr>\n",
       "      <th>28961</th>\n",
       "      <td>GM</td>\n",
       "      <td>NaN</td>\n",
       "      <td>GRAND AM V6 3.4L V6</td>\n",
       "      <td>PONTIAC</td>\n",
       "    </tr>\n",
       "    <tr>\n",
       "      <th>33225</th>\n",
       "      <td>FORD</td>\n",
       "      <td>NaN</td>\n",
       "      <td>MOUNTAINEER 2WD V8 4</td>\n",
       "      <td>MERCURY</td>\n",
       "    </tr>\n",
       "    <tr>\n",
       "      <th>35224</th>\n",
       "      <td>CHRYSLER</td>\n",
       "      <td>NaN</td>\n",
       "      <td>STRATUS V6 2.7L V6 M</td>\n",
       "      <td>DODGE</td>\n",
       "    </tr>\n",
       "    <tr>\n",
       "      <th>40504</th>\n",
       "      <td>FORD</td>\n",
       "      <td>NaN</td>\n",
       "      <td>MONTEGO 3.0L V6 EFI</td>\n",
       "      <td>MERCURY</td>\n",
       "    </tr>\n",
       "    <tr>\n",
       "      <th>48641</th>\n",
       "      <td>CHRYSLER</td>\n",
       "      <td>NaN</td>\n",
       "      <td>STRATUS V6 2.7L V6 M</td>\n",
       "      <td>DODGE</td>\n",
       "    </tr>\n",
       "    <tr>\n",
       "      <th>50661</th>\n",
       "      <td>GM</td>\n",
       "      <td>NaN</td>\n",
       "      <td>S10 PICKUP 2WD 4C 2.</td>\n",
       "      <td>CHEVROLET</td>\n",
       "    </tr>\n",
       "  </tbody>\n",
       "</table>\n",
       "</div>"
      ],
      "text/plain": [
       "      TopThreeAmericanName Transmission                 Model       Make\n",
       "23019                   GM          NaN    IMPALA 3.4L V6 SFI  CHEVROLET\n",
       "28280                 FORD          NaN  FREESTAR FWD V6 3.9L       FORD\n",
       "28961                   GM          NaN   GRAND AM V6 3.4L V6    PONTIAC\n",
       "33225                 FORD          NaN  MOUNTAINEER 2WD V8 4    MERCURY\n",
       "35224             CHRYSLER          NaN  STRATUS V6 2.7L V6 M      DODGE\n",
       "40504                 FORD          NaN   MONTEGO 3.0L V6 EFI    MERCURY\n",
       "48641             CHRYSLER          NaN  STRATUS V6 2.7L V6 M      DODGE\n",
       "50661                   GM          NaN  S10 PICKUP 2WD 4C 2.  CHEVROLET"
      ]
     },
     "execution_count": 122,
     "metadata": {},
     "output_type": "execute_result"
    }
   ],
   "source": [
    "df[df['Transmission'].isnull()][['TopThreeAmericanName', 'Transmission', 'Model', 'Make']]"
   ]
  },
  {
   "cell_type": "code",
   "execution_count": 123,
   "metadata": {},
   "outputs": [
    {
     "data": {
      "text/plain": [
       "<matplotlib.axes._subplots.AxesSubplot at 0x2410f3fdfd0>"
      ]
     },
     "execution_count": 123,
     "metadata": {},
     "output_type": "execute_result"
    },
    {
     "data": {
      "image/png": "[encoded data removed]",
      "text/plain": [
       "<Figure size 432x288 with 1 Axes>"
      ]
     },
     "metadata": {},
     "output_type": "display_data"
    }
   ],
   "source": [
    "df['Transmission'].value_counts().plot.pie(legend=True)"
   ]
  },
  {
   "cell_type": "code",
   "execution_count": 124,
   "metadata": {},
   "outputs": [
    {
     "data": {
      "text/plain": [
       "0"
      ]
     },
     "execution_count": 124,
     "metadata": {},
     "output_type": "execute_result"
    }
   ],
   "source": [
    "df['Transmission'].fillna(df['Transmission'].mode()[0], inplace=True)\n",
    "df['Transmission'].isnull().sum()"
   ]
  },
  {
   "cell_type": "markdown",
   "metadata": {},
   "source": [
    "Per quanto riguarda il colore, abbiamo provato a raggruppare sugli attributi significativi (make, size, year), ma comunque sia la moda era sempre SILVER. "
   ]
  },
  {
   "cell_type": "code",
   "execution_count": 125,
   "metadata": {},
   "outputs": [
    {
     "data": {
      "text/plain": [
       "<matplotlib.axes._subplots.AxesSubplot at 0x2410dd524a8>"
      ]
     },
     "execution_count": 125,
     "metadata": {},
     "output_type": "execute_result"
    },
    {
     "data": {
      "image/png": "[encoded data removed]",
      "text/plain": [
       "<Figure size 432x288 with 1 Axes>"
      ]
     },
     "metadata": {
      "needs_background": "light"
     },
     "output_type": "display_data"
    }
   ],
   "source": [
    "pclass_xt = pd.crosstab(df['Make'], df['Color'])\n",
    "pclass_xt.plot(kind='bar', stacked=True)"
   ]
  },
  {
   "cell_type": "code",
   "execution_count": 126,
   "metadata": {},
   "outputs": [
    {
     "data": {
      "text/plain": [
       "<matplotlib.axes._subplots.AxesSubplot at 0x2410b366be0>"
      ]
     },
     "execution_count": 126,
     "metadata": {},
     "output_type": "execute_result"
    },
    {
     "data": {
      "image/png": "[encoded data removed]",
      "text/plain": [
       "<Figure size 432x288 with 1 Axes>"
      ]
     },
     "metadata": {
      "needs_background": "light"
     },
     "output_type": "display_data"
    }
   ],
   "source": [
    "pclass_xt = pd.crosstab(df['VehYear'], df['Color'])\n",
    "pclass_xt.plot(kind='bar', stacked=True)"
   ]
  },
  {
   "cell_type": "code",
   "execution_count": 127,
   "metadata": {},
   "outputs": [
    {
     "data": {
      "text/html": [
       "<div>\n",
       "<style scoped>\n",
       "    .dataframe tbody tr th:only-of-type {\n",
       "        vertical-align: middle;\n",
       "    }\n",
       "\n",
       "    .dataframe tbody tr th {\n",
       "        vertical-align: top;\n",
       "    }\n",
       "\n",
       "    .dataframe thead th {\n",
       "        text-align: right;\n",
       "    }\n",
       "</style>\n",
       "<table border=\"1\" class=\"dataframe\">\n",
       "  <thead>\n",
       "    <tr style=\"text-align: right;\">\n",
       "      <th></th>\n",
       "      <th>TopThreeAmericanName</th>\n",
       "      <th>Transmission</th>\n",
       "      <th>Model</th>\n",
       "      <th>Make</th>\n",
       "      <th>Color</th>\n",
       "    </tr>\n",
       "  </thead>\n",
       "  <tbody>\n",
       "    <tr>\n",
       "      <th>23019</th>\n",
       "      <td>GM</td>\n",
       "      <td>AUTO</td>\n",
       "      <td>IMPALA 3.4L V6 SFI</td>\n",
       "      <td>CHEVROLET</td>\n",
       "      <td>NaN</td>\n",
       "    </tr>\n",
       "    <tr>\n",
       "      <th>28280</th>\n",
       "      <td>FORD</td>\n",
       "      <td>AUTO</td>\n",
       "      <td>FREESTAR FWD V6 3.9L</td>\n",
       "      <td>FORD</td>\n",
       "      <td>NaN</td>\n",
       "    </tr>\n",
       "    <tr>\n",
       "      <th>28961</th>\n",
       "      <td>GM</td>\n",
       "      <td>AUTO</td>\n",
       "      <td>GRAND AM V6 3.4L V6</td>\n",
       "      <td>PONTIAC</td>\n",
       "      <td>NaN</td>\n",
       "    </tr>\n",
       "    <tr>\n",
       "      <th>33225</th>\n",
       "      <td>FORD</td>\n",
       "      <td>AUTO</td>\n",
       "      <td>MOUNTAINEER 2WD V8 4</td>\n",
       "      <td>MERCURY</td>\n",
       "      <td>NaN</td>\n",
       "    </tr>\n",
       "    <tr>\n",
       "      <th>35224</th>\n",
       "      <td>CHRYSLER</td>\n",
       "      <td>AUTO</td>\n",
       "      <td>STRATUS V6 2.7L V6 M</td>\n",
       "      <td>DODGE</td>\n",
       "      <td>NaN</td>\n",
       "    </tr>\n",
       "    <tr>\n",
       "      <th>48641</th>\n",
       "      <td>CHRYSLER</td>\n",
       "      <td>AUTO</td>\n",
       "      <td>STRATUS V6 2.7L V6 M</td>\n",
       "      <td>DODGE</td>\n",
       "      <td>NaN</td>\n",
       "    </tr>\n",
       "    <tr>\n",
       "      <th>50661</th>\n",
       "      <td>GM</td>\n",
       "      <td>AUTO</td>\n",
       "      <td>S10 PICKUP 2WD 4C 2.</td>\n",
       "      <td>CHEVROLET</td>\n",
       "      <td>NaN</td>\n",
       "    </tr>\n",
       "  </tbody>\n",
       "</table>\n",
       "</div>"
      ],
      "text/plain": [
       "      TopThreeAmericanName Transmission                 Model       Make Color\n",
       "23019                   GM         AUTO    IMPALA 3.4L V6 SFI  CHEVROLET   NaN\n",
       "28280                 FORD         AUTO  FREESTAR FWD V6 3.9L       FORD   NaN\n",
       "28961                   GM         AUTO   GRAND AM V6 3.4L V6    PONTIAC   NaN\n",
       "33225                 FORD         AUTO  MOUNTAINEER 2WD V8 4    MERCURY   NaN\n",
       "35224             CHRYSLER         AUTO  STRATUS V6 2.7L V6 M      DODGE   NaN\n",
       "48641             CHRYSLER         AUTO  STRATUS V6 2.7L V6 M      DODGE   NaN\n",
       "50661                   GM         AUTO  S10 PICKUP 2WD 4C 2.  CHEVROLET   NaN"
      ]
     },
     "execution_count": 127,
     "metadata": {},
     "output_type": "execute_result"
    }
   ],
   "source": [
    "df[df['Color'].isnull()][['TopThreeAmericanName', 'Transmission', 'Model', 'Make', 'Color']]"
   ]
  },
  {
   "cell_type": "code",
   "execution_count": 128,
   "metadata": {},
   "outputs": [
    {
     "data": {
      "text/plain": [
       "0"
      ]
     },
     "execution_count": 128,
     "metadata": {},
     "output_type": "execute_result"
    }
   ],
   "source": [
    "df['Color'].fillna(df['Color'].mode()[0], inplace=True) #Sostituisco con la moda che è silver\n",
    "df['Color'].isnull().sum()"
   ]
  },
  {
   "cell_type": "markdown",
   "metadata": {},
   "source": [
    "Adesso size, abbiamo notato che marche diverse hanno distribuzioni diversi, quindi raggruppiamo su make e prendiamo la moda"
   ]
  },
  {
   "cell_type": "code",
   "execution_count": 129,
   "metadata": {},
   "outputs": [
    {
     "data": {
      "text/plain": [
       "<matplotlib.axes._subplots.AxesSubplot at 0x2410f457e10>"
      ]
     },
     "execution_count": 129,
     "metadata": {},
     "output_type": "execute_result"
    },
    {
     "data": {
      "image/png": "[encoded data removed]",
      "text/plain": [
       "<Figure size 432x288 with 1 Axes>"
      ]
     },
     "metadata": {
      "needs_background": "light"
     },
     "output_type": "display_data"
    }
   ],
   "source": [
    "pclass_xt = pd.crosstab(df['Make'], df['Size'])\n",
    "pclass_xt.plot(kind='bar', stacked=True)"
   ]
  },
  {
   "cell_type": "code",
   "execution_count": 130,
   "metadata": {},
   "outputs": [
    {
     "data": {
      "text/html": [
       "<div>\n",
       "<style scoped>\n",
       "    .dataframe tbody tr th:only-of-type {\n",
       "        vertical-align: middle;\n",
       "    }\n",
       "\n",
       "    .dataframe tbody tr th {\n",
       "        vertical-align: top;\n",
       "    }\n",
       "\n",
       "    .dataframe thead th {\n",
       "        text-align: right;\n",
       "    }\n",
       "</style>\n",
       "<table border=\"1\" class=\"dataframe\">\n",
       "  <thead>\n",
       "    <tr style=\"text-align: right;\">\n",
       "      <th></th>\n",
       "      <th>TopThreeAmericanName</th>\n",
       "      <th>Transmission</th>\n",
       "      <th>Model</th>\n",
       "      <th>Make</th>\n",
       "      <th>Color</th>\n",
       "    </tr>\n",
       "  </thead>\n",
       "  <tbody>\n",
       "    <tr>\n",
       "      <th>15769</th>\n",
       "      <td>OTHER</td>\n",
       "      <td>AUTO</td>\n",
       "      <td>SIERRA 1500</td>\n",
       "      <td>GMC</td>\n",
       "      <td>WHITE</td>\n",
       "    </tr>\n",
       "    <tr>\n",
       "      <th>18532</th>\n",
       "      <td>OTHER</td>\n",
       "      <td>AUTO</td>\n",
       "      <td>NITRO 4WD V6</td>\n",
       "      <td>DODGE</td>\n",
       "      <td>WHITE</td>\n",
       "    </tr>\n",
       "    <tr>\n",
       "      <th>20016</th>\n",
       "      <td>OTHER</td>\n",
       "      <td>AUTO</td>\n",
       "      <td>PATRIOT 2WD 4C</td>\n",
       "      <td>JEEP</td>\n",
       "      <td>SILVER</td>\n",
       "    </tr>\n",
       "    <tr>\n",
       "      <th>35157</th>\n",
       "      <td>OTHER</td>\n",
       "      <td>AUTO</td>\n",
       "      <td>PATRIOT 2WD 4C</td>\n",
       "      <td>JEEP</td>\n",
       "      <td>BLACK</td>\n",
       "    </tr>\n",
       "  </tbody>\n",
       "</table>\n",
       "</div>"
      ],
      "text/plain": [
       "      TopThreeAmericanName Transmission           Model   Make   Color\n",
       "15769                OTHER         AUTO     SIERRA 1500    GMC   WHITE\n",
       "18532                OTHER         AUTO    NITRO 4WD V6  DODGE   WHITE\n",
       "20016                OTHER         AUTO  PATRIOT 2WD 4C   JEEP  SILVER\n",
       "35157                OTHER         AUTO  PATRIOT 2WD 4C   JEEP   BLACK"
      ]
     },
     "execution_count": 130,
     "metadata": {},
     "output_type": "execute_result"
    }
   ],
   "source": [
    "df[df['Size'].isnull()][['TopThreeAmericanName', 'Transmission', 'Model', 'Make', 'Color']]"
   ]
  },
  {
   "cell_type": "code",
   "execution_count": 131,
   "metadata": {},
   "outputs": [
    {
     "data": {
      "text/plain": [
       "0"
      ]
     },
     "execution_count": 131,
     "metadata": {},
     "output_type": "execute_result"
    }
   ],
   "source": [
    "df['Size'] = df.groupby(['Make']).Size.apply(lambda x: x.fillna(x.mode()[0]))\n",
    "df['Size'].isnull().sum()"
   ]
  },
  {
   "cell_type": "markdown",
   "metadata": {},
   "source": [
    "Sub model è strano, ho pensato di raggruppare su make e modello, e prendere la moda di quello"
   ]
  },
  {
   "cell_type": "code",
   "execution_count": 132,
   "metadata": {},
   "outputs": [
    {
     "data": {
      "text/html": [
       "<div>\n",
       "<style scoped>\n",
       "    .dataframe tbody tr th:only-of-type {\n",
       "        vertical-align: middle;\n",
       "    }\n",
       "\n",
       "    .dataframe tbody tr th {\n",
       "        vertical-align: top;\n",
       "    }\n",
       "\n",
       "    .dataframe thead th {\n",
       "        text-align: right;\n",
       "    }\n",
       "</style>\n",
       "<table border=\"1\" class=\"dataframe\">\n",
       "  <thead>\n",
       "    <tr style=\"text-align: right;\">\n",
       "      <th></th>\n",
       "      <th>TopThreeAmericanName</th>\n",
       "      <th>Nationality</th>\n",
       "      <th>Model</th>\n",
       "      <th>Make</th>\n",
       "      <th>SubModel</th>\n",
       "    </tr>\n",
       "  </thead>\n",
       "  <tbody>\n",
       "    <tr>\n",
       "      <th>23019</th>\n",
       "      <td>GM</td>\n",
       "      <td>AMERICAN</td>\n",
       "      <td>IMPALA 3.4L V6 SFI</td>\n",
       "      <td>CHEVROLET</td>\n",
       "      <td>NaN</td>\n",
       "    </tr>\n",
       "    <tr>\n",
       "      <th>28280</th>\n",
       "      <td>FORD</td>\n",
       "      <td>AMERICAN</td>\n",
       "      <td>FREESTAR FWD V6 3.9L</td>\n",
       "      <td>FORD</td>\n",
       "      <td>NaN</td>\n",
       "    </tr>\n",
       "    <tr>\n",
       "      <th>28961</th>\n",
       "      <td>GM</td>\n",
       "      <td>AMERICAN</td>\n",
       "      <td>GRAND AM V6 3.4L V6</td>\n",
       "      <td>PONTIAC</td>\n",
       "      <td>NaN</td>\n",
       "    </tr>\n",
       "    <tr>\n",
       "      <th>33225</th>\n",
       "      <td>FORD</td>\n",
       "      <td>AMERICAN</td>\n",
       "      <td>MOUNTAINEER 2WD V8 4</td>\n",
       "      <td>MERCURY</td>\n",
       "      <td>NaN</td>\n",
       "    </tr>\n",
       "    <tr>\n",
       "      <th>35224</th>\n",
       "      <td>CHRYSLER</td>\n",
       "      <td>AMERICAN</td>\n",
       "      <td>STRATUS V6 2.7L V6 M</td>\n",
       "      <td>DODGE</td>\n",
       "      <td>NaN</td>\n",
       "    </tr>\n",
       "    <tr>\n",
       "      <th>48641</th>\n",
       "      <td>CHRYSLER</td>\n",
       "      <td>AMERICAN</td>\n",
       "      <td>STRATUS V6 2.7L V6 M</td>\n",
       "      <td>DODGE</td>\n",
       "      <td>NaN</td>\n",
       "    </tr>\n",
       "    <tr>\n",
       "      <th>50661</th>\n",
       "      <td>GM</td>\n",
       "      <td>AMERICAN</td>\n",
       "      <td>S10 PICKUP 2WD 4C 2.</td>\n",
       "      <td>CHEVROLET</td>\n",
       "      <td>NaN</td>\n",
       "    </tr>\n",
       "  </tbody>\n",
       "</table>\n",
       "</div>"
      ],
      "text/plain": [
       "      TopThreeAmericanName Nationality                 Model       Make  \\\n",
       "23019                   GM    AMERICAN    IMPALA 3.4L V6 SFI  CHEVROLET   \n",
       "28280                 FORD    AMERICAN  FREESTAR FWD V6 3.9L       FORD   \n",
       "28961                   GM    AMERICAN   GRAND AM V6 3.4L V6    PONTIAC   \n",
       "33225                 FORD    AMERICAN  MOUNTAINEER 2WD V8 4    MERCURY   \n",
       "35224             CHRYSLER    AMERICAN  STRATUS V6 2.7L V6 M      DODGE   \n",
       "48641             CHRYSLER    AMERICAN  STRATUS V6 2.7L V6 M      DODGE   \n",
       "50661                   GM    AMERICAN  S10 PICKUP 2WD 4C 2.  CHEVROLET   \n",
       "\n",
       "      SubModel  \n",
       "23019      NaN  \n",
       "28280      NaN  \n",
       "28961      NaN  \n",
       "33225      NaN  \n",
       "35224      NaN  \n",
       "48641      NaN  \n",
       "50661      NaN  "
      ]
     },
     "execution_count": 132,
     "metadata": {},
     "output_type": "execute_result"
    }
   ],
   "source": [
    "df[df['SubModel'].isnull()][['TopThreeAmericanName', 'Nationality', 'Model', 'Make', 'SubModel']]"
   ]
  },
  {
   "cell_type": "code",
   "execution_count": 133,
   "metadata": {},
   "outputs": [
    {
     "data": {
      "text/plain": [
       "0"
      ]
     },
     "execution_count": 133,
     "metadata": {},
     "output_type": "execute_result"
    }
   ],
   "source": [
    "df['SubModel'] = df.groupby([df['Make'], df['Model']]).Size.apply(lambda x: x.fillna(x.mode()[0]))\n",
    "df['SubModel'].isnull().sum()"
   ]
  },
  {
   "cell_type": "code",
   "execution_count": 134,
   "metadata": {},
   "outputs": [
    {
     "data": {
      "text/plain": [
       "Trim          1911\n",
       "WheelType     2577\n",
       "AAAP            13\n",
       "AACP            13\n",
       "ARAP            13\n",
       "ARCP            13\n",
       "CAAP            13\n",
       "CACP            13\n",
       "CRAP            13\n",
       "CRCP            13\n",
       "PRIMEUNIT    55703\n",
       "AUCGUART     55703\n",
       "dtype: int64"
      ]
     },
     "execution_count": 134,
     "metadata": {},
     "output_type": "execute_result"
    }
   ],
   "source": [
    "sum_ = df.isnull().sum()\n",
    "sum_[sum_ != 0]"
   ]
  },
  {
   "cell_type": "markdown",
   "metadata": {},
   "source": [
    "Perfetto, a questo punto nessun missing value è rimasto. Dobbiamo solo inserire la/e variabile/i da aggiungere per le medie, rimuovere quelle inutili e bone"
   ]
  },
  {
   "cell_type": "code",
   "execution_count": 148,
   "metadata": {},
   "outputs": [
    {
     "data": {
      "text/plain": [
       "VehBCost    552\n",
       "AAAP        552\n",
       "CACP        552\n",
       "dtype: int64"
      ]
     },
     "execution_count": 148,
     "metadata": {},
     "output_type": "execute_result"
    }
   ],
   "source": [
    "df[df['AACP'] == 0][['VehBCost', 'AAAP', 'CACP']].count()"
   ]
  },
  {
   "cell_type": "markdown",
   "metadata": {},
   "source": [
    "# CLUSTERING"
   ]
  },
  {
   "cell_type": "code",
   "execution_count": 36,
   "metadata": {},
   "outputs": [],
   "source": [
    "from sklearn.preprocessing import StandardScaler, MinMaxScaler"
   ]
  },
  {
   "cell_type": "code",
   "execution_count": 37,
   "metadata": {},
   "outputs": [
    {
     "data": {
      "text/html": [
       "<div>\n",
       "<style scoped>\n",
       "    .dataframe tbody tr th:only-of-type {\n",
       "        vertical-align: middle;\n",
       "    }\n",
       "\n",
       "    .dataframe tbody tr th {\n",
       "        vertical-align: top;\n",
       "    }\n",
       "\n",
       "    .dataframe thead th {\n",
       "        text-align: right;\n",
       "    }\n",
       "</style>\n",
       "<table border=\"1\" class=\"dataframe\">\n",
       "  <thead>\n",
       "    <tr style=\"text-align: right;\">\n",
       "      <th></th>\n",
       "      <th>VehOdo</th>\n",
       "      <th>AAAP</th>\n",
       "      <th>AACP</th>\n",
       "      <th>ARAP</th>\n",
       "      <th>ARCP</th>\n",
       "      <th>CAAP</th>\n",
       "      <th>CACP</th>\n",
       "      <th>CRAP</th>\n",
       "      <th>CRCP</th>\n",
       "      <th>VehBCost</th>\n",
       "      <th>WarrantyCost</th>\n",
       "    </tr>\n",
       "  </thead>\n",
       "  <tbody>\n",
       "    <tr>\n",
       "      <th>0</th>\n",
       "      <td>61184</td>\n",
       "      <td>6796.0</td>\n",
       "      <td>7555.0</td>\n",
       "      <td>10140.0</td>\n",
       "      <td>10805.0</td>\n",
       "      <td>6628.0</td>\n",
       "      <td>7535.0</td>\n",
       "      <td>9605.0</td>\n",
       "      <td>10650.0</td>\n",
       "      <td>6100.0</td>\n",
       "      <td>533</td>\n",
       "    </tr>\n",
       "    <tr>\n",
       "      <th>1</th>\n",
       "      <td>92383</td>\n",
       "      <td>5480.0</td>\n",
       "      <td>6461.0</td>\n",
       "      <td>6418.0</td>\n",
       "      <td>7478.0</td>\n",
       "      <td>5480.0</td>\n",
       "      <td>6461.0</td>\n",
       "      <td>6418.0</td>\n",
       "      <td>7478.0</td>\n",
       "      <td>4000.0</td>\n",
       "      <td>1630</td>\n",
       "    </tr>\n",
       "    <tr>\n",
       "      <th>2</th>\n",
       "      <td>45965</td>\n",
       "      <td>8067.0</td>\n",
       "      <td>8580.0</td>\n",
       "      <td>11073.0</td>\n",
       "      <td>11652.0</td>\n",
       "      <td>7497.0</td>\n",
       "      <td>8102.0</td>\n",
       "      <td>10721.0</td>\n",
       "      <td>11350.0</td>\n",
       "      <td>7500.0</td>\n",
       "      <td>693</td>\n",
       "    </tr>\n",
       "    <tr>\n",
       "      <th>3</th>\n",
       "      <td>80169</td>\n",
       "      <td>4817.0</td>\n",
       "      <td>6658.0</td>\n",
       "      <td>5702.0</td>\n",
       "      <td>7691.0</td>\n",
       "      <td>4817.0</td>\n",
       "      <td>6658.0</td>\n",
       "      <td>5702.0</td>\n",
       "      <td>7691.0</td>\n",
       "      <td>4725.0</td>\n",
       "      <td>1633</td>\n",
       "    </tr>\n",
       "    <tr>\n",
       "      <th>4</th>\n",
       "      <td>77372</td>\n",
       "      <td>5430.0</td>\n",
       "      <td>6633.0</td>\n",
       "      <td>6364.0</td>\n",
       "      <td>7664.0</td>\n",
       "      <td>5370.0</td>\n",
       "      <td>6811.0</td>\n",
       "      <td>6300.0</td>\n",
       "      <td>7856.0</td>\n",
       "      <td>5670.0</td>\n",
       "      <td>1623</td>\n",
       "    </tr>\n",
       "  </tbody>\n",
       "</table>\n",
       "</div>"
      ],
      "text/plain": [
       "   VehOdo    AAAP    AACP     ARAP     ARCP    CAAP    CACP     CRAP     CRCP  \\\n",
       "0   61184  6796.0  7555.0  10140.0  10805.0  6628.0  7535.0   9605.0  10650.0   \n",
       "1   92383  5480.0  6461.0   6418.0   7478.0  5480.0  6461.0   6418.0   7478.0   \n",
       "2   45965  8067.0  8580.0  11073.0  11652.0  7497.0  8102.0  10721.0  11350.0   \n",
       "3   80169  4817.0  6658.0   5702.0   7691.0  4817.0  6658.0   5702.0   7691.0   \n",
       "4   77372  5430.0  6633.0   6364.0   7664.0  5370.0  6811.0   6300.0   7856.0   \n",
       "\n",
       "   VehBCost  WarrantyCost  \n",
       "0    6100.0           533  \n",
       "1    4000.0          1630  \n",
       "2    7500.0           693  \n",
       "3    4725.0          1633  \n",
       "4    5670.0          1623  "
      ]
     },
     "execution_count": 37,
     "metadata": {},
     "output_type": "execute_result"
    }
   ],
   "source": [
    "df_clus = df.drop(columns=['RefId',\n",
    "        'PurchDate',\n",
    "        'IsBadBuy',\n",
    "        'Auction',\n",
    "        'Make',\n",
    "        'Model',\n",
    "        'Trim',\n",
    "        'WheelTypeID',\n",
    "        'WheelType',\n",
    "        'Nationality',\n",
    "        'Size',\n",
    "        'Color',\n",
    "        'Transmission',\n",
    "        'PRIMEUNIT',\n",
    "        'AUCGUART',\n",
    "        'BYRNO',\n",
    "        'VNST',\n",
    "        'TopThreeAmericanName',\n",
    "        'SubModel',\n",
    "        'VehYear',\n",
    "        'VNZIP1',\n",
    "        'VehicleAge',\n",
    "        'IsOnlineSale',\n",
    "        'Region',\n",
    "        'IsBase'])\n",
    "df_clus.dropna(inplace=True)\n",
    "len(df_clus)\n",
    "df_clus.head()"
   ]
  },
  {
   "cell_type": "markdown",
   "metadata": {},
   "source": [
    "## K-Means with Z-Score"
   ]
  },
  {
   "cell_type": "code",
   "execution_count": 38,
   "metadata": {},
   "outputs": [],
   "source": [
    "scaler = StandardScaler()\n",
    "z_df_clus = scaler.fit_transform(df_clus.values)"
   ]
  },
  {
   "cell_type": "code",
   "execution_count": 39,
   "metadata": {},
   "outputs": [],
   "source": [
    "from sklearn.cluster import KMeans\n",
    "from sklearn.metrics import silhouette_score"
   ]
  },
  {
   "cell_type": "code",
   "execution_count": 40,
   "metadata": {},
   "outputs": [
    {
     "data": {
      "text/plain": [
       "KMeans(algorithm='auto', copy_x=True, init='k-means++', max_iter=500,\n",
       "       n_clusters=5, n_init=50, n_jobs=None, precompute_distances='auto',\n",
       "       random_state=None, tol=0.0001, verbose=0)"
      ]
     },
     "execution_count": 40,
     "metadata": {},
     "output_type": "execute_result"
    }
   ],
   "source": [
    "kmeans = KMeans(n_clusters=5, n_init=50, max_iter=500)\n",
    "kmeans.fit(z_df_clus)"
   ]
  },
  {
   "cell_type": "code",
   "execution_count": 41,
   "metadata": {},
   "outputs": [
    {
     "data": {
      "text/plain": [
       "<matplotlib.collections.PathCollection at 0x1a1b351c88>"
      ]
     },
     "execution_count": 41,
     "metadata": {},
     "output_type": "execute_result"
    },
    {
     "data": {
      "image/png": "[encoded data removed]",
      "text/plain": [
       "<Figure size 432x288 with 1 Axes>"
      ]
     },
     "metadata": {
      "needs_background": "light"
     },
     "output_type": "display_data"
    }
   ],
   "source": [
    "plt.scatter(df_clus['WarrantyCost'], df_clus['VehBCost'], \n",
    "            c=kmeans.labels_, s=60)"
   ]
  },
  {
   "cell_type": "markdown",
   "metadata": {},
   "source": [
    "## K-Means with MinMax"
   ]
  },
  {
   "cell_type": "code",
   "execution_count": 42,
   "metadata": {},
   "outputs": [],
   "source": [
    "scaler = MinMaxScaler()\n",
    "minmax_df_clus = scaler.fit_transform(df_clus.values)"
   ]
  },
  {
   "cell_type": "code",
   "execution_count": 43,
   "metadata": {},
   "outputs": [
    {
     "data": {
      "text/plain": [
       "KMeans(algorithm='auto', copy_x=True, init='k-means++', max_iter=500,\n",
       "       n_clusters=5, n_init=50, n_jobs=None, precompute_distances='auto',\n",
       "       random_state=None, tol=0.0001, verbose=0)"
      ]
     },
     "execution_count": 43,
     "metadata": {},
     "output_type": "execute_result"
    }
   ],
   "source": [
    "kmeans_2 = KMeans(n_clusters=5, n_init=50, max_iter=500)\n",
    "kmeans_2.fit(minmax_df_clus)"
   ]
  },
  {
   "cell_type": "code",
   "execution_count": 44,
   "metadata": {},
   "outputs": [
    {
     "data": {
      "text/plain": [
       "<matplotlib.collections.PathCollection at 0x1a19511ba8>"
      ]
     },
     "execution_count": 44,
     "metadata": {},
     "output_type": "execute_result"
    },
    {
     "data": {
      "image/png": "[encoded data removed]",
      "text/plain": [
       "<Figure size 432x288 with 1 Axes>"
      ]
     },
     "metadata": {
      "needs_background": "light"
     },
     "output_type": "display_data"
    }
   ],
   "source": [
    "plt.scatter(df_clus['WarrantyCost'], df_clus['VehBCost'], \n",
    "            c=kmeans_2.labels_, s=60)"
   ]
  },
  {
   "cell_type": "markdown",
   "metadata": {},
   "source": [
    "## DBSCAN"
   ]
  },
  {
   "cell_type": "markdown",
   "metadata": {},
   "source": [
    "from sklearn.cluster import DBSCAN"
   ]
  },
  {
   "cell_type": "markdown",
   "metadata": {},
   "source": [
    "dbscan = DBSCAN(eps=0.3, min_samples=5)\n",
    "dbscan.fit(x_)"
   ]
  },
  {
   "cell_type": "markdown",
   "metadata": {},
   "source": [
    "plt.scatter(df_['WarrantyCost'], df_['VehBCost'], \n",
    "            c=dbscan.labels_, s=20)\n",
    "plt.tick_params(axis='both', which='major')\n",
    "plt.show()"
   ]
  },
  {
   "cell_type": "markdown",
   "metadata": {},
   "source": [
    "## Hierarchical Clustering"
   ]
  },
  {
   "cell_type": "code",
   "execution_count": 45,
   "metadata": {},
   "outputs": [],
   "source": [
    "from scipy.stats import mode\n",
    "from scipy.spatial.distance import pdist\n",
    "from scipy.cluster.hierarchy import linkage, dendrogram"
   ]
  },
  {
   "cell_type": "code",
   "execution_count": 46,
   "metadata": {},
   "outputs": [
    {
     "data": {
      "text/plain": [
       "Index(['VehOdo', 'AAAP', 'AACP', 'ARAP', 'ARCP', 'CAAP', 'CACP', 'CRAP',\n",
       "       'CRCP', 'VehBCost', 'WarrantyCost'],\n",
       "      dtype='object')"
      ]
     },
     "execution_count": 46,
     "metadata": {},
     "output_type": "execute_result"
    }
   ],
   "source": [
    "df_clus.columns"
   ]
  },
  {
   "cell_type": "markdown",
   "metadata": {},
   "source": [
    "Eliminate alcune colonne + ridotto il dataset a 1000 righe"
   ]
  },
  {
   "cell_type": "code",
   "execution_count": 47,
   "metadata": {},
   "outputs": [],
   "source": [
    "df_h = df_clus[['WarrantyCost','VehBCost','VehOdo']]\n",
    "df_h = df_h[0:5000]"
   ]
  },
  {
   "cell_type": "code",
   "execution_count": 53,
   "metadata": {},
   "outputs": [
    {
     "data": {
      "image/png": "[encoded data removed]",
      "text/plain": [
       "<Figure size 432x288 with 1 Axes>"
      ]
     },
     "metadata": {
      "needs_background": "light"
     },
     "output_type": "display_data"
    }
   ],
   "source": [
    "data_dist = pdist(df_h, metric='euclidean')\n",
    "data_link = linkage(data_dist, method='complete', metric='euclidean')\n",
    "res = dendrogram(data_link, color_threshold=25000, truncate_mode='lastp')"
   ]
  }
 ],
 "metadata": {
  "file_extension": ".py",
  "kernelspec": {
   "display_name": "Python 3",
   "language": "python",
   "name": "python3"
  },
  "language_info": {
   "codemirror_mode": {
    "name": "ipython",
    "version": 3
   },
   "file_extension": ".py",
   "mimetype": "text/x-python",
   "name": "python",
   "nbconvert_exporter": "python",
   "pygments_lexer": "ipython3",
   "version": "3.7.3"
  },
  "mimetype": "text/x-python",
  "name": "python",
  "npconvert_exporter": "python",
  "pygments_lexer": "ipython3",
  "version": 3
 },
 "nbformat": 4,
 "nbformat_minor": 2
}
