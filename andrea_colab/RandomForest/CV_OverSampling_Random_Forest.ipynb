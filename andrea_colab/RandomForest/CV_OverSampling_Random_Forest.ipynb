{
  "nbformat": 4,
  "nbformat_minor": 0,
  "metadata": {
    "colab": {
      "name": "CV_OverSampling_Random_Forest.ipynb",
      "provenance": [],
      "collapsed_sections": []
    },
    "kernelspec": {
      "name": "python3",
      "display_name": "Python 3"
    }
  },
  "cells": [
    {
      "cell_type": "code",
      "metadata": {
        "id": "k2rI2YpPXQuf",
        "colab_type": "code",
        "outputId": "82d9930c-aa3a-4725-b20a-f0cc7c500bef",
        "colab": {
          "base_uri": "https://localhost:8080/",
          "height": 71
        }
      },
      "source": [
        "import pandas as pd\n",
        "import numpy as np\n",
        "import warnings\n",
        "from sklearn.ensemble import RandomForestClassifier\n",
        "from sklearn.model_selection import train_test_split\n",
        "from sklearn.model_selection import GridSearchCV\n",
        "from sklearn.metrics import classification_report\n",
        "from imblearn.pipeline import Pipeline, make_pipeline\n",
        "from imblearn.over_sampling import RandomOverSampler\n",
        "\n",
        "\n",
        "trainCSV = \"https://raw.githubusercontent.com/andybbruno/DataMining/master/new_train_cleaned.csv?token=AGWKQXZRZZDVJOUEMOQ3PJC6AHO6U\""
      ],
      "execution_count": 1,
      "outputs": [
        {
          "output_type": "stream",
          "text": [
            "/usr/local/lib/python3.6/dist-packages/sklearn/externals/six.py:31: DeprecationWarning: The module is deprecated in version 0.21 and will be removed in version 0.23 since we've dropped support for Python 2.7. Please rely on the official version of six (https://pypi.org/project/six/).\n",
            "  \"(https://pypi.org/project/six/).\", DeprecationWarning)\n"
          ],
          "name": "stderr"
        }
      ]
    },
    {
      "cell_type": "code",
      "metadata": {
        "id": "GJzj2rkTXPpl",
        "colab_type": "code",
        "outputId": "04616fc5-4620-4ed7-c617-a765f2e7df03",
        "colab": {
          "base_uri": "https://localhost:8080/",
          "height": 1000
        }
      },
      "source": [
        "# READ AND DROP COLUMNS\n",
        "df = pd.read_csv(trainCSV)\n",
        "y = df['IsBadBuy']\n",
        "X = df.drop(columns=['IsBadBuy'])\n",
        "\n",
        "# Split the dataset in two equal parts\n",
        "X_train, X_test, y_train, y_test = train_test_split(X, y, test_size=0.4, random_state=0)\n",
        "\n",
        "# Set the parameters by cross-validation\n",
        "params = {\n",
        "    'n_estimators': [25, 50, 100, 200, 500, 1000]\n",
        "}\n",
        "\n",
        "new_params = {'randomforestclassifier__' + key: params[key] for key in params}\n",
        "\n",
        "#scores = ['precision', 'recall', 'f1']\n",
        "scores = ['recall', 'f1']\n",
        "\n",
        "for score in scores:\n",
        "    print(\"# Tuning hyper-parameters for ----> %s\" % score)\n",
        "    print()\n",
        "    \n",
        "    obj = make_pipeline(RandomOverSampler(), RandomForestClassifier())\n",
        "    \n",
        "    if (score == \"recall\"):\n",
        "      clf = GridSearchCV(obj, param_grid=new_params, cv=5, scoring=score)\n",
        "    else:\n",
        "      clf = GridSearchCV(obj, param_grid=new_params, cv=5, scoring='%s_macro' % score)\n",
        "                         \n",
        "    clf.fit(X_train, y_train)\n",
        "\n",
        "    print(\"Best parameters set found on development set:\")\n",
        "    print()\n",
        "    print(clf.best_params_)\n",
        "    print()\n",
        "    print(\"Grid scores on development set:\")\n",
        "    print()\n",
        "    means = clf.cv_results_['mean_test_score']\n",
        "    stds = clf.cv_results_['std_test_score']\n",
        "    for mean, std, params in zip(means, stds, clf.cv_results_['params']):\n",
        "        print(\"%0.3f (+/-%0.03f) for %r\"\n",
        "              % (mean, std * 2, params))\n",
        "    print()\n",
        "\n",
        "    print(\"Detailed classification report:\")\n",
        "    print()\n",
        "    print(\"The model is trained on the full development set.\")\n",
        "    print(\"The scores are computed on the full evaluation set.\")\n",
        "    print()\n",
        "    y_true, y_pred = y_test, clf.predict(X_test)\n",
        "    print(classification_report(y_true, y_pred))\n",
        "    print()"
      ],
      "execution_count": 2,
      "outputs": [
        {
          "output_type": "stream",
          "text": [
            "# Tuning hyper-parameters for ----> recall\n",
            "\n",
            "Best parameters set found on development set:\n",
            "\n",
            "{'randomforestclassifier__n_estimators': 50}\n",
            "\n",
            "Grid scores on development set:\n",
            "\n",
            "0.258 (+/-0.038) for {'randomforestclassifier__n_estimators': 25}\n",
            "0.259 (+/-0.036) for {'randomforestclassifier__n_estimators': 50}\n",
            "0.256 (+/-0.039) for {'randomforestclassifier__n_estimators': 100}\n",
            "0.257 (+/-0.035) for {'randomforestclassifier__n_estimators': 200}\n",
            "0.259 (+/-0.034) for {'randomforestclassifier__n_estimators': 500}\n",
            "0.258 (+/-0.035) for {'randomforestclassifier__n_estimators': 1000}\n",
            "\n",
            "Detailed classification report:\n",
            "\n",
            "The model is trained on the full development set.\n",
            "The scores are computed on the full evaluation set.\n",
            "\n",
            "              precision    recall  f1-score   support\n",
            "\n",
            "           0       0.90      0.99      0.95     20507\n",
            "           1       0.78      0.25      0.37      2847\n",
            "\n",
            "    accuracy                           0.90     23354\n",
            "   macro avg       0.84      0.62      0.66     23354\n",
            "weighted avg       0.89      0.90      0.88     23354\n",
            "\n",
            "\n",
            "# Tuning hyper-parameters for ----> f1\n",
            "\n",
            "Best parameters set found on development set:\n",
            "\n",
            "{'randomforestclassifier__n_estimators': 1000}\n",
            "\n",
            "Grid scores on development set:\n",
            "\n",
            "0.665 (+/-0.017) for {'randomforestclassifier__n_estimators': 25}\n",
            "0.665 (+/-0.021) for {'randomforestclassifier__n_estimators': 50}\n",
            "0.667 (+/-0.019) for {'randomforestclassifier__n_estimators': 100}\n",
            "0.666 (+/-0.021) for {'randomforestclassifier__n_estimators': 200}\n",
            "0.667 (+/-0.021) for {'randomforestclassifier__n_estimators': 500}\n",
            "0.668 (+/-0.022) for {'randomforestclassifier__n_estimators': 1000}\n",
            "\n",
            "Detailed classification report:\n",
            "\n",
            "The model is trained on the full development set.\n",
            "The scores are computed on the full evaluation set.\n",
            "\n",
            "              precision    recall  f1-score   support\n",
            "\n",
            "           0       0.90      0.99      0.95     20507\n",
            "           1       0.78      0.25      0.38      2847\n",
            "\n",
            "    accuracy                           0.90     23354\n",
            "   macro avg       0.84      0.62      0.66     23354\n",
            "weighted avg       0.89      0.90      0.88     23354\n",
            "\n",
            "\n"
          ],
          "name": "stdout"
        }
      ]
    }
  ]
}