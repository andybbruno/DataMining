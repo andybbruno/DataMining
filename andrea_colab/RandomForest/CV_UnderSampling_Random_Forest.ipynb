{
  "nbformat": 4,
  "nbformat_minor": 0,
  "metadata": {
    "colab": {
      "name": "CV_UnderSampling_Random_Forest.ipynb",
      "provenance": [],
      "collapsed_sections": []
    },
    "kernelspec": {
      "name": "python3",
      "display_name": "Python 3"
    }
  },
  "cells": [
    {
      "cell_type": "code",
      "metadata": {
        "id": "N6C3DR5aleeD",
        "colab_type": "code",
        "outputId": "ca018c3d-ef91-4023-ff83-67342a75d764",
        "colab": {
          "base_uri": "https://localhost:8080/",
          "height": 71
        }
      },
      "source": [
        "import pandas as pd\n",
        "import numpy as np\n",
        "import warnings\n",
        "from sklearn.ensemble import RandomForestClassifier\n",
        "from sklearn.model_selection import train_test_split\n",
        "from sklearn.model_selection import GridSearchCV\n",
        "from sklearn.metrics import classification_report\n",
        "from imblearn.pipeline import Pipeline, make_pipeline\n",
        "from imblearn.under_sampling import RandomUnderSampler\n",
        "\n",
        "trainCSV = \"https://raw.githubusercontent.com/andybbruno/DataMining/master/new_train_cleaned.csv?token=AGWKQXZRZZDVJOUEMOQ3PJC6AHO6U\""
      ],
      "execution_count": 0,
      "outputs": [
        {
          "output_type": "stream",
          "text": [
            "/usr/local/lib/python3.6/dist-packages/sklearn/externals/six.py:31: DeprecationWarning: The module is deprecated in version 0.21 and will be removed in version 0.23 since we've dropped support for Python 2.7. Please rely on the official version of six (https://pypi.org/project/six/).\n",
            "  \"(https://pypi.org/project/six/).\", DeprecationWarning)\n"
          ],
          "name": "stderr"
        }
      ]
    },
    {
      "cell_type": "code",
      "metadata": {
        "id": "NMIPZ16vl3WM",
        "colab_type": "code",
        "outputId": "3f2da975-c9b2-4547-b93a-10ea724a299d",
        "colab": {
          "base_uri": "https://localhost:8080/",
          "height": 1000
        }
      },
      "source": [
        "# READ AND DROP COLUMNS\n",
        "df = pd.read_csv(trainCSV)\n",
        "y = df['IsBadBuy']\n",
        "X = df.drop(columns=['IsBadBuy'])\n",
        "\n",
        "# Split the dataset in two equal parts\n",
        "X_train, X_test, y_train, y_test = train_test_split(X, y, test_size=0.4, random_state=0)\n",
        "\n",
        "# Set the parameters by cross-validation\n",
        "params = {\n",
        "    'n_estimators': [25, 50, 100, 200, 500, 1000]\n",
        "}\n",
        "\n",
        "new_params = {'randomforestclassifier__' + key: params[key] for key in params}\n",
        "\n",
        "#scores = ['precision', 'recall', 'f1']\n",
        "scores = ['recall', 'f1']\n",
        "\n",
        "for score in scores:\n",
        "    print(\"# Tuning hyper-parameters for ----> %s\" % score)\n",
        "    print()\n",
        "    \n",
        "    obj = make_pipeline(RandomUnderSampler(), RandomForestClassifier())\n",
        "    \n",
        "    if (score == \"recall\"):\n",
        "      clf = GridSearchCV(obj, param_grid=new_params, cv=5, scoring=score)\n",
        "    else:\n",
        "      clf = GridSearchCV(obj, param_grid=new_params, cv=5, scoring='%s_macro' % score)\n",
        "                         \n",
        "    clf.fit(X_train, y_train)\n",
        "\n",
        "    print(\"Best parameters set found on development set:\")\n",
        "    print()\n",
        "    print(clf.best_params_)\n",
        "    print()\n",
        "    print(\"Grid scores on development set:\")\n",
        "    print()\n",
        "    means = clf.cv_results_['mean_test_score']\n",
        "    stds = clf.cv_results_['std_test_score']\n",
        "    for mean, std, params in zip(means, stds, clf.cv_results_['params']):\n",
        "        print(\"%0.3f (+/-%0.03f) for %r\"\n",
        "              % (mean, std * 2, params))\n",
        "    print()\n",
        "\n",
        "    print(\"Detailed classification report:\")\n",
        "    print()\n",
        "    print(\"The model is trained on the full development set.\")\n",
        "    print(\"The scores are computed on the full evaluation set.\")\n",
        "    print()\n",
        "    y_true, y_pred = y_test, clf.predict(X_test)\n",
        "    print(classification_report(y_true, y_pred))\n",
        "    print()"
      ],
      "execution_count": 0,
      "outputs": [
        {
          "output_type": "stream",
          "text": [
            "# Tuning hyper-parameters for ----> recall\n",
            "\n",
            "Best parameters set found on development set:\n",
            "\n",
            "{'randomforestclassifier__n_estimators': 1000}\n",
            "\n",
            "Grid scores on development set:\n",
            "\n",
            "0.609 (+/-0.029) for {'randomforestclassifier__n_estimators': 25}\n",
            "0.587 (+/-0.031) for {'randomforestclassifier__n_estimators': 50}\n",
            "0.602 (+/-0.040) for {'randomforestclassifier__n_estimators': 100}\n",
            "0.594 (+/-0.046) for {'randomforestclassifier__n_estimators': 200}\n",
            "0.600 (+/-0.037) for {'randomforestclassifier__n_estimators': 500}\n",
            "0.611 (+/-0.037) for {'randomforestclassifier__n_estimators': 1000}\n",
            "\n",
            "Detailed classification report:\n",
            "\n",
            "The model is trained on the full development set.\n",
            "The scores are computed on the full evaluation set.\n",
            "\n",
            "              precision    recall  f1-score   support\n",
            "\n",
            "           0       0.93      0.75      0.83     20507\n",
            "           1       0.25      0.60      0.36      2847\n",
            "\n",
            "    accuracy                           0.73     23354\n",
            "   macro avg       0.59      0.68      0.59     23354\n",
            "weighted avg       0.85      0.73      0.77     23354\n",
            "\n",
            "\n",
            "# Tuning hyper-parameters for ----> f1\n",
            "\n",
            "Best parameters set found on development set:\n",
            "\n",
            "{'randomforestclassifier__n_estimators': 200}\n",
            "\n",
            "Grid scores on development set:\n",
            "\n",
            "0.562 (+/-0.011) for {'randomforestclassifier__n_estimators': 25}\n",
            "0.586 (+/-0.009) for {'randomforestclassifier__n_estimators': 50}\n",
            "0.590 (+/-0.009) for {'randomforestclassifier__n_estimators': 100}\n",
            "0.594 (+/-0.007) for {'randomforestclassifier__n_estimators': 200}\n",
            "0.593 (+/-0.011) for {'randomforestclassifier__n_estimators': 500}\n",
            "0.593 (+/-0.006) for {'randomforestclassifier__n_estimators': 1000}\n",
            "\n",
            "Detailed classification report:\n",
            "\n",
            "The model is trained on the full development set.\n",
            "The scores are computed on the full evaluation set.\n",
            "\n",
            "              precision    recall  f1-score   support\n",
            "\n",
            "           0       0.93      0.75      0.83     20507\n",
            "           1       0.25      0.59      0.35      2847\n",
            "\n",
            "    accuracy                           0.73     23354\n",
            "   macro avg       0.59      0.67      0.59     23354\n",
            "weighted avg       0.85      0.73      0.77     23354\n",
            "\n",
            "\n"
          ],
          "name": "stdout"
        }
      ]
    }
  ]
}