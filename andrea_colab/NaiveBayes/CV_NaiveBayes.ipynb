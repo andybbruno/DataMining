{
  "nbformat": 4,
  "nbformat_minor": 0,
  "metadata": {
    "colab": {
      "name": "CV_NaiveBayes.ipynb",
      "provenance": [],
      "collapsed_sections": []
    },
    "kernelspec": {
      "name": "python3",
      "display_name": "Python 3"
    }
  },
  "cells": [
    {
      "cell_type": "code",
      "execution_count": 1,
      "metadata": {},
      "outputs": [],
      "source": [
        "import pandas as pd\n",
        "import numpy as np\n",
        "import warnings\n",
        "from sklearn.model_selection import cross_val_score\n",
        "from sklearn.metrics import classification_report\n",
        "from sklearn.model_selection import KFold\n",
        "from sklearn.model_selection import train_test_split\n",
        "from sklearn import metrics\n",
        "from sklearn.naive_bayes import GaussianNB\n",
        "\n",
        "trainCSV = \"https://raw.githubusercontent.com/andybbruno/DataMining/master/new_train_cleaned.csv?token=AGWKQXZRZZDVJOUEMOQ3PJC6AHO6U\""
      ]
    },
    {
      "cell_type": "code",
      "execution_count": 4,
      "metadata": {},
      "outputs": [
        {
          "name": "stdout",
          "output_type": "stream",
          "text": "Mean F1-Score after  100  Cross Validations\nRecall\n0.2058961187214612 0.07175009786827888\nF1\n0.5939093704695046 0.03850430355856951\n"
        }
      ],
      "source": [
        "# READ AND DROP COLUMNS\n",
        "df = pd.read_csv(trainCSV)\n",
        "y = df['IsBadBuy']\n",
        "X = df.drop(columns=['IsBadBuy'])\n",
        "\n",
        "clf = GaussianNB()\n",
        "cv=100\n",
        "print(\"Mean F1-Score after \", cv, \" Cross Validations\")\n",
        "print(\"Recall\")\n",
        "print(np.mean(cross_val_score(clf, X, y, cv=cv, scoring='recall')) , np.std(cross_val_score(clf, X, y, cv=cv, scoring='recall')))\n",
        "print(\"F1\")\n",
        "print(np.mean(cross_val_score(clf, X, y, cv=cv, scoring='f1_macro')) , np.std(cross_val_score(clf, X, y, cv=cv, scoring='f1_macro')))\n"
      ]
    },
    {
      "cell_type": "code",
      "execution_count": 0,
      "metadata": {
        "colab": {},
        "colab_type": "code",
        "id": "mkrxB1kqvt9U"
      },
      "outputs": [],
      "source": []
    },
    {
      "cell_type": "code",
      "execution_count": 0,
      "metadata": {
        "colab": {},
        "colab_type": "code",
        "id": "Qq4OlQuWvt6n"
      },
      "outputs": [],
      "source": []
    },
    {
      "cell_type": "code",
      "execution_count": 0,
      "metadata": {
        "colab": {},
        "colab_type": "code",
        "id": "oS3zgGq3vt35"
      },
      "outputs": [],
      "source": []
    },
    {
      "cell_type": "code",
      "execution_count": 0,
      "metadata": {
        "colab": {},
        "colab_type": "code",
        "id": "RuxJUM8yvtzr"
      },
      "outputs": [],
      "source": []
    },
    {
      "cell_type": "code",
      "execution_count": 0,
      "metadata": {
        "colab": {},
        "colab_type": "code",
        "id": "H8E5bXPCvtw1"
      },
      "outputs": [],
      "source": []
    },
    {
      "cell_type": "code",
      "execution_count": 0,
      "metadata": {
        "colab": {},
        "colab_type": "code",
        "id": "8IWI5GEmvtss"
      },
      "outputs": [],
      "source": []
    },
    {
      "cell_type": "code",
      "execution_count": 0,
      "metadata": {
        "colab": {},
        "colab_type": "code",
        "id": "hjzXOO_nvthw"
      },
      "outputs": [],
      "source": []
    },
    {
      "cell_type": "code",
      "execution_count": 0,
      "metadata": {
        "colab": {
          "base_uri": "https://localhost:8080/",
          "height": 170
        },
        "colab_type": "code",
        "id": "lL55jYKo98dh",
        "outputId": "02e5e9f5-829a-4616-c734-d2c7b9d36667"
      },
      "outputs": [
        {
          "name": "stdout",
          "output_type": "stream",
          "text": [
            "              precision    recall  f1-score   support\n",
            "\n",
            "           0       0.90      0.98      0.94     12829\n",
            "           1       0.56      0.17      0.26      1768\n",
            "\n",
            "    accuracy                           0.88     14597\n",
            "   macro avg       0.73      0.57      0.60     14597\n",
            "weighted avg       0.85      0.88      0.85     14597\n",
            "\n"
          ]
        }
      ],
      "source": [
        "X_train, X_test, y_train, y_test = train_test_split(X, y, test_size=0.4)\n",
        "clf = clf.fit(X_train, y_train)\n",
        "\n",
        "##########################################################################\n",
        "################################ test.csv ################################\n",
        "##########################################################################\n",
        "testCSV = \"https://raw.githubusercontent.com/andybbruno/DataMining/master/new_test_cleaned.csv?token=AGWKQX3XUSEELR4NDUEPKTK56AINE\"\n",
        "\n",
        "# READ AND DROP COLUMNS\n",
        "df = pd.read_csv(testCSV)\n",
        "\n",
        "y = df['IsBadBuy']\n",
        "X = df.drop(columns=['IsBadBuy'])\n",
        "\n",
        "y_pred = clf.predict(X)\n",
        "print(classification_report(y,y_pred))\n"
      ]
    }
  ]
}