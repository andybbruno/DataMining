{
 "cells": [
  {
   "cell_type": "markdown",
   "metadata": {},
   "source": [
    "New Fantastic Dataset 2019/2020"
   ]
  },
  {
   "cell_type": "code",
   "execution_count": 1,
   "metadata": {},
   "outputs": [],
   "source": [
    "%matplotlib inline\n",
    "import math\n",
    "import numpy as np\n",
    "import pandas as pd\n",
    "import scipy.stats as stats\n",
    "import matplotlib.pyplot as plt\n",
    "import plotly.express as px\n",
    "from plotly import graph_objects as go\n",
    "import seaborn as sns\n",
    "import missingno as msno\n",
    "\n",
    "from collections import Counter\n",
    "from mpl_toolkits.mplot3d import Axes3D\n",
    "from collections import defaultdict\n",
    "from scipy.stats.stats import pearsonr"
   ]
  },
  {
   "cell_type": "code",
   "execution_count": 2,
   "metadata": {},
   "outputs": [],
   "source": [
    "df = pd.read_csv('kids_test_cleaned.csv')"
   ]
  },
  {
   "cell_type": "code",
   "execution_count": 3,
   "metadata": {},
   "outputs": [
    {
     "data": {
      "text/html": [
       "<div>\n",
       "<style scoped>\n",
       "    .dataframe tbody tr th:only-of-type {\n",
       "        vertical-align: middle;\n",
       "    }\n",
       "\n",
       "    .dataframe tbody tr th {\n",
       "        vertical-align: top;\n",
       "    }\n",
       "\n",
       "    .dataframe thead th {\n",
       "        text-align: right;\n",
       "    }\n",
       "</style>\n",
       "<table border=\"1\" class=\"dataframe\">\n",
       "  <thead>\n",
       "    <tr style=\"text-align: right;\">\n",
       "      <th></th>\n",
       "      <th>Unnamed: 0</th>\n",
       "      <th>RefId</th>\n",
       "      <th>IsBadBuy</th>\n",
       "      <th>PurchDate</th>\n",
       "      <th>Auction</th>\n",
       "      <th>VehYear</th>\n",
       "      <th>VehicleAge</th>\n",
       "      <th>Make</th>\n",
       "      <th>Model</th>\n",
       "      <th>Trim</th>\n",
       "      <th>...</th>\n",
       "      <th>PurchMonth</th>\n",
       "      <th>PurchDay</th>\n",
       "      <th>PurchWeekDay</th>\n",
       "      <th>EngineLiters</th>\n",
       "      <th>NumCylinders</th>\n",
       "      <th>4X4</th>\n",
       "      <th>WheelDrive</th>\n",
       "      <th>NumDoors</th>\n",
       "      <th>PCA1</th>\n",
       "      <th>PCA2</th>\n",
       "    </tr>\n",
       "  </thead>\n",
       "  <tbody>\n",
       "    <tr>\n",
       "      <th>0</th>\n",
       "      <td>0</td>\n",
       "      <td>5951</td>\n",
       "      <td>0</td>\n",
       "      <td>10/26/2010</td>\n",
       "      <td>MANHEIM</td>\n",
       "      <td>2008.0</td>\n",
       "      <td>2.0</td>\n",
       "      <td>GM</td>\n",
       "      <td>SPECTRA</td>\n",
       "      <td>EX</td>\n",
       "      <td>...</td>\n",
       "      <td>10.0</td>\n",
       "      <td>25.0</td>\n",
       "      <td>Tuesday</td>\n",
       "      <td>4.11398</td>\n",
       "      <td>5.0</td>\n",
       "      <td>NO</td>\n",
       "      <td>0</td>\n",
       "      <td>4.0</td>\n",
       "      <td>1797.080405</td>\n",
       "      <td>-753.566708</td>\n",
       "    </tr>\n",
       "    <tr>\n",
       "      <th>1</th>\n",
       "      <td>1</td>\n",
       "      <td>42116</td>\n",
       "      <td>0</td>\n",
       "      <td>1/27/2010</td>\n",
       "      <td>OTHER</td>\n",
       "      <td>2006.0</td>\n",
       "      <td>3.0</td>\n",
       "      <td>FORD</td>\n",
       "      <td>STRATUS</td>\n",
       "      <td>SXT</td>\n",
       "      <td>...</td>\n",
       "      <td>5.0</td>\n",
       "      <td>27.0</td>\n",
       "      <td>Wednesday</td>\n",
       "      <td>2.70000</td>\n",
       "      <td>6.0</td>\n",
       "      <td>0</td>\n",
       "      <td>0</td>\n",
       "      <td>4.0</td>\n",
       "      <td>-4879.356480</td>\n",
       "      <td>1637.798453</td>\n",
       "    </tr>\n",
       "    <tr>\n",
       "      <th>2</th>\n",
       "      <td>2</td>\n",
       "      <td>5554</td>\n",
       "      <td>0</td>\n",
       "      <td>9/3/2009</td>\n",
       "      <td>MANHEIM</td>\n",
       "      <td>2008.0</td>\n",
       "      <td>2.0</td>\n",
       "      <td>CHRYSLER</td>\n",
       "      <td>CALIBER</td>\n",
       "      <td>SE</td>\n",
       "      <td>...</td>\n",
       "      <td>3.0</td>\n",
       "      <td>18.0</td>\n",
       "      <td>Thursday</td>\n",
       "      <td>2.31289</td>\n",
       "      <td>6.0</td>\n",
       "      <td>0</td>\n",
       "      <td>0</td>\n",
       "      <td>4.0</td>\n",
       "      <td>4349.541129</td>\n",
       "      <td>-467.358818</td>\n",
       "    </tr>\n",
       "    <tr>\n",
       "      <th>3</th>\n",
       "      <td>3</td>\n",
       "      <td>25195</td>\n",
       "      <td>0</td>\n",
       "      <td>1/21/2010</td>\n",
       "      <td>OTHER</td>\n",
       "      <td>2005.0</td>\n",
       "      <td>4.0</td>\n",
       "      <td>HYUNDAI</td>\n",
       "      <td>FREESTAR</td>\n",
       "      <td>S</td>\n",
       "      <td>...</td>\n",
       "      <td>6.0</td>\n",
       "      <td>8.0</td>\n",
       "      <td>Thursday</td>\n",
       "      <td>3.90000</td>\n",
       "      <td>6.0</td>\n",
       "      <td>0</td>\n",
       "      <td>0</td>\n",
       "      <td>5.0</td>\n",
       "      <td>-5514.286888</td>\n",
       "      <td>1633.449461</td>\n",
       "    </tr>\n",
       "    <tr>\n",
       "      <th>4</th>\n",
       "      <td>4</td>\n",
       "      <td>51232</td>\n",
       "      <td>0</td>\n",
       "      <td>3/18/2009</td>\n",
       "      <td>MANHEIM</td>\n",
       "      <td>2005.0</td>\n",
       "      <td>4.0</td>\n",
       "      <td>GM</td>\n",
       "      <td>TOWN &amp; COUNTRY V</td>\n",
       "      <td>Bas</td>\n",
       "      <td>...</td>\n",
       "      <td>3.0</td>\n",
       "      <td>4.0</td>\n",
       "      <td>Wednesday</td>\n",
       "      <td>3.30000</td>\n",
       "      <td>4.0</td>\n",
       "      <td>NO</td>\n",
       "      <td>0</td>\n",
       "      <td>5.0</td>\n",
       "      <td>-4594.389176</td>\n",
       "      <td>1693.004506</td>\n",
       "    </tr>\n",
       "  </tbody>\n",
       "</table>\n",
       "<p>5 rows × 39 columns</p>\n",
       "</div>"
      ],
      "text/plain": [
       "   Unnamed: 0  RefId  IsBadBuy   PurchDate  Auction  VehYear  VehicleAge  \\\n",
       "0           0   5951         0  10/26/2010  MANHEIM   2008.0         2.0   \n",
       "1           1  42116         0   1/27/2010    OTHER   2006.0         3.0   \n",
       "2           2   5554         0    9/3/2009  MANHEIM   2008.0         2.0   \n",
       "3           3  25195         0   1/21/2010    OTHER   2005.0         4.0   \n",
       "4           4  51232         0   3/18/2009  MANHEIM   2005.0         4.0   \n",
       "\n",
       "       Make             Model Trim  ... PurchMonth PurchDay PurchWeekDay  \\\n",
       "0        GM           SPECTRA   EX  ...       10.0     25.0      Tuesday   \n",
       "1      FORD           STRATUS  SXT  ...        5.0     27.0    Wednesday   \n",
       "2  CHRYSLER           CALIBER   SE  ...        3.0     18.0     Thursday   \n",
       "3   HYUNDAI          FREESTAR    S  ...        6.0      8.0     Thursday   \n",
       "4        GM  TOWN & COUNTRY V  Bas  ...        3.0      4.0    Wednesday   \n",
       "\n",
       "  EngineLiters  NumCylinders 4X4  WheelDrive  NumDoors         PCA1  \\\n",
       "0      4.11398           5.0  NO           0       4.0  1797.080405   \n",
       "1      2.70000           6.0   0           0       4.0 -4879.356480   \n",
       "2      2.31289           6.0   0           0       4.0  4349.541129   \n",
       "3      3.90000           6.0   0           0       5.0 -5514.286888   \n",
       "4      3.30000           4.0  NO           0       5.0 -4594.389176   \n",
       "\n",
       "          PCA2  \n",
       "0  -753.566708  \n",
       "1  1637.798453  \n",
       "2  -467.358818  \n",
       "3  1633.449461  \n",
       "4  1693.004506  \n",
       "\n",
       "[5 rows x 39 columns]"
      ]
     },
     "execution_count": 3,
     "metadata": {},
     "output_type": "execute_result"
    }
   ],
   "source": [
    "df.head()"
   ]
  },
  {
   "cell_type": "code",
   "execution_count": 4,
   "metadata": {},
   "outputs": [
    {
     "data": {
      "text/plain": [
       "Unnamed: 0        0\n",
       "RefId             0\n",
       "IsBadBuy          0\n",
       "PurchDate         0\n",
       "Auction           0\n",
       "VehYear           0\n",
       "VehicleAge        0\n",
       "Make              0\n",
       "Model             0\n",
       "Trim              0\n",
       "SubModel          0\n",
       "Color             0\n",
       "Transmission      0\n",
       "WheelType       597\n",
       "VehOdo            0\n",
       "Nationality       0\n",
       "AAAP              0\n",
       "AACP              0\n",
       "ARAP              0\n",
       "ARCP              0\n",
       "CAAP              0\n",
       "CACP              0\n",
       "CRAP              0\n",
       "CRCP              0\n",
       "BYRNO             0\n",
       "VNST              0\n",
       "VehBCost          0\n",
       "WarrantyCost      0\n",
       "PurchYear         0\n",
       "PurchMonth        0\n",
       "PurchDay          0\n",
       "PurchWeekDay      0\n",
       "EngineLiters      0\n",
       "NumCylinders      0\n",
       "4X4               0\n",
       "WheelDrive        0\n",
       "NumDoors          0\n",
       "PCA1              0\n",
       "PCA2              0\n",
       "dtype: int64"
      ]
     },
     "execution_count": 4,
     "metadata": {},
     "output_type": "execute_result"
    }
   ],
   "source": [
    "df.isnull().sum()\n"
   ]
  },
  {
   "cell_type": "code",
   "execution_count": 5,
   "metadata": {},
   "outputs": [
    {
     "data": {
      "image/png": "[encoded data removed]",
      "text/plain": [
       "<Figure size 432x288 with 1 Axes>"
      ]
     },
     "metadata": {
      "needs_background": "light"
     },
     "output_type": "display_data"
    }
   ],
   "source": [
    "fig_dims = (0, 1)\n",
    "x = df[[\"PCA1\"]].dropna()\n",
    "sns.distplot(x);\n",
    "\n",
    "\n"
   ]
  },
  {
   "cell_type": "code",
   "execution_count": 6,
   "metadata": {},
   "outputs": [
    {
     "data": {
      "image/png": "[encoded data removed]",
      "text/plain": [
       "<Figure size 432x288 with 1 Axes>"
      ]
     },
     "metadata": {
      "needs_background": "light"
     },
     "output_type": "display_data"
    }
   ],
   "source": [
    "df['PCA1'].hist(bins=16, color = 'grey')\n",
    "plt.show()"
   ]
  },
  {
   "cell_type": "code",
   "execution_count": 71,
   "metadata": {},
   "outputs": [],
   "source": [
    "from datetime import datetime"
   ]
  },
  {
   "cell_type": "code",
   "execution_count": 104,
   "metadata": {},
   "outputs": [
    {
     "name": "stdout",
     "output_type": "stream",
     "text": [
      "1\n",
      "1\n",
      "1\n",
      "1\n",
      "2\n",
      "2\n",
      "1\n",
      "1\n"
     ]
    }
   ],
   "source": [
    "#Ho una lista delle date\n",
    "a = df['PurchDate'].tolist()\n",
    "\n",
    "d = ['09-09-2012', '09-04-2007', '09-11-2012', '09-05-2013', '09-12-2006', '09-05-2006', '09-08-2007', '09-09-2012']\n",
    "\n",
    "\n",
    "d.sort(key=lambda date: datetime.strptime(date, '%d-%m-%Y'))\n",
    "\n",
    "for i in d:\n",
    "    print(d.count(i))"
   ]
  },
  {
   "cell_type": "code",
   "execution_count": 98,
   "metadata": {},
   "outputs": [
    {
     "ename": "AttributeError",
     "evalue": "'list' object has no attribute 'counts'",
     "output_type": "error",
     "traceback": [
      "\u001b[0;31m---------------------------------------------------------------------------\u001b[0m",
      "\u001b[0;31mAttributeError\u001b[0m                            Traceback (most recent call last)",
      "\u001b[0;32m<ipython-input-98-71f26acd9f65>\u001b[0m in \u001b[0;36m<module>\u001b[0;34m\u001b[0m\n\u001b[1;32m      1\u001b[0m \u001b[0;32mimport\u001b[0m \u001b[0mplotly\u001b[0m\u001b[0;34m.\u001b[0m\u001b[0mexpress\u001b[0m \u001b[0;32mas\u001b[0m \u001b[0mpx\u001b[0m\u001b[0;34m\u001b[0m\u001b[0;34m\u001b[0m\u001b[0m\n\u001b[1;32m      2\u001b[0m \u001b[0;34m\u001b[0m\u001b[0m\n\u001b[0;32m----> 3\u001b[0;31m \u001b[0mfig\u001b[0m \u001b[0;34m=\u001b[0m \u001b[0mpx\u001b[0m\u001b[0;34m.\u001b[0m\u001b[0mline\u001b[0m\u001b[0;34m(\u001b[0m\u001b[0mdf\u001b[0m\u001b[0;34m,\u001b[0m \u001b[0mx\u001b[0m\u001b[0;34m=\u001b[0m\u001b[0md\u001b[0m\u001b[0;34m,\u001b[0m \u001b[0my\u001b[0m\u001b[0;34m=\u001b[0m\u001b[0md\u001b[0m\u001b[0;34m.\u001b[0m\u001b[0mcounts\u001b[0m\u001b[0;34m(\u001b[0m\u001b[0;34m)\u001b[0m\u001b[0;34m)\u001b[0m\u001b[0;34m\u001b[0m\u001b[0;34m\u001b[0m\u001b[0m\n\u001b[0m\u001b[1;32m      4\u001b[0m \u001b[0mfig\u001b[0m\u001b[0;34m.\u001b[0m\u001b[0mshow\u001b[0m\u001b[0;34m(\u001b[0m\u001b[0;34m)\u001b[0m\u001b[0;34m\u001b[0m\u001b[0;34m\u001b[0m\u001b[0m\n",
      "\u001b[0;31mAttributeError\u001b[0m: 'list' object has no attribute 'counts'"
     ]
    }
   ],
   "source": [
    "import plotly.express as px\n",
    "\n",
    "fig = px.line(df, x=d, y=d.counts())\n",
    "fig.show()"
   ]
  },
  {
   "cell_type": "code",
   "execution_count": null,
   "metadata": {},
   "outputs": [],
   "source": []
  }
 ],
 "metadata": {
  "kernelspec": {
   "display_name": "Python 3",
   "language": "python",
   "name": "python3"
  },
  "language_info": {
   "codemirror_mode": {
    "name": "ipython",
    "version": 3
   },
   "file_extension": ".py",
   "mimetype": "text/x-python",
   "name": "python",
   "nbconvert_exporter": "python",
   "pygments_lexer": "ipython3",
   "version": "3.7.3"
  }
 },
 "nbformat": 4,
 "nbformat_minor": 2
}
