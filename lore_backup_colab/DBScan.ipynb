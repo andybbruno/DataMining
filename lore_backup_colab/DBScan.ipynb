{
  "nbformat": 4,
  "nbformat_minor": 0,
  "metadata": {
    "colab": {
      "name": "DBScan.ipynb",
      "provenance": [],
      "collapsed_sections": [],
      "machine_shape": "hm"
    },
    "kernelspec": {
      "name": "python3",
      "display_name": "Python 3"
    }
  },
  "cells": [
    {
      "cell_type": "code",
      "metadata": {
        "id": "taKt72xIdslY",
        "colab_type": "code",
        "outputId": "882c8a4d-0ca8-48e2-d5a2-0b54124a7953",
        "colab": {
          "base_uri": "https://localhost:8080/",
          "height": 35
        }
      },
      "source": [
        "from google.colab import drive\n",
        "drive.mount('/content/drive')"
      ],
      "execution_count": 1,
      "outputs": [
        {
          "output_type": "stream",
          "text": [
            "Drive already mounted at /content/drive; to attempt to forcibly remount, call drive.mount(\"/content/drive\", force_remount=True).\n"
          ],
          "name": "stdout"
        }
      ]
    },
    {
      "cell_type": "code",
      "metadata": {
        "id": "ceMLbZSHd5Tl",
        "colab_type": "code",
        "colab": {}
      },
      "source": [
        "%matplotlib inline\n",
        "import math\n",
        "import numpy as np\n",
        "import pandas as pd\n",
        "import scipy.stats as stats\n",
        "import matplotlib.pyplot as plt\n",
        "import seaborn as sns\n",
        "from mpl_toolkits.mplot3d import Axes3D\n",
        "import plotly.express as px\n",
        "import plotly.graph_objects as go\n",
        "\n",
        "\n",
        "\n",
        "\n",
        "from collections import defaultdict\n",
        "from scipy.stats.stats import pearsonr\n",
        "from sklearn.preprocessing import StandardScaler, MinMaxScaler\n",
        "from sklearn.metrics import silhouette_score"
      ],
      "execution_count": 0,
      "outputs": []
    },
    {
      "cell_type": "code",
      "metadata": {
        "id": "ylG0Ewcud7vx",
        "colab_type": "code",
        "colab": {}
      },
      "source": [
        "df = pd.read_csv('/content/drive/My Drive/Colab Notebooks/training_cleaned.csv')\n",
        "df.drop(df.columns[0], axis=1, inplace=True)"
      ],
      "execution_count": 0,
      "outputs": []
    },
    {
      "cell_type": "code",
      "metadata": {
        "id": "gz_p18w_eAny",
        "colab_type": "code",
        "colab": {}
      },
      "source": [
        "df_clus = df.drop(columns=['RefId',\n",
        "        'PurchDate',\n",
        "        'IsBadBuy',\n",
        "        'Auction',\n",
        "        'Make',\n",
        "        'Model',\n",
        "        'WheelTypeID',\n",
        "        'Nationality',\n",
        "        'Size',\n",
        "        'Color',\n",
        "        'Transmission',\n",
        "        'BYRNO',\n",
        "        'TopThreeAmericanName',\n",
        "        'SubModel',\n",
        "        'VehicleAge',\n",
        "        'IsOnlineSale',\n",
        "        'Region',\n",
        "        'IsBase',])\n",
        "df_clus.dropna(inplace=True)"
      ],
      "execution_count": 0,
      "outputs": []
    },
    {
      "cell_type": "code",
      "metadata": {
        "id": "QxIQJX7OeB0l",
        "colab_type": "code",
        "colab": {}
      },
      "source": [
        "df_1 = df_clus[['AuctionAVG', 'RetailAVG', 'VehBCost']]\n",
        "df_2 = df_clus[['WarrantyCost', 'Trend', 'VehBCost']]\n",
        "df_3 = df_clus[['WarrantyCost', 'VehOdo', 'VehBCost']]"
      ],
      "execution_count": 0,
      "outputs": []
    },
    {
      "cell_type": "code",
      "metadata": {
        "id": "GkwQLQGcgIL0",
        "colab_type": "code",
        "colab": {}
      },
      "source": [
        "from sklearn.cluster import DBSCAN"
      ],
      "execution_count": 0,
      "outputs": []
    },
    {
      "cell_type": "code",
      "metadata": {
        "id": "tqTUUQQBgLY5",
        "colab_type": "code",
        "colab": {}
      },
      "source": [
        "to_db_scan = [df_1, df_2, df_3]\n",
        "min_samp = []\n",
        "epsilon = []\n",
        "scaled_df = []\n",
        "scaler = MinMaxScaler()\n",
        "\n",
        "for i in range(3, 15):\n",
        "  min_samp.append(math.pow(2, i))\n",
        "  epsilon.append(0.01)\n",
        "\n",
        "for e in to_db_scan:\n",
        "  scaled_df.append(scaler.fit_transform(e.values))"
      ],
      "execution_count": 0,
      "outputs": []
    },
    {
      "cell_type": "code",
      "metadata": {
        "id": "gysSBqIygOdx",
        "colab_type": "code",
        "outputId": "4c3d715f-9c08-4af2-e4d5-8a8dac464220",
        "colab": {
          "base_uri": "https://localhost:8080/",
          "height": 72
        }
      },
      "source": [
        "results = {}\n",
        "\n",
        "for i, e in enumerate(scaled_df):\n",
        "  results[str(i)] = []\n",
        "\n",
        "for i, df in enumerate(scaled_df):\n",
        "  for j, ms in enumerate(min_samp):\n",
        "    results[str(i)].append(DBSCAN(eps=epsilon[j], min_samples=ms).fit(scaled_df[0]))\n",
        "\n",
        "  print(\"end \", i)"
      ],
      "execution_count": 8,
      "outputs": [
        {
          "output_type": "stream",
          "text": [
            "end  0\n",
            "end  1\n",
            "end  2\n"
          ],
          "name": "stdout"
        }
      ]
    },
    {
      "cell_type": "code",
      "metadata": {
        "id": "LO2fEexov0bX",
        "colab_type": "code",
        "outputId": "d3e5824c-902c-4940-e811-81f53fb86c93",
        "colab": {
          "base_uri": "https://localhost:8080/",
          "height": 283
        }
      },
      "source": [
        "plt.scatter(df_clus['VehOdo'], df_clus['VehBCost'], \n",
        "            c=results['0'][0].labels_, s=60)"
      ],
      "execution_count": 9,
      "outputs": [
        {
          "output_type": "execute_result",
          "data": {
            "text/plain": [
              "<matplotlib.collections.PathCollection at 0x7f471d7752e8>"
            ]
          },
          "metadata": {
            "tags": []
          },
          "execution_count": 9
        },
        {
          "output_type": "display_data",
          "data": {
            "image/png": "[encoded data removed]",
            "text/plain": [
              "<Figure size 432x288 with 1 Axes>"
            ]
          },
          "metadata": {
            "tags": []
          }
        }
      ]
    },
    {
      "cell_type": "code",
      "metadata": {
        "id": "Jzi5kc1z16nU",
        "colab_type": "code",
        "outputId": "2626fa50-f54d-4982-d5d5-172dabc60483",
        "colab": {
          "base_uri": "https://localhost:8080/",
          "height": 844
        }
      },
      "source": [
        "for i, df in enumerate(scaled_df):\n",
        "  print(\"data frame \", str(i), \":\")\n",
        "  for j, ms in enumerate(min_samp):\n",
        "    print(np.unique(results[str(i)][j].labels_, return_counts=True))\n",
        "  print(\"========================================\")"
      ],
      "execution_count": 10,
      "outputs": [
        {
          "output_type": "stream",
          "text": [
            "data frame  0 :\n",
            "(array([-1,  0,  1,  2,  3,  4,  5,  6,  7,  8,  9, 10, 11, 12]), array([ 1086, 56803,    30,     7,     8,     2,    11,     6,    18,\n",
            "           9,    15,     6,     6,     6]))\n",
            "(array([-1,  0,  1,  2,  3]), array([ 2070, 55856,    30,    41,    16]))\n",
            "(array([-1,  0,  1,  2,  3]), array([ 4220, 35019, 18694,    59,    21]))\n",
            "(array([-1,  0,  1,  2]), array([ 7842, 32396, 17656,   119]))\n",
            "(array([-1,  0,  1]), array([15953, 26725, 15335]))\n",
            "(array([-1,  0,  1]), array([26247, 19582, 12184]))\n",
            "(array([-1,  0,  1]), array([52964,  1167,  3882]))\n",
            "(array([-1]), array([58013]))\n",
            "(array([-1]), array([58013]))\n",
            "(array([-1]), array([58013]))\n",
            "(array([-1]), array([58013]))\n",
            "(array([-1]), array([58013]))\n",
            "========================================\n",
            "data frame  1 :\n",
            "(array([-1,  0,  1,  2,  3,  4,  5,  6,  7,  8,  9, 10, 11, 12]), array([ 1086, 56803,    30,     7,     8,     2,    11,     6,    18,\n",
            "           9,    15,     6,     6,     6]))\n",
            "(array([-1,  0,  1,  2,  3]), array([ 2070, 55856,    30,    41,    16]))\n",
            "(array([-1,  0,  1,  2,  3]), array([ 4220, 35019, 18694,    59,    21]))\n",
            "(array([-1,  0,  1,  2]), array([ 7842, 32396, 17656,   119]))\n",
            "(array([-1,  0,  1]), array([15953, 26725, 15335]))\n",
            "(array([-1,  0,  1]), array([26247, 19582, 12184]))\n",
            "(array([-1,  0,  1]), array([52964,  1167,  3882]))\n",
            "(array([-1]), array([58013]))\n",
            "(array([-1]), array([58013]))\n",
            "(array([-1]), array([58013]))\n",
            "(array([-1]), array([58013]))\n",
            "(array([-1]), array([58013]))\n",
            "========================================\n",
            "data frame  2 :\n",
            "(array([-1,  0,  1,  2,  3,  4,  5,  6,  7,  8,  9, 10, 11, 12]), array([ 1086, 56803,    30,     7,     8,     2,    11,     6,    18,\n",
            "           9,    15,     6,     6,     6]))\n",
            "(array([-1,  0,  1,  2,  3]), array([ 2070, 55856,    30,    41,    16]))\n",
            "(array([-1,  0,  1,  2,  3]), array([ 4220, 35019, 18694,    59,    21]))\n",
            "(array([-1,  0,  1,  2]), array([ 7842, 32396, 17656,   119]))\n",
            "(array([-1,  0,  1]), array([15953, 26725, 15335]))\n",
            "(array([-1,  0,  1]), array([26247, 19582, 12184]))\n",
            "(array([-1,  0,  1]), array([52964,  1167,  3882]))\n",
            "(array([-1]), array([58013]))\n",
            "(array([-1]), array([58013]))\n",
            "(array([-1]), array([58013]))\n",
            "(array([-1]), array([58013]))\n",
            "(array([-1]), array([58013]))\n",
            "========================================\n"
          ],
          "name": "stdout"
        }
      ]
    },
    {
      "cell_type": "code",
      "metadata": {
        "id": "MnvWDK385NDn",
        "colab_type": "code",
        "colab": {
          "base_uri": "https://localhost:8080/",
          "height": 182
        },
        "outputId": "e96548a9-0073-40d7-ddf0-57206168d043"
      },
      "source": [
        "filtered = []\n",
        "\n",
        "for i, df in enumerate(scaled_df):\n",
        "  for j, ms in enumerate(min_samp):\n",
        "   labels, count = np.unique(results[str(i)][j].labels_, return_counts=True)\n",
        "   if len(count) > 2: # len 0 => solo noise points, len => un solo cluster e noise points\n",
        "    good_cluster_count = 0\n",
        "    for punt, e in enumerate(labels):\n",
        "      if e != -1 and count[punt] > 100:\n",
        "        good_cluster_count += 1\n",
        "    if good_cluster_count > 1 and count[0] < 10000:\n",
        "      filtered.append({\n",
        "          'df': i,\n",
        "          'eps': epsilon[j], \n",
        "          'min_samp': ms,\n",
        "          'labels': labels,\n",
        "          'count': count\n",
        "      })\n",
        "\n",
        "print(\"========================================\")\n",
        "print(\"Found \", len(filtered), \" potentially good clustering results\")\n",
        "print(\"========================================\")\n",
        "for e in filtered:\n",
        "  print(\"data frame \", e['df'], \" (<eps, min_samp> = <\", e['eps'], \",\", e['min_samp'], \">) -> \", e['count'])"
      ],
      "execution_count": 11,
      "outputs": [
        {
          "output_type": "stream",
          "text": [
            "========================================\n",
            "Found  6  potentially good clustering results\n",
            "========================================\n",
            "data frame  0  (<eps, min_samp> = < 0.01 , 32.0 >) ->  [ 4220 35019 18694    59    21]\n",
            "data frame  0  (<eps, min_samp> = < 0.01 , 64.0 >) ->  [ 7842 32396 17656   119]\n",
            "data frame  1  (<eps, min_samp> = < 0.01 , 32.0 >) ->  [ 4220 35019 18694    59    21]\n",
            "data frame  1  (<eps, min_samp> = < 0.01 , 64.0 >) ->  [ 7842 32396 17656   119]\n",
            "data frame  2  (<eps, min_samp> = < 0.01 , 32.0 >) ->  [ 4220 35019 18694    59    21]\n",
            "data frame  2  (<eps, min_samp> = < 0.01 , 64.0 >) ->  [ 7842 32396 17656   119]\n"
          ],
          "name": "stdout"
        }
      ]
    },
    {
      "cell_type": "markdown",
      "metadata": {
        "id": "CVjyhfWsNHQx",
        "colab_type": "text"
      },
      "source": [
        "**Knee Method**"
      ]
    },
    {
      "cell_type": "code",
      "metadata": {
        "id": "Jryl2FTNv3mq",
        "colab_type": "code",
        "colab": {}
      },
      "source": [
        "from scipy.spatial.distance import pdist\n",
        "from itertools import combinations"
      ],
      "execution_count": 0,
      "outputs": []
    },
    {
      "cell_type": "code",
      "metadata": {
        "id": "mA1X9lrZaSOW",
        "colab_type": "code",
        "colab": {}
      },
      "source": [
        "def square_to_condensed(i, j, n):\n",
        "    assert i != j, \"no diagonal elements in condensed matrix\"\n",
        "    if i < j:\n",
        "        i, j = j, i\n",
        "    return n*j - j*(j+1)/2 + i - 1 - j"
      ],
      "execution_count": 0,
      "outputs": []
    },
    {
      "cell_type": "markdown",
      "metadata": {
        "id": "in9EyqU4aeG8",
        "colab_type": "text"
      },
      "source": [
        "Dobbiamo usare quella condensed perchè altrimenti non entra in memoria :("
      ]
    },
    {
      "cell_type": "code",
      "metadata": {
        "id": "ynPYJ8nWNGLm",
        "colab_type": "code",
        "colab": {}
      },
      "source": [
        "to_knee = []\n",
        "# to_knee = scaled_df\n",
        "\n",
        "for df_i, df in enumerate(to_knee):\n",
        "  dist = []\n",
        "  dist = (pdist(df, metric='euclidean'))  #distance vector (condensed matrix)\n",
        "  kth_distances = []\n",
        "  n = len(df_1)\n",
        "  for i in range (0, n):\n",
        "    d = []\n",
        "    for j in range (0, n):\n",
        "      if i != j:\n",
        "        idx = round(square_to_condensed(i, j, n))\n",
        "        d.append(dist[idx])\n",
        "    index_kth_distance = np.argsort(d)[5]\n",
        "    kth_distances.append(d[index_kth_distance])\n",
        "    if i % 1000 == 0:\n",
        "      print(\"data frame \", df_i, \": \", i, \" out of \", n)\n",
        "\n",
        "  plt.clf()\n",
        "  xLab = \"Points sorted according to distance from \" + str(\n",
        "      5) + \"th nearest neighbour\"\n",
        "  yLab = str(5) + \"th nearest neighbour distance\"\n",
        "  plt.xlabel(xLab)\n",
        "  plt.ylabel(yLab)\n",
        "  plt.yticks(np.arange(0, 2, 0.1))\n",
        "  ax = plt.plot(range(0, len(kth_distances)), sorted(kth_distances))\n",
        "  plt.grid(color='black', linestyle='-', linewidth=1)\n",
        "  plt.show()"
      ],
      "execution_count": 0,
      "outputs": []
    },
    {
      "cell_type": "code",
      "metadata": {
        "id": "Ao1OhsIp2s3h",
        "colab_type": "code",
        "colab": {}
      },
      "source": [
        "silu = {}\n",
        "to_silu = []\n",
        "#to_silu = scaled_df\n",
        "\n",
        "for idx, e in enumerate(to_silu):\n",
        "  silu[str(idx)] = []\n",
        "\n",
        "for idx, e in enumerate(to_silu):\n",
        "  for i, p in enumerate(min_samp):\n",
        "    silu[str(idx)].append(silhouette_score(e, results[str(idx)][i].labels_, metric = 'euclidean'))\n",
        "  print(\"end data frame \", idx)"
      ],
      "execution_count": 0,
      "outputs": []
    },
    {
      "cell_type": "code",
      "metadata": {
        "id": "A4381AZuzbKa",
        "colab_type": "code",
        "colab": {}
      },
      "source": [
        ""
      ],
      "execution_count": 0,
      "outputs": []
    }
  ]
}