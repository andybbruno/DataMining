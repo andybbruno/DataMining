{
  "nbformat": 4,
  "nbformat_minor": 0,
  "metadata": {
    "colab": {
      "name": "Hierarchical.ipynb",
      "provenance": [],
      "collapsed_sections": []
    },
    "kernelspec": {
      "name": "python3",
      "display_name": "Python 3"
    }
  },
  "cells": [
    {
      "cell_type": "code",
      "metadata": {
        "id": "j7ZymESV2ZAl",
        "colab_type": "code",
        "outputId": "8508c6a8-5c5f-463d-dbe2-e3c2cb8d9872",
        "colab": {
          "base_uri": "https://localhost:8080/",
          "height": 35
        }
      },
      "source": [
        "from google.colab import drive\n",
        "drive.mount('/content/drive')"
      ],
      "execution_count": 1,
      "outputs": [
        {
          "output_type": "stream",
          "text": [
            "Drive already mounted at /content/drive; to attempt to forcibly remount, call drive.mount(\"/content/drive\", force_remount=True).\n"
          ],
          "name": "stdout"
        }
      ]
    },
    {
      "cell_type": "code",
      "metadata": {
        "id": "y6Kz_zYV2rj1",
        "colab_type": "code",
        "colab": {}
      },
      "source": [
        "%matplotlib inline\n",
        "import math\n",
        "import numpy as np\n",
        "import pandas as pd\n",
        "import scipy.stats as stats\n",
        "import matplotlib.pyplot as plt\n",
        "import seaborn as sns\n",
        "from mpl_toolkits.mplot3d import Axes3D\n",
        "import plotly.express as px\n",
        "import plotly.graph_objects as go\n",
        "\n",
        "\n",
        "\n",
        "\n",
        "from collections import defaultdict\n",
        "from scipy.stats.stats import pearsonr\n",
        "from sklearn.preprocessing import StandardScaler, MinMaxScaler\n",
        "from sklearn.metrics import silhouette_score"
      ],
      "execution_count": 0,
      "outputs": []
    },
    {
      "cell_type": "code",
      "metadata": {
        "id": "jO-9u7Kj2vgJ",
        "colab_type": "code",
        "colab": {}
      },
      "source": [
        "df = pd.read_csv('/content/drive/My Drive/Colab Notebooks/training_cleaned.csv')\n",
        "df.drop(df.columns[0], axis=1, inplace=True)"
      ],
      "execution_count": 0,
      "outputs": []
    },
    {
      "cell_type": "code",
      "metadata": {
        "id": "cMUMDg4q20Li",
        "colab_type": "code",
        "colab": {}
      },
      "source": [
        "df_clus = df.drop(columns=['RefId',\n",
        "        'PurchDate',\n",
        "        'IsBadBuy',\n",
        "        'Auction',\n",
        "        'Make',\n",
        "        'Model',\n",
        "        'WheelTypeID',\n",
        "        'Nationality',\n",
        "        'Size',\n",
        "        'Color',\n",
        "        'Transmission',\n",
        "        'BYRNO',\n",
        "        'TopThreeAmericanName',\n",
        "        'SubModel',\n",
        "        'VehicleAge',\n",
        "        'IsOnlineSale',\n",
        "        'Region',\n",
        "        'IsBase',])\n",
        "df_clus.dropna(inplace=True)"
      ],
      "execution_count": 0,
      "outputs": []
    },
    {
      "cell_type": "code",
      "metadata": {
        "id": "9FQcuUl9230K",
        "colab_type": "code",
        "colab": {}
      },
      "source": [
        "df_1 = df_clus[['AuctionAVG', 'RetailAVG', 'VehBCost']]\n",
        "df_2 = df_clus[['WarrantyCost', 'Trend', 'VehBCost']]\n",
        "df_3 = df_clus[['WarrantyCost', 'VehOdo', 'VehBCost']]"
      ],
      "execution_count": 0,
      "outputs": []
    },
    {
      "cell_type": "code",
      "metadata": {
        "id": "8ibRoz3NA3Ko",
        "colab_type": "code",
        "colab": {}
      },
      "source": [
        "from scipy.stats import mode\n",
        "from scipy.spatial.distance import pdist\n",
        "from scipy.cluster.hierarchy import linkage, dendrogram"
      ],
      "execution_count": 0,
      "outputs": []
    },
    {
      "cell_type": "code",
      "metadata": {
        "id": "NAY-0a_VA98N",
        "colab_type": "code",
        "colab": {}
      },
      "source": [
        "df_h = df_1[0:5000]"
      ],
      "execution_count": 0,
      "outputs": []
    },
    {
      "cell_type": "code",
      "metadata": {
        "id": "SpP8PDxzBA5U",
        "colab_type": "code",
        "colab": {
          "base_uri": "https://localhost:8080/",
          "height": 281
        },
        "outputId": "c4ae44f7-1fbb-4cd7-8a47-1c4e8224460f"
      },
      "source": [
        "data_dist = pdist(df_h, metric='euclidean')\n",
        "data_link = linkage(data_dist, method='complete', metric='euclidean')\n",
        "res = dendrogram(data_link, color_threshold=25000, truncate_mode='lastp')"
      ],
      "execution_count": 8,
      "outputs": [
        {
          "output_type": "display_data",
          "data": {
            "image/png": "[encoded data removed]",
            "text/plain": [
              "<Figure size 432x288 with 1 Axes>"
            ]
          },
          "metadata": {
            "tags": []
          }
        }
      ]
    }
  ]
}